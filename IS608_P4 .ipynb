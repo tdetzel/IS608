{
 "cells": [
  {
   "cell_type": "markdown",
   "metadata": {},
   "source": [
    "\n",
    "## IS 608 Homework 4\n",
    "#### Tom Detzel\n",
    "**March 26, 2017**\n",
    "***\n",
    "***"
   ]
  },
  {
   "cell_type": "code",
   "execution_count": 1,
   "metadata": {
    "collapsed": false
   },
   "outputs": [
    {
     "name": "stderr",
     "output_type": "stream",
     "text": [
      "//anaconda/lib/python3.5/site-packages/IPython/html.py:14: ShimWarning: The `IPython.html` package has been deprecated since IPython 4.0. You should import from `notebook` instead. `IPython.html.widgets` has moved to `ipywidgets`.\n",
      "  \"`IPython.html.widgets` has moved to `ipywidgets`.\", ShimWarning)\n"
     ]
    }
   ],
   "source": [
    "import os\n",
    "import pandas as pd\n",
    "import numpy as np\n",
    "from scipy.stats import gmean\n",
    "from bokeh.charts import TimeSeries, show, BoxPlot, Bar, Scatter, Histogram\n",
    "from bokeh.io import output_notebook, push_notebook\n",
    "from bokeh.layouts import row\n",
    "from bokeh.plotting import figure\n",
    "import seaborn as sns\n",
    "# import plotly.plotly as py\n",
    "# import plotly.graph_objs as go\n",
    "import matplotlib.pyplot as plt\n",
    "%matplotlib inline"
   ]
  },
  {
   "cell_type": "code",
   "execution_count": 2,
   "metadata": {
    "collapsed": false,
    "deletable": true,
    "editable": true
   },
   "outputs": [
    {
     "data": {
      "text/html": [
       "\n",
       "    <div class=\"bk-root\">\n",
       "        <a href=\"http://bokeh.pydata.org\" target=\"_blank\" class=\"bk-logo bk-logo-small bk-logo-notebook\"></a>\n",
       "        <span id=\"6a8f8d73-9883-42b1-977e-cd301a674876\">Loading BokehJS ...</span>\n",
       "    </div>"
      ]
     },
     "metadata": {},
     "output_type": "display_data"
    },
    {
     "data": {
      "application/javascript": [
       "\n",
       "(function(global) {\n",
       "  function now() {\n",
       "    return new Date();\n",
       "  }\n",
       "\n",
       "  var force = true;\n",
       "\n",
       "  if (typeof (window._bokeh_onload_callbacks) === \"undefined\" || force === true) {\n",
       "    window._bokeh_onload_callbacks = [];\n",
       "    window._bokeh_is_loading = undefined;\n",
       "  }\n",
       "\n",
       "\n",
       "  \n",
       "  if (typeof (window._bokeh_timeout) === \"undefined\" || force === true) {\n",
       "    window._bokeh_timeout = Date.now() + 5000;\n",
       "    window._bokeh_failed_load = false;\n",
       "  }\n",
       "\n",
       "  var NB_LOAD_WARNING = {'data': {'text/html':\n",
       "     \"<div style='background-color: #fdd'>\\n\"+\n",
       "     \"<p>\\n\"+\n",
       "     \"BokehJS does not appear to have successfully loaded. If loading BokehJS from CDN, this \\n\"+\n",
       "     \"may be due to a slow or bad network connection. Possible fixes:\\n\"+\n",
       "     \"</p>\\n\"+\n",
       "     \"<ul>\\n\"+\n",
       "     \"<li>re-rerun `output_notebook()` to attempt to load from CDN again, or</li>\\n\"+\n",
       "     \"<li>use INLINE resources instead, as so:</li>\\n\"+\n",
       "     \"</ul>\\n\"+\n",
       "     \"<code>\\n\"+\n",
       "     \"from bokeh.resources import INLINE\\n\"+\n",
       "     \"output_notebook(resources=INLINE)\\n\"+\n",
       "     \"</code>\\n\"+\n",
       "     \"</div>\"}};\n",
       "\n",
       "  function display_loaded() {\n",
       "    if (window.Bokeh !== undefined) {\n",
       "      document.getElementById(\"6a8f8d73-9883-42b1-977e-cd301a674876\").textContent = \"BokehJS successfully loaded.\";\n",
       "    } else if (Date.now() < window._bokeh_timeout) {\n",
       "      setTimeout(display_loaded, 100)\n",
       "    }\n",
       "  }\n",
       "\n",
       "  function run_callbacks() {\n",
       "    window._bokeh_onload_callbacks.forEach(function(callback) { callback() });\n",
       "    delete window._bokeh_onload_callbacks\n",
       "    console.info(\"Bokeh: all callbacks have finished\");\n",
       "  }\n",
       "\n",
       "  function load_libs(js_urls, callback) {\n",
       "    window._bokeh_onload_callbacks.push(callback);\n",
       "    if (window._bokeh_is_loading > 0) {\n",
       "      console.log(\"Bokeh: BokehJS is being loaded, scheduling callback at\", now());\n",
       "      return null;\n",
       "    }\n",
       "    if (js_urls == null || js_urls.length === 0) {\n",
       "      run_callbacks();\n",
       "      return null;\n",
       "    }\n",
       "    console.log(\"Bokeh: BokehJS not loaded, scheduling load and callback at\", now());\n",
       "    window._bokeh_is_loading = js_urls.length;\n",
       "    for (var i = 0; i < js_urls.length; i++) {\n",
       "      var url = js_urls[i];\n",
       "      var s = document.createElement('script');\n",
       "      s.src = url;\n",
       "      s.async = false;\n",
       "      s.onreadystatechange = s.onload = function() {\n",
       "        window._bokeh_is_loading--;\n",
       "        if (window._bokeh_is_loading === 0) {\n",
       "          console.log(\"Bokeh: all BokehJS libraries loaded\");\n",
       "          run_callbacks()\n",
       "        }\n",
       "      };\n",
       "      s.onerror = function() {\n",
       "        console.warn(\"failed to load library \" + url);\n",
       "      };\n",
       "      console.log(\"Bokeh: injecting script tag for BokehJS library: \", url);\n",
       "      document.getElementsByTagName(\"head\")[0].appendChild(s);\n",
       "    }\n",
       "  };var element = document.getElementById(\"6a8f8d73-9883-42b1-977e-cd301a674876\");\n",
       "  if (element == null) {\n",
       "    console.log(\"Bokeh: ERROR: autoload.js configured with elementid '6a8f8d73-9883-42b1-977e-cd301a674876' but no matching script tag was found. \")\n",
       "    return false;\n",
       "  }\n",
       "\n",
       "  var js_urls = [\"https://cdn.pydata.org/bokeh/release/bokeh-0.12.4.min.js\", \"https://cdn.pydata.org/bokeh/release/bokeh-widgets-0.12.4.min.js\"];\n",
       "\n",
       "  var inline_js = [\n",
       "    function(Bokeh) {\n",
       "      Bokeh.set_log_level(\"info\");\n",
       "    },\n",
       "    \n",
       "    function(Bokeh) {\n",
       "      \n",
       "      document.getElementById(\"6a8f8d73-9883-42b1-977e-cd301a674876\").textContent = \"BokehJS is loading...\";\n",
       "    },\n",
       "    function(Bokeh) {\n",
       "      console.log(\"Bokeh: injecting CSS: https://cdn.pydata.org/bokeh/release/bokeh-0.12.4.min.css\");\n",
       "      Bokeh.embed.inject_css(\"https://cdn.pydata.org/bokeh/release/bokeh-0.12.4.min.css\");\n",
       "      console.log(\"Bokeh: injecting CSS: https://cdn.pydata.org/bokeh/release/bokeh-widgets-0.12.4.min.css\");\n",
       "      Bokeh.embed.inject_css(\"https://cdn.pydata.org/bokeh/release/bokeh-widgets-0.12.4.min.css\");\n",
       "    }\n",
       "  ];\n",
       "\n",
       "  function run_inline_js() {\n",
       "    \n",
       "    if ((window.Bokeh !== undefined) || (force === true)) {\n",
       "      for (var i = 0; i < inline_js.length; i++) {\n",
       "        inline_js[i](window.Bokeh);\n",
       "      }if (force === true) {\n",
       "        display_loaded();\n",
       "      }} else if (Date.now() < window._bokeh_timeout) {\n",
       "      setTimeout(run_inline_js, 100);\n",
       "    } else if (!window._bokeh_failed_load) {\n",
       "      console.log(\"Bokeh: BokehJS failed to load within specified timeout.\");\n",
       "      window._bokeh_failed_load = true;\n",
       "    } else if (force !== true) {\n",
       "      var cell = $(document.getElementById(\"6a8f8d73-9883-42b1-977e-cd301a674876\")).parents('.cell').data().cell;\n",
       "      cell.output_area.append_execute_result(NB_LOAD_WARNING)\n",
       "    }\n",
       "\n",
       "  }\n",
       "\n",
       "  if (window._bokeh_is_loading === 0) {\n",
       "    console.log(\"Bokeh: BokehJS loaded, going straight to plotting\");\n",
       "    run_inline_js();\n",
       "  } else {\n",
       "    load_libs(js_urls, function() {\n",
       "      console.log(\"Bokeh: BokehJS plotting callback run at\", now());\n",
       "      run_inline_js();\n",
       "    });\n",
       "  }\n",
       "}(this));"
      ]
     },
     "metadata": {},
     "output_type": "display_data"
    }
   ],
   "source": [
    "output_notebook()"
   ]
  },
  {
   "cell_type": "markdown",
   "metadata": {},
   "source": [
    "***\n",
    "## Get started with our data\n",
    "We're grabbing the raw .csv file from Charley's github folder.\n",
    "***"
   ]
  },
  {
   "cell_type": "code",
   "execution_count": 3,
   "metadata": {
    "collapsed": true
   },
   "outputs": [],
   "source": [
    "df = pd.read_csv(\"https://raw.githubusercontent.com/charleyferrari/CUNY_DATA608/master/lecture4/Data/riverkeeper_data_2013.csv\")\n"
   ]
  },
  {
   "cell_type": "markdown",
   "metadata": {},
   "source": [
    "### Have a peek\n",
    "Here's the structure; looking deeper shows that the EnteroCount variable has some slop: the entries include \"<\" and \">\" signs that we'll need to remove."
   ]
  },
  {
   "cell_type": "code",
   "execution_count": 4,
   "metadata": {
    "collapsed": false
   },
   "outputs": [
    {
     "data": {
      "text/html": [
       "<div>\n",
       "<table border=\"1\" class=\"dataframe\">\n",
       "  <thead>\n",
       "    <tr style=\"text-align: right;\">\n",
       "      <th></th>\n",
       "      <th>Site</th>\n",
       "      <th>Date</th>\n",
       "      <th>EnteroCount</th>\n",
       "      <th>FourDayRainTotal</th>\n",
       "      <th>SampleCount</th>\n",
       "    </tr>\n",
       "  </thead>\n",
       "  <tbody>\n",
       "    <tr>\n",
       "      <th>0</th>\n",
       "      <td>Hudson above Mohawk River</td>\n",
       "      <td>10/16/2011</td>\n",
       "      <td>1733</td>\n",
       "      <td>1.5</td>\n",
       "      <td>35</td>\n",
       "    </tr>\n",
       "    <tr>\n",
       "      <th>1</th>\n",
       "      <td>Hudson above Mohawk River</td>\n",
       "      <td>10/21/2013</td>\n",
       "      <td>4</td>\n",
       "      <td>0.2</td>\n",
       "      <td>35</td>\n",
       "    </tr>\n",
       "    <tr>\n",
       "      <th>2</th>\n",
       "      <td>Hudson above Mohawk River</td>\n",
       "      <td>9/21/2013</td>\n",
       "      <td>20</td>\n",
       "      <td>0.0</td>\n",
       "      <td>35</td>\n",
       "    </tr>\n",
       "    <tr>\n",
       "      <th>3</th>\n",
       "      <td>Hudson above Mohawk River</td>\n",
       "      <td>8/19/2013</td>\n",
       "      <td>6</td>\n",
       "      <td>0.0</td>\n",
       "      <td>35</td>\n",
       "    </tr>\n",
       "    <tr>\n",
       "      <th>4</th>\n",
       "      <td>Hudson above Mohawk River</td>\n",
       "      <td>7/21/2013</td>\n",
       "      <td>31</td>\n",
       "      <td>0.0</td>\n",
       "      <td>35</td>\n",
       "    </tr>\n",
       "  </tbody>\n",
       "</table>\n",
       "</div>"
      ],
      "text/plain": [
       "                        Site        Date EnteroCount  FourDayRainTotal  \\\n",
       "0  Hudson above Mohawk River  10/16/2011        1733               1.5   \n",
       "1  Hudson above Mohawk River  10/21/2013           4               0.2   \n",
       "2  Hudson above Mohawk River   9/21/2013          20               0.0   \n",
       "3  Hudson above Mohawk River   8/19/2013           6               0.0   \n",
       "4  Hudson above Mohawk River   7/21/2013          31               0.0   \n",
       "\n",
       "   SampleCount  \n",
       "0           35  \n",
       "1           35  \n",
       "2           35  \n",
       "3           35  \n",
       "4           35  "
      ]
     },
     "execution_count": 4,
     "metadata": {},
     "output_type": "execute_result"
    }
   ],
   "source": [
    "df.head()"
   ]
  },
  {
   "cell_type": "markdown",
   "metadata": {
    "deletable": true,
    "editable": true
   },
   "source": [
    "### Check data types\n",
    "Indeed, Date and EnteroCount are the wrong types; they need to be Date and Integer, respectively."
   ]
  },
  {
   "cell_type": "code",
   "execution_count": 5,
   "metadata": {
    "collapsed": false
   },
   "outputs": [
    {
     "data": {
      "text/plain": [
       "Site                 object\n",
       "Date                 object\n",
       "EnteroCount          object\n",
       "FourDayRainTotal    float64\n",
       "SampleCount           int64\n",
       "dtype: object"
      ]
     },
     "execution_count": 5,
     "metadata": {},
     "output_type": "execute_result"
    }
   ],
   "source": [
    "df.dtypes"
   ]
  },
  {
   "cell_type": "markdown",
   "metadata": {},
   "source": [
    "### Fix data types, stray characters\n",
    "Transform 'em while you got 'em. We'll use pandas to make the Date field DateTime."
   ]
  },
  {
   "cell_type": "code",
   "execution_count": 6,
   "metadata": {
    "collapsed": false
   },
   "outputs": [],
   "source": [
    "df['EnteroCount'].replace('<', \"\", regex=True, inplace=True)"
   ]
  },
  {
   "cell_type": "code",
   "execution_count": 7,
   "metadata": {
    "collapsed": false
   },
   "outputs": [],
   "source": [
    "df['EnteroCount'].replace('>', \"\", regex=True, inplace=True)"
   ]
  },
  {
   "cell_type": "code",
   "execution_count": 8,
   "metadata": {
    "collapsed": true
   },
   "outputs": [],
   "source": [
    "df['EnteroCount'] = df['EnteroCount'].astype(int)"
   ]
  },
  {
   "cell_type": "code",
   "execution_count": 9,
   "metadata": {
    "collapsed": true
   },
   "outputs": [],
   "source": [
    "df['Date'] = pd.to_datetime(df['Date'])"
   ]
  },
  {
   "cell_type": "markdown",
   "metadata": {},
   "source": [
    "### That's better."
   ]
  },
  {
   "cell_type": "code",
   "execution_count": 10,
   "metadata": {
    "collapsed": false
   },
   "outputs": [
    {
     "data": {
      "text/plain": [
       "Site                        object\n",
       "Date                datetime64[ns]\n",
       "EnteroCount                  int64\n",
       "FourDayRainTotal           float64\n",
       "SampleCount                  int64\n",
       "dtype: object"
      ]
     },
     "execution_count": 10,
     "metadata": {},
     "output_type": "execute_result"
    }
   ],
   "source": [
    "df.dtypes"
   ]
  },
  {
   "cell_type": "code",
   "execution_count": 11,
   "metadata": {
    "collapsed": false
   },
   "outputs": [
    {
     "data": {
      "text/html": [
       "<div>\n",
       "<table border=\"1\" class=\"dataframe\">\n",
       "  <thead>\n",
       "    <tr style=\"text-align: right;\">\n",
       "      <th></th>\n",
       "      <th>Site</th>\n",
       "      <th>Date</th>\n",
       "      <th>EnteroCount</th>\n",
       "      <th>FourDayRainTotal</th>\n",
       "      <th>SampleCount</th>\n",
       "    </tr>\n",
       "  </thead>\n",
       "  <tbody>\n",
       "    <tr>\n",
       "      <th>0</th>\n",
       "      <td>Hudson above Mohawk River</td>\n",
       "      <td>2011-10-16</td>\n",
       "      <td>1733</td>\n",
       "      <td>1.5</td>\n",
       "      <td>35</td>\n",
       "    </tr>\n",
       "    <tr>\n",
       "      <th>1</th>\n",
       "      <td>Hudson above Mohawk River</td>\n",
       "      <td>2013-10-21</td>\n",
       "      <td>4</td>\n",
       "      <td>0.2</td>\n",
       "      <td>35</td>\n",
       "    </tr>\n",
       "    <tr>\n",
       "      <th>2</th>\n",
       "      <td>Hudson above Mohawk River</td>\n",
       "      <td>2013-09-21</td>\n",
       "      <td>20</td>\n",
       "      <td>0.0</td>\n",
       "      <td>35</td>\n",
       "    </tr>\n",
       "    <tr>\n",
       "      <th>3</th>\n",
       "      <td>Hudson above Mohawk River</td>\n",
       "      <td>2013-08-19</td>\n",
       "      <td>6</td>\n",
       "      <td>0.0</td>\n",
       "      <td>35</td>\n",
       "    </tr>\n",
       "    <tr>\n",
       "      <th>4</th>\n",
       "      <td>Hudson above Mohawk River</td>\n",
       "      <td>2013-07-21</td>\n",
       "      <td>31</td>\n",
       "      <td>0.0</td>\n",
       "      <td>35</td>\n",
       "    </tr>\n",
       "  </tbody>\n",
       "</table>\n",
       "</div>"
      ],
      "text/plain": [
       "                        Site       Date  EnteroCount  FourDayRainTotal  \\\n",
       "0  Hudson above Mohawk River 2011-10-16         1733               1.5   \n",
       "1  Hudson above Mohawk River 2013-10-21            4               0.2   \n",
       "2  Hudson above Mohawk River 2013-09-21           20               0.0   \n",
       "3  Hudson above Mohawk River 2013-08-19            6               0.0   \n",
       "4  Hudson above Mohawk River 2013-07-21           31               0.0   \n",
       "\n",
       "   SampleCount  \n",
       "0           35  \n",
       "1           35  \n",
       "2           35  \n",
       "3           35  \n",
       "4           35  "
      ]
     },
     "execution_count": 11,
     "metadata": {},
     "output_type": "execute_result"
    }
   ],
   "source": [
    "df.head()"
   ]
  },
  {
   "cell_type": "markdown",
   "metadata": {},
   "source": [
    "### Unique sites\n",
    "There are 75 unique measuring sites."
   ]
  },
  {
   "cell_type": "code",
   "execution_count": 12,
   "metadata": {
    "collapsed": false
   },
   "outputs": [
    {
     "data": {
      "text/plain": [
       "75"
      ]
     },
     "execution_count": 12,
     "metadata": {},
     "output_type": "execute_result"
    }
   ],
   "source": [
    "len(df['Site'].unique())"
   ]
  },
  {
   "cell_type": "markdown",
   "metadata": {},
   "source": [
    "***\n",
    "## Best and Worst Places to Swim\n",
    "We'll look at mean and geometric mean measurements of Enterococcus levels by site, then sort by contamination levels.\n",
    "***"
   ]
  },
  {
   "cell_type": "markdown",
   "metadata": {},
   "source": [
    "### A function to get some stats\n",
    "We'll apply his to each variable to get max, min, count and a mean."
   ]
  },
  {
   "cell_type": "code",
   "execution_count": 13,
   "metadata": {
    "collapsed": true
   },
   "outputs": [],
   "source": [
    "# function to calculate group stats; used with apply()\n",
    "def get_stats(group):\n",
    "    return {'min': group.min(), 'max': group.max(), 'count': group.count(), 'mean': group.mean()}"
   ]
  },
  {
   "cell_type": "markdown",
   "metadata": {},
   "source": [
    "### Highest Geometric mean Enterococcus readings\n",
    "After computing the stats, here are the worst 10 sites by overall average contamination. No surprise if you've been on the Gowanus (now a rapidly gentrifying area for Brookly hipsters). Don't swim there. There is no method in pandas to calc the geometric mean, so we have to do it in regular Python using the gmean() function from scipy. Arrrgh."
   ]
  },
  {
   "cell_type": "code",
   "execution_count": 14,
   "metadata": {
    "collapsed": false
   },
   "outputs": [],
   "source": [
    "grouped_df = df.groupby(['Site'])"
   ]
  },
  {
   "cell_type": "markdown",
   "metadata": {},
   "source": [
    "### Highest Geometric Mean Enteroccocus readings\n",
    "Slightly different ranking, but all well above the 30/mL standard."
   ]
  },
  {
   "cell_type": "code",
   "execution_count": 15,
   "metadata": {
    "collapsed": false,
    "scrolled": true
   },
   "outputs": [
    {
     "data": {
      "text/html": [
       "<div>\n",
       "<table border=\"1\" class=\"dataframe\">\n",
       "  <thead>\n",
       "    <tr style=\"text-align: right;\">\n",
       "      <th></th>\n",
       "      <th>Site</th>\n",
       "      <th>EnteroCount</th>\n",
       "    </tr>\n",
       "  </thead>\n",
       "  <tbody>\n",
       "    <tr>\n",
       "      <th>70</th>\n",
       "      <td>Upper Sparkill Creek</td>\n",
       "      <td>387.184599</td>\n",
       "    </tr>\n",
       "    <tr>\n",
       "      <th>29</th>\n",
       "      <td>Gowanus Canal</td>\n",
       "      <td>181.330620</td>\n",
       "    </tr>\n",
       "    <tr>\n",
       "      <th>45</th>\n",
       "      <td>Mohawk River at Waterford</td>\n",
       "      <td>169.718920</td>\n",
       "    </tr>\n",
       "    <tr>\n",
       "      <th>48</th>\n",
       "      <td>Newtown Creek- Metropolitan Ave. Bridge</td>\n",
       "      <td>147.728997</td>\n",
       "    </tr>\n",
       "    <tr>\n",
       "      <th>63</th>\n",
       "      <td>Saw Mill River</td>\n",
       "      <td>115.117277</td>\n",
       "    </tr>\n",
       "    <tr>\n",
       "      <th>57</th>\n",
       "      <td>Piermont Pier</td>\n",
       "      <td>106.641987</td>\n",
       "    </tr>\n",
       "    <tr>\n",
       "      <th>34</th>\n",
       "      <td>Hudson River above Troy Lock</td>\n",
       "      <td>105.365758</td>\n",
       "    </tr>\n",
       "    <tr>\n",
       "      <th>46</th>\n",
       "      <td>Newburgh Launch Ramp</td>\n",
       "      <td>102.579356</td>\n",
       "    </tr>\n",
       "    <tr>\n",
       "      <th>41</th>\n",
       "      <td>Kingston STP Outfall</td>\n",
       "      <td>102.225027</td>\n",
       "    </tr>\n",
       "  </tbody>\n",
       "</table>\n",
       "</div>"
      ],
      "text/plain": [
       "                                       Site  EnteroCount\n",
       "70                     Upper Sparkill Creek   387.184599\n",
       "29                            Gowanus Canal   181.330620\n",
       "45                Mohawk River at Waterford   169.718920\n",
       "48  Newtown Creek- Metropolitan Ave. Bridge   147.728997\n",
       "63                           Saw Mill River   115.117277\n",
       "57                            Piermont Pier   106.641987\n",
       "34             Hudson River above Troy Lock   105.365758\n",
       "46                     Newburgh Launch Ramp   102.579356\n",
       "41                     Kingston STP Outfall   102.225027"
      ]
     },
     "execution_count": 15,
     "metadata": {},
     "output_type": "execute_result"
    }
   ],
   "source": [
    "grouped_df['EnteroCount'].apply(gmean, axis=None).reset_index().sort_values(by='EnteroCount', ascending=0)[0:9]"
   ]
  },
  {
   "cell_type": "markdown",
   "metadata": {
    "deletable": true,
    "editable": true
   },
   "source": [
    "### Lowest Geometric Mean Enteroccocus readings\n",
    "Keepin' it clean upstate. How about them Catskills?"
   ]
  },
  {
   "cell_type": "code",
   "execution_count": 16,
   "metadata": {
    "collapsed": false
   },
   "outputs": [
    {
     "data": {
      "text/html": [
       "<div>\n",
       "<table border=\"1\" class=\"dataframe\">\n",
       "  <thead>\n",
       "    <tr style=\"text-align: right;\">\n",
       "      <th></th>\n",
       "      <th>Site</th>\n",
       "      <th>EnteroCount</th>\n",
       "    </tr>\n",
       "  </thead>\n",
       "  <tbody>\n",
       "    <tr>\n",
       "      <th>10</th>\n",
       "      <td>Catskill Creek- First Bridge</td>\n",
       "      <td>0.000000</td>\n",
       "    </tr>\n",
       "    <tr>\n",
       "      <th>50</th>\n",
       "      <td>Norrie Point mid-channel</td>\n",
       "      <td>3.909624</td>\n",
       "    </tr>\n",
       "    <tr>\n",
       "      <th>59</th>\n",
       "      <td>Poughkeepsie Drinking Water Intake</td>\n",
       "      <td>4.381236</td>\n",
       "    </tr>\n",
       "    <tr>\n",
       "      <th>58</th>\n",
       "      <td>Port Ewen Drinking Water Intake</td>\n",
       "      <td>5.257241</td>\n",
       "    </tr>\n",
       "    <tr>\n",
       "      <th>68</th>\n",
       "      <td>Tivoli Landing</td>\n",
       "      <td>6.926002</td>\n",
       "    </tr>\n",
       "    <tr>\n",
       "      <th>42</th>\n",
       "      <td>Little Stony Point</td>\n",
       "      <td>7.887391</td>\n",
       "    </tr>\n",
       "    <tr>\n",
       "      <th>69</th>\n",
       "      <td>Ulster Landing Beach</td>\n",
       "      <td>8.779956</td>\n",
       "    </tr>\n",
       "    <tr>\n",
       "      <th>72</th>\n",
       "      <td>West Point STP Outfall</td>\n",
       "      <td>9.210815</td>\n",
       "    </tr>\n",
       "    <tr>\n",
       "      <th>44</th>\n",
       "      <td>Marlboro Landing</td>\n",
       "      <td>9.661643</td>\n",
       "    </tr>\n",
       "  </tbody>\n",
       "</table>\n",
       "</div>"
      ],
      "text/plain": [
       "                                  Site  EnteroCount\n",
       "10        Catskill Creek- First Bridge     0.000000\n",
       "50            Norrie Point mid-channel     3.909624\n",
       "59  Poughkeepsie Drinking Water Intake     4.381236\n",
       "58     Port Ewen Drinking Water Intake     5.257241\n",
       "68                      Tivoli Landing     6.926002\n",
       "42                  Little Stony Point     7.887391\n",
       "69                Ulster Landing Beach     8.779956\n",
       "72              West Point STP Outfall     9.210815\n",
       "44                    Marlboro Landing     9.661643"
      ]
     },
     "execution_count": 16,
     "metadata": {},
     "output_type": "execute_result"
    }
   ],
   "source": [
    "grouped_df['EnteroCount'].apply(gmean, axis=None).reset_index().sort_values(by='EnteroCount', ascending=1)[0:9]"
   ]
  },
  {
   "cell_type": "markdown",
   "metadata": {},
   "source": [
    "### Plot Best and Worst\n",
    "Unfortunately, Bokeh would not let me override the default alphabetical sort on the x-axis label names. I have no idea why. I tried the code in the docs: labels = cat('Site', sort=False). I do like the way it automatically 45s the long label names."
   ]
  },
  {
   "cell_type": "code",
   "execution_count": 17,
   "metadata": {
    "collapsed": true
   },
   "outputs": [],
   "source": [
    "df_geo = grouped_df['EnteroCount'].apply(gmean, axis=None).reset_index().sort_values(by='EnteroCount', ascending=1)"
   ]
  },
  {
   "cell_type": "code",
   "execution_count": 18,
   "metadata": {
    "collapsed": false
   },
   "outputs": [],
   "source": [
    "worst = df_geo.tail(20).sort_values('EnteroCount', ascending=1)"
   ]
  },
  {
   "cell_type": "code",
   "execution_count": 19,
   "metadata": {
    "collapsed": false
   },
   "outputs": [],
   "source": [
    "best = df_geo.head(20).sort_values('EnteroCount', ascending=1)"
   ]
  },
  {
   "cell_type": "code",
   "execution_count": 20,
   "metadata": {
    "collapsed": false
   },
   "outputs": [
    {
     "data": {
      "text/html": [
       "\n",
       "\n",
       "    <div class=\"bk-root\">\n",
       "        <div class=\"bk-plotdiv\" id=\"c2ef4735-470f-49fb-aea2-31bdd39ce1a0\"></div>\n",
       "    </div>\n",
       "<script type=\"text/javascript\">\n",
       "  \n",
       "  (function(global) {\n",
       "    function now() {\n",
       "      return new Date();\n",
       "    }\n",
       "  \n",
       "    var force = false;\n",
       "  \n",
       "    if (typeof (window._bokeh_onload_callbacks) === \"undefined\" || force === true) {\n",
       "      window._bokeh_onload_callbacks = [];\n",
       "      window._bokeh_is_loading = undefined;\n",
       "    }\n",
       "  \n",
       "  \n",
       "    \n",
       "    if (typeof (window._bokeh_timeout) === \"undefined\" || force === true) {\n",
       "      window._bokeh_timeout = Date.now() + 0;\n",
       "      window._bokeh_failed_load = false;\n",
       "    }\n",
       "  \n",
       "    var NB_LOAD_WARNING = {'data': {'text/html':\n",
       "       \"<div style='background-color: #fdd'>\\n\"+\n",
       "       \"<p>\\n\"+\n",
       "       \"BokehJS does not appear to have successfully loaded. If loading BokehJS from CDN, this \\n\"+\n",
       "       \"may be due to a slow or bad network connection. Possible fixes:\\n\"+\n",
       "       \"</p>\\n\"+\n",
       "       \"<ul>\\n\"+\n",
       "       \"<li>re-rerun `output_notebook()` to attempt to load from CDN again, or</li>\\n\"+\n",
       "       \"<li>use INLINE resources instead, as so:</li>\\n\"+\n",
       "       \"</ul>\\n\"+\n",
       "       \"<code>\\n\"+\n",
       "       \"from bokeh.resources import INLINE\\n\"+\n",
       "       \"output_notebook(resources=INLINE)\\n\"+\n",
       "       \"</code>\\n\"+\n",
       "       \"</div>\"}};\n",
       "  \n",
       "    function display_loaded() {\n",
       "      if (window.Bokeh !== undefined) {\n",
       "        document.getElementById(\"c2ef4735-470f-49fb-aea2-31bdd39ce1a0\").textContent = \"BokehJS successfully loaded.\";\n",
       "      } else if (Date.now() < window._bokeh_timeout) {\n",
       "        setTimeout(display_loaded, 100)\n",
       "      }\n",
       "    }if ((window.Jupyter !== undefined) && Jupyter.notebook.kernel) {\n",
       "      comm_manager = Jupyter.notebook.kernel.comm_manager\n",
       "      comm_manager.register_target(\"631a5942-7d84-45f0-bcba-582341d6fb90\", function () {});\n",
       "    }\n",
       "  \n",
       "    function run_callbacks() {\n",
       "      window._bokeh_onload_callbacks.forEach(function(callback) { callback() });\n",
       "      delete window._bokeh_onload_callbacks\n",
       "      console.info(\"Bokeh: all callbacks have finished\");\n",
       "    }\n",
       "  \n",
       "    function load_libs(js_urls, callback) {\n",
       "      window._bokeh_onload_callbacks.push(callback);\n",
       "      if (window._bokeh_is_loading > 0) {\n",
       "        console.log(\"Bokeh: BokehJS is being loaded, scheduling callback at\", now());\n",
       "        return null;\n",
       "      }\n",
       "      if (js_urls == null || js_urls.length === 0) {\n",
       "        run_callbacks();\n",
       "        return null;\n",
       "      }\n",
       "      console.log(\"Bokeh: BokehJS not loaded, scheduling load and callback at\", now());\n",
       "      window._bokeh_is_loading = js_urls.length;\n",
       "      for (var i = 0; i < js_urls.length; i++) {\n",
       "        var url = js_urls[i];\n",
       "        var s = document.createElement('script');\n",
       "        s.src = url;\n",
       "        s.async = false;\n",
       "        s.onreadystatechange = s.onload = function() {\n",
       "          window._bokeh_is_loading--;\n",
       "          if (window._bokeh_is_loading === 0) {\n",
       "            console.log(\"Bokeh: all BokehJS libraries loaded\");\n",
       "            run_callbacks()\n",
       "          }\n",
       "        };\n",
       "        s.onerror = function() {\n",
       "          console.warn(\"failed to load library \" + url);\n",
       "        };\n",
       "        console.log(\"Bokeh: injecting script tag for BokehJS library: \", url);\n",
       "        document.getElementsByTagName(\"head\")[0].appendChild(s);\n",
       "      }\n",
       "    };var element = document.getElementById(\"c2ef4735-470f-49fb-aea2-31bdd39ce1a0\");\n",
       "    if (element == null) {\n",
       "      console.log(\"Bokeh: ERROR: autoload.js configured with elementid 'c2ef4735-470f-49fb-aea2-31bdd39ce1a0' but no matching script tag was found. \")\n",
       "      return false;\n",
       "    }\n",
       "  \n",
       "    var js_urls = [];\n",
       "  \n",
       "    var inline_js = [\n",
       "      function(Bokeh) {\n",
       "        (function() {\n",
       "          var fn = function() {\n",
       "            var docs_json = {\"8c443f5a-8f69-405f-b3ef-821fc99cd5f6\":{\"roots\":{\"references\":[{\"attributes\":{\"data_source\":{\"id\":\"67e4df73-fb41-4a76-93a0-6b3399db2f58\",\"type\":\"ColumnDataSource\"},\"glyph\":{\"id\":\"467760a7-17a6-4b4e-b79e-75f45cf1afbf\",\"type\":\"Rect\"},\"hover_glyph\":null,\"nonselection_glyph\":null,\"selection_glyph\":null},\"id\":\"ab6401fc-cda6-4d98-b3e6-90da5f6ff0d2\",\"type\":\"GlyphRenderer\"},{\"attributes\":{\"fill_alpha\":{\"field\":\"fill_alpha\"},\"fill_color\":{\"field\":\"color\"},\"height\":{\"field\":\"height\",\"units\":\"data\"},\"line_color\":{\"field\":\"line_color\"},\"width\":{\"field\":\"width\",\"units\":\"data\"},\"x\":{\"field\":\"x\"},\"y\":{\"field\":\"y\"}},\"id\":\"58b18c84-7663-4da9-9c18-b6bf94d3e820\",\"type\":\"Rect\"},{\"attributes\":{\"callback\":null,\"column_names\":[\"line_alpha\",\"line_color\",\"label\",\"x\",\"width\",\"height\",\"fill_alpha\",\"color\",\"y\"],\"data\":{\"Site\":[\"Dunn Memorial Bridge- Albany\"],\"chart_index\":[{\"Site\":\"Dunn Memorial Bridge- Albany\"}],\"color\":[\"lightblue\"],\"fill_alpha\":[0.8],\"height\":[97.69536584893913],\"label\":[{\"Site\":\"Dunn Memorial Bridge- Albany\"}],\"line_alpha\":[1.0],\"line_color\":[\"white\"],\"width\":[0.8],\"x\":[\"Dunn Memorial Bridge- Albany\"],\"y\":[48.84768292446957]}},\"id\":\"556a4747-f22f-4f11-8ab3-956d2fd31380\",\"type\":\"ColumnDataSource\"},{\"attributes\":{\"fill_alpha\":{\"field\":\"fill_alpha\"},\"fill_color\":{\"field\":\"color\"},\"height\":{\"field\":\"height\",\"units\":\"data\"},\"line_color\":{\"field\":\"line_color\"},\"width\":{\"field\":\"width\",\"units\":\"data\"},\"x\":{\"field\":\"x\"},\"y\":{\"field\":\"y\"}},\"id\":\"c0dfbd85-4260-4c06-8312-804671b2f139\",\"type\":\"Rect\"},{\"attributes\":{\"fill_alpha\":{\"field\":\"fill_alpha\"},\"fill_color\":{\"field\":\"color\"},\"height\":{\"field\":\"height\",\"units\":\"data\"},\"line_color\":{\"field\":\"line_color\"},\"width\":{\"field\":\"width\",\"units\":\"data\"},\"x\":{\"field\":\"x\"},\"y\":{\"field\":\"y\"}},\"id\":\"467760a7-17a6-4b4e-b79e-75f45cf1afbf\",\"type\":\"Rect\"},{\"attributes\":{\"plot\":{\"id\":\"ff22ea20-70be-44ef-9109-e4cfe1dfbe7c\",\"subtype\":\"Chart\",\"type\":\"Plot\"}},\"id\":\"368f59a0-71be-40b5-bee3-4b5de210f384\",\"type\":\"ResetTool\"},{\"attributes\":{\"active_drag\":\"auto\",\"active_scroll\":\"auto\",\"active_tap\":\"auto\",\"tools\":[{\"id\":\"f0ced99c-f2ef-4653-873d-4bd5ed354ab9\",\"type\":\"PanTool\"},{\"id\":\"02281025-6c24-44a7-8f9a-c405b9d44e5f\",\"type\":\"WheelZoomTool\"},{\"id\":\"b0523443-9474-4542-bb4f-99f5021d36fa\",\"type\":\"BoxZoomTool\"},{\"id\":\"6b40a556-ad53-4a8f-97a6-ee170a9f3b51\",\"type\":\"SaveTool\"},{\"id\":\"368f59a0-71be-40b5-bee3-4b5de210f384\",\"type\":\"ResetTool\"},{\"id\":\"2cea0ad2-6db1-4d1e-8c23-32e2bdf5b58c\",\"type\":\"HelpTool\"}]},\"id\":\"ca7c5ab6-f6ca-4748-b71f-51d124452f37\",\"type\":\"Toolbar\"},{\"attributes\":{},\"id\":\"6d509f8e-040b-4913-bd3d-0a19737b8b36\",\"type\":\"BasicTickFormatter\"},{\"attributes\":{\"callback\":null,\"column_names\":[\"line_alpha\",\"line_color\",\"label\",\"x\",\"width\",\"height\",\"fill_alpha\",\"color\",\"y\"],\"data\":{\"Site\":[\"Newtown Creek- Metropolitan Ave. Bridge\"],\"chart_index\":[{\"Site\":\"Newtown Creek- Metropolitan Ave. Bridge\"}],\"color\":[\"lightblue\"],\"fill_alpha\":[0.8],\"height\":[147.72899678893677],\"label\":[{\"Site\":\"Newtown Creek- Metropolitan Ave. Bridge\"}],\"line_alpha\":[1.0],\"line_color\":[\"white\"],\"width\":[0.8],\"x\":[\"Newtown Creek- Metropolitan Ave. Bridge\"],\"y\":[73.86449839446838]}},\"id\":\"c8f256fb-a48c-4921-86b1-8143b9084367\",\"type\":\"ColumnDataSource\"},{\"attributes\":{\"axis_label\":\"Sum( Enterocount )\",\"formatter\":{\"id\":\"6d509f8e-040b-4913-bd3d-0a19737b8b36\",\"type\":\"BasicTickFormatter\"},\"plot\":{\"id\":\"ff22ea20-70be-44ef-9109-e4cfe1dfbe7c\",\"subtype\":\"Chart\",\"type\":\"Plot\"},\"ticker\":{\"id\":\"968a3802-4ff3-422c-9e62-3ccb5224dd6c\",\"type\":\"BasicTicker\"}},\"id\":\"cb2bfa13-8e7d-4724-9246-48376d7fd052\",\"type\":\"LinearAxis\"},{\"attributes\":{\"data_source\":{\"id\":\"c8f256fb-a48c-4921-86b1-8143b9084367\",\"type\":\"ColumnDataSource\"},\"glyph\":{\"id\":\"6f9e41e3-1ed0-4dd5-aadc-e387d37647c0\",\"type\":\"Rect\"},\"hover_glyph\":null,\"nonselection_glyph\":null,\"selection_glyph\":null},\"id\":\"538921de-27b9-43cd-a059-7d1bb5a43423\",\"type\":\"GlyphRenderer\"},{\"attributes\":{\"fill_alpha\":{\"field\":\"fill_alpha\"},\"fill_color\":{\"field\":\"color\"},\"height\":{\"field\":\"height\",\"units\":\"data\"},\"line_color\":{\"field\":\"line_color\"},\"width\":{\"field\":\"width\",\"units\":\"data\"},\"x\":{\"field\":\"x\"},\"y\":{\"field\":\"y\"}},\"id\":\"59f7804e-84ab-478d-a188-80ecb6a99cdc\",\"type\":\"Rect\"},{\"attributes\":{\"fill_alpha\":{\"field\":\"fill_alpha\"},\"fill_color\":{\"field\":\"color\"},\"height\":{\"field\":\"height\",\"units\":\"data\"},\"line_color\":{\"field\":\"line_color\"},\"width\":{\"field\":\"width\",\"units\":\"data\"},\"x\":{\"field\":\"x\"},\"y\":{\"field\":\"y\"}},\"id\":\"58f98b1b-2eab-4f13-8102-eef450846f11\",\"type\":\"Rect\"},{\"attributes\":{\"data_source\":{\"id\":\"0a10f846-bc50-464a-8c06-526f59ce32b0\",\"type\":\"ColumnDataSource\"},\"glyph\":{\"id\":\"558c50dd-7e47-4f0e-b99e-353149d3281b\",\"type\":\"Rect\"},\"hover_glyph\":null,\"nonselection_glyph\":null,\"selection_glyph\":null},\"id\":\"2309e258-1e0a-443d-9e9c-57ed7af1b823\",\"type\":\"GlyphRenderer\"},{\"attributes\":{\"data_source\":{\"id\":\"ed491746-5d9e-49c9-89b7-47f847f11e3c\",\"type\":\"ColumnDataSource\"},\"glyph\":{\"id\":\"59f7804e-84ab-478d-a188-80ecb6a99cdc\",\"type\":\"Rect\"},\"hover_glyph\":null,\"nonselection_glyph\":null,\"selection_glyph\":null},\"id\":\"196d15d7-1d02-4589-bc65-5ce9dd34a27a\",\"type\":\"GlyphRenderer\"},{\"attributes\":{\"fill_alpha\":{\"field\":\"fill_alpha\"},\"fill_color\":{\"field\":\"color\"},\"height\":{\"field\":\"height\",\"units\":\"data\"},\"line_color\":{\"field\":\"line_color\"},\"width\":{\"field\":\"width\",\"units\":\"data\"},\"x\":{\"field\":\"x\"},\"y\":{\"field\":\"y\"}},\"id\":\"07645896-f994-4f87-bb0c-f14ac773c59c\",\"type\":\"Rect\"},{\"attributes\":{\"data_source\":{\"id\":\"8cc37088-34f1-4f18-9be4-21ad81146aa3\",\"type\":\"ColumnDataSource\"},\"glyph\":{\"id\":\"49015062-96f1-4b0b-85cd-9655af45c321\",\"type\":\"Rect\"},\"hover_glyph\":null,\"nonselection_glyph\":null,\"selection_glyph\":null},\"id\":\"a893c6bc-0321-443a-8f67-b14edc1a7f23\",\"type\":\"GlyphRenderer\"},{\"attributes\":{\"callback\":null,\"column_names\":[\"line_alpha\",\"line_color\",\"label\",\"x\",\"width\",\"height\",\"fill_alpha\",\"color\",\"y\"],\"data\":{\"Site\":[\"Saw Mill River\"],\"chart_index\":[{\"Site\":\"Saw Mill River\"}],\"color\":[\"lightblue\"],\"fill_alpha\":[0.8],\"height\":[115.11727721154216],\"label\":[{\"Site\":\"Saw Mill River\"}],\"line_alpha\":[1.0],\"line_color\":[\"white\"],\"width\":[0.8],\"x\":[\"Saw Mill River\"],\"y\":[57.55863860577108]}},\"id\":\"98f55fdd-0bf2-4b91-91bc-ae44febc30d2\",\"type\":\"ColumnDataSource\"},{\"attributes\":{\"bottom_units\":\"screen\",\"fill_alpha\":{\"value\":0.5},\"fill_color\":{\"value\":\"lightgrey\"},\"left_units\":\"screen\",\"level\":\"overlay\",\"line_alpha\":{\"value\":1.0},\"line_color\":{\"value\":\"black\"},\"line_dash\":[4,4],\"line_width\":{\"value\":2},\"plot\":null,\"render_mode\":\"css\",\"right_units\":\"screen\",\"top_units\":\"screen\"},\"id\":\"07e91cda-8477-4474-8ad0-7d42437f2840\",\"type\":\"BoxAnnotation\"},{\"attributes\":{\"dimension\":1,\"plot\":{\"id\":\"ff22ea20-70be-44ef-9109-e4cfe1dfbe7c\",\"subtype\":\"Chart\",\"type\":\"Plot\"},\"ticker\":{\"id\":\"968a3802-4ff3-422c-9e62-3ccb5224dd6c\",\"type\":\"BasicTicker\"}},\"id\":\"9c9884b2-9728-4550-bd20-ca995035dff2\",\"type\":\"Grid\"},{\"attributes\":{\"callback\":null,\"column_names\":[\"line_alpha\",\"line_color\",\"label\",\"x\",\"width\",\"height\",\"fill_alpha\",\"color\",\"y\"],\"data\":{\"Site\":[\"Mohawk River at Waterford\"],\"chart_index\":[{\"Site\":\"Mohawk River at Waterford\"}],\"color\":[\"lightblue\"],\"fill_alpha\":[0.8],\"height\":[169.71891968639],\"label\":[{\"Site\":\"Mohawk River at Waterford\"}],\"line_alpha\":[1.0],\"line_color\":[\"white\"],\"width\":[0.8],\"x\":[\"Mohawk River at Waterford\"],\"y\":[84.859459843195]}},\"id\":\"ed491746-5d9e-49c9-89b7-47f847f11e3c\",\"type\":\"ColumnDataSource\"},{\"attributes\":{\"callback\":null,\"column_names\":[\"line_alpha\",\"line_color\",\"label\",\"x\",\"width\",\"height\",\"fill_alpha\",\"color\",\"y\"],\"data\":{\"Site\":[\"Albany Rowing Dock\"],\"chart_index\":[{\"Site\":\"Albany Rowing Dock\"}],\"color\":[\"lightblue\"],\"fill_alpha\":[0.8],\"height\":[68.58650440223481],\"label\":[{\"Site\":\"Albany Rowing Dock\"}],\"line_alpha\":[1.0],\"line_color\":[\"white\"],\"width\":[0.8],\"x\":[\"Albany Rowing Dock\"],\"y\":[34.293252201117404]}},\"id\":\"c3aa1464-6aca-47a8-ac6c-7ceffff1ea35\",\"type\":\"ColumnDataSource\"},{\"attributes\":{\"below\":[{\"id\":\"b3c678f8-96b6-4c79-890c-40666ed741d8\",\"type\":\"CategoricalAxis\"}],\"css_classes\":null,\"left\":[{\"id\":\"cb2bfa13-8e7d-4724-9246-48376d7fd052\",\"type\":\"LinearAxis\"}],\"renderers\":[{\"id\":\"07e91cda-8477-4474-8ad0-7d42437f2840\",\"type\":\"BoxAnnotation\"},{\"id\":\"fcc33dfd-db5c-435e-93b8-f25f852642c2\",\"type\":\"GlyphRenderer\"},{\"id\":\"c9b60e91-1cda-425a-8374-70e7b4814a38\",\"type\":\"GlyphRenderer\"},{\"id\":\"ab6401fc-cda6-4d98-b3e6-90da5f6ff0d2\",\"type\":\"GlyphRenderer\"},{\"id\":\"2309e258-1e0a-443d-9e9c-57ed7af1b823\",\"type\":\"GlyphRenderer\"},{\"id\":\"56d70360-f866-43f7-b1ca-420378dc7a08\",\"type\":\"GlyphRenderer\"},{\"id\":\"72f62bec-a518-4553-bd27-2bba5c260e57\",\"type\":\"GlyphRenderer\"},{\"id\":\"14503f91-d774-4f76-8330-6637614c4e74\",\"type\":\"GlyphRenderer\"},{\"id\":\"9375c369-b88c-44f7-8a64-e087f34fd655\",\"type\":\"GlyphRenderer\"},{\"id\":\"a893c6bc-0321-443a-8f67-b14edc1a7f23\",\"type\":\"GlyphRenderer\"},{\"id\":\"cb006605-8225-4688-8119-9edfc8d1c796\",\"type\":\"GlyphRenderer\"},{\"id\":\"2f6c3ed5-0bdc-4388-9d6e-418d9d380e6e\",\"type\":\"GlyphRenderer\"},{\"id\":\"8b6ad755-922a-4230-891f-8b5e776def93\",\"type\":\"GlyphRenderer\"},{\"id\":\"c3f7ffc0-dd5f-4a92-9267-ebdd02b9e243\",\"type\":\"GlyphRenderer\"},{\"id\":\"c9d05a57-07bd-4407-a0a5-e2ea7f3c8380\",\"type\":\"GlyphRenderer\"},{\"id\":\"c3d74f24-27ce-4af0-bc0e-09ee6c4195c3\",\"type\":\"GlyphRenderer\"},{\"id\":\"2c16233d-2784-4ad3-9755-4796f66dd273\",\"type\":\"GlyphRenderer\"},{\"id\":\"538921de-27b9-43cd-a059-7d1bb5a43423\",\"type\":\"GlyphRenderer\"},{\"id\":\"196d15d7-1d02-4589-bc65-5ce9dd34a27a\",\"type\":\"GlyphRenderer\"},{\"id\":\"28e6de25-d13b-457e-9550-84055854bbec\",\"type\":\"GlyphRenderer\"},{\"id\":\"3de80a65-21a1-4ce0-bd87-6890d670a32c\",\"type\":\"GlyphRenderer\"},{\"id\":\"b3c678f8-96b6-4c79-890c-40666ed741d8\",\"type\":\"CategoricalAxis\"},{\"id\":\"cb2bfa13-8e7d-4724-9246-48376d7fd052\",\"type\":\"LinearAxis\"},{\"id\":\"9c9884b2-9728-4550-bd20-ca995035dff2\",\"type\":\"Grid\"}],\"title\":{\"id\":\"978f66b7-968c-42f2-a732-7c1d0bf6e383\",\"type\":\"Title\"},\"tool_events\":{\"id\":\"eb64516a-c374-4385-90c7-5be2b4f8be6b\",\"type\":\"ToolEvents\"},\"toolbar\":{\"id\":\"ca7c5ab6-f6ca-4748-b71f-51d124452f37\",\"type\":\"Toolbar\"},\"x_mapper_type\":\"auto\",\"x_range\":{\"id\":\"2931afad-5aa1-436a-94a3-2f251153bafe\",\"type\":\"FactorRange\"},\"y_mapper_type\":\"auto\",\"y_range\":{\"id\":\"1c79adb5-e706-4e7e-8b1e-264a9caf8fc0\",\"type\":\"Range1d\"}},\"id\":\"ff22ea20-70be-44ef-9109-e4cfe1dfbe7c\",\"subtype\":\"Chart\",\"type\":\"Plot\"},{\"attributes\":{\"data_source\":{\"id\":\"bf407099-f03c-4a23-bd51-3a8d433b48b3\",\"type\":\"ColumnDataSource\"},\"glyph\":{\"id\":\"4d80549f-6a99-431d-8ee6-1771e8a2ea16\",\"type\":\"Rect\"},\"hover_glyph\":null,\"nonselection_glyph\":null,\"selection_glyph\":null},\"id\":\"c9b60e91-1cda-425a-8374-70e7b4814a38\",\"type\":\"GlyphRenderer\"},{\"attributes\":{\"plot\":{\"id\":\"ff22ea20-70be-44ef-9109-e4cfe1dfbe7c\",\"subtype\":\"Chart\",\"type\":\"Plot\"}},\"id\":\"02281025-6c24-44a7-8f9a-c405b9d44e5f\",\"type\":\"WheelZoomTool\"},{\"attributes\":{},\"id\":\"7fb0dbe5-ec30-446e-a1b2-364b29b2e275\",\"type\":\"CategoricalTickFormatter\"},{\"attributes\":{\"fill_alpha\":{\"field\":\"fill_alpha\"},\"fill_color\":{\"field\":\"color\"},\"height\":{\"field\":\"height\",\"units\":\"data\"},\"line_color\":{\"field\":\"line_color\"},\"width\":{\"field\":\"width\",\"units\":\"data\"},\"x\":{\"field\":\"x\"},\"y\":{\"field\":\"y\"}},\"id\":\"00dd6e2f-7861-44ad-9978-b36349370f60\",\"type\":\"Rect\"},{\"attributes\":{\"formatter\":{\"id\":\"7fb0dbe5-ec30-446e-a1b2-364b29b2e275\",\"type\":\"CategoricalTickFormatter\"},\"major_label_orientation\":0.7853981633974483,\"plot\":{\"id\":\"ff22ea20-70be-44ef-9109-e4cfe1dfbe7c\",\"subtype\":\"Chart\",\"type\":\"Plot\"},\"ticker\":{\"id\":\"993af427-6abc-4ce3-a66f-9338c97c987f\",\"type\":\"CategoricalTicker\"}},\"id\":\"b3c678f8-96b6-4c79-890c-40666ed741d8\",\"type\":\"CategoricalAxis\"},{\"attributes\":{\"fill_alpha\":{\"field\":\"fill_alpha\"},\"fill_color\":{\"field\":\"color\"},\"height\":{\"field\":\"height\",\"units\":\"data\"},\"line_color\":{\"field\":\"line_color\"},\"width\":{\"field\":\"width\",\"units\":\"data\"},\"x\":{\"field\":\"x\"},\"y\":{\"field\":\"y\"}},\"id\":\"4d80549f-6a99-431d-8ee6-1771e8a2ea16\",\"type\":\"Rect\"},{\"attributes\":{\"data_source\":{\"id\":\"c3aa1464-6aca-47a8-ac6c-7ceffff1ea35\",\"type\":\"ColumnDataSource\"},\"glyph\":{\"id\":\"07645896-f994-4f87-bb0c-f14ac773c59c\",\"type\":\"Rect\"},\"hover_glyph\":null,\"nonselection_glyph\":null,\"selection_glyph\":null},\"id\":\"14503f91-d774-4f76-8330-6637614c4e74\",\"type\":\"GlyphRenderer\"},{\"attributes\":{\"fill_alpha\":{\"field\":\"fill_alpha\"},\"fill_color\":{\"field\":\"color\"},\"height\":{\"field\":\"height\",\"units\":\"data\"},\"line_color\":{\"field\":\"line_color\"},\"width\":{\"field\":\"width\",\"units\":\"data\"},\"x\":{\"field\":\"x\"},\"y\":{\"field\":\"y\"}},\"id\":\"558c50dd-7e47-4f0e-b99e-353149d3281b\",\"type\":\"Rect\"},{\"attributes\":{\"fill_alpha\":{\"field\":\"fill_alpha\"},\"fill_color\":{\"field\":\"color\"},\"height\":{\"field\":\"height\",\"units\":\"data\"},\"line_color\":{\"field\":\"line_color\"},\"width\":{\"field\":\"width\",\"units\":\"data\"},\"x\":{\"field\":\"x\"},\"y\":{\"field\":\"y\"}},\"id\":\"fc40020b-2e37-4346-9f66-b0db4593c7fa\",\"type\":\"Rect\"},{\"attributes\":{\"data_source\":{\"id\":\"556a4747-f22f-4f11-8ab3-956d2fd31380\",\"type\":\"ColumnDataSource\"},\"glyph\":{\"id\":\"c0dfbd85-4260-4c06-8312-804671b2f139\",\"type\":\"Rect\"},\"hover_glyph\":null,\"nonselection_glyph\":null,\"selection_glyph\":null},\"id\":\"2f6c3ed5-0bdc-4388-9d6e-418d9d380e6e\",\"type\":\"GlyphRenderer\"},{\"attributes\":{\"fill_alpha\":{\"field\":\"fill_alpha\"},\"fill_color\":{\"field\":\"color\"},\"height\":{\"field\":\"height\",\"units\":\"data\"},\"line_color\":{\"field\":\"line_color\"},\"width\":{\"field\":\"width\",\"units\":\"data\"},\"x\":{\"field\":\"x\"},\"y\":{\"field\":\"y\"}},\"id\":\"60d7bbce-ffbb-4198-b926-073bf3bf37a2\",\"type\":\"Rect\"},{\"attributes\":{\"fill_alpha\":{\"field\":\"fill_alpha\"},\"fill_color\":{\"field\":\"color\"},\"height\":{\"field\":\"height\",\"units\":\"data\"},\"line_color\":{\"field\":\"line_color\"},\"width\":{\"field\":\"width\",\"units\":\"data\"},\"x\":{\"field\":\"x\"},\"y\":{\"field\":\"y\"}},\"id\":\"82cfda99-7ed2-493f-affd-fcec2600c176\",\"type\":\"Rect\"},{\"attributes\":{\"data_source\":{\"id\":\"d8cc6d23-d289-4403-bff7-1940d39d7a1f\",\"type\":\"ColumnDataSource\"},\"glyph\":{\"id\":\"4513dee2-27ff-4932-bc94-a0a42c3499fd\",\"type\":\"Rect\"},\"hover_glyph\":null,\"nonselection_glyph\":null,\"selection_glyph\":null},\"id\":\"9375c369-b88c-44f7-8a64-e087f34fd655\",\"type\":\"GlyphRenderer\"},{\"attributes\":{\"callback\":null,\"column_names\":[\"line_alpha\",\"line_color\",\"label\",\"x\",\"width\",\"height\",\"fill_alpha\",\"color\",\"y\"],\"data\":{\"Site\":[\"Hudson River above Troy Lock\"],\"chart_index\":[{\"Site\":\"Hudson River above Troy Lock\"}],\"color\":[\"lightblue\"],\"fill_alpha\":[0.8],\"height\":[105.36575765581442],\"label\":[{\"Site\":\"Hudson River above Troy Lock\"}],\"line_alpha\":[1.0],\"line_color\":[\"white\"],\"width\":[0.8],\"x\":[\"Hudson River above Troy Lock\"],\"y\":[52.68287882790721]}},\"id\":\"c1e9272c-3165-4c37-88be-635a8d1e2d81\",\"type\":\"ColumnDataSource\"},{\"attributes\":{\"callback\":null,\"factors\":[\"125th St. Pier\",\"Albany Rowing Dock\",\"Athens\",\"Congress St. Bridge- Troy\",\"Dunn Memorial Bridge- Albany\",\"Gowanus Canal\",\"Hudson River above Troy Lock\",\"Island Creek/Normans Kill\",\"Kingston STP Outfall\",\"Mohawk River at Waterford\",\"Newburgh Launch Ramp\",\"Newtown Creek- Dutch Kills\",\"Newtown Creek- Metropolitan Ave. Bridge\",\"North River STP at 145th\",\"Orangetown STP Outfall\",\"Piermont Pier\",\"Rondout- Kingston Public Dock\",\"Saw Mill River\",\"Tarrytown Marina\",\"Upper Sparkill Creek\"]},\"id\":\"2931afad-5aa1-436a-94a3-2f251153bafe\",\"type\":\"FactorRange\"},{\"attributes\":{\"data_source\":{\"id\":\"029f2c85-4fcc-4082-945b-616ba0b930b6\",\"type\":\"ColumnDataSource\"},\"glyph\":{\"id\":\"60d7bbce-ffbb-4198-b926-073bf3bf37a2\",\"type\":\"Rect\"},\"hover_glyph\":null,\"nonselection_glyph\":null,\"selection_glyph\":null},\"id\":\"c3f7ffc0-dd5f-4a92-9267-ebdd02b9e243\",\"type\":\"GlyphRenderer\"},{\"attributes\":{\"callback\":null,\"column_names\":[\"line_alpha\",\"line_color\",\"label\",\"x\",\"width\",\"height\",\"fill_alpha\",\"color\",\"y\"],\"data\":{\"Site\":[\"Upper Sparkill Creek\"],\"chart_index\":[{\"Site\":\"Upper Sparkill Creek\"}],\"color\":[\"lightblue\"],\"fill_alpha\":[0.8],\"height\":[387.18459931447717],\"label\":[{\"Site\":\"Upper Sparkill Creek\"}],\"line_alpha\":[1.0],\"line_color\":[\"white\"],\"width\":[0.8],\"x\":[\"Upper Sparkill Creek\"],\"y\":[193.59229965723858]}},\"id\":\"4b538bff-927b-40b3-ab97-109b0cb40623\",\"type\":\"ColumnDataSource\"},{\"attributes\":{\"fill_alpha\":{\"field\":\"fill_alpha\"},\"fill_color\":{\"field\":\"color\"},\"height\":{\"field\":\"height\",\"units\":\"data\"},\"line_color\":{\"field\":\"line_color\"},\"width\":{\"field\":\"width\",\"units\":\"data\"},\"x\":{\"field\":\"x\"},\"y\":{\"field\":\"y\"}},\"id\":\"49015062-96f1-4b0b-85cd-9655af45c321\",\"type\":\"Rect\"},{\"attributes\":{\"plot\":null,\"text\":\"Worst 20 Enterococcus readings by Site\"},\"id\":\"978f66b7-968c-42f2-a732-7c1d0bf6e383\",\"type\":\"Title\"},{\"attributes\":{\"fill_alpha\":{\"field\":\"fill_alpha\"},\"fill_color\":{\"field\":\"color\"},\"height\":{\"field\":\"height\",\"units\":\"data\"},\"line_color\":{\"field\":\"line_color\"},\"width\":{\"field\":\"width\",\"units\":\"data\"},\"x\":{\"field\":\"x\"},\"y\":{\"field\":\"y\"}},\"id\":\"2add49a6-8b3e-4368-954b-e15957aeddb2\",\"type\":\"Rect\"},{\"attributes\":{\"callback\":null,\"column_names\":[\"line_alpha\",\"line_color\",\"label\",\"x\",\"width\",\"height\",\"fill_alpha\",\"color\",\"y\"],\"data\":{\"Site\":[\"Island Creek/Normans Kill\"],\"chart_index\":[{\"Site\":\"Island Creek/Normans Kill\"}],\"color\":[\"lightblue\"],\"fill_alpha\":[0.8],\"height\":[86.87214708707302],\"label\":[{\"Site\":\"Island Creek/Normans Kill\"}],\"line_alpha\":[1.0],\"line_color\":[\"white\"],\"width\":[0.8],\"x\":[\"Island Creek/Normans Kill\"],\"y\":[43.43607354353651]}},\"id\":\"ec35f481-dbc0-4e56-ab86-dc88ccde8fba\",\"type\":\"ColumnDataSource\"},{\"attributes\":{\"data_source\":{\"id\":\"ec35f481-dbc0-4e56-ab86-dc88ccde8fba\",\"type\":\"ColumnDataSource\"},\"glyph\":{\"id\":\"2add49a6-8b3e-4368-954b-e15957aeddb2\",\"type\":\"Rect\"},\"hover_glyph\":null,\"nonselection_glyph\":null,\"selection_glyph\":null},\"id\":\"cb006605-8225-4688-8119-9edfc8d1c796\",\"type\":\"GlyphRenderer\"},{\"attributes\":{\"callback\":null,\"column_names\":[\"line_alpha\",\"line_color\",\"label\",\"x\",\"width\",\"height\",\"fill_alpha\",\"color\",\"y\"],\"data\":{\"Site\":[\"Newburgh Launch Ramp\"],\"chart_index\":[{\"Site\":\"Newburgh Launch Ramp\"}],\"color\":[\"lightblue\"],\"fill_alpha\":[0.8],\"height\":[102.57935602023254],\"label\":[{\"Site\":\"Newburgh Launch Ramp\"}],\"line_alpha\":[1.0],\"line_color\":[\"white\"],\"width\":[0.8],\"x\":[\"Newburgh Launch Ramp\"],\"y\":[51.28967801011627]}},\"id\":\"029f2c85-4fcc-4082-945b-616ba0b930b6\",\"type\":\"ColumnDataSource\"},{\"attributes\":{},\"id\":\"993af427-6abc-4ce3-a66f-9338c97c987f\",\"type\":\"CategoricalTicker\"},{\"attributes\":{\"plot\":{\"id\":\"ff22ea20-70be-44ef-9109-e4cfe1dfbe7c\",\"subtype\":\"Chart\",\"type\":\"Plot\"}},\"id\":\"6b40a556-ad53-4a8f-97a6-ee170a9f3b51\",\"type\":\"SaveTool\"},{\"attributes\":{\"fill_alpha\":{\"field\":\"fill_alpha\"},\"fill_color\":{\"field\":\"color\"},\"height\":{\"field\":\"height\",\"units\":\"data\"},\"line_color\":{\"field\":\"line_color\"},\"width\":{\"field\":\"width\",\"units\":\"data\"},\"x\":{\"field\":\"x\"},\"y\":{\"field\":\"y\"}},\"id\":\"2b5709e5-5d0a-4b5b-80dd-d72bdae89cee\",\"type\":\"Rect\"},{\"attributes\":{\"data_source\":{\"id\":\"b65eefad-fc8e-4d86-a2c2-02c74e62ca59\",\"type\":\"ColumnDataSource\"},\"glyph\":{\"id\":\"4fb47b94-3bf8-4ef6-ba47-b6ca5ae9a288\",\"type\":\"Rect\"},\"hover_glyph\":null,\"nonselection_glyph\":null,\"selection_glyph\":null},\"id\":\"28e6de25-d13b-457e-9550-84055854bbec\",\"type\":\"GlyphRenderer\"},{\"attributes\":{\"fill_alpha\":{\"field\":\"fill_alpha\"},\"fill_color\":{\"field\":\"color\"},\"height\":{\"field\":\"height\",\"units\":\"data\"},\"line_color\":{\"field\":\"line_color\"},\"width\":{\"field\":\"width\",\"units\":\"data\"},\"x\":{\"field\":\"x\"},\"y\":{\"field\":\"y\"}},\"id\":\"6f9e41e3-1ed0-4dd5-aadc-e387d37647c0\",\"type\":\"Rect\"},{\"attributes\":{\"data_source\":{\"id\":\"5375c912-67bb-437a-b4b7-3edfd3c1f60e\",\"type\":\"ColumnDataSource\"},\"glyph\":{\"id\":\"58f98b1b-2eab-4f13-8102-eef450846f11\",\"type\":\"Rect\"},\"hover_glyph\":null,\"nonselection_glyph\":null,\"selection_glyph\":null},\"id\":\"72f62bec-a518-4553-bd27-2bba5c260e57\",\"type\":\"GlyphRenderer\"},{\"attributes\":{\"callback\":null,\"column_names\":[\"line_alpha\",\"line_color\",\"label\",\"x\",\"width\",\"height\",\"fill_alpha\",\"color\",\"y\"],\"data\":{\"Site\":[\"Athens\"],\"chart_index\":[{\"Site\":\"Athens\"}],\"color\":[\"lightblue\"],\"fill_alpha\":[0.8],\"height\":[39.84533858146061],\"label\":[{\"Site\":\"Athens\"}],\"line_alpha\":[1.0],\"line_color\":[\"white\"],\"width\":[0.8],\"x\":[\"Athens\"],\"y\":[19.922669290730305]}},\"id\":\"bf407099-f03c-4a23-bd51-3a8d433b48b3\",\"type\":\"ColumnDataSource\"},{\"attributes\":{\"callback\":null,\"column_names\":[\"line_alpha\",\"line_color\",\"label\",\"x\",\"width\",\"height\",\"fill_alpha\",\"color\",\"y\"],\"data\":{\"Site\":[\"Tarrytown Marina\"],\"chart_index\":[{\"Site\":\"Tarrytown Marina\"}],\"color\":[\"lightblue\"],\"fill_alpha\":[0.8],\"height\":[83.78339982282496],\"label\":[{\"Site\":\"Tarrytown Marina\"}],\"line_alpha\":[1.0],\"line_color\":[\"white\"],\"width\":[0.8],\"x\":[\"Tarrytown Marina\"],\"y\":[41.89169991141248]}},\"id\":\"8cc37088-34f1-4f18-9be4-21ad81146aa3\",\"type\":\"ColumnDataSource\"},{\"attributes\":{\"fill_alpha\":{\"field\":\"fill_alpha\"},\"fill_color\":{\"field\":\"color\"},\"height\":{\"field\":\"height\",\"units\":\"data\"},\"line_color\":{\"field\":\"line_color\"},\"width\":{\"field\":\"width\",\"units\":\"data\"},\"x\":{\"field\":\"x\"},\"y\":{\"field\":\"y\"}},\"id\":\"4fb47b94-3bf8-4ef6-ba47-b6ca5ae9a288\",\"type\":\"Rect\"},{\"attributes\":{\"callback\":null,\"column_names\":[\"line_alpha\",\"line_color\",\"label\",\"x\",\"width\",\"height\",\"fill_alpha\",\"color\",\"y\"],\"data\":{\"Site\":[\"Kingston STP Outfall\"],\"chart_index\":[{\"Site\":\"Kingston STP Outfall\"}],\"color\":[\"lightblue\"],\"fill_alpha\":[0.8],\"height\":[102.22502742776093],\"label\":[{\"Site\":\"Kingston STP Outfall\"}],\"line_alpha\":[1.0],\"line_color\":[\"white\"],\"width\":[0.8],\"x\":[\"Kingston STP Outfall\"],\"y\":[51.11251371388047]}},\"id\":\"0b33b13b-3588-4851-9b13-40d173fadd28\",\"type\":\"ColumnDataSource\"},{\"attributes\":{\"callback\":null,\"column_names\":[\"line_alpha\",\"line_color\",\"label\",\"x\",\"width\",\"height\",\"fill_alpha\",\"color\",\"y\"],\"data\":{\"Site\":[\"North River STP at 145th\"],\"chart_index\":[{\"Site\":\"North River STP at 145th\"}],\"color\":[\"lightblue\"],\"fill_alpha\":[0.8],\"height\":[39.8344258688189],\"label\":[{\"Site\":\"North River STP at 145th\"}],\"line_alpha\":[1.0],\"line_color\":[\"white\"],\"width\":[0.8],\"x\":[\"North River STP at 145th\"],\"y\":[19.91721293440945]}},\"id\":\"c2d36b0a-47d6-4fc2-b700-f2238797bd27\",\"type\":\"ColumnDataSource\"},{\"attributes\":{\"callback\":null,\"column_names\":[\"line_alpha\",\"line_color\",\"label\",\"x\",\"width\",\"height\",\"fill_alpha\",\"color\",\"y\"],\"data\":{\"Site\":[\"Rondout- Kingston Public Dock\"],\"chart_index\":[{\"Site\":\"Rondout- Kingston Public Dock\"}],\"color\":[\"lightblue\"],\"fill_alpha\":[0.8],\"height\":[66.11129444799766],\"label\":[{\"Site\":\"Rondout- Kingston Public Dock\"}],\"line_alpha\":[1.0],\"line_color\":[\"white\"],\"width\":[0.8],\"x\":[\"Rondout- Kingston Public Dock\"],\"y\":[33.05564722399883]}},\"id\":\"5375c912-67bb-437a-b4b7-3edfd3c1f60e\",\"type\":\"ColumnDataSource\"},{\"attributes\":{\"callback\":null,\"column_names\":[\"line_alpha\",\"line_color\",\"label\",\"x\",\"width\",\"height\",\"fill_alpha\",\"color\",\"y\"],\"data\":{\"Site\":[\"Newtown Creek- Dutch Kills\"],\"chart_index\":[{\"Site\":\"Newtown Creek- Dutch Kills\"}],\"color\":[\"lightblue\"],\"fill_alpha\":[0.8],\"height\":[56.54354936908304],\"label\":[{\"Site\":\"Newtown Creek- Dutch Kills\"}],\"line_alpha\":[1.0],\"line_color\":[\"white\"],\"width\":[0.8],\"x\":[\"Newtown Creek- Dutch Kills\"],\"y\":[28.27177468454152]}},\"id\":\"0a10f846-bc50-464a-8c06-526f59ce32b0\",\"type\":\"ColumnDataSource\"},{\"attributes\":{\"data_source\":{\"id\":\"0b33b13b-3588-4851-9b13-40d173fadd28\",\"type\":\"ColumnDataSource\"},\"glyph\":{\"id\":\"fc40020b-2e37-4346-9f66-b0db4593c7fa\",\"type\":\"Rect\"},\"hover_glyph\":null,\"nonselection_glyph\":null,\"selection_glyph\":null},\"id\":\"8b6ad755-922a-4230-891f-8b5e776def93\",\"type\":\"GlyphRenderer\"},{\"attributes\":{},\"id\":\"968a3802-4ff3-422c-9e62-3ccb5224dd6c\",\"type\":\"BasicTicker\"},{\"attributes\":{\"fill_alpha\":{\"field\":\"fill_alpha\"},\"fill_color\":{\"field\":\"color\"},\"height\":{\"field\":\"height\",\"units\":\"data\"},\"line_color\":{\"field\":\"line_color\"},\"width\":{\"field\":\"width\",\"units\":\"data\"},\"x\":{\"field\":\"x\"},\"y\":{\"field\":\"y\"}},\"id\":\"cec15948-3438-4ace-861e-26e6dcf528d2\",\"type\":\"Rect\"},{\"attributes\":{\"data_source\":{\"id\":\"c1e9272c-3165-4c37-88be-635a8d1e2d81\",\"type\":\"ColumnDataSource\"},\"glyph\":{\"id\":\"2b5709e5-5d0a-4b5b-80dd-d72bdae89cee\",\"type\":\"Rect\"},\"hover_glyph\":null,\"nonselection_glyph\":null,\"selection_glyph\":null},\"id\":\"c9d05a57-07bd-4407-a0a5-e2ea7f3c8380\",\"type\":\"GlyphRenderer\"},{\"attributes\":{\"callback\":null,\"column_names\":[\"line_alpha\",\"line_color\",\"label\",\"x\",\"width\",\"height\",\"fill_alpha\",\"color\",\"y\"],\"data\":{\"Site\":[\"Piermont Pier\"],\"chart_index\":[{\"Site\":\"Piermont Pier\"}],\"color\":[\"lightblue\"],\"fill_alpha\":[0.8],\"height\":[106.64198730183102],\"label\":[{\"Site\":\"Piermont Pier\"}],\"line_alpha\":[1.0],\"line_color\":[\"white\"],\"width\":[0.8],\"x\":[\"Piermont Pier\"],\"y\":[53.32099365091551]}},\"id\":\"952f54b1-4455-4ff1-87cd-56379f4a90ab\",\"type\":\"ColumnDataSource\"},{\"attributes\":{\"data_source\":{\"id\":\"4b538bff-927b-40b3-ab97-109b0cb40623\",\"type\":\"ColumnDataSource\"},\"glyph\":{\"id\":\"00dd6e2f-7861-44ad-9978-b36349370f60\",\"type\":\"Rect\"},\"hover_glyph\":null,\"nonselection_glyph\":null,\"selection_glyph\":null},\"id\":\"3de80a65-21a1-4ce0-bd87-6890d670a32c\",\"type\":\"GlyphRenderer\"},{\"attributes\":{\"callback\":null,\"end\":406.543829280201},\"id\":\"1c79adb5-e706-4e7e-8b1e-264a9caf8fc0\",\"type\":\"Range1d\"},{\"attributes\":{\"callback\":null,\"column_names\":[\"line_alpha\",\"line_color\",\"label\",\"x\",\"width\",\"height\",\"fill_alpha\",\"color\",\"y\"],\"data\":{\"Site\":[\"125th St. Pier\"],\"chart_index\":[{\"Site\":\"125th St. Pier\"}],\"color\":[\"lightblue\"],\"fill_alpha\":[0.8],\"height\":[54.033034287776985],\"label\":[{\"Site\":\"125th St. Pier\"}],\"line_alpha\":[1.0],\"line_color\":[\"white\"],\"width\":[0.8],\"x\":[\"125th St. Pier\"],\"y\":[27.016517143888493]}},\"id\":\"67e4df73-fb41-4a76-93a0-6b3399db2f58\",\"type\":\"ColumnDataSource\"},{\"attributes\":{\"fill_alpha\":{\"field\":\"fill_alpha\"},\"fill_color\":{\"field\":\"color\"},\"height\":{\"field\":\"height\",\"units\":\"data\"},\"line_color\":{\"field\":\"line_color\"},\"width\":{\"field\":\"width\",\"units\":\"data\"},\"x\":{\"field\":\"x\"},\"y\":{\"field\":\"y\"}},\"id\":\"0f3cd208-c70f-41b3-9448-5db31c670111\",\"type\":\"Rect\"},{\"attributes\":{\"plot\":{\"id\":\"ff22ea20-70be-44ef-9109-e4cfe1dfbe7c\",\"subtype\":\"Chart\",\"type\":\"Plot\"}},\"id\":\"f0ced99c-f2ef-4653-873d-4bd5ed354ab9\",\"type\":\"PanTool\"},{\"attributes\":{\"data_source\":{\"id\":\"952f54b1-4455-4ff1-87cd-56379f4a90ab\",\"type\":\"ColumnDataSource\"},\"glyph\":{\"id\":\"82cfda99-7ed2-493f-affd-fcec2600c176\",\"type\":\"Rect\"},\"hover_glyph\":null,\"nonselection_glyph\":null,\"selection_glyph\":null},\"id\":\"c3d74f24-27ce-4af0-bc0e-09ee6c4195c3\",\"type\":\"GlyphRenderer\"},{\"attributes\":{\"plot\":{\"id\":\"ff22ea20-70be-44ef-9109-e4cfe1dfbe7c\",\"subtype\":\"Chart\",\"type\":\"Plot\"}},\"id\":\"2cea0ad2-6db1-4d1e-8c23-32e2bdf5b58c\",\"type\":\"HelpTool\"},{\"attributes\":{},\"id\":\"eb64516a-c374-4385-90c7-5be2b4f8be6b\",\"type\":\"ToolEvents\"},{\"attributes\":{\"data_source\":{\"id\":\"8f382eeb-e332-4c86-a554-ae942d0a9793\",\"type\":\"ColumnDataSource\"},\"glyph\":{\"id\":\"0f3cd208-c70f-41b3-9448-5db31c670111\",\"type\":\"Rect\"},\"hover_glyph\":null,\"nonselection_glyph\":null,\"selection_glyph\":null},\"id\":\"56d70360-f866-43f7-b1ca-420378dc7a08\",\"type\":\"GlyphRenderer\"},{\"attributes\":{\"callback\":null,\"column_names\":[\"line_alpha\",\"line_color\",\"label\",\"x\",\"width\",\"height\",\"fill_alpha\",\"color\",\"y\"],\"data\":{\"Site\":[\"Congress St. Bridge- Troy\"],\"chart_index\":[{\"Site\":\"Congress St. Bridge- Troy\"}],\"color\":[\"lightblue\"],\"fill_alpha\":[0.8],\"height\":[71.1853841068664],\"label\":[{\"Site\":\"Congress St. Bridge- Troy\"}],\"line_alpha\":[1.0],\"line_color\":[\"white\"],\"width\":[0.8],\"x\":[\"Congress St. Bridge- Troy\"],\"y\":[35.5926920534332]}},\"id\":\"d8cc6d23-d289-4403-bff7-1940d39d7a1f\",\"type\":\"ColumnDataSource\"},{\"attributes\":{\"callback\":null,\"column_names\":[\"line_alpha\",\"line_color\",\"label\",\"x\",\"width\",\"height\",\"fill_alpha\",\"color\",\"y\"],\"data\":{\"Site\":[\"Orangetown STP Outfall\"],\"chart_index\":[{\"Site\":\"Orangetown STP Outfall\"}],\"color\":[\"lightblue\"],\"fill_alpha\":[0.8],\"height\":[60.606909073966165],\"label\":[{\"Site\":\"Orangetown STP Outfall\"}],\"line_alpha\":[1.0],\"line_color\":[\"white\"],\"width\":[0.8],\"x\":[\"Orangetown STP Outfall\"],\"y\":[30.303454536983082]}},\"id\":\"8f382eeb-e332-4c86-a554-ae942d0a9793\",\"type\":\"ColumnDataSource\"},{\"attributes\":{\"callback\":null,\"column_names\":[\"line_alpha\",\"line_color\",\"label\",\"x\",\"width\",\"height\",\"fill_alpha\",\"color\",\"y\"],\"data\":{\"Site\":[\"Gowanus Canal\"],\"chart_index\":[{\"Site\":\"Gowanus Canal\"}],\"color\":[\"lightblue\"],\"fill_alpha\":[0.8],\"height\":[181.33061969115357],\"label\":[{\"Site\":\"Gowanus Canal\"}],\"line_alpha\":[1.0],\"line_color\":[\"white\"],\"width\":[0.8],\"x\":[\"Gowanus Canal\"],\"y\":[90.66530984557679]}},\"id\":\"b65eefad-fc8e-4d86-a2c2-02c74e62ca59\",\"type\":\"ColumnDataSource\"},{\"attributes\":{\"data_source\":{\"id\":\"98f55fdd-0bf2-4b91-91bc-ae44febc30d2\",\"type\":\"ColumnDataSource\"},\"glyph\":{\"id\":\"58b18c84-7663-4da9-9c18-b6bf94d3e820\",\"type\":\"Rect\"},\"hover_glyph\":null,\"nonselection_glyph\":null,\"selection_glyph\":null},\"id\":\"2c16233d-2784-4ad3-9755-4796f66dd273\",\"type\":\"GlyphRenderer\"},{\"attributes\":{\"overlay\":{\"id\":\"07e91cda-8477-4474-8ad0-7d42437f2840\",\"type\":\"BoxAnnotation\"},\"plot\":{\"id\":\"ff22ea20-70be-44ef-9109-e4cfe1dfbe7c\",\"subtype\":\"Chart\",\"type\":\"Plot\"}},\"id\":\"b0523443-9474-4542-bb4f-99f5021d36fa\",\"type\":\"BoxZoomTool\"},{\"attributes\":{\"fill_alpha\":{\"field\":\"fill_alpha\"},\"fill_color\":{\"field\":\"color\"},\"height\":{\"field\":\"height\",\"units\":\"data\"},\"line_color\":{\"field\":\"line_color\"},\"width\":{\"field\":\"width\",\"units\":\"data\"},\"x\":{\"field\":\"x\"},\"y\":{\"field\":\"y\"}},\"id\":\"4513dee2-27ff-4932-bc94-a0a42c3499fd\",\"type\":\"Rect\"},{\"attributes\":{\"data_source\":{\"id\":\"c2d36b0a-47d6-4fc2-b700-f2238797bd27\",\"type\":\"ColumnDataSource\"},\"glyph\":{\"id\":\"cec15948-3438-4ace-861e-26e6dcf528d2\",\"type\":\"Rect\"},\"hover_glyph\":null,\"nonselection_glyph\":null,\"selection_glyph\":null},\"id\":\"fcc33dfd-db5c-435e-93b8-f25f852642c2\",\"type\":\"GlyphRenderer\"}],\"root_ids\":[\"ff22ea20-70be-44ef-9109-e4cfe1dfbe7c\"]},\"title\":\"Bokeh Application\",\"version\":\"0.12.4\"}};\n",
       "            var render_items = [{\"docid\":\"8c443f5a-8f69-405f-b3ef-821fc99cd5f6\",\"elementid\":\"c2ef4735-470f-49fb-aea2-31bdd39ce1a0\",\"modelid\":\"ff22ea20-70be-44ef-9109-e4cfe1dfbe7c\",\"notebook_comms_target\":\"631a5942-7d84-45f0-bcba-582341d6fb90\"}];\n",
       "            \n",
       "            Bokeh.embed.embed_items(docs_json, render_items);\n",
       "          };\n",
       "          if (document.readyState != \"loading\") fn();\n",
       "          else document.addEventListener(\"DOMContentLoaded\", fn);\n",
       "        })();\n",
       "      },\n",
       "      function(Bokeh) {\n",
       "      }\n",
       "    ];\n",
       "  \n",
       "    function run_inline_js() {\n",
       "      \n",
       "      if ((window.Bokeh !== undefined) || (force === true)) {\n",
       "        for (var i = 0; i < inline_js.length; i++) {\n",
       "          inline_js[i](window.Bokeh);\n",
       "        }if (force === true) {\n",
       "          display_loaded();\n",
       "        }} else if (Date.now() < window._bokeh_timeout) {\n",
       "        setTimeout(run_inline_js, 100);\n",
       "      } else if (!window._bokeh_failed_load) {\n",
       "        console.log(\"Bokeh: BokehJS failed to load within specified timeout.\");\n",
       "        window._bokeh_failed_load = true;\n",
       "      } else if (force !== true) {\n",
       "        var cell = $(document.getElementById(\"c2ef4735-470f-49fb-aea2-31bdd39ce1a0\")).parents('.cell').data().cell;\n",
       "        cell.output_area.append_execute_result(NB_LOAD_WARNING)\n",
       "      }\n",
       "  \n",
       "    }\n",
       "  \n",
       "    if (window._bokeh_is_loading === 0) {\n",
       "      console.log(\"Bokeh: BokehJS loaded, going straight to plotting\");\n",
       "      run_inline_js();\n",
       "    } else {\n",
       "      load_libs(js_urls, function() {\n",
       "        console.log(\"Bokeh: BokehJS plotting callback run at\", now());\n",
       "        run_inline_js();\n",
       "      });\n",
       "    }\n",
       "  }(this));\n",
       "</script>"
      ]
     },
     "metadata": {},
     "output_type": "display_data"
    },
    {
     "data": {
      "text/html": [
       "<p><code>&lt;Bokeh Notebook handle for <strong>In[20]</strong>&gt;</code></p>"
      ],
      "text/plain": [
       "<bokeh.io._CommsHandle at 0x11a250a90>"
      ]
     },
     "execution_count": 20,
     "metadata": {},
     "output_type": "execute_result"
    }
   ],
   "source": [
    "p = Bar(worst, 'Site', values='EnteroCount', \n",
    "            title=\"Worst 20 Enterococcus readings by Site\",\n",
    "            color=\"lightblue\", legend=False, xlabel=\"\")\n",
    "\n",
    "show(p, notebook_handle=True)"
   ]
  },
  {
   "cell_type": "code",
   "execution_count": 21,
   "metadata": {
    "collapsed": false
   },
   "outputs": [
    {
     "data": {
      "text/html": [
       "\n",
       "\n",
       "    <div class=\"bk-root\">\n",
       "        <div class=\"bk-plotdiv\" id=\"11204ab3-462c-4dca-8ec3-9363f7e7b00a\"></div>\n",
       "    </div>\n",
       "<script type=\"text/javascript\">\n",
       "  \n",
       "  (function(global) {\n",
       "    function now() {\n",
       "      return new Date();\n",
       "    }\n",
       "  \n",
       "    var force = false;\n",
       "  \n",
       "    if (typeof (window._bokeh_onload_callbacks) === \"undefined\" || force === true) {\n",
       "      window._bokeh_onload_callbacks = [];\n",
       "      window._bokeh_is_loading = undefined;\n",
       "    }\n",
       "  \n",
       "  \n",
       "    \n",
       "    if (typeof (window._bokeh_timeout) === \"undefined\" || force === true) {\n",
       "      window._bokeh_timeout = Date.now() + 0;\n",
       "      window._bokeh_failed_load = false;\n",
       "    }\n",
       "  \n",
       "    var NB_LOAD_WARNING = {'data': {'text/html':\n",
       "       \"<div style='background-color: #fdd'>\\n\"+\n",
       "       \"<p>\\n\"+\n",
       "       \"BokehJS does not appear to have successfully loaded. If loading BokehJS from CDN, this \\n\"+\n",
       "       \"may be due to a slow or bad network connection. Possible fixes:\\n\"+\n",
       "       \"</p>\\n\"+\n",
       "       \"<ul>\\n\"+\n",
       "       \"<li>re-rerun `output_notebook()` to attempt to load from CDN again, or</li>\\n\"+\n",
       "       \"<li>use INLINE resources instead, as so:</li>\\n\"+\n",
       "       \"</ul>\\n\"+\n",
       "       \"<code>\\n\"+\n",
       "       \"from bokeh.resources import INLINE\\n\"+\n",
       "       \"output_notebook(resources=INLINE)\\n\"+\n",
       "       \"</code>\\n\"+\n",
       "       \"</div>\"}};\n",
       "  \n",
       "    function display_loaded() {\n",
       "      if (window.Bokeh !== undefined) {\n",
       "        document.getElementById(\"11204ab3-462c-4dca-8ec3-9363f7e7b00a\").textContent = \"BokehJS successfully loaded.\";\n",
       "      } else if (Date.now() < window._bokeh_timeout) {\n",
       "        setTimeout(display_loaded, 100)\n",
       "      }\n",
       "    }if ((window.Jupyter !== undefined) && Jupyter.notebook.kernel) {\n",
       "      comm_manager = Jupyter.notebook.kernel.comm_manager\n",
       "      comm_manager.register_target(\"3d28e559-07d5-4132-9aa2-604cc7f83fee\", function () {});\n",
       "    }\n",
       "  \n",
       "    function run_callbacks() {\n",
       "      window._bokeh_onload_callbacks.forEach(function(callback) { callback() });\n",
       "      delete window._bokeh_onload_callbacks\n",
       "      console.info(\"Bokeh: all callbacks have finished\");\n",
       "    }\n",
       "  \n",
       "    function load_libs(js_urls, callback) {\n",
       "      window._bokeh_onload_callbacks.push(callback);\n",
       "      if (window._bokeh_is_loading > 0) {\n",
       "        console.log(\"Bokeh: BokehJS is being loaded, scheduling callback at\", now());\n",
       "        return null;\n",
       "      }\n",
       "      if (js_urls == null || js_urls.length === 0) {\n",
       "        run_callbacks();\n",
       "        return null;\n",
       "      }\n",
       "      console.log(\"Bokeh: BokehJS not loaded, scheduling load and callback at\", now());\n",
       "      window._bokeh_is_loading = js_urls.length;\n",
       "      for (var i = 0; i < js_urls.length; i++) {\n",
       "        var url = js_urls[i];\n",
       "        var s = document.createElement('script');\n",
       "        s.src = url;\n",
       "        s.async = false;\n",
       "        s.onreadystatechange = s.onload = function() {\n",
       "          window._bokeh_is_loading--;\n",
       "          if (window._bokeh_is_loading === 0) {\n",
       "            console.log(\"Bokeh: all BokehJS libraries loaded\");\n",
       "            run_callbacks()\n",
       "          }\n",
       "        };\n",
       "        s.onerror = function() {\n",
       "          console.warn(\"failed to load library \" + url);\n",
       "        };\n",
       "        console.log(\"Bokeh: injecting script tag for BokehJS library: \", url);\n",
       "        document.getElementsByTagName(\"head\")[0].appendChild(s);\n",
       "      }\n",
       "    };var element = document.getElementById(\"11204ab3-462c-4dca-8ec3-9363f7e7b00a\");\n",
       "    if (element == null) {\n",
       "      console.log(\"Bokeh: ERROR: autoload.js configured with elementid '11204ab3-462c-4dca-8ec3-9363f7e7b00a' but no matching script tag was found. \")\n",
       "      return false;\n",
       "    }\n",
       "  \n",
       "    var js_urls = [];\n",
       "  \n",
       "    var inline_js = [\n",
       "      function(Bokeh) {\n",
       "        (function() {\n",
       "          var fn = function() {\n",
       "            var docs_json = {\"c2a16a8e-745a-4bba-bf82-db4376b21578\":{\"roots\":{\"references\":[{\"attributes\":{\"data_source\":{\"id\":\"56e1008e-20e2-44b1-80a9-56c6aa394239\",\"type\":\"ColumnDataSource\"},\"glyph\":{\"id\":\"4d5973df-d589-4562-84b2-070913fd8b50\",\"type\":\"Rect\"},\"hover_glyph\":null,\"nonselection_glyph\":null,\"selection_glyph\":null},\"id\":\"5eb58748-a39e-4fa0-8413-6a02a4074ebf\",\"type\":\"GlyphRenderer\"},{\"attributes\":{\"fill_alpha\":{\"field\":\"fill_alpha\"},\"fill_color\":{\"field\":\"color\"},\"height\":{\"field\":\"height\",\"units\":\"data\"},\"line_color\":{\"field\":\"line_color\"},\"width\":{\"field\":\"width\",\"units\":\"data\"},\"x\":{\"field\":\"x\"},\"y\":{\"field\":\"y\"}},\"id\":\"dfd267eb-5d53-47f4-a19f-91640ac57348\",\"type\":\"Rect\"},{\"attributes\":{\"axis_label\":\"Sum( Enterocount )\",\"formatter\":{\"id\":\"a97b1ea2-1179-4766-9df3-5b5794ff98a7\",\"type\":\"BasicTickFormatter\"},\"plot\":{\"id\":\"41f528cc-a36a-4bef-bc1a-3befed0cf8ac\",\"subtype\":\"Chart\",\"type\":\"Plot\"},\"ticker\":{\"id\":\"f8bdcf9d-5651-4e66-80be-c958f18a08a0\",\"type\":\"BasicTicker\"}},\"id\":\"355d466b-7194-4a7b-8a49-f17012fad8b4\",\"type\":\"LinearAxis\"},{\"attributes\":{\"fill_alpha\":{\"field\":\"fill_alpha\"},\"fill_color\":{\"field\":\"color\"},\"height\":{\"field\":\"height\",\"units\":\"data\"},\"line_color\":{\"field\":\"line_color\"},\"width\":{\"field\":\"width\",\"units\":\"data\"},\"x\":{\"field\":\"x\"},\"y\":{\"field\":\"y\"}},\"id\":\"faaca464-6c4b-4185-a3e4-e8b03ad04e29\",\"type\":\"Rect\"},{\"attributes\":{\"callback\":null,\"column_names\":[\"line_alpha\",\"line_color\",\"label\",\"x\",\"width\",\"height\",\"fill_alpha\",\"color\",\"y\"],\"data\":{\"Site\":[\"Catskill Creek- First Bridge\"],\"chart_index\":[{\"Site\":\"Catskill Creek- First Bridge\"}],\"color\":[\"lightblue\"],\"fill_alpha\":[0.8],\"height\":[0.0],\"label\":[{\"Site\":\"Catskill Creek- First Bridge\"}],\"line_alpha\":[1.0],\"line_color\":[\"white\"],\"width\":[0.8],\"x\":[\"Catskill Creek- First Bridge\"],\"y\":[0.0]}},\"id\":\"06cfd090-cfde-431f-b20f-260150e1ea21\",\"type\":\"ColumnDataSource\"},{\"attributes\":{\"fill_alpha\":{\"field\":\"fill_alpha\"},\"fill_color\":{\"field\":\"color\"},\"height\":{\"field\":\"height\",\"units\":\"data\"},\"line_color\":{\"field\":\"line_color\"},\"width\":{\"field\":\"width\",\"units\":\"data\"},\"x\":{\"field\":\"x\"},\"y\":{\"field\":\"y\"}},\"id\":\"911bb472-a0e5-40a3-9c78-02b7561992e1\",\"type\":\"Rect\"},{\"attributes\":{\"data_source\":{\"id\":\"c79010a4-759a-4ab0-9d7d-fdef137591ed\",\"type\":\"ColumnDataSource\"},\"glyph\":{\"id\":\"ccf3b276-ad3a-45ab-80e5-9ba2a4ac9c60\",\"type\":\"Rect\"},\"hover_glyph\":null,\"nonselection_glyph\":null,\"selection_glyph\":null},\"id\":\"6d5a2879-7d78-4a22-bec9-1d6ee73f646a\",\"type\":\"GlyphRenderer\"},{\"attributes\":{\"callback\":null,\"column_names\":[\"line_alpha\",\"line_color\",\"label\",\"x\",\"width\",\"height\",\"fill_alpha\",\"color\",\"y\"],\"data\":{\"Site\":[\"Inbocht Bay\"],\"chart_index\":[{\"Site\":\"Inbocht Bay\"}],\"color\":[\"lightblue\"],\"fill_alpha\":[0.8],\"height\":[10.753627674379203],\"label\":[{\"Site\":\"Inbocht Bay\"}],\"line_alpha\":[1.0],\"line_color\":[\"white\"],\"width\":[0.8],\"x\":[\"Inbocht Bay\"],\"y\":[5.3768138371896015]}},\"id\":\"1253fe70-1684-427b-9214-1efd92bcae7b\",\"type\":\"ColumnDataSource\"},{\"attributes\":{\"callback\":null,\"column_names\":[\"line_alpha\",\"line_color\",\"label\",\"x\",\"width\",\"height\",\"fill_alpha\",\"color\",\"y\"],\"data\":{\"Site\":[\"Ulster Landing Beach\"],\"chart_index\":[{\"Site\":\"Ulster Landing Beach\"}],\"color\":[\"lightblue\"],\"fill_alpha\":[0.8],\"height\":[8.779956318556163],\"label\":[{\"Site\":\"Ulster Landing Beach\"}],\"line_alpha\":[1.0],\"line_color\":[\"white\"],\"width\":[0.8],\"x\":[\"Ulster Landing Beach\"],\"y\":[4.3899781592780815]}},\"id\":\"162cd813-2284-4579-a3d9-e47e9f451970\",\"type\":\"ColumnDataSource\"},{\"attributes\":{\"fill_alpha\":{\"field\":\"fill_alpha\"},\"fill_color\":{\"field\":\"color\"},\"height\":{\"field\":\"height\",\"units\":\"data\"},\"line_color\":{\"field\":\"line_color\"},\"width\":{\"field\":\"width\",\"units\":\"data\"},\"x\":{\"field\":\"x\"},\"y\":{\"field\":\"y\"}},\"id\":\"06fff72c-7d16-476e-b731-5a9ea586d42c\",\"type\":\"Rect\"},{\"attributes\":{\"callback\":null,\"column_names\":[\"line_alpha\",\"line_color\",\"label\",\"x\",\"width\",\"height\",\"fill_alpha\",\"color\",\"y\"],\"data\":{\"Site\":[\"West Point STP Outfall\"],\"chart_index\":[{\"Site\":\"West Point STP Outfall\"}],\"color\":[\"lightblue\"],\"fill_alpha\":[0.8],\"height\":[9.210814604594644],\"label\":[{\"Site\":\"West Point STP Outfall\"}],\"line_alpha\":[1.0],\"line_color\":[\"white\"],\"width\":[0.8],\"x\":[\"West Point STP Outfall\"],\"y\":[4.605407302297322]}},\"id\":\"517c4b0e-d3ac-4f9e-bf22-7c62e34a7d56\",\"type\":\"ColumnDataSource\"},{\"attributes\":{\"fill_alpha\":{\"field\":\"fill_alpha\"},\"fill_color\":{\"field\":\"color\"},\"height\":{\"field\":\"height\",\"units\":\"data\"},\"line_color\":{\"field\":\"line_color\"},\"width\":{\"field\":\"width\",\"units\":\"data\"},\"x\":{\"field\":\"x\"},\"y\":{\"field\":\"y\"}},\"id\":\"68d843dd-553a-4a4e-8461-b718b4d7cb35\",\"type\":\"Rect\"},{\"attributes\":{\"data_source\":{\"id\":\"f99db7de-3ede-4727-8d45-5199f11fac87\",\"type\":\"ColumnDataSource\"},\"glyph\":{\"id\":\"a4df8ba3-d861-4ba6-b69d-27a8c4968150\",\"type\":\"Rect\"},\"hover_glyph\":null,\"nonselection_glyph\":null,\"selection_glyph\":null},\"id\":\"00b443db-e84d-4cb9-9233-212505065d5d\",\"type\":\"GlyphRenderer\"},{\"attributes\":{\"bottom_units\":\"screen\",\"fill_alpha\":{\"value\":0.5},\"fill_color\":{\"value\":\"lightgrey\"},\"left_units\":\"screen\",\"level\":\"overlay\",\"line_alpha\":{\"value\":1.0},\"line_color\":{\"value\":\"black\"},\"line_dash\":[4,4],\"line_width\":{\"value\":2},\"plot\":null,\"render_mode\":\"css\",\"right_units\":\"screen\",\"top_units\":\"screen\"},\"id\":\"4731081d-9eaa-482a-94a1-c7904cfa153f\",\"type\":\"BoxAnnotation\"},{\"attributes\":{\"data_source\":{\"id\":\"17e046ee-0380-4fed-81de-22e980cf18dc\",\"type\":\"ColumnDataSource\"},\"glyph\":{\"id\":\"dfd267eb-5d53-47f4-a19f-91640ac57348\",\"type\":\"Rect\"},\"hover_glyph\":null,\"nonselection_glyph\":null,\"selection_glyph\":null},\"id\":\"5170b934-74ce-4052-9290-cda12429483b\",\"type\":\"GlyphRenderer\"},{\"attributes\":{\"below\":[{\"id\":\"5dea5199-87ba-488c-9567-4f136865aad5\",\"type\":\"CategoricalAxis\"}],\"css_classes\":null,\"left\":[{\"id\":\"355d466b-7194-4a7b-8a49-f17012fad8b4\",\"type\":\"LinearAxis\"}],\"renderers\":[{\"id\":\"4731081d-9eaa-482a-94a1-c7904cfa153f\",\"type\":\"BoxAnnotation\"},{\"id\":\"b6941a93-8cf4-4ea9-bda0-6469159fc3ab\",\"type\":\"GlyphRenderer\"},{\"id\":\"b0487c8e-5b14-44ca-9ce0-86511900577c\",\"type\":\"GlyphRenderer\"},{\"id\":\"1c795424-a95b-48ea-90b6-6a77bee70605\",\"type\":\"GlyphRenderer\"},{\"id\":\"5eb58748-a39e-4fa0-8413-6a02a4074ebf\",\"type\":\"GlyphRenderer\"},{\"id\":\"3d9d2fee-2f18-416b-b62a-5b4cd1d83962\",\"type\":\"GlyphRenderer\"},{\"id\":\"5170b934-74ce-4052-9290-cda12429483b\",\"type\":\"GlyphRenderer\"},{\"id\":\"ad8a0a97-859c-4bd1-96f5-d53cd2172230\",\"type\":\"GlyphRenderer\"},{\"id\":\"42be109b-b0b0-481c-b44a-69ac11986ec2\",\"type\":\"GlyphRenderer\"},{\"id\":\"b0baf3a2-83ef-4a5a-b713-1ce8c0c24d45\",\"type\":\"GlyphRenderer\"},{\"id\":\"6b3657d1-aaaa-4d59-820f-2ac1dd5bd2c7\",\"type\":\"GlyphRenderer\"},{\"id\":\"a71e9e16-9abf-4d72-802e-8819a5897c9d\",\"type\":\"GlyphRenderer\"},{\"id\":\"d98d9b7d-64cd-4738-a45a-6d8a2c714439\",\"type\":\"GlyphRenderer\"},{\"id\":\"22832e53-fd9c-4648-8767-5e0d1e5577a4\",\"type\":\"GlyphRenderer\"},{\"id\":\"60fd1683-bd17-4205-b836-11f48aa82a5d\",\"type\":\"GlyphRenderer\"},{\"id\":\"86b2bad2-69fd-4739-89f6-cbcba9f1be05\",\"type\":\"GlyphRenderer\"},{\"id\":\"74e475f8-07d9-4624-94ea-9fd1975e303a\",\"type\":\"GlyphRenderer\"},{\"id\":\"02f2e57e-18d0-4058-b467-05a53c697703\",\"type\":\"GlyphRenderer\"},{\"id\":\"00b443db-e84d-4cb9-9233-212505065d5d\",\"type\":\"GlyphRenderer\"},{\"id\":\"6d5a2879-7d78-4a22-bec9-1d6ee73f646a\",\"type\":\"GlyphRenderer\"},{\"id\":\"3a9f634a-e94f-4504-a60a-a64a3355cf39\",\"type\":\"GlyphRenderer\"},{\"id\":\"5dea5199-87ba-488c-9567-4f136865aad5\",\"type\":\"CategoricalAxis\"},{\"id\":\"355d466b-7194-4a7b-8a49-f17012fad8b4\",\"type\":\"LinearAxis\"},{\"id\":\"9eb3b569-7b30-401c-b9be-8dfdee5f178b\",\"type\":\"Grid\"}],\"title\":{\"id\":\"7cac68ff-7760-441f-be01-a52b262c1512\",\"type\":\"Title\"},\"tool_events\":{\"id\":\"69625600-6cc8-4bae-8f20-cfa2b8cf4c41\",\"type\":\"ToolEvents\"},\"toolbar\":{\"id\":\"c4a65790-0c96-4097-a7e2-b96fb0728226\",\"type\":\"Toolbar\"},\"x_mapper_type\":\"auto\",\"x_range\":{\"id\":\"2a51dbc2-e13f-4a81-8b50-3ceb4725aeb8\",\"type\":\"FactorRange\"},\"y_mapper_type\":\"auto\",\"y_range\":{\"id\":\"bf897a78-3bf5-4c29-9805-78aa3684b291\",\"type\":\"Range1d\"}},\"id\":\"41f528cc-a36a-4bef-bc1a-3befed0cf8ac\",\"subtype\":\"Chart\",\"type\":\"Plot\"},{\"attributes\":{},\"id\":\"f8bdcf9d-5651-4e66-80be-c958f18a08a0\",\"type\":\"BasicTicker\"},{\"attributes\":{\"callback\":null,\"column_names\":[\"line_alpha\",\"line_color\",\"label\",\"x\",\"width\",\"height\",\"fill_alpha\",\"color\",\"y\"],\"data\":{\"Site\":[\"Port Ewen Drinking Water Intake\"],\"chart_index\":[{\"Site\":\"Port Ewen Drinking Water Intake\"}],\"color\":[\"lightblue\"],\"fill_alpha\":[0.8],\"height\":[5.2572410288750415],\"label\":[{\"Site\":\"Port Ewen Drinking Water Intake\"}],\"line_alpha\":[1.0],\"line_color\":[\"white\"],\"width\":[0.8],\"x\":[\"Port Ewen Drinking Water Intake\"],\"y\":[2.6286205144375208]}},\"id\":\"56e1008e-20e2-44b1-80a9-56c6aa394239\",\"type\":\"ColumnDataSource\"},{\"attributes\":{},\"id\":\"69625600-6cc8-4bae-8f20-cfa2b8cf4c41\",\"type\":\"ToolEvents\"},{\"attributes\":{\"data_source\":{\"id\":\"5da6aec9-362b-408b-ba7f-7d91dc6fc4f8\",\"type\":\"ColumnDataSource\"},\"glyph\":{\"id\":\"44261791-7e06-448b-ac08-e6e01f30a18a\",\"type\":\"Rect\"},\"hover_glyph\":null,\"nonselection_glyph\":null,\"selection_glyph\":null},\"id\":\"d98d9b7d-64cd-4738-a45a-6d8a2c714439\",\"type\":\"GlyphRenderer\"},{\"attributes\":{\"callback\":null,\"column_names\":[\"line_alpha\",\"line_color\",\"label\",\"x\",\"width\",\"height\",\"fill_alpha\",\"color\",\"y\"],\"data\":{\"Site\":[\"Marlboro Landing\"],\"chart_index\":[{\"Site\":\"Marlboro Landing\"}],\"color\":[\"lightblue\"],\"fill_alpha\":[0.8],\"height\":[9.661642865281323],\"label\":[{\"Site\":\"Marlboro Landing\"}],\"line_alpha\":[1.0],\"line_color\":[\"white\"],\"width\":[0.8],\"x\":[\"Marlboro Landing\"],\"y\":[4.830821432640661]}},\"id\":\"1232132e-b7b3-41c1-b117-a1fd8047cbbf\",\"type\":\"ColumnDataSource\"},{\"attributes\":{\"dimension\":1,\"plot\":{\"id\":\"41f528cc-a36a-4bef-bc1a-3befed0cf8ac\",\"subtype\":\"Chart\",\"type\":\"Plot\"},\"ticker\":{\"id\":\"f8bdcf9d-5651-4e66-80be-c958f18a08a0\",\"type\":\"BasicTicker\"}},\"id\":\"9eb3b569-7b30-401c-b9be-8dfdee5f178b\",\"type\":\"Grid\"},{\"attributes\":{\"fill_alpha\":{\"field\":\"fill_alpha\"},\"fill_color\":{\"field\":\"color\"},\"height\":{\"field\":\"height\",\"units\":\"data\"},\"line_color\":{\"field\":\"line_color\"},\"width\":{\"field\":\"width\",\"units\":\"data\"},\"x\":{\"field\":\"x\"},\"y\":{\"field\":\"y\"}},\"id\":\"6a34e3a6-213c-4b4a-b8b5-e833fb8b1812\",\"type\":\"Rect\"},{\"attributes\":{\"callback\":null,\"column_names\":[\"line_alpha\",\"line_color\",\"label\",\"x\",\"width\",\"height\",\"fill_alpha\",\"color\",\"y\"],\"data\":{\"Site\":[\"Poughkeepsie Launch Ramp\"],\"chart_index\":[{\"Site\":\"Poughkeepsie Launch Ramp\"}],\"color\":[\"lightblue\"],\"fill_alpha\":[0.8],\"height\":[10.867016554390007],\"label\":[{\"Site\":\"Poughkeepsie Launch Ramp\"}],\"line_alpha\":[1.0],\"line_color\":[\"white\"],\"width\":[0.8],\"x\":[\"Poughkeepsie Launch Ramp\"],\"y\":[5.433508277195004]}},\"id\":\"da28e3f5-e2b9-43b1-b161-3819a552894e\",\"type\":\"ColumnDataSource\"},{\"attributes\":{\"callback\":null,\"column_names\":[\"line_alpha\",\"line_color\",\"label\",\"x\",\"width\",\"height\",\"fill_alpha\",\"color\",\"y\"],\"data\":{\"Site\":[\"Little Stony Point\"],\"chart_index\":[{\"Site\":\"Little Stony Point\"}],\"color\":[\"lightblue\"],\"fill_alpha\":[0.8],\"height\":[7.887390632744776],\"label\":[{\"Site\":\"Little Stony Point\"}],\"line_alpha\":[1.0],\"line_color\":[\"white\"],\"width\":[0.8],\"x\":[\"Little Stony Point\"],\"y\":[3.943695316372388]}},\"id\":\"17e046ee-0380-4fed-81de-22e980cf18dc\",\"type\":\"ColumnDataSource\"},{\"attributes\":{\"data_source\":{\"id\":\"06cfd090-cfde-431f-b20f-260150e1ea21\",\"type\":\"ColumnDataSource\"},\"glyph\":{\"id\":\"68d843dd-553a-4a4e-8461-b718b4d7cb35\",\"type\":\"Rect\"},\"hover_glyph\":null,\"nonselection_glyph\":null,\"selection_glyph\":null},\"id\":\"b6941a93-8cf4-4ea9-bda0-6469159fc3ab\",\"type\":\"GlyphRenderer\"},{\"attributes\":{\"data_source\":{\"id\":\"039919d5-c86e-405d-8a7f-3513361eb3b5\",\"type\":\"ColumnDataSource\"},\"glyph\":{\"id\":\"4be0ca58-3519-4eb6-a0d2-328d2cfa983f\",\"type\":\"Rect\"},\"hover_glyph\":null,\"nonselection_glyph\":null,\"selection_glyph\":null},\"id\":\"22832e53-fd9c-4648-8767-5e0d1e5577a4\",\"type\":\"GlyphRenderer\"},{\"attributes\":{\"plot\":{\"id\":\"41f528cc-a36a-4bef-bc1a-3befed0cf8ac\",\"subtype\":\"Chart\",\"type\":\"Plot\"}},\"id\":\"71e62d97-4371-43a5-9160-1db415efd5ee\",\"type\":\"HelpTool\"},{\"attributes\":{\"data_source\":{\"id\":\"da28e3f5-e2b9-43b1-b161-3819a552894e\",\"type\":\"ColumnDataSource\"},\"glyph\":{\"id\":\"023fc78f-4aec-44d4-9fe0-9c4f2bf3ebe5\",\"type\":\"Rect\"},\"hover_glyph\":null,\"nonselection_glyph\":null,\"selection_glyph\":null},\"id\":\"86b2bad2-69fd-4739-89f6-cbcba9f1be05\",\"type\":\"GlyphRenderer\"},{\"attributes\":{\"data_source\":{\"id\":\"1253fe70-1684-427b-9214-1efd92bcae7b\",\"type\":\"ColumnDataSource\"},\"glyph\":{\"id\":\"6ec10689-14a4-4cf9-b3d4-3575d103083c\",\"type\":\"Rect\"},\"hover_glyph\":null,\"nonselection_glyph\":null,\"selection_glyph\":null},\"id\":\"60fd1683-bd17-4205-b836-11f48aa82a5d\",\"type\":\"GlyphRenderer\"},{\"attributes\":{\"plot\":{\"id\":\"41f528cc-a36a-4bef-bc1a-3befed0cf8ac\",\"subtype\":\"Chart\",\"type\":\"Plot\"}},\"id\":\"94fb3eba-91b2-4a1d-81d5-7bb567ec92f2\",\"type\":\"SaveTool\"},{\"attributes\":{\"callback\":null,\"column_names\":[\"line_alpha\",\"line_color\",\"label\",\"x\",\"width\",\"height\",\"fill_alpha\",\"color\",\"y\"],\"data\":{\"Site\":[\"Cold Spring Harbor\"],\"chart_index\":[{\"Site\":\"Cold Spring Harbor\"}],\"color\":[\"lightblue\"],\"fill_alpha\":[0.8],\"height\":[11.360455535025281],\"label\":[{\"Site\":\"Cold Spring Harbor\"}],\"line_alpha\":[1.0],\"line_color\":[\"white\"],\"width\":[0.8],\"x\":[\"Cold Spring Harbor\"],\"y\":[5.6802277675126405]}},\"id\":\"63c9a991-0579-4487-a82a-b26aa00ad42b\",\"type\":\"ColumnDataSource\"},{\"attributes\":{\"fill_alpha\":{\"field\":\"fill_alpha\"},\"fill_color\":{\"field\":\"color\"},\"height\":{\"field\":\"height\",\"units\":\"data\"},\"line_color\":{\"field\":\"line_color\"},\"width\":{\"field\":\"width\",\"units\":\"data\"},\"x\":{\"field\":\"x\"},\"y\":{\"field\":\"y\"}},\"id\":\"6ec10689-14a4-4cf9-b3d4-3575d103083c\",\"type\":\"Rect\"},{\"attributes\":{\"fill_alpha\":{\"field\":\"fill_alpha\"},\"fill_color\":{\"field\":\"color\"},\"height\":{\"field\":\"height\",\"units\":\"data\"},\"line_color\":{\"field\":\"line_color\"},\"width\":{\"field\":\"width\",\"units\":\"data\"},\"x\":{\"field\":\"x\"},\"y\":{\"field\":\"y\"}},\"id\":\"b04aa43a-a119-4043-86b6-77763387d7e1\",\"type\":\"Rect\"},{\"attributes\":{\"data_source\":{\"id\":\"f32b2917-86b0-47d5-8760-29fe043ae884\",\"type\":\"ColumnDataSource\"},\"glyph\":{\"id\":\"6a34e3a6-213c-4b4a-b8b5-e833fb8b1812\",\"type\":\"Rect\"},\"hover_glyph\":null,\"nonselection_glyph\":null,\"selection_glyph\":null},\"id\":\"3d9d2fee-2f18-416b-b62a-5b4cd1d83962\",\"type\":\"GlyphRenderer\"},{\"attributes\":{\"fill_alpha\":{\"field\":\"fill_alpha\"},\"fill_color\":{\"field\":\"color\"},\"height\":{\"field\":\"height\",\"units\":\"data\"},\"line_color\":{\"field\":\"line_color\"},\"width\":{\"field\":\"width\",\"units\":\"data\"},\"x\":{\"field\":\"x\"},\"y\":{\"field\":\"y\"}},\"id\":\"67d14f9c-1b22-445d-82bc-b3b20772ed92\",\"type\":\"Rect\"},{\"attributes\":{\"data_source\":{\"id\":\"b886ed60-4792-4c24-8220-a348c37426c4\",\"type\":\"ColumnDataSource\"},\"glyph\":{\"id\":\"ab5c3b2a-ebb3-4865-92f0-ab7cc20ba4cb\",\"type\":\"Rect\"},\"hover_glyph\":null,\"nonselection_glyph\":null,\"selection_glyph\":null},\"id\":\"74e475f8-07d9-4624-94ea-9fd1975e303a\",\"type\":\"GlyphRenderer\"},{\"attributes\":{\"callback\":null,\"end\":13.35602001769282},\"id\":\"bf897a78-3bf5-4c29-9805-78aa3684b291\",\"type\":\"Range1d\"},{\"attributes\":{\"fill_alpha\":{\"field\":\"fill_alpha\"},\"fill_color\":{\"field\":\"color\"},\"height\":{\"field\":\"height\",\"units\":\"data\"},\"line_color\":{\"field\":\"line_color\"},\"width\":{\"field\":\"width\",\"units\":\"data\"},\"x\":{\"field\":\"x\"},\"y\":{\"field\":\"y\"}},\"id\":\"a4df8ba3-d861-4ba6-b69d-27a8c4968150\",\"type\":\"Rect\"},{\"attributes\":{\"plot\":{\"id\":\"41f528cc-a36a-4bef-bc1a-3befed0cf8ac\",\"subtype\":\"Chart\",\"type\":\"Plot\"}},\"id\":\"f5b0a49d-76ae-4447-9bcc-a3aa7860bb37\",\"type\":\"ResetTool\"},{\"attributes\":{\"callback\":null,\"column_names\":[\"line_alpha\",\"line_color\",\"label\",\"x\",\"width\",\"height\",\"fill_alpha\",\"color\",\"y\"],\"data\":{\"Site\":[\"Croton Point Beach\"],\"chart_index\":[{\"Site\":\"Croton Point Beach\"}],\"color\":[\"lightblue\"],\"fill_alpha\":[0.8],\"height\":[11.074057314502246],\"label\":[{\"Site\":\"Croton Point Beach\"}],\"line_alpha\":[1.0],\"line_color\":[\"white\"],\"width\":[0.8],\"x\":[\"Croton Point Beach\"],\"y\":[5.537028657251123]}},\"id\":\"b886ed60-4792-4c24-8220-a348c37426c4\",\"type\":\"ColumnDataSource\"},{\"attributes\":{\"data_source\":{\"id\":\"4e7f105b-db71-4e5b-aea4-c06cd90bd2d3\",\"type\":\"ColumnDataSource\"},\"glyph\":{\"id\":\"95772d64-d3b0-4e22-90c9-586f8b2edcf6\",\"type\":\"Rect\"},\"hover_glyph\":null,\"nonselection_glyph\":null,\"selection_glyph\":null},\"id\":\"6b3657d1-aaaa-4d59-820f-2ac1dd5bd2c7\",\"type\":\"GlyphRenderer\"},{\"attributes\":{\"fill_alpha\":{\"field\":\"fill_alpha\"},\"fill_color\":{\"field\":\"color\"},\"height\":{\"field\":\"height\",\"units\":\"data\"},\"line_color\":{\"field\":\"line_color\"},\"width\":{\"field\":\"width\",\"units\":\"data\"},\"x\":{\"field\":\"x\"},\"y\":{\"field\":\"y\"}},\"id\":\"1f720fa3-cc9d-40df-bfa9-0297df86afae\",\"type\":\"Rect\"},{\"attributes\":{\"callback\":null,\"column_names\":[\"line_alpha\",\"line_color\",\"label\",\"x\",\"width\",\"height\",\"fill_alpha\",\"color\",\"y\"],\"data\":{\"Site\":[\"Kingston Point Beach\"],\"chart_index\":[{\"Site\":\"Kingston Point Beach\"}],\"color\":[\"lightblue\"],\"fill_alpha\":[0.8],\"height\":[9.78703538215835],\"label\":[{\"Site\":\"Kingston Point Beach\"}],\"line_alpha\":[1.0],\"line_color\":[\"white\"],\"width\":[0.8],\"x\":[\"Kingston Point Beach\"],\"y\":[4.893517691079175]}},\"id\":\"4e7f105b-db71-4e5b-aea4-c06cd90bd2d3\",\"type\":\"ColumnDataSource\"},{\"attributes\":{\"callback\":null,\"column_names\":[\"line_alpha\",\"line_color\",\"label\",\"x\",\"width\",\"height\",\"fill_alpha\",\"color\",\"y\"],\"data\":{\"Site\":[\"Tivoli Landing\"],\"chart_index\":[{\"Site\":\"Tivoli Landing\"}],\"color\":[\"lightblue\"],\"fill_alpha\":[0.8],\"height\":[6.926001895807162],\"label\":[{\"Site\":\"Tivoli Landing\"}],\"line_alpha\":[1.0],\"line_color\":[\"white\"],\"width\":[0.8],\"x\":[\"Tivoli Landing\"],\"y\":[3.463000947903581]}},\"id\":\"f32b2917-86b0-47d5-8760-29fe043ae884\",\"type\":\"ColumnDataSource\"},{\"attributes\":{\"callback\":null,\"column_names\":[\"line_alpha\",\"line_color\",\"label\",\"x\",\"width\",\"height\",\"fill_alpha\",\"color\",\"y\"],\"data\":{\"Site\":[\"TZ Bridge mid-channel\"],\"chart_index\":[{\"Site\":\"TZ Bridge mid-channel\"}],\"color\":[\"lightblue\"],\"fill_alpha\":[0.8],\"height\":[9.873189937343708],\"label\":[{\"Site\":\"TZ Bridge mid-channel\"}],\"line_alpha\":[1.0],\"line_color\":[\"white\"],\"width\":[0.8],\"x\":[\"TZ Bridge mid-channel\"],\"y\":[4.936594968671854]}},\"id\":\"f36affe2-95b2-4592-a808-ce0e6d8f42a1\",\"type\":\"ColumnDataSource\"},{\"attributes\":{\"callback\":null,\"column_names\":[\"line_alpha\",\"line_color\",\"label\",\"x\",\"width\",\"height\",\"fill_alpha\",\"color\",\"y\"],\"data\":{\"Site\":[\"Fort Montgomery\"],\"chart_index\":[{\"Site\":\"Fort Montgomery\"}],\"color\":[\"lightblue\"],\"fill_alpha\":[0.8],\"height\":[12.720019064469353],\"label\":[{\"Site\":\"Fort Montgomery\"}],\"line_alpha\":[1.0],\"line_color\":[\"white\"],\"width\":[0.8],\"x\":[\"Fort Montgomery\"],\"y\":[6.360009532234677]}},\"id\":\"fb1f4514-1434-4e3a-9f0b-a61f13961256\",\"type\":\"ColumnDataSource\"},{\"attributes\":{\"fill_alpha\":{\"field\":\"fill_alpha\"},\"fill_color\":{\"field\":\"color\"},\"height\":{\"field\":\"height\",\"units\":\"data\"},\"line_color\":{\"field\":\"line_color\"},\"width\":{\"field\":\"width\",\"units\":\"data\"},\"x\":{\"field\":\"x\"},\"y\":{\"field\":\"y\"}},\"id\":\"ccf3b276-ad3a-45ab-80e5-9ba2a4ac9c60\",\"type\":\"Rect\"},{\"attributes\":{\"fill_alpha\":{\"field\":\"fill_alpha\"},\"fill_color\":{\"field\":\"color\"},\"height\":{\"field\":\"height\",\"units\":\"data\"},\"line_color\":{\"field\":\"line_color\"},\"width\":{\"field\":\"width\",\"units\":\"data\"},\"x\":{\"field\":\"x\"},\"y\":{\"field\":\"y\"}},\"id\":\"ab5c3b2a-ebb3-4865-92f0-ab7cc20ba4cb\",\"type\":\"Rect\"},{\"attributes\":{\"data_source\":{\"id\":\"fb1f4514-1434-4e3a-9f0b-a61f13961256\",\"type\":\"ColumnDataSource\"},\"glyph\":{\"id\":\"67d14f9c-1b22-445d-82bc-b3b20772ed92\",\"type\":\"Rect\"},\"hover_glyph\":null,\"nonselection_glyph\":null,\"selection_glyph\":null},\"id\":\"3a9f634a-e94f-4504-a60a-a64a3355cf39\",\"type\":\"GlyphRenderer\"},{\"attributes\":{\"plot\":{\"id\":\"41f528cc-a36a-4bef-bc1a-3befed0cf8ac\",\"subtype\":\"Chart\",\"type\":\"Plot\"}},\"id\":\"18fb36d1-bb1f-405e-adf8-ad0cb9016095\",\"type\":\"PanTool\"},{\"attributes\":{\"data_source\":{\"id\":\"3a72d338-50ad-4e53-9c14-54297213aed3\",\"type\":\"ColumnDataSource\"},\"glyph\":{\"id\":\"faaca464-6c4b-4185-a3e4-e8b03ad04e29\",\"type\":\"Rect\"},\"hover_glyph\":null,\"nonselection_glyph\":null,\"selection_glyph\":null},\"id\":\"1c795424-a95b-48ea-90b6-6a77bee70605\",\"type\":\"GlyphRenderer\"},{\"attributes\":{\"data_source\":{\"id\":\"162cd813-2284-4579-a3d9-e47e9f451970\",\"type\":\"ColumnDataSource\"},\"glyph\":{\"id\":\"b04aa43a-a119-4043-86b6-77763387d7e1\",\"type\":\"Rect\"},\"hover_glyph\":null,\"nonselection_glyph\":null,\"selection_glyph\":null},\"id\":\"ad8a0a97-859c-4bd1-96f5-d53cd2172230\",\"type\":\"GlyphRenderer\"},{\"attributes\":{\"fill_alpha\":{\"field\":\"fill_alpha\"},\"fill_color\":{\"field\":\"color\"},\"height\":{\"field\":\"height\",\"units\":\"data\"},\"line_color\":{\"field\":\"line_color\"},\"width\":{\"field\":\"width\",\"units\":\"data\"},\"x\":{\"field\":\"x\"},\"y\":{\"field\":\"y\"}},\"id\":\"44261791-7e06-448b-ac08-e6e01f30a18a\",\"type\":\"Rect\"},{\"attributes\":{\"data_source\":{\"id\":\"517c4b0e-d3ac-4f9e-bf22-7c62e34a7d56\",\"type\":\"ColumnDataSource\"},\"glyph\":{\"id\":\"911bb472-a0e5-40a3-9c78-02b7561992e1\",\"type\":\"Rect\"},\"hover_glyph\":null,\"nonselection_glyph\":null,\"selection_glyph\":null},\"id\":\"42be109b-b0b0-481c-b44a-69ac11986ec2\",\"type\":\"GlyphRenderer\"},{\"attributes\":{\"fill_alpha\":{\"field\":\"fill_alpha\"},\"fill_color\":{\"field\":\"color\"},\"height\":{\"field\":\"height\",\"units\":\"data\"},\"line_color\":{\"field\":\"line_color\"},\"width\":{\"field\":\"width\",\"units\":\"data\"},\"x\":{\"field\":\"x\"},\"y\":{\"field\":\"y\"}},\"id\":\"023fc78f-4aec-44d4-9fe0-9c4f2bf3ebe5\",\"type\":\"Rect\"},{\"attributes\":{\"fill_alpha\":{\"field\":\"fill_alpha\"},\"fill_color\":{\"field\":\"color\"},\"height\":{\"field\":\"height\",\"units\":\"data\"},\"line_color\":{\"field\":\"line_color\"},\"width\":{\"field\":\"width\",\"units\":\"data\"},\"x\":{\"field\":\"x\"},\"y\":{\"field\":\"y\"}},\"id\":\"26078a79-4bb9-4c3c-9ece-ac99316ba1e4\",\"type\":\"Rect\"},{\"attributes\":{\"fill_alpha\":{\"field\":\"fill_alpha\"},\"fill_color\":{\"field\":\"color\"},\"height\":{\"field\":\"height\",\"units\":\"data\"},\"line_color\":{\"field\":\"line_color\"},\"width\":{\"field\":\"width\",\"units\":\"data\"},\"x\":{\"field\":\"x\"},\"y\":{\"field\":\"y\"}},\"id\":\"4be0ca58-3519-4eb6-a0d2-328d2cfa983f\",\"type\":\"Rect\"},{\"attributes\":{\"callback\":null,\"column_names\":[\"line_alpha\",\"line_color\",\"label\",\"x\",\"width\",\"height\",\"fill_alpha\",\"color\",\"y\"],\"data\":{\"Site\":[\"Poughkeepsie Drinking Water Intake\"],\"chart_index\":[{\"Site\":\"Poughkeepsie Drinking Water Intake\"}],\"color\":[\"lightblue\"],\"fill_alpha\":[0.8],\"height\":[4.381235620986322],\"label\":[{\"Site\":\"Poughkeepsie Drinking Water Intake\"}],\"line_alpha\":[1.0],\"line_color\":[\"white\"],\"width\":[0.8],\"x\":[\"Poughkeepsie Drinking Water Intake\"],\"y\":[2.190617810493161]}},\"id\":\"3a72d338-50ad-4e53-9c14-54297213aed3\",\"type\":\"ColumnDataSource\"},{\"attributes\":{\"data_source\":{\"id\":\"c6e49042-bbbc-40d0-98b2-1d52fe6789b9\",\"type\":\"ColumnDataSource\"},\"glyph\":{\"id\":\"1f720fa3-cc9d-40df-bfa9-0297df86afae\",\"type\":\"Rect\"},\"hover_glyph\":null,\"nonselection_glyph\":null,\"selection_glyph\":null},\"id\":\"b0487c8e-5b14-44ca-9ce0-86511900577c\",\"type\":\"GlyphRenderer\"},{\"attributes\":{\"callback\":null,\"column_names\":[\"line_alpha\",\"line_color\",\"label\",\"x\",\"width\",\"height\",\"fill_alpha\",\"color\",\"y\"],\"data\":{\"Site\":[\"Stony Point mid-channel\"],\"chart_index\":[{\"Site\":\"Stony Point mid-channel\"}],\"color\":[\"lightblue\"],\"fill_alpha\":[0.8],\"height\":[10.683382761004355],\"label\":[{\"Site\":\"Stony Point mid-channel\"}],\"line_alpha\":[1.0],\"line_color\":[\"white\"],\"width\":[0.8],\"x\":[\"Stony Point mid-channel\"],\"y\":[5.341691380502177]}},\"id\":\"039919d5-c86e-405d-8a7f-3513361eb3b5\",\"type\":\"ColumnDataSource\"},{\"attributes\":{\"callback\":null,\"column_names\":[\"line_alpha\",\"line_color\",\"label\",\"x\",\"width\",\"height\",\"fill_alpha\",\"color\",\"y\"],\"data\":{\"Site\":[\"Yonkers mid-channel\"],\"chart_index\":[{\"Site\":\"Yonkers mid-channel\"}],\"color\":[\"lightblue\"],\"fill_alpha\":[0.8],\"height\":[12.43503985327845],\"label\":[{\"Site\":\"Yonkers mid-channel\"}],\"line_alpha\":[1.0],\"line_color\":[\"white\"],\"width\":[0.8],\"x\":[\"Yonkers mid-channel\"],\"y\":[6.217519926639225]}},\"id\":\"c79010a4-759a-4ab0-9d7d-fdef137591ed\",\"type\":\"ColumnDataSource\"},{\"attributes\":{\"data_source\":{\"id\":\"63c9a991-0579-4487-a82a-b26aa00ad42b\",\"type\":\"ColumnDataSource\"},\"glyph\":{\"id\":\"26078a79-4bb9-4c3c-9ece-ac99316ba1e4\",\"type\":\"Rect\"},\"hover_glyph\":null,\"nonselection_glyph\":null,\"selection_glyph\":null},\"id\":\"02f2e57e-18d0-4058-b467-05a53c697703\",\"type\":\"GlyphRenderer\"},{\"attributes\":{\"formatter\":{\"id\":\"94653715-95cc-4831-b25f-cf2c9f4373e3\",\"type\":\"CategoricalTickFormatter\"},\"major_label_orientation\":0.7853981633974483,\"plot\":{\"id\":\"41f528cc-a36a-4bef-bc1a-3befed0cf8ac\",\"subtype\":\"Chart\",\"type\":\"Plot\"},\"ticker\":{\"id\":\"18ea8204-57f4-4a1a-90a9-71da13b3a465\",\"type\":\"CategoricalTicker\"}},\"id\":\"5dea5199-87ba-488c-9567-4f136865aad5\",\"type\":\"CategoricalAxis\"},{\"attributes\":{\"fill_alpha\":{\"field\":\"fill_alpha\"},\"fill_color\":{\"field\":\"color\"},\"height\":{\"field\":\"height\",\"units\":\"data\"},\"line_color\":{\"field\":\"line_color\"},\"width\":{\"field\":\"width\",\"units\":\"data\"},\"x\":{\"field\":\"x\"},\"y\":{\"field\":\"y\"}},\"id\":\"0789fada-4545-4420-9397-df33d2868486\",\"type\":\"Rect\"},{\"attributes\":{\"callback\":null,\"column_names\":[\"line_alpha\",\"line_color\",\"label\",\"x\",\"width\",\"height\",\"fill_alpha\",\"color\",\"y\"],\"data\":{\"Site\":[\"Wappingers Creek\"],\"chart_index\":[{\"Site\":\"Wappingers Creek\"}],\"color\":[\"lightblue\"],\"fill_alpha\":[0.8],\"height\":[10.284373518318969],\"label\":[{\"Site\":\"Wappingers Creek\"}],\"line_alpha\":[1.0],\"line_color\":[\"white\"],\"width\":[0.8],\"x\":[\"Wappingers Creek\"],\"y\":[5.142186759159484]}},\"id\":\"5da6aec9-362b-408b-ba7f-7d91dc6fc4f8\",\"type\":\"ColumnDataSource\"},{\"attributes\":{\"data_source\":{\"id\":\"1232132e-b7b3-41c1-b117-a1fd8047cbbf\",\"type\":\"ColumnDataSource\"},\"glyph\":{\"id\":\"06fff72c-7d16-476e-b731-5a9ea586d42c\",\"type\":\"Rect\"},\"hover_glyph\":null,\"nonselection_glyph\":null,\"selection_glyph\":null},\"id\":\"b0baf3a2-83ef-4a5a-b713-1ce8c0c24d45\",\"type\":\"GlyphRenderer\"},{\"attributes\":{\"callback\":null,\"column_names\":[\"line_alpha\",\"line_color\",\"label\",\"x\",\"width\",\"height\",\"fill_alpha\",\"color\",\"y\"],\"data\":{\"Site\":[\"Norrie Point mid-channel\"],\"chart_index\":[{\"Site\":\"Norrie Point mid-channel\"}],\"color\":[\"lightblue\"],\"fill_alpha\":[0.8],\"height\":[3.9096238092480653],\"label\":[{\"Site\":\"Norrie Point mid-channel\"}],\"line_alpha\":[1.0],\"line_color\":[\"white\"],\"width\":[0.8],\"x\":[\"Norrie Point mid-channel\"],\"y\":[1.9548119046240326]}},\"id\":\"c6e49042-bbbc-40d0-98b2-1d52fe6789b9\",\"type\":\"ColumnDataSource\"},{\"attributes\":{},\"id\":\"a97b1ea2-1179-4766-9df3-5b5794ff98a7\",\"type\":\"BasicTickFormatter\"},{\"attributes\":{},\"id\":\"18ea8204-57f4-4a1a-90a9-71da13b3a465\",\"type\":\"CategoricalTicker\"},{\"attributes\":{},\"id\":\"94653715-95cc-4831-b25f-cf2c9f4373e3\",\"type\":\"CategoricalTickFormatter\"},{\"attributes\":{\"fill_alpha\":{\"field\":\"fill_alpha\"},\"fill_color\":{\"field\":\"color\"},\"height\":{\"field\":\"height\",\"units\":\"data\"},\"line_color\":{\"field\":\"line_color\"},\"width\":{\"field\":\"width\",\"units\":\"data\"},\"x\":{\"field\":\"x\"},\"y\":{\"field\":\"y\"}},\"id\":\"4d5973df-d589-4562-84b2-070913fd8b50\",\"type\":\"Rect\"},{\"attributes\":{\"callback\":null,\"factors\":[\"Catskill Creek- First Bridge\",\"Cold Spring Harbor\",\"Croton Point Beach\",\"Fort Montgomery\",\"Haverstraw Bay mid-channel\",\"Inbocht Bay\",\"Kingston Point Beach\",\"Little Stony Point\",\"Marlboro Landing\",\"Norrie Point mid-channel\",\"Port Ewen Drinking Water Intake\",\"Poughkeepsie Drinking Water Intake\",\"Poughkeepsie Launch Ramp\",\"Stony Point mid-channel\",\"TZ Bridge mid-channel\",\"Tivoli Landing\",\"Ulster Landing Beach\",\"Wappingers Creek\",\"West Point STP Outfall\",\"Yonkers mid-channel\"]},\"id\":\"2a51dbc2-e13f-4a81-8b50-3ceb4725aeb8\",\"type\":\"FactorRange\"},{\"attributes\":{\"callback\":null,\"column_names\":[\"line_alpha\",\"line_color\",\"label\",\"x\",\"width\",\"height\",\"fill_alpha\",\"color\",\"y\"],\"data\":{\"Site\":[\"Haverstraw Bay mid-channel\"],\"chart_index\":[{\"Site\":\"Haverstraw Bay mid-channel\"}],\"color\":[\"lightblue\"],\"fill_alpha\":[0.8],\"height\":[12.348648987125985],\"label\":[{\"Site\":\"Haverstraw Bay mid-channel\"}],\"line_alpha\":[1.0],\"line_color\":[\"white\"],\"width\":[0.8],\"x\":[\"Haverstraw Bay mid-channel\"],\"y\":[6.174324493562993]}},\"id\":\"f99db7de-3ede-4727-8d45-5199f11fac87\",\"type\":\"ColumnDataSource\"},{\"attributes\":{\"overlay\":{\"id\":\"4731081d-9eaa-482a-94a1-c7904cfa153f\",\"type\":\"BoxAnnotation\"},\"plot\":{\"id\":\"41f528cc-a36a-4bef-bc1a-3befed0cf8ac\",\"subtype\":\"Chart\",\"type\":\"Plot\"}},\"id\":\"ac120b89-00a6-4b7d-9594-0a7a58886208\",\"type\":\"BoxZoomTool\"},{\"attributes\":{\"data_source\":{\"id\":\"f36affe2-95b2-4592-a808-ce0e6d8f42a1\",\"type\":\"ColumnDataSource\"},\"glyph\":{\"id\":\"0789fada-4545-4420-9397-df33d2868486\",\"type\":\"Rect\"},\"hover_glyph\":null,\"nonselection_glyph\":null,\"selection_glyph\":null},\"id\":\"a71e9e16-9abf-4d72-802e-8819a5897c9d\",\"type\":\"GlyphRenderer\"},{\"attributes\":{\"active_drag\":\"auto\",\"active_scroll\":\"auto\",\"active_tap\":\"auto\",\"tools\":[{\"id\":\"18fb36d1-bb1f-405e-adf8-ad0cb9016095\",\"type\":\"PanTool\"},{\"id\":\"e732862f-f103-4b47-ac37-dcd524f601a1\",\"type\":\"WheelZoomTool\"},{\"id\":\"ac120b89-00a6-4b7d-9594-0a7a58886208\",\"type\":\"BoxZoomTool\"},{\"id\":\"94fb3eba-91b2-4a1d-81d5-7bb567ec92f2\",\"type\":\"SaveTool\"},{\"id\":\"f5b0a49d-76ae-4447-9bcc-a3aa7860bb37\",\"type\":\"ResetTool\"},{\"id\":\"71e62d97-4371-43a5-9160-1db415efd5ee\",\"type\":\"HelpTool\"}]},\"id\":\"c4a65790-0c96-4097-a7e2-b96fb0728226\",\"type\":\"Toolbar\"},{\"attributes\":{\"plot\":{\"id\":\"41f528cc-a36a-4bef-bc1a-3befed0cf8ac\",\"subtype\":\"Chart\",\"type\":\"Plot\"}},\"id\":\"e732862f-f103-4b47-ac37-dcd524f601a1\",\"type\":\"WheelZoomTool\"},{\"attributes\":{\"plot\":null,\"text\":\"Best 20 Enterococcus readings by Site\"},\"id\":\"7cac68ff-7760-441f-be01-a52b262c1512\",\"type\":\"Title\"},{\"attributes\":{\"fill_alpha\":{\"field\":\"fill_alpha\"},\"fill_color\":{\"field\":\"color\"},\"height\":{\"field\":\"height\",\"units\":\"data\"},\"line_color\":{\"field\":\"line_color\"},\"width\":{\"field\":\"width\",\"units\":\"data\"},\"x\":{\"field\":\"x\"},\"y\":{\"field\":\"y\"}},\"id\":\"95772d64-d3b0-4e22-90c9-586f8b2edcf6\",\"type\":\"Rect\"}],\"root_ids\":[\"41f528cc-a36a-4bef-bc1a-3befed0cf8ac\"]},\"title\":\"Bokeh Application\",\"version\":\"0.12.4\"}};\n",
       "            var render_items = [{\"docid\":\"c2a16a8e-745a-4bba-bf82-db4376b21578\",\"elementid\":\"11204ab3-462c-4dca-8ec3-9363f7e7b00a\",\"modelid\":\"41f528cc-a36a-4bef-bc1a-3befed0cf8ac\",\"notebook_comms_target\":\"3d28e559-07d5-4132-9aa2-604cc7f83fee\"}];\n",
       "            \n",
       "            Bokeh.embed.embed_items(docs_json, render_items);\n",
       "          };\n",
       "          if (document.readyState != \"loading\") fn();\n",
       "          else document.addEventListener(\"DOMContentLoaded\", fn);\n",
       "        })();\n",
       "      },\n",
       "      function(Bokeh) {\n",
       "      }\n",
       "    ];\n",
       "  \n",
       "    function run_inline_js() {\n",
       "      \n",
       "      if ((window.Bokeh !== undefined) || (force === true)) {\n",
       "        for (var i = 0; i < inline_js.length; i++) {\n",
       "          inline_js[i](window.Bokeh);\n",
       "        }if (force === true) {\n",
       "          display_loaded();\n",
       "        }} else if (Date.now() < window._bokeh_timeout) {\n",
       "        setTimeout(run_inline_js, 100);\n",
       "      } else if (!window._bokeh_failed_load) {\n",
       "        console.log(\"Bokeh: BokehJS failed to load within specified timeout.\");\n",
       "        window._bokeh_failed_load = true;\n",
       "      } else if (force !== true) {\n",
       "        var cell = $(document.getElementById(\"11204ab3-462c-4dca-8ec3-9363f7e7b00a\")).parents('.cell').data().cell;\n",
       "        cell.output_area.append_execute_result(NB_LOAD_WARNING)\n",
       "      }\n",
       "  \n",
       "    }\n",
       "  \n",
       "    if (window._bokeh_is_loading === 0) {\n",
       "      console.log(\"Bokeh: BokehJS loaded, going straight to plotting\");\n",
       "      run_inline_js();\n",
       "    } else {\n",
       "      load_libs(js_urls, function() {\n",
       "        console.log(\"Bokeh: BokehJS plotting callback run at\", now());\n",
       "        run_inline_js();\n",
       "      });\n",
       "    }\n",
       "  }(this));\n",
       "</script>"
      ]
     },
     "metadata": {},
     "output_type": "display_data"
    },
    {
     "data": {
      "text/html": [
       "<p><code>&lt;Bokeh Notebook handle for <strong>In[21]</strong>&gt;</code></p>"
      ],
      "text/plain": [
       "<bokeh.io._CommsHandle at 0x11a2bea90>"
      ]
     },
     "execution_count": 21,
     "metadata": {},
     "output_type": "execute_result"
    }
   ],
   "source": [
    "p = Bar(best, 'Site', values='EnteroCount', \n",
    "            title=\"Best 20 Enterococcus readings by Site\",\n",
    "            color=\"lightblue\", legend=False, xlabel=\"\")\n",
    "\n",
    "show(p, notebook_handle=True)"
   ]
  },
  {
   "cell_type": "markdown",
   "metadata": {},
   "source": [
    "### Distribution of Enterococcus Readings\n",
    "Bokeh would not let me make a simple bar chart that of all the readings that wasn't a mess. So here is a histogram showing the left skew in the data. Most of the readings are below the 30 per 100Ml level."
   ]
  },
  {
   "cell_type": "code",
   "execution_count": 22,
   "metadata": {
    "collapsed": false,
    "scrolled": true
   },
   "outputs": [
    {
     "data": {
      "text/html": [
       "\n",
       "\n",
       "    <div class=\"bk-root\">\n",
       "        <div class=\"bk-plotdiv\" id=\"dc04db62-b6e5-45cc-a96d-443553a0390a\"></div>\n",
       "    </div>\n",
       "<script type=\"text/javascript\">\n",
       "  \n",
       "  (function(global) {\n",
       "    function now() {\n",
       "      return new Date();\n",
       "    }\n",
       "  \n",
       "    var force = false;\n",
       "  \n",
       "    if (typeof (window._bokeh_onload_callbacks) === \"undefined\" || force === true) {\n",
       "      window._bokeh_onload_callbacks = [];\n",
       "      window._bokeh_is_loading = undefined;\n",
       "    }\n",
       "  \n",
       "  \n",
       "    \n",
       "    if (typeof (window._bokeh_timeout) === \"undefined\" || force === true) {\n",
       "      window._bokeh_timeout = Date.now() + 0;\n",
       "      window._bokeh_failed_load = false;\n",
       "    }\n",
       "  \n",
       "    var NB_LOAD_WARNING = {'data': {'text/html':\n",
       "       \"<div style='background-color: #fdd'>\\n\"+\n",
       "       \"<p>\\n\"+\n",
       "       \"BokehJS does not appear to have successfully loaded. If loading BokehJS from CDN, this \\n\"+\n",
       "       \"may be due to a slow or bad network connection. Possible fixes:\\n\"+\n",
       "       \"</p>\\n\"+\n",
       "       \"<ul>\\n\"+\n",
       "       \"<li>re-rerun `output_notebook()` to attempt to load from CDN again, or</li>\\n\"+\n",
       "       \"<li>use INLINE resources instead, as so:</li>\\n\"+\n",
       "       \"</ul>\\n\"+\n",
       "       \"<code>\\n\"+\n",
       "       \"from bokeh.resources import INLINE\\n\"+\n",
       "       \"output_notebook(resources=INLINE)\\n\"+\n",
       "       \"</code>\\n\"+\n",
       "       \"</div>\"}};\n",
       "  \n",
       "    function display_loaded() {\n",
       "      if (window.Bokeh !== undefined) {\n",
       "        document.getElementById(\"dc04db62-b6e5-45cc-a96d-443553a0390a\").textContent = \"BokehJS successfully loaded.\";\n",
       "      } else if (Date.now() < window._bokeh_timeout) {\n",
       "        setTimeout(display_loaded, 100)\n",
       "      }\n",
       "    }if ((window.Jupyter !== undefined) && Jupyter.notebook.kernel) {\n",
       "      comm_manager = Jupyter.notebook.kernel.comm_manager\n",
       "      comm_manager.register_target(\"227aa889-b7dd-4d61-ad76-2e7429c51e0a\", function () {});\n",
       "    }\n",
       "  \n",
       "    function run_callbacks() {\n",
       "      window._bokeh_onload_callbacks.forEach(function(callback) { callback() });\n",
       "      delete window._bokeh_onload_callbacks\n",
       "      console.info(\"Bokeh: all callbacks have finished\");\n",
       "    }\n",
       "  \n",
       "    function load_libs(js_urls, callback) {\n",
       "      window._bokeh_onload_callbacks.push(callback);\n",
       "      if (window._bokeh_is_loading > 0) {\n",
       "        console.log(\"Bokeh: BokehJS is being loaded, scheduling callback at\", now());\n",
       "        return null;\n",
       "      }\n",
       "      if (js_urls == null || js_urls.length === 0) {\n",
       "        run_callbacks();\n",
       "        return null;\n",
       "      }\n",
       "      console.log(\"Bokeh: BokehJS not loaded, scheduling load and callback at\", now());\n",
       "      window._bokeh_is_loading = js_urls.length;\n",
       "      for (var i = 0; i < js_urls.length; i++) {\n",
       "        var url = js_urls[i];\n",
       "        var s = document.createElement('script');\n",
       "        s.src = url;\n",
       "        s.async = false;\n",
       "        s.onreadystatechange = s.onload = function() {\n",
       "          window._bokeh_is_loading--;\n",
       "          if (window._bokeh_is_loading === 0) {\n",
       "            console.log(\"Bokeh: all BokehJS libraries loaded\");\n",
       "            run_callbacks()\n",
       "          }\n",
       "        };\n",
       "        s.onerror = function() {\n",
       "          console.warn(\"failed to load library \" + url);\n",
       "        };\n",
       "        console.log(\"Bokeh: injecting script tag for BokehJS library: \", url);\n",
       "        document.getElementsByTagName(\"head\")[0].appendChild(s);\n",
       "      }\n",
       "    };var element = document.getElementById(\"dc04db62-b6e5-45cc-a96d-443553a0390a\");\n",
       "    if (element == null) {\n",
       "      console.log(\"Bokeh: ERROR: autoload.js configured with elementid 'dc04db62-b6e5-45cc-a96d-443553a0390a' but no matching script tag was found. \")\n",
       "      return false;\n",
       "    }\n",
       "  \n",
       "    var js_urls = [];\n",
       "  \n",
       "    var inline_js = [\n",
       "      function(Bokeh) {\n",
       "        (function() {\n",
       "          var fn = function() {\n",
       "            var docs_json = {\"eb821b0b-a921-45bb-a6c8-d305187c86ff\":{\"roots\":{\"references\":[{\"attributes\":{\"fill_alpha\":{\"field\":\"fill_alpha\"},\"fill_color\":{\"field\":\"color\"},\"height\":{\"field\":\"height\",\"units\":\"data\"},\"line_color\":{\"field\":\"line_color\"},\"width\":{\"field\":\"width\",\"units\":\"data\"},\"x\":{\"field\":\"x\"},\"y\":{\"field\":\"y\"}},\"id\":\"9ab8fd7e-14fb-4b2b-8fe6-880c7d486fda\",\"type\":\"Rect\"},{\"attributes\":{\"plot\":{\"id\":\"6a7afe79-9efc-40fd-a956-f7e16d313871\",\"subtype\":\"Chart\",\"type\":\"Plot\"}},\"id\":\"098999b4-6e2a-4941-af68-775d53aa3e3e\",\"type\":\"HelpTool\"},{\"attributes\":{\"data_source\":{\"id\":\"71a2769e-2f87-4b9b-8c74-7e77e807cd46\",\"type\":\"ColumnDataSource\"},\"glyph\":{\"id\":\"5a6e2301-c6c3-4b27-88a4-6430c83a1ac1\",\"type\":\"Rect\"},\"hover_glyph\":null,\"nonselection_glyph\":null,\"selection_glyph\":null},\"id\":\"6d313183-3ac9-4a56-b9f5-67a0264919d8\",\"type\":\"GlyphRenderer\"},{\"attributes\":{\"fill_alpha\":{\"field\":\"fill_alpha\"},\"fill_color\":{\"field\":\"color\"},\"height\":{\"field\":\"height\",\"units\":\"data\"},\"line_color\":{\"field\":\"line_color\"},\"width\":{\"field\":\"width\",\"units\":\"data\"},\"x\":{\"field\":\"x\"},\"y\":{\"field\":\"y\"}},\"id\":\"871af0e4-6a96-4ed3-b79d-231d4750c202\",\"type\":\"Rect\"},{\"attributes\":{\"callback\":null,\"column_names\":[\"line_alpha\",\"line_color\",\"label\",\"x\",\"width\",\"height\",\"fill_alpha\",\"color\",\"y\"],\"data\":{\"chart_index\":[\"(363.953523, 367.825369]\"],\"color\":[\"#f22c40\"],\"fill_alpha\":[0.8],\"height\":[0.0],\"label\":[\"(363.953523, 367.825369]\"],\"line_alpha\":[1.0],\"line_color\":[\"black\"],\"width\":[3.8718459931448024],\"x\":[\"365.889446\"],\"y\":[0.0]}},\"id\":\"ccd4352b-4501-4b19-9588-0ac545d55091\",\"type\":\"ColumnDataSource\"},{\"attributes\":{\"callback\":null,\"column_names\":[\"line_alpha\",\"line_color\",\"label\",\"x\",\"width\",\"height\",\"fill_alpha\",\"color\",\"y\"],\"data\":{\"chart_index\":[\"(240.054452, 243.926298]\"],\"color\":[\"#f22c40\"],\"fill_alpha\":[0.8],\"height\":[0.0],\"label\":[\"(240.054452, 243.926298]\"],\"line_alpha\":[1.0],\"line_color\":[\"black\"],\"width\":[3.871845993144774],\"x\":[\"241.990375\"],\"y\":[0.0]}},\"id\":\"066922b7-a189-415e-9034-37e69177acdc\",\"type\":\"ColumnDataSource\"},{\"attributes\":{\"fill_alpha\":{\"field\":\"fill_alpha\"},\"fill_color\":{\"field\":\"color\"},\"height\":{\"field\":\"height\",\"units\":\"data\"},\"line_color\":{\"field\":\"line_color\"},\"width\":{\"field\":\"width\",\"units\":\"data\"},\"x\":{\"field\":\"x\"},\"y\":{\"field\":\"y\"}},\"id\":\"12820030-aab0-4b81-9417-405f34231406\",\"type\":\"Rect\"},{\"attributes\":{\"data_source\":{\"id\":\"76254537-1cb3-4f0c-98a6-fca6d0e657a7\",\"type\":\"ColumnDataSource\"},\"glyph\":{\"id\":\"a6b3b1cc-2c4d-4d4c-9da8-e16cbe009589\",\"type\":\"Rect\"},\"hover_glyph\":null,\"nonselection_glyph\":null,\"selection_glyph\":null},\"id\":\"a3495165-2865-4afc-ad98-2f3c8f647a52\",\"type\":\"GlyphRenderer\"},{\"attributes\":{\"fill_alpha\":{\"field\":\"fill_alpha\"},\"fill_color\":{\"field\":\"color\"},\"height\":{\"field\":\"height\",\"units\":\"data\"},\"line_color\":{\"field\":\"line_color\"},\"width\":{\"field\":\"width\",\"units\":\"data\"},\"x\":{\"field\":\"x\"},\"y\":{\"field\":\"y\"}},\"id\":\"62ac0e18-1999-43cf-9a16-ac46c3b9a3c3\",\"type\":\"Rect\"},{\"attributes\":{\"data_source\":{\"id\":\"19823278-4fa8-4844-a420-4feba326645b\",\"type\":\"ColumnDataSource\"},\"glyph\":{\"id\":\"5faf80f1-65b0-4fc5-b21b-0d725c4eb804\",\"type\":\"Rect\"},\"hover_glyph\":null,\"nonselection_glyph\":null,\"selection_glyph\":null},\"id\":\"41806ddd-b101-4574-a88f-9997e85ed9ea\",\"type\":\"GlyphRenderer\"},{\"attributes\":{\"callback\":null,\"column_names\":[\"line_alpha\",\"line_color\",\"label\",\"x\",\"width\",\"height\",\"fill_alpha\",\"color\",\"y\"],\"data\":{\"chart_index\":[\"(201.335992, 205.207838]\"],\"color\":[\"#f22c40\"],\"fill_alpha\":[0.8],\"height\":[0.0],\"label\":[\"(201.335992, 205.207838]\"],\"line_alpha\":[1.0],\"line_color\":[\"black\"],\"width\":[3.871845993144774],\"x\":[\"203.271915\"],\"y\":[0.0]}},\"id\":\"60d89bbc-2e1f-438a-b8f6-1e2aacdb9588\",\"type\":\"ColumnDataSource\"},{\"attributes\":{\"fill_alpha\":{\"field\":\"fill_alpha\"},\"fill_color\":{\"field\":\"color\"},\"height\":{\"field\":\"height\",\"units\":\"data\"},\"line_color\":{\"field\":\"line_color\"},\"width\":{\"field\":\"width\",\"units\":\"data\"},\"x\":{\"field\":\"x\"},\"y\":{\"field\":\"y\"}},\"id\":\"3a85ce0f-97d4-4620-a195-580feeaebadd\",\"type\":\"Rect\"},{\"attributes\":{\"data_source\":{\"id\":\"bbac10e3-0fd4-41d4-b695-e5e77b400f81\",\"type\":\"ColumnDataSource\"},\"glyph\":{\"id\":\"8052aa06-64ce-4454-96e3-cbf82e5afdb4\",\"type\":\"Rect\"},\"hover_glyph\":null,\"nonselection_glyph\":null,\"selection_glyph\":null},\"id\":\"a054738a-cc38-472c-8f36-f2c3bb5f17c9\",\"type\":\"GlyphRenderer\"},{\"attributes\":{\"callback\":null,\"column_names\":[\"line_alpha\",\"line_color\",\"label\",\"x\",\"width\",\"height\",\"fill_alpha\",\"color\",\"y\"],\"data\":{\"chart_index\":[\"(30.974768, 34.846614]\"],\"color\":[\"#f22c40\"],\"fill_alpha\":[0.8],\"height\":[1.0],\"label\":[\"(30.974768, 34.846614]\"],\"line_alpha\":[1.0],\"line_color\":[\"black\"],\"width\":[3.8718459931447704],\"x\":[\"32.910691\"],\"y\":[0.5]}},\"id\":\"7c47ecf0-b8b2-49ce-9f13-753fe0d4a7a1\",\"type\":\"ColumnDataSource\"},{\"attributes\":{\"data_source\":{\"id\":\"26ec74ca-3650-415a-a868-c46dea8bb6b4\",\"type\":\"ColumnDataSource\"},\"glyph\":{\"id\":\"e80e4a76-1d3c-4d78-a1ed-29cd6e1dd9b4\",\"type\":\"Rect\"},\"hover_glyph\":null,\"nonselection_glyph\":null,\"selection_glyph\":null},\"id\":\"c4f3afb3-c5e3-49e9-a245-78fe319cf382\",\"type\":\"GlyphRenderer\"},{\"attributes\":{\"data_source\":{\"id\":\"e5f1aa2c-dbc7-4d39-a734-0c6dc4305d9d\",\"type\":\"ColumnDataSource\"},\"glyph\":{\"id\":\"73d0c311-426d-44a4-a22a-436ef76c63cd\",\"type\":\"Rect\"},\"hover_glyph\":null,\"nonselection_glyph\":null,\"selection_glyph\":null},\"id\":\"e0d7075e-1dd6-4cd7-938d-89b878d4a75b\",\"type\":\"GlyphRenderer\"},{\"attributes\":{\"fill_alpha\":{\"field\":\"fill_alpha\"},\"fill_color\":{\"field\":\"color\"},\"height\":{\"field\":\"height\",\"units\":\"data\"},\"line_color\":{\"field\":\"line_color\"},\"width\":{\"field\":\"width\",\"units\":\"data\"},\"x\":{\"field\":\"x\"},\"y\":{\"field\":\"y\"}},\"id\":\"d8ab7b33-72a3-4b11-ba61-79fd512b69b2\",\"type\":\"Rect\"},{\"attributes\":{\"fill_alpha\":{\"field\":\"fill_alpha\"},\"fill_color\":{\"field\":\"color\"},\"height\":{\"field\":\"height\",\"units\":\"data\"},\"line_color\":{\"field\":\"line_color\"},\"width\":{\"field\":\"width\",\"units\":\"data\"},\"x\":{\"field\":\"x\"},\"y\":{\"field\":\"y\"}},\"id\":\"73d0c311-426d-44a4-a22a-436ef76c63cd\",\"type\":\"Rect\"},{\"attributes\":{\"callback\":null,\"column_names\":[\"line_alpha\",\"line_color\",\"label\",\"x\",\"width\",\"height\",\"fill_alpha\",\"color\",\"y\"],\"data\":{\"chart_index\":[\"(313.619525, 317.491371]\"],\"color\":[\"#f22c40\"],\"fill_alpha\":[0.8],\"height\":[0.0],\"label\":[\"(313.619525, 317.491371]\"],\"line_alpha\":[1.0],\"line_color\":[\"black\"],\"width\":[3.8718459931448024],\"x\":[\"315.555448\"],\"y\":[0.0]}},\"id\":\"c394c92d-9911-483b-b93c-17e859ed6874\",\"type\":\"ColumnDataSource\"},{\"attributes\":{\"fill_alpha\":{\"field\":\"fill_alpha\"},\"fill_color\":{\"field\":\"color\"},\"height\":{\"field\":\"height\",\"units\":\"data\"},\"line_color\":{\"field\":\"line_color\"},\"width\":{\"field\":\"width\",\"units\":\"data\"},\"x\":{\"field\":\"x\"},\"y\":{\"field\":\"y\"}},\"id\":\"1f7a0da3-2c4c-441a-ba3d-7421870cdb15\",\"type\":\"Rect\"},{\"attributes\":{\"callback\":null,\"column_names\":[\"line_alpha\",\"line_color\",\"label\",\"x\",\"width\",\"height\",\"fill_alpha\",\"color\",\"y\"],\"data\":{\"chart_index\":[\"(309.747679, 313.619525]\"],\"color\":[\"#f22c40\"],\"fill_alpha\":[0.8],\"height\":[0.0],\"label\":[\"(309.747679, 313.619525]\"],\"line_alpha\":[1.0],\"line_color\":[\"black\"],\"width\":[3.8718459931447455],\"x\":[\"311.683602\"],\"y\":[0.0]}},\"id\":\"93b0b1a4-67c8-40c2-8bab-8993f2f5d745\",\"type\":\"ColumnDataSource\"},{\"attributes\":{\"below\":[{\"id\":\"8813bbb9-2b91-423b-ac10-779de9da6168\",\"type\":\"LinearAxis\"}],\"css_classes\":null,\"left\":[{\"id\":\"1dd97520-c115-43da-b867-a4912e611eba\",\"type\":\"LinearAxis\"}],\"renderers\":[{\"id\":\"edd589d6-a77f-4e49-b43d-37b5b7a45dbc\",\"type\":\"BoxAnnotation\"},{\"id\":\"292b96b0-a459-484f-8d89-8b265cbfab28\",\"type\":\"GlyphRenderer\"},{\"id\":\"4e389cd5-eb30-4bbf-be75-155b2da6cefc\",\"type\":\"GlyphRenderer\"},{\"id\":\"86a2c4b3-02d6-4e67-a0ec-45ed4c5f5d7b\",\"type\":\"GlyphRenderer\"},{\"id\":\"305f08cf-50b0-464f-8920-e3dad1d70f1c\",\"type\":\"GlyphRenderer\"},{\"id\":\"3576215e-e7dc-44f0-a6fc-05e508af0b81\",\"type\":\"GlyphRenderer\"},{\"id\":\"15405145-3b89-48ff-8f3a-32071853c270\",\"type\":\"GlyphRenderer\"},{\"id\":\"64bb4664-f243-445c-9dee-848597fad829\",\"type\":\"GlyphRenderer\"},{\"id\":\"57c7e7e4-29e7-4af0-9a2a-22ef1426f034\",\"type\":\"GlyphRenderer\"},{\"id\":\"f17f678c-ddb1-408d-aef1-a7fc10411daf\",\"type\":\"GlyphRenderer\"},{\"id\":\"ce84f378-1c51-49a0-a0fb-23be8ef73a09\",\"type\":\"GlyphRenderer\"},{\"id\":\"7d715fd6-7420-4e1b-9fc2-b44896f7d8d8\",\"type\":\"GlyphRenderer\"},{\"id\":\"0194812f-19d8-4492-93d8-0289af5068bf\",\"type\":\"GlyphRenderer\"},{\"id\":\"bb7d39e1-ec01-4595-a968-9cc1947d7bba\",\"type\":\"GlyphRenderer\"},{\"id\":\"0c4b9e37-6133-43d0-840f-a7a86f8228e8\",\"type\":\"GlyphRenderer\"},{\"id\":\"4136e7df-41f7-484f-aed2-173d57192c4a\",\"type\":\"GlyphRenderer\"},{\"id\":\"cd6d4110-5467-4d4f-b9c6-2dccdeb2255a\",\"type\":\"GlyphRenderer\"},{\"id\":\"28418cff-3377-4979-b12b-f2a0b013db76\",\"type\":\"GlyphRenderer\"},{\"id\":\"6a154799-7dfa-4e6c-9dcb-cf8ff726b4fe\",\"type\":\"GlyphRenderer\"},{\"id\":\"8252e091-3693-4871-8d43-0107b03c2dd3\",\"type\":\"GlyphRenderer\"},{\"id\":\"c4f3afb3-c5e3-49e9-a245-78fe319cf382\",\"type\":\"GlyphRenderer\"},{\"id\":\"2b89ab53-0c6d-4aca-925e-9a416a54335c\",\"type\":\"GlyphRenderer\"},{\"id\":\"a9e71755-33b0-4bce-b169-525bd54ba3a2\",\"type\":\"GlyphRenderer\"},{\"id\":\"8b348be5-dd1b-4461-8171-78fa43febeae\",\"type\":\"GlyphRenderer\"},{\"id\":\"5a9782fb-1d2f-4253-8406-ce8adc165f11\",\"type\":\"GlyphRenderer\"},{\"id\":\"f8bb9c7f-f30b-4be2-8e58-fddcaf9fdfa9\",\"type\":\"GlyphRenderer\"},{\"id\":\"3505c43f-ccf3-40a4-9986-c2aa03892949\",\"type\":\"GlyphRenderer\"},{\"id\":\"41806ddd-b101-4574-a88f-9997e85ed9ea\",\"type\":\"GlyphRenderer\"},{\"id\":\"17f145cb-41ab-4227-b253-d9268cc72d66\",\"type\":\"GlyphRenderer\"},{\"id\":\"e0d7075e-1dd6-4cd7-938d-89b878d4a75b\",\"type\":\"GlyphRenderer\"},{\"id\":\"6e89e973-d926-4eda-a538-89e2c104929d\",\"type\":\"GlyphRenderer\"},{\"id\":\"a3495165-2865-4afc-ad98-2f3c8f647a52\",\"type\":\"GlyphRenderer\"},{\"id\":\"2b7d18d9-b1d4-48be-9064-da892e8ccb49\",\"type\":\"GlyphRenderer\"},{\"id\":\"7270a692-a077-4cd7-a39d-ff37241d20a7\",\"type\":\"GlyphRenderer\"},{\"id\":\"5ec03506-6ec0-4023-a665-3f931e4ab2da\",\"type\":\"GlyphRenderer\"},{\"id\":\"7490ae77-bef5-462f-80c2-c616d46ce86a\",\"type\":\"GlyphRenderer\"},{\"id\":\"fa1142f6-4998-4e94-88b7-620548497f06\",\"type\":\"GlyphRenderer\"},{\"id\":\"a054738a-cc38-472c-8f36-f2c3bb5f17c9\",\"type\":\"GlyphRenderer\"},{\"id\":\"609e0ccc-f7a1-4b41-a50e-3d9335f685e9\",\"type\":\"GlyphRenderer\"},{\"id\":\"fa7e6041-5e52-4fb7-8ddb-2705b7102ce4\",\"type\":\"GlyphRenderer\"},{\"id\":\"8a3be83a-ee79-445b-aa40-afdf4a5b495a\",\"type\":\"GlyphRenderer\"},{\"id\":\"097a862c-57c5-446d-80b1-013f97b6411a\",\"type\":\"GlyphRenderer\"},{\"id\":\"d26baeb7-eacf-4a4a-8b2a-a0c083da419c\",\"type\":\"GlyphRenderer\"},{\"id\":\"7e59c75c-bbd8-493f-a248-b625410a333b\",\"type\":\"GlyphRenderer\"},{\"id\":\"840ea1e6-4580-4c0b-b873-562996a5ded8\",\"type\":\"GlyphRenderer\"},{\"id\":\"39c347c6-1f67-4f68-98c9-6a54587a6877\",\"type\":\"GlyphRenderer\"},{\"id\":\"ecb7fb69-46cb-4436-a825-578af4768fde\",\"type\":\"GlyphRenderer\"},{\"id\":\"bff66920-f416-47d0-9903-755a265f881d\",\"type\":\"GlyphRenderer\"},{\"id\":\"121ae466-a5d3-44d1-a270-e13d824662cb\",\"type\":\"GlyphRenderer\"},{\"id\":\"fd7351c5-4712-4306-bcae-cc76ce77e836\",\"type\":\"GlyphRenderer\"},{\"id\":\"6355cf78-5ffa-4ee3-a273-c22fa5bfd735\",\"type\":\"GlyphRenderer\"},{\"id\":\"4fed924a-eaec-4961-bc33-3e43643adb43\",\"type\":\"GlyphRenderer\"},{\"id\":\"72e42f81-c892-46cc-95ad-b60a09dcc453\",\"type\":\"GlyphRenderer\"},{\"id\":\"e342ba5a-758e-463f-8d54-69a124661daf\",\"type\":\"GlyphRenderer\"},{\"id\":\"2da26e68-9885-489e-b532-07cf45a05f4c\",\"type\":\"GlyphRenderer\"},{\"id\":\"f99772c2-2641-4b0a-a5f2-11a535f29b0e\",\"type\":\"GlyphRenderer\"},{\"id\":\"c265bb9c-7e39-4dea-b0a9-39196b83f876\",\"type\":\"GlyphRenderer\"},{\"id\":\"cc46609f-745c-4fb3-b711-8382fe7ad0b3\",\"type\":\"GlyphRenderer\"},{\"id\":\"187fb16f-f5b5-4fda-95e6-3a1564e35b6a\",\"type\":\"GlyphRenderer\"},{\"id\":\"39e14a88-47be-432d-85ba-c4d70b289ffc\",\"type\":\"GlyphRenderer\"},{\"id\":\"5a49ee80-6ba9-44a6-bf29-70b6967de7d9\",\"type\":\"GlyphRenderer\"},{\"id\":\"5302ac7b-422d-4a08-8bae-9538d92df5d5\",\"type\":\"GlyphRenderer\"},{\"id\":\"cd2e3778-fc8c-4b26-a5e4-b294b0ccf1aa\",\"type\":\"GlyphRenderer\"},{\"id\":\"86293535-b482-424e-bc3f-ad4c3ec87409\",\"type\":\"GlyphRenderer\"},{\"id\":\"e4a504de-3e1d-46fa-aaae-2290e07d939e\",\"type\":\"GlyphRenderer\"},{\"id\":\"635ab18c-5abe-4fb6-9aff-449c56cf39e4\",\"type\":\"GlyphRenderer\"},{\"id\":\"86db3efb-bd8f-4184-a9af-89892add0595\",\"type\":\"GlyphRenderer\"},{\"id\":\"f682d41b-3884-494f-93ac-160476ef2ff2\",\"type\":\"GlyphRenderer\"},{\"id\":\"f8a6d454-7be1-4b95-bb01-261e32fcc1fe\",\"type\":\"GlyphRenderer\"},{\"id\":\"69763022-addb-4acc-918c-2cd6551ecede\",\"type\":\"GlyphRenderer\"},{\"id\":\"1f161123-59db-4643-85a2-b7038c69233b\",\"type\":\"GlyphRenderer\"},{\"id\":\"2dcfecf8-3f1f-49bd-8493-f354439bf1ba\",\"type\":\"GlyphRenderer\"},{\"id\":\"cc32788b-1c3a-4e5c-8fc9-4b91373c92c4\",\"type\":\"GlyphRenderer\"},{\"id\":\"0d7c7dfc-2fd3-4cee-b3d4-cc3dfed98e98\",\"type\":\"GlyphRenderer\"},{\"id\":\"ed261df8-0786-4c7a-aebb-3761b795f024\",\"type\":\"GlyphRenderer\"},{\"id\":\"1fd88d60-aa7f-4eb5-b7fb-f418f75bfafb\",\"type\":\"GlyphRenderer\"},{\"id\":\"c3da7db0-45a6-49d8-8d86-68be9b4a5ffa\",\"type\":\"GlyphRenderer\"},{\"id\":\"b333aff8-fef2-4eed-8cc2-e132a9d2de0a\",\"type\":\"GlyphRenderer\"},{\"id\":\"3f50c181-6a94-4ce1-a8e1-4192d4086226\",\"type\":\"GlyphRenderer\"},{\"id\":\"b9b26fd5-daeb-4f48-89c8-238d7eeaccd1\",\"type\":\"GlyphRenderer\"},{\"id\":\"47facb1f-f415-4838-8846-44f10f5cdf81\",\"type\":\"GlyphRenderer\"},{\"id\":\"f027d610-cbe4-402a-bb49-599c85772ba0\",\"type\":\"GlyphRenderer\"},{\"id\":\"f23c1c3f-99e3-4a9c-b47c-14c185182e89\",\"type\":\"GlyphRenderer\"},{\"id\":\"f4405208-d7b5-405f-a34c-94d25e015389\",\"type\":\"GlyphRenderer\"},{\"id\":\"94be6f0b-400e-4210-841d-9acd19287f31\",\"type\":\"GlyphRenderer\"},{\"id\":\"a7cada44-138d-411d-81f5-6a26ac4db864\",\"type\":\"GlyphRenderer\"},{\"id\":\"b0235c87-b2dc-4103-a774-ee1e2cc424eb\",\"type\":\"GlyphRenderer\"},{\"id\":\"202f3255-bbd7-464f-ad4d-6735ba787784\",\"type\":\"GlyphRenderer\"},{\"id\":\"f9f1b149-5fd4-409e-bd48-2dcfd81149b9\",\"type\":\"GlyphRenderer\"},{\"id\":\"0262624a-5956-4061-81b1-4442fe50bed0\",\"type\":\"GlyphRenderer\"},{\"id\":\"1d43aa47-7515-489a-85a5-938983b0078f\",\"type\":\"GlyphRenderer\"},{\"id\":\"222ff0c2-00b2-41e3-9bdc-e463e1307ab0\",\"type\":\"GlyphRenderer\"},{\"id\":\"a1e3b239-946c-4559-9b83-591f804da00e\",\"type\":\"GlyphRenderer\"},{\"id\":\"1b96b3b9-d19c-4417-bfa9-f8f0f9dee6b3\",\"type\":\"GlyphRenderer\"},{\"id\":\"75e35b71-e836-4d55-b841-a1cd42be3478\",\"type\":\"GlyphRenderer\"},{\"id\":\"1b5d6c88-c51e-4b20-9010-582d5901baff\",\"type\":\"GlyphRenderer\"},{\"id\":\"6d313183-3ac9-4a56-b9f5-67a0264919d8\",\"type\":\"GlyphRenderer\"},{\"id\":\"9cd223d6-64e6-47e2-a2bd-c586814c25fc\",\"type\":\"GlyphRenderer\"},{\"id\":\"35994141-83fc-4e99-b92e-5f61ceb924d7\",\"type\":\"GlyphRenderer\"},{\"id\":\"3883b23c-81e8-4678-b277-f9d175e3dc57\",\"type\":\"GlyphRenderer\"},{\"id\":\"e6db7cd8-0a01-47e0-9a84-133f35404ce6\",\"type\":\"GlyphRenderer\"},{\"id\":\"1564b51c-c521-4fd1-96d9-d9f07164b17b\",\"type\":\"Legend\"},{\"id\":\"8813bbb9-2b91-423b-ac10-779de9da6168\",\"type\":\"LinearAxis\"},{\"id\":\"1dd97520-c115-43da-b867-a4912e611eba\",\"type\":\"LinearAxis\"},{\"id\":\"d7996ab8-1b47-4041-9666-b021d46aff77\",\"type\":\"Grid\"}],\"title\":{\"id\":\"b29f4804-12b5-420b-87c1-1d66d18cae69\",\"type\":\"Title\"},\"tool_events\":{\"id\":\"bc9d6318-1ffe-43c5-873f-00c131b5e96d\",\"type\":\"ToolEvents\"},\"toolbar\":{\"id\":\"50c3e9a5-dec5-41da-9363-5ee909aaa055\",\"type\":\"Toolbar\"},\"x_mapper_type\":\"auto\",\"x_range\":{\"id\":\"2eb98f33-0b8c-46c3-86ba-daef9344dc8f\",\"type\":\"Range1d\"},\"y_mapper_type\":\"auto\",\"y_range\":{\"id\":\"afff8d87-cc85-49a1-ba68-b8642c77700a\",\"type\":\"Range1d\"}},\"id\":\"6a7afe79-9efc-40fd-a956-f7e16d313871\",\"subtype\":\"Chart\",\"type\":\"Plot\"},{\"attributes\":{\"callback\":null,\"column_names\":[\"line_alpha\",\"line_color\",\"label\",\"x\",\"width\",\"height\",\"fill_alpha\",\"color\",\"y\"],\"data\":{\"chart_index\":[\"(232.310760, 236.182606]\"],\"color\":[\"#f22c40\"],\"fill_alpha\":[0.8],\"height\":[0.0],\"label\":[\"(232.310760, 236.182606]\"],\"line_alpha\":[1.0],\"line_color\":[\"black\"],\"width\":[3.871845993144774],\"x\":[\"234.246683\"],\"y\":[0.0]}},\"id\":\"85f5bbee-3db3-410c-b64c-65ab82562025\",\"type\":\"ColumnDataSource\"},{\"attributes\":{\"data_source\":{\"id\":\"e30880dd-57b8-44de-97e5-3dde3187e609\",\"type\":\"ColumnDataSource\"},\"glyph\":{\"id\":\"849818b3-6448-483a-aa5f-b429ea414cb7\",\"type\":\"Rect\"},\"hover_glyph\":null,\"nonselection_glyph\":null,\"selection_glyph\":null},\"id\":\"8b348be5-dd1b-4461-8171-78fa43febeae\",\"type\":\"GlyphRenderer\"},{\"attributes\":{\"data_source\":{\"id\":\"bd3df59a-963a-4e6a-8b44-634c7bd01570\",\"type\":\"ColumnDataSource\"},\"glyph\":{\"id\":\"4290f0d3-635e-4a21-aa72-afdcd045b76d\",\"type\":\"Rect\"},\"hover_glyph\":null,\"nonselection_glyph\":null,\"selection_glyph\":null},\"id\":\"bff66920-f416-47d0-9903-755a265f881d\",\"type\":\"GlyphRenderer\"},{\"attributes\":{\"callback\":null,\"end\":396.8642139715724,\"start\":-9.679614971572386},\"id\":\"2eb98f33-0b8c-46c3-86ba-daef9344dc8f\",\"type\":\"Range1d\"},{\"attributes\":{\"fill_alpha\":{\"field\":\"fill_alpha\"},\"fill_color\":{\"field\":\"color\"},\"height\":{\"field\":\"height\",\"units\":\"data\"},\"line_color\":{\"field\":\"line_color\"},\"width\":{\"field\":\"width\",\"units\":\"data\"},\"x\":{\"field\":\"x\"},\"y\":{\"field\":\"y\"}},\"id\":\"6f636b64-b979-459d-80cb-9bbdeeb74481\",\"type\":\"Rect\"},{\"attributes\":{\"callback\":null,\"column_names\":[\"line_alpha\",\"line_color\",\"label\",\"x\",\"width\",\"height\",\"fill_alpha\",\"color\",\"y\"],\"data\":{\"chart_index\":[\"(154.873840, 158.745686]\"],\"color\":[\"#f22c40\"],\"fill_alpha\":[0.8],\"height\":[0.0],\"label\":[\"(154.873840, 158.745686]\"],\"line_alpha\":[1.0],\"line_color\":[\"black\"],\"width\":[3.871845993144774],\"x\":[\"156.809763\"],\"y\":[0.0]}},\"id\":\"2ffd7d87-b028-4135-a6b9-40d69b3e274b\",\"type\":\"ColumnDataSource\"},{\"attributes\":{\"fill_alpha\":{\"field\":\"fill_alpha\"},\"fill_color\":{\"field\":\"color\"},\"height\":{\"field\":\"height\",\"units\":\"data\"},\"line_color\":{\"field\":\"line_color\"},\"width\":{\"field\":\"width\",\"units\":\"data\"},\"x\":{\"field\":\"x\"},\"y\":{\"field\":\"y\"}},\"id\":\"d2fc7092-230a-4835-be09-f4abd6691044\",\"type\":\"Rect\"},{\"attributes\":{\"data_source\":{\"id\":\"f98415b2-3d98-4115-94dd-871dd8e98d82\",\"type\":\"ColumnDataSource\"},\"glyph\":{\"id\":\"5726da65-3939-4399-8c1c-f2fd80269fa3\",\"type\":\"Rect\"},\"hover_glyph\":null,\"nonselection_glyph\":null,\"selection_glyph\":null},\"id\":\"121ae466-a5d3-44d1-a270-e13d824662cb\",\"type\":\"GlyphRenderer\"},{\"attributes\":{\"fill_alpha\":{\"field\":\"fill_alpha\"},\"fill_color\":{\"field\":\"color\"},\"height\":{\"field\":\"height\",\"units\":\"data\"},\"line_color\":{\"field\":\"line_color\"},\"width\":{\"field\":\"width\",\"units\":\"data\"},\"x\":{\"field\":\"x\"},\"y\":{\"field\":\"y\"}},\"id\":\"7fe4c5fe-10a6-495a-8751-ba9fffd2d058\",\"type\":\"Rect\"},{\"attributes\":{\"data_source\":{\"id\":\"21691ca1-590d-4828-9357-a0068858bba1\",\"type\":\"ColumnDataSource\"},\"glyph\":{\"id\":\"30418cb4-719b-44f0-ae68-8de262c57829\",\"type\":\"Rect\"},\"hover_glyph\":null,\"nonselection_glyph\":null,\"selection_glyph\":null},\"id\":\"3505c43f-ccf3-40a4-9986-c2aa03892949\",\"type\":\"GlyphRenderer\"},{\"attributes\":{\"callback\":null,\"column_names\":[\"line_alpha\",\"line_color\",\"label\",\"x\",\"width\",\"height\",\"fill_alpha\",\"color\",\"y\"],\"data\":{\"chart_index\":[\"(61.949536, 65.821382]\"],\"color\":[\"#f22c40\"],\"fill_alpha\":[0.8],\"height\":[0.0],\"label\":[\"(61.949536, 65.821382]\"],\"line_alpha\":[1.0],\"line_color\":[\"black\"],\"width\":[3.871845993144767],\"x\":[\"63.885459\"],\"y\":[0.0]}},\"id\":\"7c6591ec-3f09-484c-83f1-0674800a1ee5\",\"type\":\"ColumnDataSource\"},{\"attributes\":{\"callback\":null,\"column_names\":[\"line_alpha\",\"line_color\",\"label\",\"x\",\"width\",\"height\",\"fill_alpha\",\"color\",\"y\"],\"data\":{\"chart_index\":[\"(243.926298, 247.798144]\"],\"color\":[\"#f22c40\"],\"fill_alpha\":[0.8],\"height\":[0.0],\"label\":[\"(243.926298, 247.798144]\"],\"line_alpha\":[1.0],\"line_color\":[\"black\"],\"width\":[3.871845993144774],\"x\":[\"245.862221\"],\"y\":[0.0]}},\"id\":\"9600e1b6-1ec7-4ad8-9623-b238b70ffd63\",\"type\":\"ColumnDataSource\"},{\"attributes\":{\"fill_alpha\":{\"field\":\"fill_alpha\"},\"fill_color\":{\"field\":\"color\"},\"height\":{\"field\":\"height\",\"units\":\"data\"},\"line_color\":{\"field\":\"line_color\"},\"width\":{\"field\":\"width\",\"units\":\"data\"},\"x\":{\"field\":\"x\"},\"y\":{\"field\":\"y\"}},\"id\":\"342439e0-842b-48c3-84fb-c25de54e444a\",\"type\":\"Rect\"},{\"attributes\":{\"data_source\":{\"id\":\"22f69b5e-d7e4-4063-b895-d70058d34aec\",\"type\":\"ColumnDataSource\"},\"glyph\":{\"id\":\"12820030-aab0-4b81-9417-405f34231406\",\"type\":\"Rect\"},\"hover_glyph\":null,\"nonselection_glyph\":null,\"selection_glyph\":null},\"id\":\"222ff0c2-00b2-41e3-9bdc-e463e1307ab0\",\"type\":\"GlyphRenderer\"},{\"attributes\":{},\"id\":\"bc9d6318-1ffe-43c5-873f-00c131b5e96d\",\"type\":\"ToolEvents\"},{\"attributes\":{\"callback\":null,\"column_names\":[\"line_alpha\",\"line_color\",\"label\",\"x\",\"width\",\"height\",\"fill_alpha\",\"color\",\"y\"],\"data\":{\"chart_index\":[\"(263.285528, 267.157374]\"],\"color\":[\"#f22c40\"],\"fill_alpha\":[0.8],\"height\":[0.0],\"label\":[\"(263.285528, 267.157374]\"],\"line_alpha\":[1.0],\"line_color\":[\"black\"],\"width\":[3.8718459931448024],\"x\":[\"265.221451\"],\"y\":[0.0]}},\"id\":\"80b980eb-6959-44b6-b781-b8037b9e38ec\",\"type\":\"ColumnDataSource\"},{\"attributes\":{\"callback\":null,\"column_names\":[\"line_alpha\",\"line_color\",\"label\",\"x\",\"width\",\"height\",\"fill_alpha\",\"color\",\"y\"],\"data\":{\"chart_index\":[\"(92.924304, 96.796150]\"],\"color\":[\"#f22c40\"],\"fill_alpha\":[0.8],\"height\":[0.0],\"label\":[\"(92.924304, 96.796150]\"],\"line_alpha\":[1.0],\"line_color\":[\"black\"],\"width\":[3.871845993144774],\"x\":[\"94.86022700000001\"],\"y\":[0.0]}},\"id\":\"811d2d53-038b-4bb7-a0ff-11983e59717b\",\"type\":\"ColumnDataSource\"},{\"attributes\":{\"data_source\":{\"id\":\"ee475162-bba6-4228-a972-1b20cae0c453\",\"type\":\"ColumnDataSource\"},\"glyph\":{\"id\":\"30486fd0-21e3-4143-9ea2-9f40a2602e91\",\"type\":\"Rect\"},\"hover_glyph\":null,\"nonselection_glyph\":null,\"selection_glyph\":null},\"id\":\"72e42f81-c892-46cc-95ad-b60a09dcc453\",\"type\":\"GlyphRenderer\"},{\"attributes\":{},\"id\":\"f14f17cc-4a55-4d20-b656-6280051c6b30\",\"type\":\"BasicTickFormatter\"},{\"attributes\":{\"callback\":null,\"column_names\":[\"line_alpha\",\"line_color\",\"label\",\"x\",\"width\",\"height\",\"fill_alpha\",\"color\",\"y\"],\"data\":{\"chart_index\":[\"(305.875833, 309.747679]\"],\"color\":[\"#f22c40\"],\"fill_alpha\":[0.8],\"height\":[0.0],\"label\":[\"(305.875833, 309.747679]\"],\"line_alpha\":[1.0],\"line_color\":[\"black\"],\"width\":[3.8718459931448024],\"x\":[\"307.811756\"],\"y\":[0.0]}},\"id\":\"6947557e-d011-47de-885c-d10c8d52786e\",\"type\":\"ColumnDataSource\"},{\"attributes\":{\"fill_alpha\":{\"field\":\"fill_alpha\"},\"fill_color\":{\"field\":\"color\"},\"height\":{\"field\":\"height\",\"units\":\"data\"},\"line_color\":{\"field\":\"line_color\"},\"width\":{\"field\":\"width\",\"units\":\"data\"},\"x\":{\"field\":\"x\"},\"y\":{\"field\":\"y\"}},\"id\":\"38a0d2a0-fa2d-4382-a67d-82edf2682f6e\",\"type\":\"Rect\"},{\"attributes\":{\"fill_alpha\":{\"field\":\"fill_alpha\"},\"fill_color\":{\"field\":\"color\"},\"height\":{\"field\":\"height\",\"units\":\"data\"},\"line_color\":{\"field\":\"line_color\"},\"width\":{\"field\":\"width\",\"units\":\"data\"},\"x\":{\"field\":\"x\"},\"y\":{\"field\":\"y\"}},\"id\":\"03c89522-5fbd-4297-963a-d2fe5219616c\",\"type\":\"Rect\"},{\"attributes\":{\"callback\":null,\"column_names\":[\"line_alpha\",\"line_color\",\"label\",\"x\",\"width\",\"height\",\"fill_alpha\",\"color\",\"y\"],\"data\":{\"chart_index\":[\"(166.489378, 170.361224]\"],\"color\":[\"#f22c40\"],\"fill_alpha\":[0.8],\"height\":[1.0],\"label\":[\"(166.489378, 170.361224]\"],\"line_alpha\":[1.0],\"line_color\":[\"black\"],\"width\":[3.871845993144774],\"x\":[\"168.425301\"],\"y\":[0.5]}},\"id\":\"7c0592e3-c79c-49ab-b27c-c2fd394d83f3\",\"type\":\"ColumnDataSource\"},{\"attributes\":{\"fill_alpha\":{\"field\":\"fill_alpha\"},\"fill_color\":{\"field\":\"color\"},\"height\":{\"field\":\"height\",\"units\":\"data\"},\"line_color\":{\"field\":\"line_color\"},\"width\":{\"field\":\"width\",\"units\":\"data\"},\"x\":{\"field\":\"x\"},\"y\":{\"field\":\"y\"}},\"id\":\"5faf80f1-65b0-4fc5-b21b-0d725c4eb804\",\"type\":\"Rect\"},{\"attributes\":{\"callback\":null,\"column_names\":[\"line_alpha\",\"line_color\",\"label\",\"x\",\"width\",\"height\",\"fill_alpha\",\"color\",\"y\"],\"data\":{\"chart_index\":[\"(112.283534, 116.155380]\"],\"color\":[\"#f22c40\"],\"fill_alpha\":[0.8],\"height\":[1.0],\"label\":[\"(112.283534, 116.155380]\"],\"line_alpha\":[1.0],\"line_color\":[\"black\"],\"width\":[3.871845993144774],\"x\":[\"114.219457\"],\"y\":[0.5]}},\"id\":\"29305d8c-e3a4-4b7f-8aa9-3fd51c837b10\",\"type\":\"ColumnDataSource\"},{\"attributes\":{\"fill_alpha\":{\"field\":\"fill_alpha\"},\"fill_color\":{\"field\":\"color\"},\"height\":{\"field\":\"height\",\"units\":\"data\"},\"line_color\":{\"field\":\"line_color\"},\"width\":{\"field\":\"width\",\"units\":\"data\"},\"x\":{\"field\":\"x\"},\"y\":{\"field\":\"y\"}},\"id\":\"30486fd0-21e3-4143-9ea2-9f40a2602e91\",\"type\":\"Rect\"},{\"attributes\":{\"data_source\":{\"id\":\"c394c92d-9911-483b-b93c-17e859ed6874\",\"type\":\"ColumnDataSource\"},\"glyph\":{\"id\":\"e94afa67-800b-4567-b183-17158528fddc\",\"type\":\"Rect\"},\"hover_glyph\":null,\"nonselection_glyph\":null,\"selection_glyph\":null},\"id\":\"f23c1c3f-99e3-4a9c-b47c-14c185182e89\",\"type\":\"GlyphRenderer\"},{\"attributes\":{\"data_source\":{\"id\":\"d9e31fd6-4420-4b8f-b0a3-d0814e6435a4\",\"type\":\"ColumnDataSource\"},\"glyph\":{\"id\":\"b09db18f-a7df-496f-91c3-cd84f54211f5\",\"type\":\"Rect\"},\"hover_glyph\":null,\"nonselection_glyph\":null,\"selection_glyph\":null},\"id\":\"a7cada44-138d-411d-81f5-6a26ac4db864\",\"type\":\"GlyphRenderer\"},{\"attributes\":{\"fill_alpha\":{\"field\":\"fill_alpha\"},\"fill_color\":{\"field\":\"color\"},\"height\":{\"field\":\"height\",\"units\":\"data\"},\"line_color\":{\"field\":\"line_color\"},\"width\":{\"field\":\"width\",\"units\":\"data\"},\"x\":{\"field\":\"x\"},\"y\":{\"field\":\"y\"}},\"id\":\"58336c79-9bba-4012-bde6-75f78f763ea3\",\"type\":\"Rect\"},{\"attributes\":{\"fill_alpha\":{\"field\":\"fill_alpha\"},\"fill_color\":{\"field\":\"color\"},\"height\":{\"field\":\"height\",\"units\":\"data\"},\"line_color\":{\"field\":\"line_color\"},\"width\":{\"field\":\"width\",\"units\":\"data\"},\"x\":{\"field\":\"x\"},\"y\":{\"field\":\"y\"}},\"id\":\"1aefec4b-066d-4405-a95c-cfe965bc0d85\",\"type\":\"Rect\"},{\"attributes\":{\"fill_alpha\":{\"field\":\"fill_alpha\"},\"fill_color\":{\"field\":\"color\"},\"height\":{\"field\":\"height\",\"units\":\"data\"},\"line_color\":{\"field\":\"line_color\"},\"width\":{\"field\":\"width\",\"units\":\"data\"},\"x\":{\"field\":\"x\"},\"y\":{\"field\":\"y\"}},\"id\":\"f452c2ad-236e-489e-99e1-bd88172e7ba9\",\"type\":\"Rect\"},{\"attributes\":{\"callback\":null,\"column_names\":[\"line_alpha\",\"line_color\",\"label\",\"x\",\"width\",\"height\",\"fill_alpha\",\"color\",\"y\"],\"data\":{\"chart_index\":[\"(42.590306, 46.462152]\"],\"color\":[\"#f22c40\"],\"fill_alpha\":[0.8],\"height\":[0.0],\"label\":[\"(42.590306, 46.462152]\"],\"line_alpha\":[1.0],\"line_color\":[\"black\"],\"width\":[3.871845993144767],\"x\":[\"44.526229\"],\"y\":[0.0]}},\"id\":\"a06fab3c-61ea-49a4-b8dd-d51c3acc1499\",\"type\":\"ColumnDataSource\"},{\"attributes\":{\"callback\":null,\"column_names\":[\"line_alpha\",\"line_color\",\"label\",\"x\",\"width\",\"height\",\"fill_alpha\",\"color\",\"y\"],\"data\":{\"chart_index\":[\"(356.209831, 360.081677]\"],\"color\":[\"#f22c40\"],\"fill_alpha\":[0.8],\"height\":[0.0],\"label\":[\"(356.209831, 360.081677]\"],\"line_alpha\":[1.0],\"line_color\":[\"black\"],\"width\":[3.8718459931448024],\"x\":[\"358.145754\"],\"y\":[0.0]}},\"id\":\"2f6149bc-189e-4898-88e2-73ad80d2bd3b\",\"type\":\"ColumnDataSource\"},{\"attributes\":{\"fill_alpha\":{\"field\":\"fill_alpha\"},\"fill_color\":{\"field\":\"color\"},\"height\":{\"field\":\"height\",\"units\":\"data\"},\"line_color\":{\"field\":\"line_color\"},\"width\":{\"field\":\"width\",\"units\":\"data\"},\"x\":{\"field\":\"x\"},\"y\":{\"field\":\"y\"}},\"id\":\"130ed51a-b69b-466d-bf86-ce8f53cce47c\",\"type\":\"Rect\"},{\"attributes\":{\"data_source\":{\"id\":\"ccd4352b-4501-4b19-9588-0ac545d55091\",\"type\":\"ColumnDataSource\"},\"glyph\":{\"id\":\"9e79797e-3d16-467b-beed-bda13440d36a\",\"type\":\"Rect\"},\"hover_glyph\":null,\"nonselection_glyph\":null,\"selection_glyph\":null},\"id\":\"1b5d6c88-c51e-4b20-9010-582d5901baff\",\"type\":\"GlyphRenderer\"},{\"attributes\":{\"data_source\":{\"id\":\"2d6ac97f-e077-40ba-a518-03a01066b564\",\"type\":\"ColumnDataSource\"},\"glyph\":{\"id\":\"8056ec11-5736-44fe-b8eb-e447bfe95b31\",\"type\":\"Rect\"},\"hover_glyph\":null,\"nonselection_glyph\":null,\"selection_glyph\":null},\"id\":\"15405145-3b89-48ff-8f3a-32071853c270\",\"type\":\"GlyphRenderer\"},{\"attributes\":{\"callback\":null,\"column_names\":[\"line_alpha\",\"line_color\",\"label\",\"x\",\"width\",\"height\",\"fill_alpha\",\"color\",\"y\"],\"data\":{\"chart_index\":[\"(85.180612, 89.052458]\"],\"color\":[\"#f22c40\"],\"fill_alpha\":[0.8],\"height\":[1.0],\"label\":[\"(85.180612, 89.052458]\"],\"line_alpha\":[1.0],\"line_color\":[\"black\"],\"width\":[3.8718459931447597],\"x\":[\"87.116535\"],\"y\":[0.5]}},\"id\":\"e30880dd-57b8-44de-97e5-3dde3187e609\",\"type\":\"ColumnDataSource\"},{\"attributes\":{\"fill_alpha\":{\"field\":\"fill_alpha\"},\"fill_color\":{\"field\":\"color\"},\"height\":{\"field\":\"height\",\"units\":\"data\"},\"line_color\":{\"field\":\"line_color\"},\"width\":{\"field\":\"width\",\"units\":\"data\"},\"x\":{\"field\":\"x\"},\"y\":{\"field\":\"y\"}},\"id\":\"da9c8818-f3db-4303-9038-a97fb647a320\",\"type\":\"Rect\"},{\"attributes\":{\"data_source\":{\"id\":\"d46d32ea-c9fb-4298-b487-f734febed69e\",\"type\":\"ColumnDataSource\"},\"glyph\":{\"id\":\"7fe4c5fe-10a6-495a-8751-ba9fffd2d058\",\"type\":\"Rect\"},\"hover_glyph\":null,\"nonselection_glyph\":null,\"selection_glyph\":null},\"id\":\"4fed924a-eaec-4961-bc33-3e43643adb43\",\"type\":\"GlyphRenderer\"},{\"attributes\":{\"fill_alpha\":{\"field\":\"fill_alpha\"},\"fill_color\":{\"field\":\"color\"},\"height\":{\"field\":\"height\",\"units\":\"data\"},\"line_color\":{\"field\":\"line_color\"},\"width\":{\"field\":\"width\",\"units\":\"data\"},\"x\":{\"field\":\"x\"},\"y\":{\"field\":\"y\"}},\"id\":\"7c031b7e-888e-4685-ac04-08b93e326b92\",\"type\":\"Rect\"},{\"attributes\":{\"data_source\":{\"id\":\"7c6591ec-3f09-484c-83f1-0674800a1ee5\",\"type\":\"ColumnDataSource\"},\"glyph\":{\"id\":\"03d22822-4c3d-43f4-a0f5-1f94ea54a6b9\",\"type\":\"Rect\"},\"hover_glyph\":null,\"nonselection_glyph\":null,\"selection_glyph\":null},\"id\":\"28418cff-3377-4979-b12b-f2a0b013db76\",\"type\":\"GlyphRenderer\"},{\"attributes\":{\"data_source\":{\"id\":\"b0c49ba9-91e1-40ba-b06c-ccfca63a6e52\",\"type\":\"ColumnDataSource\"},\"glyph\":{\"id\":\"83b7004c-90cb-4626-9c05-27c91d55de3a\",\"type\":\"Rect\"},\"hover_glyph\":null,\"nonselection_glyph\":null,\"selection_glyph\":null},\"id\":\"5a49ee80-6ba9-44a6-bf29-70b6967de7d9\",\"type\":\"GlyphRenderer\"},{\"attributes\":{\"data_source\":{\"id\":\"80b980eb-6959-44b6-b781-b8037b9e38ec\",\"type\":\"ColumnDataSource\"},\"glyph\":{\"id\":\"efe164ab-5b19-4b06-82c2-15979bf8b03c\",\"type\":\"Rect\"},\"hover_glyph\":null,\"nonselection_glyph\":null,\"selection_glyph\":null},\"id\":\"69763022-addb-4acc-918c-2cd6551ecede\",\"type\":\"GlyphRenderer\"},{\"attributes\":{\"callback\":null,\"column_names\":[\"line_alpha\",\"line_color\",\"label\",\"x\",\"width\",\"height\",\"fill_alpha\",\"color\",\"y\"],\"data\":{\"chart_index\":[\"(317.491371, 321.363217]\"],\"color\":[\"#f22c40\"],\"fill_alpha\":[0.8],\"height\":[0.0],\"label\":[\"(317.491371, 321.363217]\"],\"line_alpha\":[1.0],\"line_color\":[\"black\"],\"width\":[3.8718459931447455],\"x\":[\"319.427294\"],\"y\":[0.0]}},\"id\":\"e25cc918-6394-4a4a-bb4e-4501eed8a537\",\"type\":\"ColumnDataSource\"},{\"attributes\":{\"callback\":null,\"column_names\":[\"line_alpha\",\"line_color\",\"label\",\"x\",\"width\",\"height\",\"fill_alpha\",\"color\",\"y\"],\"data\":{\"chart_index\":[\"(158.745686, 162.617532]\"],\"color\":[\"#f22c40\"],\"fill_alpha\":[0.8],\"height\":[0.0],\"label\":[\"(158.745686, 162.617532]\"],\"line_alpha\":[1.0],\"line_color\":[\"black\"],\"width\":[3.871845993144774],\"x\":[\"160.681609\"],\"y\":[0.0]}},\"id\":\"22a0f227-b851-4b12-9601-521c27f1eaca\",\"type\":\"ColumnDataSource\"},{\"attributes\":{\"callback\":null,\"column_names\":[\"line_alpha\",\"line_color\",\"label\",\"x\",\"width\",\"height\",\"fill_alpha\",\"color\",\"y\"],\"data\":{\"chart_index\":[\"(170.361224, 174.233070]\"],\"color\":[\"#f22c40\"],\"fill_alpha\":[0.8],\"height\":[0.0],\"label\":[\"(170.361224, 174.233070]\"],\"line_alpha\":[1.0],\"line_color\":[\"black\"],\"width\":[3.8718459931447455],\"x\":[\"172.297147\"],\"y\":[0.0]}},\"id\":\"f664729a-2ebe-4d54-95ed-6ee9e1781cd1\",\"type\":\"ColumnDataSource\"},{\"attributes\":{\"data_source\":{\"id\":\"f3a2fa12-2ba1-42e0-8cf0-0a747f430d3e\",\"type\":\"ColumnDataSource\"},\"glyph\":{\"id\":\"d2fc7092-230a-4835-be09-f4abd6691044\",\"type\":\"Rect\"},\"hover_glyph\":null,\"nonselection_glyph\":null,\"selection_glyph\":null},\"id\":\"86a2c4b3-02d6-4e67-a0ec-45ed4c5f5d7b\",\"type\":\"GlyphRenderer\"},{\"attributes\":{\"fill_alpha\":{\"field\":\"fill_alpha\"},\"fill_color\":{\"field\":\"color\"},\"height\":{\"field\":\"height\",\"units\":\"data\"},\"line_color\":{\"field\":\"line_color\"},\"width\":{\"field\":\"width\",\"units\":\"data\"},\"x\":{\"field\":\"x\"},\"y\":{\"field\":\"y\"}},\"id\":\"e1a083f6-1ce5-4c15-b4cf-683c5646ff86\",\"type\":\"Rect\"},{\"attributes\":{\"data_source\":{\"id\":\"e9541d09-dab3-4516-ac0a-9fbaffceb0db\",\"type\":\"ColumnDataSource\"},\"glyph\":{\"id\":\"32833539-dedc-412a-9963-5ebce5b0bd6d\",\"type\":\"Rect\"},\"hover_glyph\":null,\"nonselection_glyph\":null,\"selection_glyph\":null},\"id\":\"4e389cd5-eb30-4bbf-be75-155b2da6cefc\",\"type\":\"GlyphRenderer\"},{\"attributes\":{\"plot\":{\"id\":\"6a7afe79-9efc-40fd-a956-f7e16d313871\",\"subtype\":\"Chart\",\"type\":\"Plot\"}},\"id\":\"89652594-0c19-4aac-b935-9e54584ec63f\",\"type\":\"PanTool\"},{\"attributes\":{\"data_source\":{\"id\":\"412f3a8c-0117-4635-bedc-a12cad455bf9\",\"type\":\"ColumnDataSource\"},\"glyph\":{\"id\":\"3a85ce0f-97d4-4620-a195-580feeaebadd\",\"type\":\"Rect\"},\"hover_glyph\":null,\"nonselection_glyph\":null,\"selection_glyph\":null},\"id\":\"57c7e7e4-29e7-4af0-9a2a-22ef1426f034\",\"type\":\"GlyphRenderer\"},{\"attributes\":{\"fill_alpha\":{\"field\":\"fill_alpha\"},\"fill_color\":{\"field\":\"color\"},\"height\":{\"field\":\"height\",\"units\":\"data\"},\"line_color\":{\"field\":\"line_color\"},\"width\":{\"field\":\"width\",\"units\":\"data\"},\"x\":{\"field\":\"x\"},\"y\":{\"field\":\"y\"}},\"id\":\"e6fe0cd5-5e95-4a56-96bd-192bf8520969\",\"type\":\"Rect\"},{\"attributes\":{\"callback\":null,\"column_names\":[\"line_alpha\",\"line_color\",\"label\",\"x\",\"width\",\"height\",\"fill_alpha\",\"color\",\"y\"],\"data\":{\"chart_index\":[\"(197.464146, 201.335992]\"],\"color\":[\"#f22c40\"],\"fill_alpha\":[0.8],\"height\":[0.0],\"label\":[\"(197.464146, 201.335992]\"],\"line_alpha\":[1.0],\"line_color\":[\"black\"],\"width\":[3.871845993144774],\"x\":[\"199.400069\"],\"y\":[0.0]}},\"id\":\"ee475162-bba6-4228-a972-1b20cae0c453\",\"type\":\"ColumnDataSource\"},{\"attributes\":{\"plot\":{\"id\":\"6a7afe79-9efc-40fd-a956-f7e16d313871\",\"subtype\":\"Chart\",\"type\":\"Plot\"}},\"id\":\"5e150778-027d-4466-aa02-5af08fff0892\",\"type\":\"SaveTool\"},{\"attributes\":{\"data_source\":{\"id\":\"97032650-fcc9-4bcf-b692-568c679f65e2\",\"type\":\"ColumnDataSource\"},\"glyph\":{\"id\":\"57cd847a-c806-43da-9b15-7df8704a4121\",\"type\":\"Rect\"},\"hover_glyph\":null,\"nonselection_glyph\":null,\"selection_glyph\":null},\"id\":\"2dcfecf8-3f1f-49bd-8493-f354439bf1ba\",\"type\":\"GlyphRenderer\"},{\"attributes\":{\"callback\":null,\"column_names\":[\"line_alpha\",\"line_color\",\"label\",\"x\",\"width\",\"height\",\"fill_alpha\",\"color\",\"y\"],\"data\":{\"chart_index\":[\"(371.697215, 375.569061]\"],\"color\":[\"#f22c40\"],\"fill_alpha\":[0.8],\"height\":[0.0],\"label\":[\"(371.697215, 375.569061]\"],\"line_alpha\":[1.0],\"line_color\":[\"black\"],\"width\":[3.8718459931448024],\"x\":[\"373.63313800000003\"],\"y\":[0.0]}},\"id\":\"f1975c83-00f3-433b-b143-62c808380c11\",\"type\":\"ColumnDataSource\"},{\"attributes\":{\"data_source\":{\"id\":\"9a245d39-d758-4fe9-ab2e-728871bc9e7c\",\"type\":\"ColumnDataSource\"},\"glyph\":{\"id\":\"475555db-279a-4498-94f0-771fc406f5d0\",\"type\":\"Rect\"},\"hover_glyph\":null,\"nonselection_glyph\":null,\"selection_glyph\":null},\"id\":\"1d43aa47-7515-489a-85a5-938983b0078f\",\"type\":\"GlyphRenderer\"},{\"attributes\":{\"data_source\":{\"id\":\"36e6926c-4c3e-42da-a203-16fecd401b7c\",\"type\":\"ColumnDataSource\"},\"glyph\":{\"id\":\"a5f0865a-3df6-48af-a15a-851e71ed95ba\",\"type\":\"Rect\"},\"hover_glyph\":null,\"nonselection_glyph\":null,\"selection_glyph\":null},\"id\":\"f8a6d454-7be1-4b95-bb01-261e32fcc1fe\",\"type\":\"GlyphRenderer\"},{\"attributes\":{\"fill_alpha\":{\"field\":\"fill_alpha\"},\"fill_color\":{\"field\":\"color\"},\"height\":{\"field\":\"height\",\"units\":\"data\"},\"line_color\":{\"field\":\"line_color\"},\"width\":{\"field\":\"width\",\"units\":\"data\"},\"x\":{\"field\":\"x\"},\"y\":{\"field\":\"y\"}},\"id\":\"ee8c3e48-a2c3-400b-8311-5b06e0dfc836\",\"type\":\"Rect\"},{\"attributes\":{},\"id\":\"2d1e6171-7f82-4bf6-919f-b602e8b9526b\",\"type\":\"BasicTicker\"},{\"attributes\":{\"fill_alpha\":{\"field\":\"fill_alpha\"},\"fill_color\":{\"field\":\"color\"},\"height\":{\"field\":\"height\",\"units\":\"data\"},\"line_color\":{\"field\":\"line_color\"},\"width\":{\"field\":\"width\",\"units\":\"data\"},\"x\":{\"field\":\"x\"},\"y\":{\"field\":\"y\"}},\"id\":\"aec3c0d5-6690-4bdf-af1d-e0a34a8c2e45\",\"type\":\"Rect\"},{\"attributes\":{\"data_source\":{\"id\":\"be4760d3-8748-4f1b-8c4d-335d4e8c0ba9\",\"type\":\"ColumnDataSource\"},\"glyph\":{\"id\":\"a1357508-47dc-4d2b-a3c8-d7d6cf1a065c\",\"type\":\"Rect\"},\"hover_glyph\":null,\"nonselection_glyph\":null,\"selection_glyph\":null},\"id\":\"2b89ab53-0c6d-4aca-925e-9a416a54335c\",\"type\":\"GlyphRenderer\"},{\"attributes\":{\"fill_alpha\":{\"field\":\"fill_alpha\"},\"fill_color\":{\"field\":\"color\"},\"height\":{\"field\":\"height\",\"units\":\"data\"},\"line_color\":{\"field\":\"line_color\"},\"width\":{\"field\":\"width\",\"units\":\"data\"},\"x\":{\"field\":\"x\"},\"y\":{\"field\":\"y\"}},\"id\":\"a4f08172-cef6-4226-867c-cfe7d6dcf8d2\",\"type\":\"Rect\"},{\"attributes\":{\"fill_alpha\":{\"field\":\"fill_alpha\"},\"fill_color\":{\"field\":\"color\"},\"height\":{\"field\":\"height\",\"units\":\"data\"},\"line_color\":{\"field\":\"line_color\"},\"width\":{\"field\":\"width\",\"units\":\"data\"},\"x\":{\"field\":\"x\"},\"y\":{\"field\":\"y\"}},\"id\":\"82be01f8-fe71-42f6-b228-b7286344e7bb\",\"type\":\"Rect\"},{\"attributes\":{\"data_source\":{\"id\":\"970ec4db-0d1f-435b-b8f3-ff06c6ab40e2\",\"type\":\"ColumnDataSource\"},\"glyph\":{\"id\":\"9ab8fd7e-14fb-4b2b-8fe6-880c7d486fda\",\"type\":\"Rect\"},\"hover_glyph\":null,\"nonselection_glyph\":null,\"selection_glyph\":null},\"id\":\"f99772c2-2641-4b0a-a5f2-11a535f29b0e\",\"type\":\"GlyphRenderer\"},{\"attributes\":{\"data_source\":{\"id\":\"a28206b5-e2ec-45c1-ab1a-be26d3383072\",\"type\":\"ColumnDataSource\"},\"glyph\":{\"id\":\"1507b5ec-7b60-4dfb-880e-e46bfd6288ab\",\"type\":\"Rect\"},\"hover_glyph\":null,\"nonselection_glyph\":null,\"selection_glyph\":null},\"id\":\"f682d41b-3884-494f-93ac-160476ef2ff2\",\"type\":\"GlyphRenderer\"},{\"attributes\":{\"fill_alpha\":{\"field\":\"fill_alpha\"},\"fill_color\":{\"field\":\"color\"},\"height\":{\"field\":\"height\",\"units\":\"data\"},\"line_color\":{\"field\":\"line_color\"},\"width\":{\"field\":\"width\",\"units\":\"data\"},\"x\":{\"field\":\"x\"},\"y\":{\"field\":\"y\"}},\"id\":\"e748045e-3d42-486c-8eab-24ca147150b0\",\"type\":\"Rect\"},{\"attributes\":{\"fill_alpha\":{\"field\":\"fill_alpha\"},\"fill_color\":{\"field\":\"color\"},\"height\":{\"field\":\"height\",\"units\":\"data\"},\"line_color\":{\"field\":\"line_color\"},\"width\":{\"field\":\"width\",\"units\":\"data\"},\"x\":{\"field\":\"x\"},\"y\":{\"field\":\"y\"}},\"id\":\"18f1aa5f-0728-4d80-8fb3-3ca966304d11\",\"type\":\"Rect\"},{\"attributes\":{\"data_source\":{\"id\":\"e25cc918-6394-4a4a-bb4e-4501eed8a537\",\"type\":\"ColumnDataSource\"},\"glyph\":{\"id\":\"13ab3260-89f5-459d-a13f-bd84574ae330\",\"type\":\"Rect\"},\"hover_glyph\":null,\"nonselection_glyph\":null,\"selection_glyph\":null},\"id\":\"f4405208-d7b5-405f-a34c-94d25e015389\",\"type\":\"GlyphRenderer\"},{\"attributes\":{\"callback\":null,\"column_names\":[\"line_alpha\",\"line_color\",\"label\",\"x\",\"width\",\"height\",\"fill_alpha\",\"color\",\"y\"],\"data\":{\"chart_index\":[\"(282.644757, 286.516603]\"],\"color\":[\"#f22c40\"],\"fill_alpha\":[0.8],\"height\":[0.0],\"label\":[\"(282.644757, 286.516603]\"],\"line_alpha\":[1.0],\"line_color\":[\"black\"],\"width\":[3.8718459931447455],\"x\":[\"284.58068000000003\"],\"y\":[0.0]}},\"id\":\"e179d87a-e64c-4c8a-a6e8-d56bc51e5078\",\"type\":\"ColumnDataSource\"},{\"attributes\":{\"callback\":null,\"column_names\":[\"line_alpha\",\"line_color\",\"label\",\"x\",\"width\",\"height\",\"fill_alpha\",\"color\",\"y\"],\"data\":{\"chart_index\":[\"(7.743692, 11.615538]\"],\"color\":[\"#f22c40\"],\"fill_alpha\":[0.8],\"height\":[12.0],\"label\":[\"(7.743692, 11.615538]\"],\"line_alpha\":[1.0],\"line_color\":[\"black\"],\"width\":[3.8718459931447713],\"x\":[\"9.679615\"],\"y\":[6.0]}},\"id\":\"f3a2fa12-2ba1-42e0-8cf0-0a747f430d3e\",\"type\":\"ColumnDataSource\"},{\"attributes\":{\"data_source\":{\"id\":\"216af615-2b74-4fc9-a590-e39fe7b89e7c\",\"type\":\"ColumnDataSource\"},\"glyph\":{\"id\":\"ebaee26f-b20b-4b6b-998d-6cee1535a8cf\",\"type\":\"Rect\"},\"hover_glyph\":null,\"nonselection_glyph\":null,\"selection_glyph\":null},\"id\":\"fa7e6041-5e52-4fb7-8ddb-2705b7102ce4\",\"type\":\"GlyphRenderer\"},{\"attributes\":{\"callback\":null,\"column_names\":[\"line_alpha\",\"line_color\",\"label\",\"x\",\"width\",\"height\",\"fill_alpha\",\"color\",\"y\"],\"data\":{\"chart_index\":[\"(123.899072, 127.770918]\"],\"color\":[\"#f22c40\"],\"fill_alpha\":[0.8],\"height\":[0.0],\"label\":[\"(123.899072, 127.770918]\"],\"line_alpha\":[1.0],\"line_color\":[\"black\"],\"width\":[3.871845993144774],\"x\":[\"125.83499499999999\"],\"y\":[0.0]}},\"id\":\"b71b14ce-36d4-4d8a-8493-0cb41599b14e\",\"type\":\"ColumnDataSource\"},{\"attributes\":{\"data_source\":{\"id\":\"29305d8c-e3a4-4b7f-8aa9-3fd51c837b10\",\"type\":\"ColumnDataSource\"},\"glyph\":{\"id\":\"d8ab7b33-72a3-4b11-ba61-79fd512b69b2\",\"type\":\"Rect\"},\"hover_glyph\":null,\"nonselection_glyph\":null,\"selection_glyph\":null},\"id\":\"6e89e973-d926-4eda-a538-89e2c104929d\",\"type\":\"GlyphRenderer\"},{\"attributes\":{\"data_source\":{\"id\":\"22a0f227-b851-4b12-9601-521c27f1eaca\",\"type\":\"ColumnDataSource\"},\"glyph\":{\"id\":\"a4f08172-cef6-4226-867c-cfe7d6dcf8d2\",\"type\":\"Rect\"},\"hover_glyph\":null,\"nonselection_glyph\":null,\"selection_glyph\":null},\"id\":\"d26baeb7-eacf-4a4a-8b2a-a0c083da419c\",\"type\":\"GlyphRenderer\"},{\"attributes\":{\"fill_alpha\":{\"field\":\"fill_alpha\"},\"fill_color\":{\"field\":\"color\"},\"height\":{\"field\":\"height\",\"units\":\"data\"},\"line_color\":{\"field\":\"line_color\"},\"width\":{\"field\":\"width\",\"units\":\"data\"},\"x\":{\"field\":\"x\"},\"y\":{\"field\":\"y\"}},\"id\":\"e94afa67-800b-4567-b183-17158528fddc\",\"type\":\"Rect\"},{\"attributes\":{\"data_source\":{\"id\":\"b3fb7c6a-e1c1-4fba-9740-ebf0a1bf3ddd\",\"type\":\"ColumnDataSource\"},\"glyph\":{\"id\":\"ddc77530-0d2f-4c35-8552-90fbc4734a58\",\"type\":\"Rect\"},\"hover_glyph\":null,\"nonselection_glyph\":null,\"selection_glyph\":null},\"id\":\"2b7d18d9-b1d4-48be-9064-da892e8ccb49\",\"type\":\"GlyphRenderer\"},{\"attributes\":{\"location\":\"top_left\",\"plot\":{\"id\":\"6a7afe79-9efc-40fd-a956-f7e16d313871\",\"subtype\":\"Chart\",\"type\":\"Plot\"}},\"id\":\"1564b51c-c521-4fd1-96d9-d9f07164b17b\",\"type\":\"Legend\"},{\"attributes\":{\"callback\":null,\"column_names\":[\"line_alpha\",\"line_color\",\"label\",\"x\",\"width\",\"height\",\"fill_alpha\",\"color\",\"y\"],\"data\":{\"chart_index\":[\"(96.796150, 100.667996]\"],\"color\":[\"#f22c40\"],\"fill_alpha\":[0.8],\"height\":[1.0],\"label\":[\"(96.796150, 100.667996]\"],\"line_alpha\":[1.0],\"line_color\":[\"black\"],\"width\":[3.871845993144774],\"x\":[\"98.732073\"],\"y\":[0.5]}},\"id\":\"21691ca1-590d-4828-9357-a0068858bba1\",\"type\":\"ColumnDataSource\"},{\"attributes\":{\"data_source\":{\"id\":\"2f6149bc-189e-4898-88e2-73ad80d2bd3b\",\"type\":\"ColumnDataSource\"},\"glyph\":{\"id\":\"03bc7cdb-8c6b-4689-b8b3-9f3f52e8fe7a\",\"type\":\"Rect\"},\"hover_glyph\":null,\"nonselection_glyph\":null,\"selection_glyph\":null},\"id\":\"1b96b3b9-d19c-4417-bfa9-f8f0f9dee6b3\",\"type\":\"GlyphRenderer\"},{\"attributes\":{\"fill_alpha\":{\"field\":\"fill_alpha\"},\"fill_color\":{\"field\":\"color\"},\"height\":{\"field\":\"height\",\"units\":\"data\"},\"line_color\":{\"field\":\"line_color\"},\"width\":{\"field\":\"width\",\"units\":\"data\"},\"x\":{\"field\":\"x\"},\"y\":{\"field\":\"y\"}},\"id\":\"20848a54-de12-418c-95c8-9806653b0b0d\",\"type\":\"Rect\"},{\"attributes\":{\"data_source\":{\"id\":\"dcdd6b9e-e9dd-484f-b30f-429c769e28cf\",\"type\":\"ColumnDataSource\"},\"glyph\":{\"id\":\"f112f5da-a55d-4ba4-baf2-65da01df342a\",\"type\":\"Rect\"},\"hover_glyph\":null,\"nonselection_glyph\":null,\"selection_glyph\":null},\"id\":\"5ec03506-6ec0-4023-a665-3f931e4ab2da\",\"type\":\"GlyphRenderer\"},{\"attributes\":{\"fill_alpha\":{\"field\":\"fill_alpha\"},\"fill_color\":{\"field\":\"color\"},\"height\":{\"field\":\"height\",\"units\":\"data\"},\"line_color\":{\"field\":\"line_color\"},\"width\":{\"field\":\"width\",\"units\":\"data\"},\"x\":{\"field\":\"x\"},\"y\":{\"field\":\"y\"}},\"id\":\"c01c7056-ecd0-451f-9135-b715869dc393\",\"type\":\"Rect\"},{\"attributes\":{\"callback\":null,\"column_names\":[\"line_alpha\",\"line_color\",\"label\",\"x\",\"width\",\"height\",\"fill_alpha\",\"color\",\"y\"],\"data\":{\"chart_index\":[\"(54.205844, 58.077690]\"],\"color\":[\"#f22c40\"],\"fill_alpha\":[0.8],\"height\":[1.0],\"label\":[\"(54.205844, 58.077690]\"],\"line_alpha\":[1.0],\"line_color\":[\"black\"],\"width\":[3.871845993144767],\"x\":[\"56.141767\"],\"y\":[0.5]}},\"id\":\"c3a145af-c318-44d7-9da0-b7229a1aa4dc\",\"type\":\"ColumnDataSource\"},{\"attributes\":{\"data_source\":{\"id\":\"53592c82-b7bb-4421-addb-f7fc54febc13\",\"type\":\"ColumnDataSource\"},\"glyph\":{\"id\":\"3a57d8d3-f2b1-47b2-94c1-27b39a75bb0b\",\"type\":\"Rect\"},\"hover_glyph\":null,\"nonselection_glyph\":null,\"selection_glyph\":null},\"id\":\"fa1142f6-4998-4e94-88b7-620548497f06\",\"type\":\"GlyphRenderer\"},{\"attributes\":{\"callback\":null,\"column_names\":[\"line_alpha\",\"line_color\",\"label\",\"x\",\"width\",\"height\",\"fill_alpha\",\"color\",\"y\"],\"data\":{\"chart_index\":[\"(274.901066, 278.772912]\"],\"color\":[\"#f22c40\"],\"fill_alpha\":[0.8],\"height\":[0.0],\"label\":[\"(274.901066, 278.772912]\"],\"line_alpha\":[1.0],\"line_color\":[\"black\"],\"width\":[3.8718459931447455],\"x\":[\"276.836989\"],\"y\":[0.0]}},\"id\":\"2361febf-4567-41ac-a936-b57c073c75f7\",\"type\":\"ColumnDataSource\"},{\"attributes\":{\"callback\":null,\"column_names\":[\"line_alpha\",\"line_color\",\"label\",\"x\",\"width\",\"height\",\"fill_alpha\",\"color\",\"y\"],\"data\":{\"chart_index\":[\"(181.976762, 185.848608]\"],\"color\":[\"#f22c40\"],\"fill_alpha\":[0.8],\"height\":[0.0],\"label\":[\"(181.976762, 185.848608]\"],\"line_alpha\":[1.0],\"line_color\":[\"black\"],\"width\":[3.871845993144774],\"x\":[\"183.912685\"],\"y\":[0.0]}},\"id\":\"f98415b2-3d98-4115-94dd-871dd8e98d82\",\"type\":\"ColumnDataSource\"},{\"attributes\":{\"callback\":null,\"column_names\":[\"line_alpha\",\"line_color\",\"label\",\"x\",\"width\",\"height\",\"fill_alpha\",\"color\",\"y\"],\"data\":{\"chart_index\":[\"(65.821382, 69.693228]\"],\"color\":[\"#f22c40\"],\"fill_alpha\":[0.8],\"height\":[2.0],\"label\":[\"(65.821382, 69.693228]\"],\"line_alpha\":[1.0],\"line_color\":[\"black\"],\"width\":[3.871845993144774],\"x\":[\"67.757305\"],\"y\":[1.0]}},\"id\":\"0185ec65-af2b-4041-b905-8568bf48425d\",\"type\":\"ColumnDataSource\"},{\"attributes\":{\"overlay\":{\"id\":\"edd589d6-a77f-4e49-b43d-37b5b7a45dbc\",\"type\":\"BoxAnnotation\"},\"plot\":{\"id\":\"6a7afe79-9efc-40fd-a956-f7e16d313871\",\"subtype\":\"Chart\",\"type\":\"Plot\"}},\"id\":\"5596edf9-fee8-480e-bb6e-accce7004b44\",\"type\":\"BoxZoomTool\"},{\"attributes\":{\"fill_alpha\":{\"field\":\"fill_alpha\"},\"fill_color\":{\"field\":\"color\"},\"height\":{\"field\":\"height\",\"units\":\"data\"},\"line_color\":{\"field\":\"line_color\"},\"width\":{\"field\":\"width\",\"units\":\"data\"},\"x\":{\"field\":\"x\"},\"y\":{\"field\":\"y\"}},\"id\":\"283fc76b-2a33-4d60-90f8-ae451c965277\",\"type\":\"Rect\"},{\"attributes\":{\"fill_alpha\":{\"field\":\"fill_alpha\"},\"fill_color\":{\"field\":\"color\"},\"height\":{\"field\":\"height\",\"units\":\"data\"},\"line_color\":{\"field\":\"line_color\"},\"width\":{\"field\":\"width\",\"units\":\"data\"},\"x\":{\"field\":\"x\"},\"y\":{\"field\":\"y\"}},\"id\":\"83b7004c-90cb-4626-9c05-27c91d55de3a\",\"type\":\"Rect\"},{\"attributes\":{\"data_source\":{\"id\":\"0404f045-21ba-43e7-97da-5e5d4116b9b8\",\"type\":\"ColumnDataSource\"},\"glyph\":{\"id\":\"58336c79-9bba-4012-bde6-75f78f763ea3\",\"type\":\"Rect\"},\"hover_glyph\":null,\"nonselection_glyph\":null,\"selection_glyph\":null},\"id\":\"0c4b9e37-6133-43d0-840f-a7a86f8228e8\",\"type\":\"GlyphRenderer\"},{\"attributes\":{\"fill_alpha\":{\"field\":\"fill_alpha\"},\"fill_color\":{\"field\":\"color\"},\"height\":{\"field\":\"height\",\"units\":\"data\"},\"line_color\":{\"field\":\"line_color\"},\"width\":{\"field\":\"width\",\"units\":\"data\"},\"x\":{\"field\":\"x\"},\"y\":{\"field\":\"y\"}},\"id\":\"d48298d4-7ebb-4c34-81e9-2be0e47b07b1\",\"type\":\"Rect\"},{\"attributes\":{\"fill_alpha\":{\"field\":\"fill_alpha\"},\"fill_color\":{\"field\":\"color\"},\"height\":{\"field\":\"height\",\"units\":\"data\"},\"line_color\":{\"field\":\"line_color\"},\"width\":{\"field\":\"width\",\"units\":\"data\"},\"x\":{\"field\":\"x\"},\"y\":{\"field\":\"y\"}},\"id\":\"5a6e2301-c6c3-4b27-88a4-6430c83a1ac1\",\"type\":\"Rect\"},{\"attributes\":{\"callback\":null,\"column_names\":[\"line_alpha\",\"line_color\",\"label\",\"x\",\"width\",\"height\",\"fill_alpha\",\"color\",\"y\"],\"data\":{\"chart_index\":[\"(352.337985, 356.209831]\"],\"color\":[\"#f22c40\"],\"fill_alpha\":[0.8],\"height\":[0.0],\"label\":[\"(352.337985, 356.209831]\"],\"line_alpha\":[1.0],\"line_color\":[\"black\"],\"width\":[3.8718459931447455],\"x\":[\"354.273908\"],\"y\":[0.0]}},\"id\":\"78719086-87b6-4551-abfa-c16f07466d3c\",\"type\":\"ColumnDataSource\"},{\"attributes\":{\"fill_alpha\":{\"field\":\"fill_alpha\"},\"fill_color\":{\"field\":\"color\"},\"height\":{\"field\":\"height\",\"units\":\"data\"},\"line_color\":{\"field\":\"line_color\"},\"width\":{\"field\":\"width\",\"units\":\"data\"},\"x\":{\"field\":\"x\"},\"y\":{\"field\":\"y\"}},\"id\":\"5726da65-3939-4399-8c1c-f2fd80269fa3\",\"type\":\"Rect\"},{\"attributes\":{\"callback\":null,\"column_names\":[\"line_alpha\",\"line_color\",\"label\",\"x\",\"width\",\"height\",\"fill_alpha\",\"color\",\"y\"],\"data\":{\"chart_index\":[\"(38.718460, 42.590306]\"],\"color\":[\"#f22c40\"],\"fill_alpha\":[0.8],\"height\":[3.0],\"label\":[\"(38.718460, 42.590306]\"],\"line_alpha\":[1.0],\"line_color\":[\"black\"],\"width\":[3.871845993144774],\"x\":[\"40.654382999999996\"],\"y\":[1.5]}},\"id\":\"86998624-d9a7-4ddf-90de-f57540f9d502\",\"type\":\"ColumnDataSource\"},{\"attributes\":{\"plot\":null,\"text\":\"Distribution of Geometric Means\"},\"id\":\"b29f4804-12b5-420b-87c1-1d66d18cae69\",\"type\":\"Title\"},{\"attributes\":{\"callback\":null,\"column_names\":[\"line_alpha\",\"line_color\",\"label\",\"x\",\"width\",\"height\",\"fill_alpha\",\"color\",\"y\"],\"data\":{\"chart_index\":[\"(46.462152, 50.333998]\"],\"color\":[\"#f22c40\"],\"fill_alpha\":[0.8],\"height\":[0.0],\"label\":[\"(46.462152, 50.333998]\"],\"line_alpha\":[1.0],\"line_color\":[\"black\"],\"width\":[3.871845993144774],\"x\":[\"48.398075000000006\"],\"y\":[0.0]}},\"id\":\"d147a487-279f-4d80-891a-4a1767cfa59b\",\"type\":\"ColumnDataSource\"},{\"attributes\":{\"plot\":{\"id\":\"6a7afe79-9efc-40fd-a956-f7e16d313871\",\"subtype\":\"Chart\",\"type\":\"Plot\"}},\"id\":\"8ba80e86-1512-4d6a-b45c-d01b5e22b380\",\"type\":\"WheelZoomTool\"},{\"attributes\":{\"data_source\":{\"id\":\"484a35db-d368-40c8-b21e-9d3dfe750736\",\"type\":\"ColumnDataSource\"},\"glyph\":{\"id\":\"08cb724f-2374-408f-b457-88dbf33fe0ad\",\"type\":\"Rect\"},\"hover_glyph\":null,\"nonselection_glyph\":null,\"selection_glyph\":null},\"id\":\"609e0ccc-f7a1-4b41-a50e-3d9335f685e9\",\"type\":\"GlyphRenderer\"},{\"attributes\":{\"data_source\":{\"id\":\"577db614-7640-4c8c-bd26-0b42dba649b4\",\"type\":\"ColumnDataSource\"},\"glyph\":{\"id\":\"342439e0-842b-48c3-84fb-c25de54e444a\",\"type\":\"Rect\"},\"hover_glyph\":null,\"nonselection_glyph\":null,\"selection_glyph\":null},\"id\":\"b9b26fd5-daeb-4f48-89c8-238d7eeaccd1\",\"type\":\"GlyphRenderer\"},{\"attributes\":{\"fill_alpha\":{\"field\":\"fill_alpha\"},\"fill_color\":{\"field\":\"color\"},\"height\":{\"field\":\"height\",\"units\":\"data\"},\"line_color\":{\"field\":\"line_color\"},\"width\":{\"field\":\"width\",\"units\":\"data\"},\"x\":{\"field\":\"x\"},\"y\":{\"field\":\"y\"}},\"id\":\"acd3ecd6-771a-494f-bbb6-3e19bd67d96d\",\"type\":\"Rect\"},{\"attributes\":{\"data_source\":{\"id\":\"3e1a9321-1e95-4aa1-9cc6-fa063b5b712c\",\"type\":\"ColumnDataSource\"},\"glyph\":{\"id\":\"6a59c8ae-ed1e-4f25-90ab-027326034c30\",\"type\":\"Rect\"},\"hover_glyph\":null,\"nonselection_glyph\":null,\"selection_glyph\":null},\"id\":\"35994141-83fc-4e99-b92e-5f61ceb924d7\",\"type\":\"GlyphRenderer\"},{\"attributes\":{\"data_source\":{\"id\":\"78588ebf-6946-4c22-b7f4-80e12e78aa26\",\"type\":\"ColumnDataSource\"},\"glyph\":{\"id\":\"38a0d2a0-fa2d-4382-a67d-82edf2682f6e\",\"type\":\"Rect\"},\"hover_glyph\":null,\"nonselection_glyph\":null,\"selection_glyph\":null},\"id\":\"75e35b71-e836-4d55-b841-a1cd42be3478\",\"type\":\"GlyphRenderer\"},{\"attributes\":{\"data_source\":{\"id\":\"4d13179d-cc23-4588-a108-2d35d7dbe2f6\",\"type\":\"ColumnDataSource\"},\"glyph\":{\"id\":\"23c19a77-9d8a-478e-aad8-7b9420152715\",\"type\":\"Rect\"},\"hover_glyph\":null,\"nonselection_glyph\":null,\"selection_glyph\":null},\"id\":\"fd7351c5-4712-4306-bcae-cc76ce77e836\",\"type\":\"GlyphRenderer\"},{\"attributes\":{\"callback\":null,\"column_names\":[\"line_alpha\",\"line_color\",\"label\",\"x\",\"width\",\"height\",\"fill_alpha\",\"color\",\"y\"],\"data\":{\"chart_index\":[\"(220.695222, 224.567068]\"],\"color\":[\"#f22c40\"],\"fill_alpha\":[0.8],\"height\":[0.0],\"label\":[\"(220.695222, 224.567068]\"],\"line_alpha\":[1.0],\"line_color\":[\"black\"],\"width\":[3.8718459931447455],\"x\":[\"222.631145\"],\"y\":[0.0]}},\"id\":\"0efc3861-07d7-4de2-a670-021511a68735\",\"type\":\"ColumnDataSource\"},{\"attributes\":{\"data_source\":{\"id\":\"eec6ec30-246b-4973-a90a-132b342daf94\",\"type\":\"ColumnDataSource\"},\"glyph\":{\"id\":\"e7da322a-9e40-4b58-a7b8-99bb0210b558\",\"type\":\"Rect\"},\"hover_glyph\":null,\"nonselection_glyph\":null,\"selection_glyph\":null},\"id\":\"2da26e68-9885-489e-b532-07cf45a05f4c\",\"type\":\"GlyphRenderer\"},{\"attributes\":{\"callback\":null,\"column_names\":[\"line_alpha\",\"line_color\",\"label\",\"x\",\"width\",\"height\",\"fill_alpha\",\"color\",\"y\"],\"data\":{\"chart_index\":[\"(81.308766, 85.180612]\"],\"color\":[\"#f22c40\"],\"fill_alpha\":[0.8],\"height\":[1.0],\"label\":[\"(81.308766, 85.180612]\"],\"line_alpha\":[1.0],\"line_color\":[\"black\"],\"width\":[3.871845993144774],\"x\":[\"83.244689\"],\"y\":[0.5]}},\"id\":\"e53b2623-b179-434d-838e-0fd45ab5056c\",\"type\":\"ColumnDataSource\"},{\"attributes\":{\"callback\":null,\"column_names\":[\"line_alpha\",\"line_color\",\"label\",\"x\",\"width\",\"height\",\"fill_alpha\",\"color\",\"y\"],\"data\":{\"chart_index\":[\"(267.157374, 271.029220]\"],\"color\":[\"#f22c40\"],\"fill_alpha\":[0.8],\"height\":[0.0],\"label\":[\"(267.157374, 271.029220]\"],\"line_alpha\":[1.0],\"line_color\":[\"black\"],\"width\":[3.8718459931447455],\"x\":[\"269.093297\"],\"y\":[0.0]}},\"id\":\"9fb255c0-0152-4976-b251-c429be28e041\",\"type\":\"ColumnDataSource\"},{\"attributes\":{\"fill_alpha\":{\"field\":\"fill_alpha\"},\"fill_color\":{\"field\":\"color\"},\"height\":{\"field\":\"height\",\"units\":\"data\"},\"line_color\":{\"field\":\"line_color\"},\"width\":{\"field\":\"width\",\"units\":\"data\"},\"x\":{\"field\":\"x\"},\"y\":{\"field\":\"y\"}},\"id\":\"b44ca3ec-0af6-487d-b989-cddc1736c9ab\",\"type\":\"Rect\"},{\"attributes\":{},\"id\":\"76dd1093-9c70-4f98-9b98-0eca2d0c8fb9\",\"type\":\"BasicTicker\"},{\"attributes\":{\"data_source\":{\"id\":\"007d875d-2bed-4377-8698-f6bbfced9033\",\"type\":\"ColumnDataSource\"},\"glyph\":{\"id\":\"1f7a0da3-2c4c-441a-ba3d-7421870cdb15\",\"type\":\"Rect\"},\"hover_glyph\":null,\"nonselection_glyph\":null,\"selection_glyph\":null},\"id\":\"292b96b0-a459-484f-8d89-8b265cbfab28\",\"type\":\"GlyphRenderer\"},{\"attributes\":{\"data_source\":{\"id\":\"9fb255c0-0152-4976-b251-c429be28e041\",\"type\":\"ColumnDataSource\"},\"glyph\":{\"id\":\"780c0c7c-fc40-4edf-b54a-62f8653378b5\",\"type\":\"Rect\"},\"hover_glyph\":null,\"nonselection_glyph\":null,\"selection_glyph\":null},\"id\":\"1f161123-59db-4643-85a2-b7038c69233b\",\"type\":\"GlyphRenderer\"},{\"attributes\":{\"data_source\":{\"id\":\"865aef7e-5fc8-49df-9f50-a1f5cafe3ed4\",\"type\":\"ColumnDataSource\"},\"glyph\":{\"id\":\"35a4ee66-f225-4cb3-96ec-09878c89a687\",\"type\":\"Rect\"},\"hover_glyph\":null,\"nonselection_glyph\":null,\"selection_glyph\":null},\"id\":\"3576215e-e7dc-44f0-a6fc-05e508af0b81\",\"type\":\"GlyphRenderer\"},{\"attributes\":{\"fill_alpha\":{\"field\":\"fill_alpha\"},\"fill_color\":{\"field\":\"color\"},\"height\":{\"field\":\"height\",\"units\":\"data\"},\"line_color\":{\"field\":\"line_color\"},\"width\":{\"field\":\"width\",\"units\":\"data\"},\"x\":{\"field\":\"x\"},\"y\":{\"field\":\"y\"}},\"id\":\"becb7ef3-a84d-4528-a573-91068aba744a\",\"type\":\"Rect\"},{\"attributes\":{\"data_source\":{\"id\":\"0e806b6e-7d04-4b53-a5c3-1d7aa984a4fb\",\"type\":\"ColumnDataSource\"},\"glyph\":{\"id\":\"5500ff68-f79d-410a-b553-6831ae475dea\",\"type\":\"Rect\"},\"hover_glyph\":null,\"nonselection_glyph\":null,\"selection_glyph\":null},\"id\":\"0262624a-5956-4061-81b1-4442fe50bed0\",\"type\":\"GlyphRenderer\"},{\"attributes\":{\"callback\":null,\"column_names\":[\"line_alpha\",\"line_color\",\"label\",\"x\",\"width\",\"height\",\"fill_alpha\",\"color\",\"y\"],\"data\":{\"chart_index\":[\"(224.567068, 228.438914]\"],\"color\":[\"#f22c40\"],\"fill_alpha\":[0.8],\"height\":[0.0],\"label\":[\"(224.567068, 228.438914]\"],\"line_alpha\":[1.0],\"line_color\":[\"black\"],\"width\":[3.871845993144774],\"x\":[\"226.502991\"],\"y\":[0.0]}},\"id\":\"b73c0796-82b9-4d5c-a6bc-5952c3dfdf54\",\"type\":\"ColumnDataSource\"},{\"attributes\":{\"fill_alpha\":{\"field\":\"fill_alpha\"},\"fill_color\":{\"field\":\"color\"},\"height\":{\"field\":\"height\",\"units\":\"data\"},\"line_color\":{\"field\":\"line_color\"},\"width\":{\"field\":\"width\",\"units\":\"data\"},\"x\":{\"field\":\"x\"},\"y\":{\"field\":\"y\"}},\"id\":\"6a59c8ae-ed1e-4f25-90ab-027326034c30\",\"type\":\"Rect\"},{\"attributes\":{\"data_source\":{\"id\":\"4f4fe2a3-0d88-4702-859d-fc717a6a3e87\",\"type\":\"ColumnDataSource\"},\"glyph\":{\"id\":\"9c8e4259-1436-4d62-b749-e2906973b403\",\"type\":\"Rect\"},\"hover_glyph\":null,\"nonselection_glyph\":null,\"selection_glyph\":null},\"id\":\"17f145cb-41ab-4227-b253-d9268cc72d66\",\"type\":\"GlyphRenderer\"},{\"attributes\":{\"callback\":null,\"column_names\":[\"line_alpha\",\"line_color\",\"label\",\"x\",\"width\",\"height\",\"fill_alpha\",\"color\",\"y\"],\"data\":{\"chart_index\":[\"(205.207838, 209.079684]\"],\"color\":[\"#f22c40\"],\"fill_alpha\":[0.8],\"height\":[0.0],\"label\":[\"(205.207838, 209.079684]\"],\"line_alpha\":[1.0],\"line_color\":[\"black\"],\"width\":[3.871845993144774],\"x\":[\"207.14376099999998\"],\"y\":[0.0]}},\"id\":\"eec6ec30-246b-4973-a90a-132b342daf94\",\"type\":\"ColumnDataSource\"},{\"attributes\":{\"fill_alpha\":{\"field\":\"fill_alpha\"},\"fill_color\":{\"field\":\"color\"},\"height\":{\"field\":\"height\",\"units\":\"data\"},\"line_color\":{\"field\":\"line_color\"},\"width\":{\"field\":\"width\",\"units\":\"data\"},\"x\":{\"field\":\"x\"},\"y\":{\"field\":\"y\"}},\"id\":\"e80e4a76-1d3c-4d78-a1ed-29cd6e1dd9b4\",\"type\":\"Rect\"},{\"attributes\":{\"fill_alpha\":{\"field\":\"fill_alpha\"},\"fill_color\":{\"field\":\"color\"},\"height\":{\"field\":\"height\",\"units\":\"data\"},\"line_color\":{\"field\":\"line_color\"},\"width\":{\"field\":\"width\",\"units\":\"data\"},\"x\":{\"field\":\"x\"},\"y\":{\"field\":\"y\"}},\"id\":\"f838c797-efcd-4cb7-8dcf-09fc1630fe7d\",\"type\":\"Rect\"},{\"attributes\":{\"callback\":null,\"column_names\":[\"line_alpha\",\"line_color\",\"label\",\"x\",\"width\",\"height\",\"fill_alpha\",\"color\",\"y\"],\"data\":{\"chart_index\":[\"(302.003987, 305.875833]\"],\"color\":[\"#f22c40\"],\"fill_alpha\":[0.8],\"height\":[0.0],\"label\":[\"(302.003987, 305.875833]\"],\"line_alpha\":[1.0],\"line_color\":[\"black\"],\"width\":[3.8718459931447455],\"x\":[\"303.93991\"],\"y\":[0.0]}},\"id\":\"577db614-7640-4c8c-bd26-0b42dba649b4\",\"type\":\"ColumnDataSource\"},{\"attributes\":{\"fill_alpha\":{\"field\":\"fill_alpha\"},\"fill_color\":{\"field\":\"color\"},\"height\":{\"field\":\"height\",\"units\":\"data\"},\"line_color\":{\"field\":\"line_color\"},\"width\":{\"field\":\"width\",\"units\":\"data\"},\"x\":{\"field\":\"x\"},\"y\":{\"field\":\"y\"}},\"id\":\"dbd1bd3d-c393-4dee-97dc-dd9f6caf6bb9\",\"type\":\"Rect\"},{\"attributes\":{\"fill_alpha\":{\"field\":\"fill_alpha\"},\"fill_color\":{\"field\":\"color\"},\"height\":{\"field\":\"height\",\"units\":\"data\"},\"line_color\":{\"field\":\"line_color\"},\"width\":{\"field\":\"width\",\"units\":\"data\"},\"x\":{\"field\":\"x\"},\"y\":{\"field\":\"y\"}},\"id\":\"712d3a1c-2971-4069-99b3-48f75601625b\",\"type\":\"Rect\"},{\"attributes\":{\"callback\":null,\"column_names\":[\"line_alpha\",\"line_color\",\"label\",\"x\",\"width\",\"height\",\"fill_alpha\",\"color\",\"y\"],\"data\":{\"chart_index\":[\"(100.667996, 104.539842]\"],\"color\":[\"#f22c40\"],\"fill_alpha\":[0.8],\"height\":[2.0],\"label\":[\"(100.667996, 104.539842]\"],\"line_alpha\":[1.0],\"line_color\":[\"black\"],\"width\":[3.871845993144774],\"x\":[\"102.60391899999999\"],\"y\":[1.0]}},\"id\":\"19823278-4fa8-4844-a420-4feba326645b\",\"type\":\"ColumnDataSource\"},{\"attributes\":{\"fill_alpha\":{\"field\":\"fill_alpha\"},\"fill_color\":{\"field\":\"color\"},\"height\":{\"field\":\"height\",\"units\":\"data\"},\"line_color\":{\"field\":\"line_color\"},\"width\":{\"field\":\"width\",\"units\":\"data\"},\"x\":{\"field\":\"x\"},\"y\":{\"field\":\"y\"}},\"id\":\"cfcfa7d6-05df-43a3-8e98-42d2aeb8e59b\",\"type\":\"Rect\"},{\"attributes\":{\"callback\":null,\"column_names\":[\"line_alpha\",\"line_color\",\"label\",\"x\",\"width\",\"height\",\"fill_alpha\",\"color\",\"y\"],\"data\":{\"chart_index\":[\"(189.720454, 193.592300]\"],\"color\":[\"#f22c40\"],\"fill_alpha\":[0.8],\"height\":[0.0],\"label\":[\"(189.720454, 193.592300]\"],\"line_alpha\":[1.0],\"line_color\":[\"black\"],\"width\":[3.871845993144774],\"x\":[\"191.656377\"],\"y\":[0.0]}},\"id\":\"f0700271-d9f1-422a-997a-c53ca33813b7\",\"type\":\"ColumnDataSource\"},{\"attributes\":{\"data_source\":{\"id\":\"f0700271-d9f1-422a-997a-c53ca33813b7\",\"type\":\"ColumnDataSource\"},\"glyph\":{\"id\":\"03c89522-5fbd-4297-963a-d2fe5219616c\",\"type\":\"Rect\"},\"hover_glyph\":null,\"nonselection_glyph\":null,\"selection_glyph\":null},\"id\":\"6355cf78-5ffa-4ee3-a273-c22fa5bfd735\",\"type\":\"GlyphRenderer\"},{\"attributes\":{\"callback\":null,\"column_names\":[\"line_alpha\",\"line_color\",\"label\",\"x\",\"width\",\"height\",\"fill_alpha\",\"color\",\"y\"],\"data\":{\"chart_index\":[\"(151.001994, 154.873840]\"],\"color\":[\"#f22c40\"],\"fill_alpha\":[0.8],\"height\":[0.0],\"label\":[\"(151.001994, 154.873840]\"],\"line_alpha\":[1.0],\"line_color\":[\"black\"],\"width\":[3.871845993144774],\"x\":[\"152.937917\"],\"y\":[0.0]}},\"id\":\"6746dbaf-e070-4b81-9fcf-84ec1ecdbcd4\",\"type\":\"ColumnDataSource\"},{\"attributes\":{\"callback\":null,\"column_names\":[\"line_alpha\",\"line_color\",\"label\",\"x\",\"width\",\"height\",\"fill_alpha\",\"color\",\"y\"],\"data\":{\"chart_index\":[\"(185.848608, 189.720454]\"],\"color\":[\"#f22c40\"],\"fill_alpha\":[0.8],\"height\":[0.0],\"label\":[\"(185.848608, 189.720454]\"],\"line_alpha\":[1.0],\"line_color\":[\"black\"],\"width\":[3.871845993144774],\"x\":[\"187.78453100000002\"],\"y\":[0.0]}},\"id\":\"4d13179d-cc23-4588-a108-2d35d7dbe2f6\",\"type\":\"ColumnDataSource\"},{\"attributes\":{\"data_source\":{\"id\":\"0185ec65-af2b-4041-b905-8568bf48425d\",\"type\":\"ColumnDataSource\"},\"glyph\":{\"id\":\"283fc76b-2a33-4d60-90f8-ae451c965277\",\"type\":\"Rect\"},\"hover_glyph\":null,\"nonselection_glyph\":null,\"selection_glyph\":null},\"id\":\"6a154799-7dfa-4e6c-9dcb-cf8ff726b4fe\",\"type\":\"GlyphRenderer\"},{\"attributes\":{\"fill_alpha\":{\"field\":\"fill_alpha\"},\"fill_color\":{\"field\":\"color\"},\"height\":{\"field\":\"height\",\"units\":\"data\"},\"line_color\":{\"field\":\"line_color\"},\"width\":{\"field\":\"width\",\"units\":\"data\"},\"x\":{\"field\":\"x\"},\"y\":{\"field\":\"y\"}},\"id\":\"9e79797e-3d16-467b-beed-bda13440d36a\",\"type\":\"Rect\"},{\"attributes\":{\"fill_alpha\":{\"field\":\"fill_alpha\"},\"fill_color\":{\"field\":\"color\"},\"height\":{\"field\":\"height\",\"units\":\"data\"},\"line_color\":{\"field\":\"line_color\"},\"width\":{\"field\":\"width\",\"units\":\"data\"},\"x\":{\"field\":\"x\"},\"y\":{\"field\":\"y\"}},\"id\":\"35a4ee66-f225-4cb3-96ec-09878c89a687\",\"type\":\"Rect\"},{\"attributes\":{\"fill_alpha\":{\"field\":\"fill_alpha\"},\"fill_color\":{\"field\":\"color\"},\"height\":{\"field\":\"height\",\"units\":\"data\"},\"line_color\":{\"field\":\"line_color\"},\"width\":{\"field\":\"width\",\"units\":\"data\"},\"x\":{\"field\":\"x\"},\"y\":{\"field\":\"y\"}},\"id\":\"1507b5ec-7b60-4dfb-880e-e46bfd6288ab\",\"type\":\"Rect\"},{\"attributes\":{\"fill_alpha\":{\"field\":\"fill_alpha\"},\"fill_color\":{\"field\":\"color\"},\"height\":{\"field\":\"height\",\"units\":\"data\"},\"line_color\":{\"field\":\"line_color\"},\"width\":{\"field\":\"width\",\"units\":\"data\"},\"x\":{\"field\":\"x\"},\"y\":{\"field\":\"y\"}},\"id\":\"dfa5e1c3-cfd4-4c19-a3ef-b392758930f5\",\"type\":\"Rect\"},{\"attributes\":{\"callback\":null,\"column_names\":[\"line_alpha\",\"line_color\",\"label\",\"x\",\"width\",\"height\",\"fill_alpha\",\"color\",\"y\"],\"data\":{\"chart_index\":[\"(131.642764, 135.514610]\"],\"color\":[\"#f22c40\"],\"fill_alpha\":[0.8],\"height\":[0.0],\"label\":[\"(131.642764, 135.514610]\"],\"line_alpha\":[1.0],\"line_color\":[\"black\"],\"width\":[3.871845993144774],\"x\":[\"133.578687\"],\"y\":[0.0]}},\"id\":\"d43f53e7-9505-4a7d-9a69-7daa93d9e675\",\"type\":\"ColumnDataSource\"},{\"attributes\":{\"fill_alpha\":{\"field\":\"fill_alpha\"},\"fill_color\":{\"field\":\"color\"},\"height\":{\"field\":\"height\",\"units\":\"data\"},\"line_color\":{\"field\":\"line_color\"},\"width\":{\"field\":\"width\",\"units\":\"data\"},\"x\":{\"field\":\"x\"},\"y\":{\"field\":\"y\"}},\"id\":\"475555db-279a-4498-94f0-771fc406f5d0\",\"type\":\"Rect\"},{\"attributes\":{\"fill_alpha\":{\"field\":\"fill_alpha\"},\"fill_color\":{\"field\":\"color\"},\"height\":{\"field\":\"height\",\"units\":\"data\"},\"line_color\":{\"field\":\"line_color\"},\"width\":{\"field\":\"width\",\"units\":\"data\"},\"x\":{\"field\":\"x\"},\"y\":{\"field\":\"y\"}},\"id\":\"780c0c7c-fc40-4edf-b54a-62f8653378b5\",\"type\":\"Rect\"},{\"attributes\":{\"data_source\":{\"id\":\"d43f53e7-9505-4a7d-9a69-7daa93d9e675\",\"type\":\"ColumnDataSource\"},\"glyph\":{\"id\":\"d48298d4-7ebb-4c34-81e9-2be0e47b07b1\",\"type\":\"Rect\"},\"hover_glyph\":null,\"nonselection_glyph\":null,\"selection_glyph\":null},\"id\":\"7490ae77-bef5-462f-80c2-c616d46ce86a\",\"type\":\"GlyphRenderer\"},{\"attributes\":{\"data_source\":{\"id\":\"6746dbaf-e070-4b81-9fcf-84ec1ecdbcd4\",\"type\":\"ColumnDataSource\"},\"glyph\":{\"id\":\"7c031b7e-888e-4685-ac04-08b93e326b92\",\"type\":\"Rect\"},\"hover_glyph\":null,\"nonselection_glyph\":null,\"selection_glyph\":null},\"id\":\"8a3be83a-ee79-445b-aa40-afdf4a5b495a\",\"type\":\"GlyphRenderer\"},{\"attributes\":{\"fill_alpha\":{\"field\":\"fill_alpha\"},\"fill_color\":{\"field\":\"color\"},\"height\":{\"field\":\"height\",\"units\":\"data\"},\"line_color\":{\"field\":\"line_color\"},\"width\":{\"field\":\"width\",\"units\":\"data\"},\"x\":{\"field\":\"x\"},\"y\":{\"field\":\"y\"}},\"id\":\"0d6f1266-a2c2-4f2c-8090-6793197e6240\",\"type\":\"Rect\"},{\"attributes\":{\"data_source\":{\"id\":\"5935ad9e-b4a1-469f-bd44-8fb8d8cd3708\",\"type\":\"ColumnDataSource\"},\"glyph\":{\"id\":\"e1a083f6-1ce5-4c15-b4cf-683c5646ff86\",\"type\":\"Rect\"},\"hover_glyph\":null,\"nonselection_glyph\":null,\"selection_glyph\":null},\"id\":\"3f50c181-6a94-4ce1-a8e1-4192d4086226\",\"type\":\"GlyphRenderer\"},{\"attributes\":{\"fill_alpha\":{\"field\":\"fill_alpha\"},\"fill_color\":{\"field\":\"color\"},\"height\":{\"field\":\"height\",\"units\":\"data\"},\"line_color\":{\"field\":\"line_color\"},\"width\":{\"field\":\"width\",\"units\":\"data\"},\"x\":{\"field\":\"x\"},\"y\":{\"field\":\"y\"}},\"id\":\"87b1d907-e1f1-4fed-ae18-d9fa86a56fef\",\"type\":\"Rect\"},{\"attributes\":{\"fill_alpha\":{\"field\":\"fill_alpha\"},\"fill_color\":{\"field\":\"color\"},\"height\":{\"field\":\"height\",\"units\":\"data\"},\"line_color\":{\"field\":\"line_color\"},\"width\":{\"field\":\"width\",\"units\":\"data\"},\"x\":{\"field\":\"x\"},\"y\":{\"field\":\"y\"}},\"id\":\"544d2343-e5fb-4cab-9b8a-1dbfcdc83a39\",\"type\":\"Rect\"},{\"attributes\":{\"data_source\":{\"id\":\"c3a145af-c318-44d7-9da0-b7229a1aa4dc\",\"type\":\"ColumnDataSource\"},\"glyph\":{\"id\":\"e6fe0cd5-5e95-4a56-96bd-192bf8520969\",\"type\":\"Rect\"},\"hover_glyph\":null,\"nonselection_glyph\":null,\"selection_glyph\":null},\"id\":\"4136e7df-41f7-484f-aed2-173d57192c4a\",\"type\":\"GlyphRenderer\"},{\"attributes\":{\"callback\":null,\"column_names\":[\"line_alpha\",\"line_color\",\"label\",\"x\",\"width\",\"height\",\"fill_alpha\",\"color\",\"y\"],\"data\":{\"chart_index\":[\"[0.000000, 3.871846]\"],\"color\":[\"#f22c40\"],\"fill_alpha\":[0.8],\"height\":[1.0],\"label\":[\"[0.000000, 3.871846]\"],\"line_alpha\":[1.0],\"line_color\":[\"black\"],\"width\":[3.8718459931447717],\"x\":[\"1.935923\"],\"y\":[0.5]}},\"id\":\"007d875d-2bed-4377-8698-f6bbfced9033\",\"type\":\"ColumnDataSource\"},{\"attributes\":{\"fill_alpha\":{\"field\":\"fill_alpha\"},\"fill_color\":{\"field\":\"color\"},\"height\":{\"field\":\"height\",\"units\":\"data\"},\"line_color\":{\"field\":\"line_color\"},\"width\":{\"field\":\"width\",\"units\":\"data\"},\"x\":{\"field\":\"x\"},\"y\":{\"field\":\"y\"}},\"id\":\"7f6b32f9-01ee-4321-9c06-05839333261f\",\"type\":\"Rect\"},{\"attributes\":{\"callback\":null,\"column_names\":[\"line_alpha\",\"line_color\",\"label\",\"x\",\"width\",\"height\",\"fill_alpha\",\"color\",\"y\"],\"data\":{\"chart_index\":[\"(344.594293, 348.466139]\"],\"color\":[\"#f22c40\"],\"fill_alpha\":[0.8],\"height\":[0.0],\"label\":[\"(344.594293, 348.466139]\"],\"line_alpha\":[1.0],\"line_color\":[\"black\"],\"width\":[3.8718459931447455],\"x\":[\"346.530216\"],\"y\":[0.0]}},\"id\":\"9a245d39-d758-4fe9-ab2e-728871bc9e7c\",\"type\":\"ColumnDataSource\"},{\"attributes\":{\"fill_alpha\":{\"field\":\"fill_alpha\"},\"fill_color\":{\"field\":\"color\"},\"height\":{\"field\":\"height\",\"units\":\"data\"},\"line_color\":{\"field\":\"line_color\"},\"width\":{\"field\":\"width\",\"units\":\"data\"},\"x\":{\"field\":\"x\"},\"y\":{\"field\":\"y\"}},\"id\":\"b09db18f-a7df-496f-91c3-cd84f54211f5\",\"type\":\"Rect\"},{\"attributes\":{\"data_source\":{\"id\":\"354e0fe5-a8c9-4069-ac90-482d1a90475a\",\"type\":\"ColumnDataSource\"},\"glyph\":{\"id\":\"440e5bfa-5b0e-40ba-88ba-44230a81b240\",\"type\":\"Rect\"},\"hover_glyph\":null,\"nonselection_glyph\":null,\"selection_glyph\":null},\"id\":\"94be6f0b-400e-4210-841d-9acd19287f31\",\"type\":\"GlyphRenderer\"},{\"attributes\":{\"callback\":null,\"column_names\":[\"line_alpha\",\"line_color\",\"label\",\"x\",\"width\",\"height\",\"fill_alpha\",\"color\",\"y\"],\"data\":{\"chart_index\":[\"(178.104916, 181.976762]\"],\"color\":[\"#f22c40\"],\"fill_alpha\":[0.8],\"height\":[1.0],\"label\":[\"(178.104916, 181.976762]\"],\"line_alpha\":[1.0],\"line_color\":[\"black\"],\"width\":[3.871845993144774],\"x\":[\"180.040839\"],\"y\":[0.5]}},\"id\":\"bd3df59a-963a-4e6a-8b44-634c7bd01570\",\"type\":\"ColumnDataSource\"},{\"attributes\":{\"callback\":null,\"end\":13.200000000000001},\"id\":\"afff8d87-cc85-49a1-ba68-b8642c77700a\",\"type\":\"Range1d\"},{\"attributes\":{\"callback\":null,\"column_names\":[\"line_alpha\",\"line_color\",\"label\",\"x\",\"width\",\"height\",\"fill_alpha\",\"color\",\"y\"],\"data\":{\"chart_index\":[\"(120.027226, 123.899072]\"],\"color\":[\"#f22c40\"],\"fill_alpha\":[0.8],\"height\":[0.0],\"label\":[\"(120.027226, 123.899072]\"],\"line_alpha\":[1.0],\"line_color\":[\"black\"],\"width\":[3.871845993144774],\"x\":[\"121.963149\"],\"y\":[0.0]}},\"id\":\"b3fb7c6a-e1c1-4fba-9740-ebf0a1bf3ddd\",\"type\":\"ColumnDataSource\"},{\"attributes\":{\"callback\":null,\"column_names\":[\"line_alpha\",\"line_color\",\"label\",\"x\",\"width\",\"height\",\"fill_alpha\",\"color\",\"y\"],\"data\":{\"chart_index\":[\"(104.539842, 108.411688]\"],\"color\":[\"#f22c40\"],\"fill_alpha\":[0.8],\"height\":[2.0],\"label\":[\"(104.539842, 108.411688]\"],\"line_alpha\":[1.0],\"line_color\":[\"black\"],\"width\":[3.871845993144774],\"x\":[\"106.475765\"],\"y\":[1.0]}},\"id\":\"4f4fe2a3-0d88-4702-859d-fc717a6a3e87\",\"type\":\"ColumnDataSource\"},{\"attributes\":{\"bottom_units\":\"screen\",\"fill_alpha\":{\"value\":0.5},\"fill_color\":{\"value\":\"lightgrey\"},\"left_units\":\"screen\",\"level\":\"overlay\",\"line_alpha\":{\"value\":1.0},\"line_color\":{\"value\":\"black\"},\"line_dash\":[4,4],\"line_width\":{\"value\":2},\"plot\":null,\"render_mode\":\"css\",\"right_units\":\"screen\",\"top_units\":\"screen\"},\"id\":\"edd589d6-a77f-4e49-b43d-37b5b7a45dbc\",\"type\":\"BoxAnnotation\"},{\"attributes\":{\"data_source\":{\"id\":\"fe00ca9b-87ee-4c69-a058-1d5915357b1b\",\"type\":\"ColumnDataSource\"},\"glyph\":{\"id\":\"becb7ef3-a84d-4528-a573-91068aba744a\",\"type\":\"Rect\"},\"hover_glyph\":null,\"nonselection_glyph\":null,\"selection_glyph\":null},\"id\":\"305f08cf-50b0-464f-8920-e3dad1d70f1c\",\"type\":\"GlyphRenderer\"},{\"attributes\":{\"callback\":null,\"column_names\":[\"line_alpha\",\"line_color\",\"label\",\"x\",\"width\",\"height\",\"fill_alpha\",\"color\",\"y\"],\"data\":{\"chart_index\":[\"(212.951530, 216.823376]\"],\"color\":[\"#f22c40\"],\"fill_alpha\":[0.8],\"height\":[0.0],\"label\":[\"(212.951530, 216.823376]\"],\"line_alpha\":[1.0],\"line_color\":[\"black\"],\"width\":[3.871845993144774],\"x\":[\"214.887453\"],\"y\":[0.0]}},\"id\":\"72d6081d-7496-4eff-88c9-535b33e02096\",\"type\":\"ColumnDataSource\"},{\"attributes\":{\"fill_alpha\":{\"field\":\"fill_alpha\"},\"fill_color\":{\"field\":\"color\"},\"height\":{\"field\":\"height\",\"units\":\"data\"},\"line_color\":{\"field\":\"line_color\"},\"width\":{\"field\":\"width\",\"units\":\"data\"},\"x\":{\"field\":\"x\"},\"y\":{\"field\":\"y\"}},\"id\":\"c2f40bd7-186d-486b-ba0b-fe8305dc989a\",\"type\":\"Rect\"},{\"attributes\":{\"fill_alpha\":{\"field\":\"fill_alpha\"},\"fill_color\":{\"field\":\"color\"},\"height\":{\"field\":\"height\",\"units\":\"data\"},\"line_color\":{\"field\":\"line_color\"},\"width\":{\"field\":\"width\",\"units\":\"data\"},\"x\":{\"field\":\"x\"},\"y\":{\"field\":\"y\"}},\"id\":\"a6b3b1cc-2c4d-4d4c-9da8-e16cbe009589\",\"type\":\"Rect\"},{\"attributes\":{\"data_source\":{\"id\":\"b71b14ce-36d4-4d8a-8493-0cb41599b14e\",\"type\":\"ColumnDataSource\"},\"glyph\":{\"id\":\"c01c7056-ecd0-451f-9135-b715869dc393\",\"type\":\"Rect\"},\"hover_glyph\":null,\"nonselection_glyph\":null,\"selection_glyph\":null},\"id\":\"7270a692-a077-4cd7-a39d-ff37241d20a7\",\"type\":\"GlyphRenderer\"},{\"attributes\":{\"data_source\":{\"id\":\"d41599e9-8863-41a4-8904-20de81738fa7\",\"type\":\"ColumnDataSource\"},\"glyph\":{\"id\":\"14704c14-6afb-43e7-b20f-7f7ab30d07ed\",\"type\":\"Rect\"},\"hover_glyph\":null,\"nonselection_glyph\":null,\"selection_glyph\":null},\"id\":\"cd2e3778-fc8c-4b26-a5e4-b294b0ccf1aa\",\"type\":\"GlyphRenderer\"},{\"attributes\":{\"data_source\":{\"id\":\"e179d87a-e64c-4c8a-a6e8-d56bc51e5078\",\"type\":\"ColumnDataSource\"},\"glyph\":{\"id\":\"72b48627-66b1-4829-981f-967b0a0efc87\",\"type\":\"Rect\"},\"hover_glyph\":null,\"nonselection_glyph\":null,\"selection_glyph\":null},\"id\":\"ed261df8-0786-4c7a-aebb-3761b795f024\",\"type\":\"GlyphRenderer\"},{\"attributes\":{\"fill_alpha\":{\"field\":\"fill_alpha\"},\"fill_color\":{\"field\":\"color\"},\"height\":{\"field\":\"height\",\"units\":\"data\"},\"line_color\":{\"field\":\"line_color\"},\"width\":{\"field\":\"width\",\"units\":\"data\"},\"x\":{\"field\":\"x\"},\"y\":{\"field\":\"y\"}},\"id\":\"ddc77530-0d2f-4c35-8552-90fbc4734a58\",\"type\":\"Rect\"},{\"attributes\":{\"data_source\":{\"id\":\"b04b2678-bb53-4f9f-983e-d9a9f47b27db\",\"type\":\"ColumnDataSource\"},\"glyph\":{\"id\":\"4fbdd247-7b11-4e61-ae3c-57f9372934eb\",\"type\":\"Rect\"},\"hover_glyph\":null,\"nonselection_glyph\":null,\"selection_glyph\":null},\"id\":\"cc46609f-745c-4fb3-b711-8382fe7ad0b3\",\"type\":\"GlyphRenderer\"},{\"attributes\":{\"data_source\":{\"id\":\"e53b2623-b179-434d-838e-0fd45ab5056c\",\"type\":\"ColumnDataSource\"},\"glyph\":{\"id\":\"f452c2ad-236e-489e-99e1-bd88172e7ba9\",\"type\":\"Rect\"},\"hover_glyph\":null,\"nonselection_glyph\":null,\"selection_glyph\":null},\"id\":\"a9e71755-33b0-4bce-b169-525bd54ba3a2\",\"type\":\"GlyphRenderer\"},{\"attributes\":{\"data_source\":{\"id\":\"0efc3861-07d7-4de2-a670-021511a68735\",\"type\":\"ColumnDataSource\"},\"glyph\":{\"id\":\"9295d5ae-54d3-4d0d-8d0a-76e8c217c7a6\",\"type\":\"Rect\"},\"hover_glyph\":null,\"nonselection_glyph\":null,\"selection_glyph\":null},\"id\":\"187fb16f-f5b5-4fda-95e6-3a1564e35b6a\",\"type\":\"GlyphRenderer\"},{\"attributes\":{\"callback\":null,\"column_names\":[\"line_alpha\",\"line_color\",\"label\",\"x\",\"width\",\"height\",\"fill_alpha\",\"color\",\"y\"],\"data\":{\"chart_index\":[\"(58.077690, 61.949536]\"],\"color\":[\"#f22c40\"],\"fill_alpha\":[0.8],\"height\":[1.0],\"label\":[\"(58.077690, 61.949536]\"],\"line_alpha\":[1.0],\"line_color\":[\"black\"],\"width\":[3.871845993144774],\"x\":[\"60.013613\"],\"y\":[0.5]}},\"id\":\"85c96942-7de9-4d78-87e2-8cae2c993f42\",\"type\":\"ColumnDataSource\"},{\"attributes\":{\"data_source\":{\"id\":\"fbc954ce-2020-45f8-9ea6-a6408dfa151a\",\"type\":\"ColumnDataSource\"},\"glyph\":{\"id\":\"b44ca3ec-0af6-487d-b989-cddc1736c9ab\",\"type\":\"Rect\"},\"hover_glyph\":null,\"nonselection_glyph\":null,\"selection_glyph\":null},\"id\":\"ce84f378-1c51-49a0-a0fb-23be8ef73a09\",\"type\":\"GlyphRenderer\"},{\"attributes\":{\"callback\":null,\"column_names\":[\"line_alpha\",\"line_color\",\"label\",\"x\",\"width\",\"height\",\"fill_alpha\",\"color\",\"y\"],\"data\":{\"chart_index\":[\"(73.565074, 77.436920]\"],\"color\":[\"#f22c40\"],\"fill_alpha\":[0.8],\"height\":[0.0],\"label\":[\"(73.565074, 77.436920]\"],\"line_alpha\":[1.0],\"line_color\":[\"black\"],\"width\":[3.871845993144774],\"x\":[\"75.500997\"],\"y\":[0.0]}},\"id\":\"26ec74ca-3650-415a-a868-c46dea8bb6b4\",\"type\":\"ColumnDataSource\"},{\"attributes\":{\"callback\":null,\"column_names\":[\"line_alpha\",\"line_color\",\"label\",\"x\",\"width\",\"height\",\"fill_alpha\",\"color\",\"y\"],\"data\":{\"chart_index\":[\"(383.312753, 387.184599]\"],\"color\":[\"#f22c40\"],\"fill_alpha\":[0.8],\"height\":[1.0],\"label\":[\"(383.312753, 387.184599]\"],\"line_alpha\":[1.0],\"line_color\":[\"black\"],\"width\":[3.8718459931447455],\"x\":[\"385.248676\"],\"y\":[0.5]}},\"id\":\"1c3c788c-9ecf-45e1-9f4d-83072a1c5e83\",\"type\":\"ColumnDataSource\"},{\"attributes\":{\"active_drag\":\"auto\",\"active_scroll\":\"auto\",\"active_tap\":\"auto\",\"tools\":[{\"id\":\"89652594-0c19-4aac-b935-9e54584ec63f\",\"type\":\"PanTool\"},{\"id\":\"8ba80e86-1512-4d6a-b45c-d01b5e22b380\",\"type\":\"WheelZoomTool\"},{\"id\":\"5596edf9-fee8-480e-bb6e-accce7004b44\",\"type\":\"BoxZoomTool\"},{\"id\":\"5e150778-027d-4466-aa02-5af08fff0892\",\"type\":\"SaveTool\"},{\"id\":\"1e5c1a75-cfec-410b-8da6-930af003bd78\",\"type\":\"ResetTool\"},{\"id\":\"098999b4-6e2a-4941-af68-775d53aa3e3e\",\"type\":\"HelpTool\"}]},\"id\":\"50c3e9a5-dec5-41da-9363-5ee909aaa055\",\"type\":\"Toolbar\"},{\"attributes\":{\"callback\":null,\"column_names\":[\"line_alpha\",\"line_color\",\"label\",\"x\",\"width\",\"height\",\"fill_alpha\",\"color\",\"y\"],\"data\":{\"chart_index\":[\"(348.466139, 352.337985]\"],\"color\":[\"#f22c40\"],\"fill_alpha\":[0.8],\"height\":[0.0],\"label\":[\"(348.466139, 352.337985]\"],\"line_alpha\":[1.0],\"line_color\":[\"black\"],\"width\":[3.8718459931448024],\"x\":[\"350.402062\"],\"y\":[0.0]}},\"id\":\"22f69b5e-d7e4-4063-b895-d70058d34aec\",\"type\":\"ColumnDataSource\"},{\"attributes\":{\"callback\":null,\"column_names\":[\"line_alpha\",\"line_color\",\"label\",\"x\",\"width\",\"height\",\"fill_alpha\",\"color\",\"y\"],\"data\":{\"chart_index\":[\"(34.846614, 38.718460]\"],\"color\":[\"#f22c40\"],\"fill_alpha\":[0.8],\"height\":[2.0],\"label\":[\"(34.846614, 38.718460]\"],\"line_alpha\":[1.0],\"line_color\":[\"black\"],\"width\":[3.871845993144774],\"x\":[\"36.782537000000005\"],\"y\":[1.0]}},\"id\":\"fbc954ce-2020-45f8-9ea6-a6408dfa151a\",\"type\":\"ColumnDataSource\"},{\"attributes\":{\"fill_alpha\":{\"field\":\"fill_alpha\"},\"fill_color\":{\"field\":\"color\"},\"height\":{\"field\":\"height\",\"units\":\"data\"},\"line_color\":{\"field\":\"line_color\"},\"width\":{\"field\":\"width\",\"units\":\"data\"},\"x\":{\"field\":\"x\"},\"y\":{\"field\":\"y\"}},\"id\":\"9f757fcf-6d4c-4d2a-9608-8dfb4a54ce90\",\"type\":\"Rect\"},{\"attributes\":{\"fill_alpha\":{\"field\":\"fill_alpha\"},\"fill_color\":{\"field\":\"color\"},\"height\":{\"field\":\"height\",\"units\":\"data\"},\"line_color\":{\"field\":\"line_color\"},\"width\":{\"field\":\"width\",\"units\":\"data\"},\"x\":{\"field\":\"x\"},\"y\":{\"field\":\"y\"}},\"id\":\"769975b7-2388-484d-832f-aa35690cb611\",\"type\":\"Rect\"},{\"attributes\":{\"data_source\":{\"id\":\"7c47ecf0-b8b2-49ce-9f13-753fe0d4a7a1\",\"type\":\"ColumnDataSource\"},\"glyph\":{\"id\":\"acd3ecd6-771a-494f-bbb6-3e19bd67d96d\",\"type\":\"Rect\"},\"hover_glyph\":null,\"nonselection_glyph\":null,\"selection_glyph\":null},\"id\":\"f17f678c-ddb1-408d-aef1-a7fc10411daf\",\"type\":\"GlyphRenderer\"},{\"attributes\":{\"data_source\":{\"id\":\"b605f12e-5e90-4003-b5fc-220a56c1936e\",\"type\":\"ColumnDataSource\"},\"glyph\":{\"id\":\"60af3f90-709a-4d93-8876-457ae98bd02b\",\"type\":\"Rect\"},\"hover_glyph\":null,\"nonselection_glyph\":null,\"selection_glyph\":null},\"id\":\"b0235c87-b2dc-4103-a774-ee1e2cc424eb\",\"type\":\"GlyphRenderer\"},{\"attributes\":{\"fill_alpha\":{\"field\":\"fill_alpha\"},\"fill_color\":{\"field\":\"color\"},\"height\":{\"field\":\"height\",\"units\":\"data\"},\"line_color\":{\"field\":\"line_color\"},\"width\":{\"field\":\"width\",\"units\":\"data\"},\"x\":{\"field\":\"x\"},\"y\":{\"field\":\"y\"}},\"id\":\"3a57d8d3-f2b1-47b2-94c1-27b39a75bb0b\",\"type\":\"Rect\"},{\"attributes\":{\"fill_alpha\":{\"field\":\"fill_alpha\"},\"fill_color\":{\"field\":\"color\"},\"height\":{\"field\":\"height\",\"units\":\"data\"},\"line_color\":{\"field\":\"line_color\"},\"width\":{\"field\":\"width\",\"units\":\"data\"},\"x\":{\"field\":\"x\"},\"y\":{\"field\":\"y\"}},\"id\":\"f112f5da-a55d-4ba4-baf2-65da01df342a\",\"type\":\"Rect\"},{\"attributes\":{\"fill_alpha\":{\"field\":\"fill_alpha\"},\"fill_color\":{\"field\":\"color\"},\"height\":{\"field\":\"height\",\"units\":\"data\"},\"line_color\":{\"field\":\"line_color\"},\"width\":{\"field\":\"width\",\"units\":\"data\"},\"x\":{\"field\":\"x\"},\"y\":{\"field\":\"y\"}},\"id\":\"03bc7cdb-8c6b-4689-b8b3-9f3f52e8fe7a\",\"type\":\"Rect\"},{\"attributes\":{\"data_source\":{\"id\":\"8f160dbe-81e4-46c7-874a-3382176e21f2\",\"type\":\"ColumnDataSource\"},\"glyph\":{\"id\":\"712d3a1c-2971-4069-99b3-48f75601625b\",\"type\":\"Rect\"},\"hover_glyph\":null,\"nonselection_glyph\":null,\"selection_glyph\":null},\"id\":\"ecb7fb69-46cb-4436-a825-578af4768fde\",\"type\":\"GlyphRenderer\"},{\"attributes\":{\"fill_alpha\":{\"field\":\"fill_alpha\"},\"fill_color\":{\"field\":\"color\"},\"height\":{\"field\":\"height\",\"units\":\"data\"},\"line_color\":{\"field\":\"line_color\"},\"width\":{\"field\":\"width\",\"units\":\"data\"},\"x\":{\"field\":\"x\"},\"y\":{\"field\":\"y\"}},\"id\":\"efe164ab-5b19-4b06-82c2-15979bf8b03c\",\"type\":\"Rect\"},{\"attributes\":{\"fill_alpha\":{\"field\":\"fill_alpha\"},\"fill_color\":{\"field\":\"color\"},\"height\":{\"field\":\"height\",\"units\":\"data\"},\"line_color\":{\"field\":\"line_color\"},\"width\":{\"field\":\"width\",\"units\":\"data\"},\"x\":{\"field\":\"x\"},\"y\":{\"field\":\"y\"}},\"id\":\"7b37ab48-b632-45ae-8cca-f8020bfea4d5\",\"type\":\"Rect\"},{\"attributes\":{\"data_source\":{\"id\":\"35ad200a-d5f9-4242-924e-5107a5171718\",\"type\":\"ColumnDataSource\"},\"glyph\":{\"id\":\"871af0e4-6a96-4ed3-b79d-231d4750c202\",\"type\":\"Rect\"},\"hover_glyph\":null,\"nonselection_glyph\":null,\"selection_glyph\":null},\"id\":\"8252e091-3693-4871-8d43-0107b03c2dd3\",\"type\":\"GlyphRenderer\"},{\"attributes\":{\"callback\":null,\"column_names\":[\"line_alpha\",\"line_color\",\"label\",\"x\",\"width\",\"height\",\"fill_alpha\",\"color\",\"y\"],\"data\":{\"chart_index\":[\"(162.617532, 166.489378]\"],\"color\":[\"#f22c40\"],\"fill_alpha\":[0.8],\"height\":[0.0],\"label\":[\"(162.617532, 166.489378]\"],\"line_alpha\":[1.0],\"line_color\":[\"black\"],\"width\":[3.871845993144774],\"x\":[\"164.55345499999999\"],\"y\":[0.0]}},\"id\":\"1a0ea3ef-4fbb-4fc0-91f9-f764a5753bcb\",\"type\":\"ColumnDataSource\"},{\"attributes\":{\"callback\":null,\"column_names\":[\"line_alpha\",\"line_color\",\"label\",\"x\",\"width\",\"height\",\"fill_alpha\",\"color\",\"y\"],\"data\":{\"chart_index\":[\"(147.130148, 151.001994]\"],\"color\":[\"#f22c40\"],\"fill_alpha\":[0.8],\"height\":[1.0],\"label\":[\"(147.130148, 151.001994]\"],\"line_alpha\":[1.0],\"line_color\":[\"black\"],\"width\":[3.871845993144774],\"x\":[\"149.066071\"],\"y\":[0.5]}},\"id\":\"216af615-2b74-4fc9-a590-e39fe7b89e7c\",\"type\":\"ColumnDataSource\"},{\"attributes\":{\"callback\":null,\"column_names\":[\"line_alpha\",\"line_color\",\"label\",\"x\",\"width\",\"height\",\"fill_alpha\",\"color\",\"y\"],\"data\":{\"chart_index\":[\"(27.102922, 30.974768]\"],\"color\":[\"#f22c40\"],\"fill_alpha\":[0.8],\"height\":[5.0],\"label\":[\"(27.102922, 30.974768]\"],\"line_alpha\":[1.0],\"line_color\":[\"black\"],\"width\":[3.8718459931447704],\"x\":[\"29.038845000000002\"],\"y\":[2.5]}},\"id\":\"412f3a8c-0117-4635-bedc-a12cad455bf9\",\"type\":\"ColumnDataSource\"},{\"attributes\":{\"fill_alpha\":{\"field\":\"fill_alpha\"},\"fill_color\":{\"field\":\"color\"},\"height\":{\"field\":\"height\",\"units\":\"data\"},\"line_color\":{\"field\":\"line_color\"},\"width\":{\"field\":\"width\",\"units\":\"data\"},\"x\":{\"field\":\"x\"},\"y\":{\"field\":\"y\"}},\"id\":\"c631072f-0b03-486a-955d-523a0b6937c2\",\"type\":\"Rect\"},{\"attributes\":{\"data_source\":{\"id\":\"2872c462-c702-4e6c-a11a-1d20efbbde26\",\"type\":\"ColumnDataSource\"},\"glyph\":{\"id\":\"da9c8818-f3db-4303-9038-a97fb647a320\",\"type\":\"Rect\"},\"hover_glyph\":null,\"nonselection_glyph\":null,\"selection_glyph\":null},\"id\":\"0d7c7dfc-2fd3-4cee-b3d4-cc3dfed98e98\",\"type\":\"GlyphRenderer\"},{\"attributes\":{\"plot\":{\"id\":\"6a7afe79-9efc-40fd-a956-f7e16d313871\",\"subtype\":\"Chart\",\"type\":\"Plot\"}},\"id\":\"1e5c1a75-cfec-410b-8da6-930af003bd78\",\"type\":\"ResetTool\"},{\"attributes\":{\"fill_alpha\":{\"field\":\"fill_alpha\"},\"fill_color\":{\"field\":\"color\"},\"height\":{\"field\":\"height\",\"units\":\"data\"},\"line_color\":{\"field\":\"line_color\"},\"width\":{\"field\":\"width\",\"units\":\"data\"},\"x\":{\"field\":\"x\"},\"y\":{\"field\":\"y\"}},\"id\":\"ebaee26f-b20b-4b6b-998d-6cee1535a8cf\",\"type\":\"Rect\"},{\"attributes\":{\"fill_alpha\":{\"field\":\"fill_alpha\"},\"fill_color\":{\"field\":\"color\"},\"height\":{\"field\":\"height\",\"units\":\"data\"},\"line_color\":{\"field\":\"line_color\"},\"width\":{\"field\":\"width\",\"units\":\"data\"},\"x\":{\"field\":\"x\"},\"y\":{\"field\":\"y\"}},\"id\":\"94d2f28e-30c7-4794-a554-0e011556a04d\",\"type\":\"Rect\"},{\"attributes\":{\"callback\":null,\"column_names\":[\"line_alpha\",\"line_color\",\"label\",\"x\",\"width\",\"height\",\"fill_alpha\",\"color\",\"y\"],\"data\":{\"chart_index\":[\"(286.516603, 290.388449]\"],\"color\":[\"#f22c40\"],\"fill_alpha\":[0.8],\"height\":[0.0],\"label\":[\"(286.516603, 290.388449]\"],\"line_alpha\":[1.0],\"line_color\":[\"black\"],\"width\":[3.8718459931448024],\"x\":[\"288.452526\"],\"y\":[0.0]}},\"id\":\"9b0959ec-c768-4b47-ae9a-84cc986ee984\",\"type\":\"ColumnDataSource\"},{\"attributes\":{\"fill_alpha\":{\"field\":\"fill_alpha\"},\"fill_color\":{\"field\":\"color\"},\"height\":{\"field\":\"height\",\"units\":\"data\"},\"line_color\":{\"field\":\"line_color\"},\"width\":{\"field\":\"width\",\"units\":\"data\"},\"x\":{\"field\":\"x\"},\"y\":{\"field\":\"y\"}},\"id\":\"8052aa06-64ce-4454-96e3-cbf82e5afdb4\",\"type\":\"Rect\"},{\"attributes\":{\"data_source\":{\"id\":\"6947557e-d011-47de-885c-d10c8d52786e\",\"type\":\"ColumnDataSource\"},\"glyph\":{\"id\":\"82be01f8-fe71-42f6-b228-b7286344e7bb\",\"type\":\"Rect\"},\"hover_glyph\":null,\"nonselection_glyph\":null,\"selection_glyph\":null},\"id\":\"47facb1f-f415-4838-8846-44f10f5cdf81\",\"type\":\"GlyphRenderer\"},{\"attributes\":{\"fill_alpha\":{\"field\":\"fill_alpha\"},\"fill_color\":{\"field\":\"color\"},\"height\":{\"field\":\"height\",\"units\":\"data\"},\"line_color\":{\"field\":\"line_color\"},\"width\":{\"field\":\"width\",\"units\":\"data\"},\"x\":{\"field\":\"x\"},\"y\":{\"field\":\"y\"}},\"id\":\"c6cdd1e0-4a8e-4fde-90ea-ec671ca44b43\",\"type\":\"Rect\"},{\"attributes\":{\"fill_alpha\":{\"field\":\"fill_alpha\"},\"fill_color\":{\"field\":\"color\"},\"height\":{\"field\":\"height\",\"units\":\"data\"},\"line_color\":{\"field\":\"line_color\"},\"width\":{\"field\":\"width\",\"units\":\"data\"},\"x\":{\"field\":\"x\"},\"y\":{\"field\":\"y\"}},\"id\":\"9295d5ae-54d3-4d0d-8d0a-76e8c217c7a6\",\"type\":\"Rect\"},{\"attributes\":{\"callback\":null,\"column_names\":[\"line_alpha\",\"line_color\",\"label\",\"x\",\"width\",\"height\",\"fill_alpha\",\"color\",\"y\"],\"data\":{\"chart_index\":[\"(116.155380, 120.027226]\"],\"color\":[\"#f22c40\"],\"fill_alpha\":[0.8],\"height\":[0.0],\"label\":[\"(116.155380, 120.027226]\"],\"line_alpha\":[1.0],\"line_color\":[\"black\"],\"width\":[3.871845993144774],\"x\":[\"118.091303\"],\"y\":[0.0]}},\"id\":\"76254537-1cb3-4f0c-98a6-fca6d0e657a7\",\"type\":\"ColumnDataSource\"},{\"attributes\":{\"callback\":null,\"column_names\":[\"line_alpha\",\"line_color\",\"label\",\"x\",\"width\",\"height\",\"fill_alpha\",\"color\",\"y\"],\"data\":{\"chart_index\":[\"(174.233070, 178.104916]\"],\"color\":[\"#f22c40\"],\"fill_alpha\":[0.8],\"height\":[0.0],\"label\":[\"(174.233070, 178.104916]\"],\"line_alpha\":[1.0],\"line_color\":[\"black\"],\"width\":[3.871845993144774],\"x\":[\"176.168993\"],\"y\":[0.0]}},\"id\":\"8f160dbe-81e4-46c7-874a-3382176e21f2\",\"type\":\"ColumnDataSource\"},{\"attributes\":{\"fill_alpha\":{\"field\":\"fill_alpha\"},\"fill_color\":{\"field\":\"color\"},\"height\":{\"field\":\"height\",\"units\":\"data\"},\"line_color\":{\"field\":\"line_color\"},\"width\":{\"field\":\"width\",\"units\":\"data\"},\"x\":{\"field\":\"x\"},\"y\":{\"field\":\"y\"}},\"id\":\"30418cb4-719b-44f0-ae68-8de262c57829\",\"type\":\"Rect\"},{\"attributes\":{},\"id\":\"e695a841-c0df-4b7f-8748-08f68ba9b2d5\",\"type\":\"BasicTickFormatter\"},{\"attributes\":{\"callback\":null,\"column_names\":[\"line_alpha\",\"line_color\",\"label\",\"x\",\"width\",\"height\",\"fill_alpha\",\"color\",\"y\"],\"data\":{\"chart_index\":[\"(236.182606, 240.054452]\"],\"color\":[\"#f22c40\"],\"fill_alpha\":[0.8],\"height\":[0.0],\"label\":[\"(236.182606, 240.054452]\"],\"line_alpha\":[1.0],\"line_color\":[\"black\"],\"width\":[3.871845993144774],\"x\":[\"238.118529\"],\"y\":[0.0]}},\"id\":\"d41599e9-8863-41a4-8904-20de81738fa7\",\"type\":\"ColumnDataSource\"},{\"attributes\":{\"axis_label\":\"Count( Enterocount )\",\"formatter\":{\"id\":\"f14f17cc-4a55-4d20-b656-6280051c6b30\",\"type\":\"BasicTickFormatter\"},\"plot\":{\"id\":\"6a7afe79-9efc-40fd-a956-f7e16d313871\",\"subtype\":\"Chart\",\"type\":\"Plot\"},\"ticker\":{\"id\":\"2d1e6171-7f82-4bf6-919f-b602e8b9526b\",\"type\":\"BasicTicker\"}},\"id\":\"1dd97520-c115-43da-b867-a4912e611eba\",\"type\":\"LinearAxis\"},{\"attributes\":{\"callback\":null,\"column_names\":[\"line_alpha\",\"line_color\",\"label\",\"x\",\"width\",\"height\",\"fill_alpha\",\"color\",\"y\"],\"data\":{\"chart_index\":[\"(143.258302, 147.130148]\"],\"color\":[\"#f22c40\"],\"fill_alpha\":[0.8],\"height\":[0.0],\"label\":[\"(143.258302, 147.130148]\"],\"line_alpha\":[1.0],\"line_color\":[\"black\"],\"width\":[3.871845993144774],\"x\":[\"145.194225\"],\"y\":[0.0]}},\"id\":\"484a35db-d368-40c8-b21e-9d3dfe750736\",\"type\":\"ColumnDataSource\"},{\"attributes\":{\"callback\":null,\"column_names\":[\"line_alpha\",\"line_color\",\"label\",\"x\",\"width\",\"height\",\"fill_alpha\",\"color\",\"y\"],\"data\":{\"chart_index\":[\"(294.260295, 298.132141]\"],\"color\":[\"#f22c40\"],\"fill_alpha\":[0.8],\"height\":[0.0],\"label\":[\"(294.260295, 298.132141]\"],\"line_alpha\":[1.0],\"line_color\":[\"black\"],\"width\":[3.8718459931447455],\"x\":[\"296.196218\"],\"y\":[0.0]}},\"id\":\"276d928d-e84a-45e3-8ffa-a708990c0111\",\"type\":\"ColumnDataSource\"},{\"attributes\":{\"data_source\":{\"id\":\"bbac2940-887b-4463-95e3-3f3e4e10537f\",\"type\":\"ColumnDataSource\"},\"glyph\":{\"id\":\"aec3c0d5-6690-4bdf-af1d-e0a34a8c2e45\",\"type\":\"Rect\"},\"hover_glyph\":null,\"nonselection_glyph\":null,\"selection_glyph\":null},\"id\":\"635ab18c-5abe-4fb6-9aff-449c56cf39e4\",\"type\":\"GlyphRenderer\"},{\"attributes\":{\"dimension\":1,\"plot\":{\"id\":\"6a7afe79-9efc-40fd-a956-f7e16d313871\",\"subtype\":\"Chart\",\"type\":\"Plot\"},\"ticker\":{\"id\":\"2d1e6171-7f82-4bf6-919f-b602e8b9526b\",\"type\":\"BasicTicker\"}},\"id\":\"d7996ab8-1b47-4041-9666-b021d46aff77\",\"type\":\"Grid\"},{\"attributes\":{\"fill_alpha\":{\"field\":\"fill_alpha\"},\"fill_color\":{\"field\":\"color\"},\"height\":{\"field\":\"height\",\"units\":\"data\"},\"line_color\":{\"field\":\"line_color\"},\"width\":{\"field\":\"width\",\"units\":\"data\"},\"x\":{\"field\":\"x\"},\"y\":{\"field\":\"y\"}},\"id\":\"a5f0865a-3df6-48af-a15a-851e71ed95ba\",\"type\":\"Rect\"},{\"attributes\":{\"fill_alpha\":{\"field\":\"fill_alpha\"},\"fill_color\":{\"field\":\"color\"},\"height\":{\"field\":\"height\",\"units\":\"data\"},\"line_color\":{\"field\":\"line_color\"},\"width\":{\"field\":\"width\",\"units\":\"data\"},\"x\":{\"field\":\"x\"},\"y\":{\"field\":\"y\"}},\"id\":\"849818b3-6448-483a-aa5f-b429ea414cb7\",\"type\":\"Rect\"},{\"attributes\":{\"axis_label\":\"EnteroCount\",\"formatter\":{\"id\":\"e695a841-c0df-4b7f-8748-08f68ba9b2d5\",\"type\":\"BasicTickFormatter\"},\"plot\":{\"id\":\"6a7afe79-9efc-40fd-a956-f7e16d313871\",\"subtype\":\"Chart\",\"type\":\"Plot\"},\"ticker\":{\"id\":\"76dd1093-9c70-4f98-9b98-0eca2d0c8fb9\",\"type\":\"BasicTicker\"}},\"id\":\"8813bbb9-2b91-423b-ac10-779de9da6168\",\"type\":\"LinearAxis\"},{\"attributes\":{\"data_source\":{\"id\":\"a59f4a1b-b943-49c7-83ce-e5b836b217ae\",\"type\":\"ColumnDataSource\"},\"glyph\":{\"id\":\"f838c797-efcd-4cb7-8dcf-09fc1630fe7d\",\"type\":\"Rect\"},\"hover_glyph\":null,\"nonselection_glyph\":null,\"selection_glyph\":null},\"id\":\"3883b23c-81e8-4678-b277-f9d175e3dc57\",\"type\":\"GlyphRenderer\"},{\"attributes\":{\"callback\":null,\"column_names\":[\"line_alpha\",\"line_color\",\"label\",\"x\",\"width\",\"height\",\"fill_alpha\",\"color\",\"y\"],\"data\":{\"chart_index\":[\"(50.333998, 54.205844]\"],\"color\":[\"#f22c40\"],\"fill_alpha\":[0.8],\"height\":[1.0],\"label\":[\"(50.333998, 54.205844]\"],\"line_alpha\":[1.0],\"line_color\":[\"black\"],\"width\":[3.871845993144774],\"x\":[\"52.269921\"],\"y\":[0.5]}},\"id\":\"0404f045-21ba-43e7-97da-5e5d4116b9b8\",\"type\":\"ColumnDataSource\"},{\"attributes\":{\"callback\":null,\"column_names\":[\"line_alpha\",\"line_color\",\"label\",\"x\",\"width\",\"height\",\"fill_alpha\",\"color\",\"y\"],\"data\":{\"chart_index\":[\"(340.722447, 344.594293]\"],\"color\":[\"#f22c40\"],\"fill_alpha\":[0.8],\"height\":[0.0],\"label\":[\"(340.722447, 344.594293]\"],\"line_alpha\":[1.0],\"line_color\":[\"black\"],\"width\":[3.8718459931447455],\"x\":[\"342.65837\"],\"y\":[0.0]}},\"id\":\"0e806b6e-7d04-4b53-a5c3-1d7aa984a4fb\",\"type\":\"ColumnDataSource\"},{\"attributes\":{\"fill_alpha\":{\"field\":\"fill_alpha\"},\"fill_color\":{\"field\":\"color\"},\"height\":{\"field\":\"height\",\"units\":\"data\"},\"line_color\":{\"field\":\"line_color\"},\"width\":{\"field\":\"width\",\"units\":\"data\"},\"x\":{\"field\":\"x\"},\"y\":{\"field\":\"y\"}},\"id\":\"32833539-dedc-412a-9963-5ebce5b0bd6d\",\"type\":\"Rect\"},{\"attributes\":{\"callback\":null,\"column_names\":[\"line_alpha\",\"line_color\",\"label\",\"x\",\"width\",\"height\",\"fill_alpha\",\"color\",\"y\"],\"data\":{\"chart_index\":[\"(11.615538, 15.487384]\"],\"color\":[\"#f22c40\"],\"fill_alpha\":[0.8],\"height\":[5.0],\"label\":[\"(11.615538, 15.487384]\"],\"line_alpha\":[1.0],\"line_color\":[\"black\"],\"width\":[3.871845993144772],\"x\":[\"13.551461\"],\"y\":[2.5]}},\"id\":\"fe00ca9b-87ee-4c69-a058-1d5915357b1b\",\"type\":\"ColumnDataSource\"},{\"attributes\":{\"callback\":null,\"column_names\":[\"line_alpha\",\"line_color\",\"label\",\"x\",\"width\",\"height\",\"fill_alpha\",\"color\",\"y\"],\"data\":{\"chart_index\":[\"(379.440907, 383.312753]\"],\"color\":[\"#f22c40\"],\"fill_alpha\":[0.8],\"height\":[0.0],\"label\":[\"(379.440907, 383.312753]\"],\"line_alpha\":[1.0],\"line_color\":[\"black\"],\"width\":[3.8718459931448024],\"x\":[\"381.37683\"],\"y\":[0.0]}},\"id\":\"a59f4a1b-b943-49c7-83ce-e5b836b217ae\",\"type\":\"ColumnDataSource\"},{\"attributes\":{\"data_source\":{\"id\":\"f664729a-2ebe-4d54-95ed-6ee9e1781cd1\",\"type\":\"ColumnDataSource\"},\"glyph\":{\"id\":\"1aefec4b-066d-4405-a95c-cfe965bc0d85\",\"type\":\"Rect\"},\"hover_glyph\":null,\"nonselection_glyph\":null,\"selection_glyph\":null},\"id\":\"39c347c6-1f67-4f68-98c9-6a54587a6877\",\"type\":\"GlyphRenderer\"},{\"attributes\":{\"data_source\":{\"id\":\"276d928d-e84a-45e3-8ffa-a708990c0111\",\"type\":\"ColumnDataSource\"},\"glyph\":{\"id\":\"130ed51a-b69b-466d-bf86-ce8f53cce47c\",\"type\":\"Rect\"},\"hover_glyph\":null,\"nonselection_glyph\":null,\"selection_glyph\":null},\"id\":\"b333aff8-fef2-4eed-8cc2-e132a9d2de0a\",\"type\":\"GlyphRenderer\"},{\"attributes\":{\"data_source\":{\"id\":\"7c0592e3-c79c-49ab-b27c-c2fd394d83f3\",\"type\":\"ColumnDataSource\"},\"glyph\":{\"id\":\"4444fd00-847e-499e-87a6-41fa7b8d2bf5\",\"type\":\"Rect\"},\"hover_glyph\":null,\"nonselection_glyph\":null,\"selection_glyph\":null},\"id\":\"840ea1e6-4580-4c0b-b873-562996a5ded8\",\"type\":\"GlyphRenderer\"},{\"attributes\":{\"fill_alpha\":{\"field\":\"fill_alpha\"},\"fill_color\":{\"field\":\"color\"},\"height\":{\"field\":\"height\",\"units\":\"data\"},\"line_color\":{\"field\":\"line_color\"},\"width\":{\"field\":\"width\",\"units\":\"data\"},\"x\":{\"field\":\"x\"},\"y\":{\"field\":\"y\"}},\"id\":\"4fbdd247-7b11-4e61-ae3c-57f9372934eb\",\"type\":\"Rect\"},{\"attributes\":{\"data_source\":{\"id\":\"3ee570bf-43fe-44d2-b228-0e2fa3f3d3b8\",\"type\":\"ColumnDataSource\"},\"glyph\":{\"id\":\"dfa5e1c3-cfd4-4c19-a3ef-b392758930f5\",\"type\":\"Rect\"},\"hover_glyph\":null,\"nonselection_glyph\":null,\"selection_glyph\":null},\"id\":\"64bb4664-f243-445c-9dee-848597fad829\",\"type\":\"GlyphRenderer\"},{\"attributes\":{\"fill_alpha\":{\"field\":\"fill_alpha\"},\"fill_color\":{\"field\":\"color\"},\"height\":{\"field\":\"height\",\"units\":\"data\"},\"line_color\":{\"field\":\"line_color\"},\"width\":{\"field\":\"width\",\"units\":\"data\"},\"x\":{\"field\":\"x\"},\"y\":{\"field\":\"y\"}},\"id\":\"440e5bfa-5b0e-40ba-88ba-44230a81b240\",\"type\":\"Rect\"},{\"attributes\":{\"fill_alpha\":{\"field\":\"fill_alpha\"},\"fill_color\":{\"field\":\"color\"},\"height\":{\"field\":\"height\",\"units\":\"data\"},\"line_color\":{\"field\":\"line_color\"},\"width\":{\"field\":\"width\",\"units\":\"data\"},\"x\":{\"field\":\"x\"},\"y\":{\"field\":\"y\"}},\"id\":\"ce223354-6536-4fdd-82d1-8e31d227c328\",\"type\":\"Rect\"},{\"attributes\":{\"data_source\":{\"id\":\"86998624-d9a7-4ddf-90de-f57540f9d502\",\"type\":\"ColumnDataSource\"},\"glyph\":{\"id\":\"6ff449d5-2090-4bf4-adfd-fa867705058d\",\"type\":\"Rect\"},\"hover_glyph\":null,\"nonselection_glyph\":null,\"selection_glyph\":null},\"id\":\"7d715fd6-7420-4e1b-9fc2-b44896f7d8d8\",\"type\":\"GlyphRenderer\"},{\"attributes\":{\"callback\":null,\"column_names\":[\"line_alpha\",\"line_color\",\"label\",\"x\",\"width\",\"height\",\"fill_alpha\",\"color\",\"y\"],\"data\":{\"chart_index\":[\"(193.592300, 197.464146]\"],\"color\":[\"#f22c40\"],\"fill_alpha\":[0.8],\"height\":[0.0],\"label\":[\"(193.592300, 197.464146]\"],\"line_alpha\":[1.0],\"line_color\":[\"black\"],\"width\":[3.871845993144774],\"x\":[\"195.528223\"],\"y\":[0.0]}},\"id\":\"d46d32ea-c9fb-4298-b487-f734febed69e\",\"type\":\"ColumnDataSource\"},{\"attributes\":{\"callback\":null,\"column_names\":[\"line_alpha\",\"line_color\",\"label\",\"x\",\"width\",\"height\",\"fill_alpha\",\"color\",\"y\"],\"data\":{\"chart_index\":[\"(69.693228, 73.565074]\"],\"color\":[\"#f22c40\"],\"fill_alpha\":[0.8],\"height\":[1.0],\"label\":[\"(69.693228, 73.565074]\"],\"line_alpha\":[1.0],\"line_color\":[\"black\"],\"width\":[3.871845993144774],\"x\":[\"71.62915100000001\"],\"y\":[0.5]}},\"id\":\"35ad200a-d5f9-4242-924e-5107a5171718\",\"type\":\"ColumnDataSource\"},{\"attributes\":{\"fill_alpha\":{\"field\":\"fill_alpha\"},\"fill_color\":{\"field\":\"color\"},\"height\":{\"field\":\"height\",\"units\":\"data\"},\"line_color\":{\"field\":\"line_color\"},\"width\":{\"field\":\"width\",\"units\":\"data\"},\"x\":{\"field\":\"x\"},\"y\":{\"field\":\"y\"}},\"id\":\"4444fd00-847e-499e-87a6-41fa7b8d2bf5\",\"type\":\"Rect\"},{\"attributes\":{\"fill_alpha\":{\"field\":\"fill_alpha\"},\"fill_color\":{\"field\":\"color\"},\"height\":{\"field\":\"height\",\"units\":\"data\"},\"line_color\":{\"field\":\"line_color\"},\"width\":{\"field\":\"width\",\"units\":\"data\"},\"x\":{\"field\":\"x\"},\"y\":{\"field\":\"y\"}},\"id\":\"57cd847a-c806-43da-9b15-7df8704a4121\",\"type\":\"Rect\"},{\"attributes\":{\"fill_alpha\":{\"field\":\"fill_alpha\"},\"fill_color\":{\"field\":\"color\"},\"height\":{\"field\":\"height\",\"units\":\"data\"},\"line_color\":{\"field\":\"line_color\"},\"width\":{\"field\":\"width\",\"units\":\"data\"},\"x\":{\"field\":\"x\"},\"y\":{\"field\":\"y\"}},\"id\":\"e7da322a-9e40-4b58-a7b8-99bb0210b558\",\"type\":\"Rect\"},{\"attributes\":{\"callback\":null,\"column_names\":[\"line_alpha\",\"line_color\",\"label\",\"x\",\"width\",\"height\",\"fill_alpha\",\"color\",\"y\"],\"data\":{\"chart_index\":[\"(23.231076, 27.102922]\"],\"color\":[\"#f22c40\"],\"fill_alpha\":[0.8],\"height\":[4.0],\"label\":[\"(23.231076, 27.102922]\"],\"line_alpha\":[1.0],\"line_color\":[\"black\"],\"width\":[3.871845993144774],\"x\":[\"25.166999\"],\"y\":[2.0]}},\"id\":\"3ee570bf-43fe-44d2-b228-0e2fa3f3d3b8\",\"type\":\"ColumnDataSource\"},{\"attributes\":{\"callback\":null,\"column_names\":[\"line_alpha\",\"line_color\",\"label\",\"x\",\"width\",\"height\",\"fill_alpha\",\"color\",\"y\"],\"data\":{\"chart_index\":[\"(3.871846, 7.743692]\"],\"color\":[\"#f22c40\"],\"fill_alpha\":[0.8],\"height\":[4.0],\"label\":[\"(3.871846, 7.743692]\"],\"line_alpha\":[1.0],\"line_color\":[\"black\"],\"width\":[3.8718459931447717],\"x\":[\"5.807769\"],\"y\":[2.0]}},\"id\":\"e9541d09-dab3-4516-ac0a-9fbaffceb0db\",\"type\":\"ColumnDataSource\"},{\"attributes\":{\"data_source\":{\"id\":\"066922b7-a189-415e-9034-37e69177acdc\",\"type\":\"ColumnDataSource\"},\"glyph\":{\"id\":\"544d2343-e5fb-4cab-9b8a-1dbfcdc83a39\",\"type\":\"Rect\"},\"hover_glyph\":null,\"nonselection_glyph\":null,\"selection_glyph\":null},\"id\":\"86293535-b482-424e-bc3f-ad4c3ec87409\",\"type\":\"GlyphRenderer\"},{\"attributes\":{\"fill_alpha\":{\"field\":\"fill_alpha\"},\"fill_color\":{\"field\":\"color\"},\"height\":{\"field\":\"height\",\"units\":\"data\"},\"line_color\":{\"field\":\"line_color\"},\"width\":{\"field\":\"width\",\"units\":\"data\"},\"x\":{\"field\":\"x\"},\"y\":{\"field\":\"y\"}},\"id\":\"a1357508-47dc-4d2b-a3c8-d7d6cf1a065c\",\"type\":\"Rect\"},{\"attributes\":{\"callback\":null,\"column_names\":[\"line_alpha\",\"line_color\",\"label\",\"x\",\"width\",\"height\",\"fill_alpha\",\"color\",\"y\"],\"data\":{\"chart_index\":[\"(290.388449, 294.260295]\"],\"color\":[\"#f22c40\"],\"fill_alpha\":[0.8],\"height\":[0.0],\"label\":[\"(290.388449, 294.260295]\"],\"line_alpha\":[1.0],\"line_color\":[\"black\"],\"width\":[3.8718459931447455],\"x\":[\"292.324372\"],\"y\":[0.0]}},\"id\":\"11a3e1af-6630-4bce-b381-663bf448837e\",\"type\":\"ColumnDataSource\"},{\"attributes\":{\"data_source\":{\"id\":\"d147a487-279f-4d80-891a-4a1767cfa59b\",\"type\":\"ColumnDataSource\"},\"glyph\":{\"id\":\"c6cdd1e0-4a8e-4fde-90ea-ec671ca44b43\",\"type\":\"Rect\"},\"hover_glyph\":null,\"nonselection_glyph\":null,\"selection_glyph\":null},\"id\":\"bb7d39e1-ec01-4595-a968-9cc1947d7bba\",\"type\":\"GlyphRenderer\"},{\"attributes\":{\"callback\":null,\"column_names\":[\"line_alpha\",\"line_color\",\"label\",\"x\",\"width\",\"height\",\"fill_alpha\",\"color\",\"y\"],\"data\":{\"chart_index\":[\"(271.029220, 274.901066]\"],\"color\":[\"#f22c40\"],\"fill_alpha\":[0.8],\"height\":[0.0],\"label\":[\"(271.029220, 274.901066]\"],\"line_alpha\":[1.0],\"line_color\":[\"black\"],\"width\":[3.8718459931448024],\"x\":[\"272.965143\"],\"y\":[0.0]}},\"id\":\"97032650-fcc9-4bcf-b692-568c679f65e2\",\"type\":\"ColumnDataSource\"},{\"attributes\":{\"data_source\":{\"id\":\"78719086-87b6-4551-abfa-c16f07466d3c\",\"type\":\"ColumnDataSource\"},\"glyph\":{\"id\":\"18f1aa5f-0728-4d80-8fb3-3ca966304d11\",\"type\":\"Rect\"},\"hover_glyph\":null,\"nonselection_glyph\":null,\"selection_glyph\":null},\"id\":\"a1e3b239-946c-4559-9b83-591f804da00e\",\"type\":\"GlyphRenderer\"},{\"attributes\":{\"fill_alpha\":{\"field\":\"fill_alpha\"},\"fill_color\":{\"field\":\"color\"},\"height\":{\"field\":\"height\",\"units\":\"data\"},\"line_color\":{\"field\":\"line_color\"},\"width\":{\"field\":\"width\",\"units\":\"data\"},\"x\":{\"field\":\"x\"},\"y\":{\"field\":\"y\"}},\"id\":\"9c8e4259-1436-4d62-b749-e2906973b403\",\"type\":\"Rect\"},{\"attributes\":{\"data_source\":{\"id\":\"a06fab3c-61ea-49a4-b8dd-d51c3acc1499\",\"type\":\"ColumnDataSource\"},\"glyph\":{\"id\":\"62ac0e18-1999-43cf-9a16-ac46c3b9a3c3\",\"type\":\"Rect\"},\"hover_glyph\":null,\"nonselection_glyph\":null,\"selection_glyph\":null},\"id\":\"0194812f-19d8-4492-93d8-0289af5068bf\",\"type\":\"GlyphRenderer\"},{\"attributes\":{\"fill_alpha\":{\"field\":\"fill_alpha\"},\"fill_color\":{\"field\":\"color\"},\"height\":{\"field\":\"height\",\"units\":\"data\"},\"line_color\":{\"field\":\"line_color\"},\"width\":{\"field\":\"width\",\"units\":\"data\"},\"x\":{\"field\":\"x\"},\"y\":{\"field\":\"y\"}},\"id\":\"14704c14-6afb-43e7-b20f-7f7ab30d07ed\",\"type\":\"Rect\"},{\"attributes\":{\"data_source\":{\"id\":\"60d89bbc-2e1f-438a-b8f6-1e2aacdb9588\",\"type\":\"ColumnDataSource\"},\"glyph\":{\"id\":\"9f757fcf-6d4c-4d2a-9608-8dfb4a54ce90\",\"type\":\"Rect\"},\"hover_glyph\":null,\"nonselection_glyph\":null,\"selection_glyph\":null},\"id\":\"e342ba5a-758e-463f-8d54-69a124661daf\",\"type\":\"GlyphRenderer\"},{\"attributes\":{\"fill_alpha\":{\"field\":\"fill_alpha\"},\"fill_color\":{\"field\":\"color\"},\"height\":{\"field\":\"height\",\"units\":\"data\"},\"line_color\":{\"field\":\"line_color\"},\"width\":{\"field\":\"width\",\"units\":\"data\"},\"x\":{\"field\":\"x\"},\"y\":{\"field\":\"y\"}},\"id\":\"13ab3260-89f5-459d-a13f-bd84574ae330\",\"type\":\"Rect\"},{\"attributes\":{\"callback\":null,\"column_names\":[\"line_alpha\",\"line_color\",\"label\",\"x\",\"width\",\"height\",\"fill_alpha\",\"color\",\"y\"],\"data\":{\"chart_index\":[\"(209.079684, 212.951530]\"],\"color\":[\"#f22c40\"],\"fill_alpha\":[0.8],\"height\":[0.0],\"label\":[\"(209.079684, 212.951530]\"],\"line_alpha\":[1.0],\"line_color\":[\"black\"],\"width\":[3.871845993144774],\"x\":[\"211.015607\"],\"y\":[0.0]}},\"id\":\"970ec4db-0d1f-435b-b8f3-ff06c6ab40e2\",\"type\":\"ColumnDataSource\"},{\"attributes\":{\"fill_alpha\":{\"field\":\"fill_alpha\"},\"fill_color\":{\"field\":\"color\"},\"height\":{\"field\":\"height\",\"units\":\"data\"},\"line_color\":{\"field\":\"line_color\"},\"width\":{\"field\":\"width\",\"units\":\"data\"},\"x\":{\"field\":\"x\"},\"y\":{\"field\":\"y\"}},\"id\":\"08cb724f-2374-408f-b457-88dbf33fe0ad\",\"type\":\"Rect\"},{\"attributes\":{\"callback\":null,\"column_names\":[\"line_alpha\",\"line_color\",\"label\",\"x\",\"width\",\"height\",\"fill_alpha\",\"color\",\"y\"],\"data\":{\"chart_index\":[\"(367.825369, 371.697215]\"],\"color\":[\"#f22c40\"],\"fill_alpha\":[0.8],\"height\":[0.0],\"label\":[\"(367.825369, 371.697215]\"],\"line_alpha\":[1.0],\"line_color\":[\"black\"],\"width\":[3.8718459931447455],\"x\":[\"369.761292\"],\"y\":[0.0]}},\"id\":\"71a2769e-2f87-4b9b-8c74-7e77e807cd46\",\"type\":\"ColumnDataSource\"},{\"attributes\":{\"data_source\":{\"id\":\"2ffd7d87-b028-4135-a6b9-40d69b3e274b\",\"type\":\"ColumnDataSource\"},\"glyph\":{\"id\":\"c2f40bd7-186d-486b-ba0b-fe8305dc989a\",\"type\":\"Rect\"},\"hover_glyph\":null,\"nonselection_glyph\":null,\"selection_glyph\":null},\"id\":\"097a862c-57c5-446d-80b1-013f97b6411a\",\"type\":\"GlyphRenderer\"},{\"attributes\":{\"callback\":null,\"column_names\":[\"line_alpha\",\"line_color\",\"label\",\"x\",\"width\",\"height\",\"fill_alpha\",\"color\",\"y\"],\"data\":{\"chart_index\":[\"(77.436920, 81.308766]\"],\"color\":[\"#f22c40\"],\"fill_alpha\":[0.8],\"height\":[0.0],\"label\":[\"(77.436920, 81.308766]\"],\"line_alpha\":[1.0],\"line_color\":[\"black\"],\"width\":[3.871845993144774],\"x\":[\"79.372843\"],\"y\":[0.0]}},\"id\":\"be4760d3-8748-4f1b-8c4d-335d4e8c0ba9\",\"type\":\"ColumnDataSource\"},{\"attributes\":{\"callback\":null,\"column_names\":[\"line_alpha\",\"line_color\",\"label\",\"x\",\"width\",\"height\",\"fill_alpha\",\"color\",\"y\"],\"data\":{\"chart_index\":[\"(255.541836, 259.413682]\"],\"color\":[\"#f22c40\"],\"fill_alpha\":[0.8],\"height\":[0.0],\"label\":[\"(255.541836, 259.413682]\"],\"line_alpha\":[1.0],\"line_color\":[\"black\"],\"width\":[3.871845993144774],\"x\":[\"257.477759\"],\"y\":[0.0]}},\"id\":\"a28206b5-e2ec-45c1-ab1a-be26d3383072\",\"type\":\"ColumnDataSource\"},{\"attributes\":{\"data_source\":{\"id\":\"11a3e1af-6630-4bce-b381-663bf448837e\",\"type\":\"ColumnDataSource\"},\"glyph\":{\"id\":\"20848a54-de12-418c-95c8-9806653b0b0d\",\"type\":\"Rect\"},\"hover_glyph\":null,\"nonselection_glyph\":null,\"selection_glyph\":null},\"id\":\"c3da7db0-45a6-49d8-8d86-68be9b4a5ffa\",\"type\":\"GlyphRenderer\"},{\"attributes\":{\"callback\":null,\"column_names\":[\"line_alpha\",\"line_color\",\"label\",\"x\",\"width\",\"height\",\"fill_alpha\",\"color\",\"y\"],\"data\":{\"chart_index\":[\"(251.669990, 255.541836]\"],\"color\":[\"#f22c40\"],\"fill_alpha\":[0.8],\"height\":[0.0],\"label\":[\"(251.669990, 255.541836]\"],\"line_alpha\":[1.0],\"line_color\":[\"black\"],\"width\":[3.871845993144774],\"x\":[\"253.605913\"],\"y\":[0.0]}},\"id\":\"7b63febf-8e2a-4990-9680-c1a89deac684\",\"type\":\"ColumnDataSource\"},{\"attributes\":{\"data_source\":{\"id\":\"4b0d7eff-3a25-4a02-a176-58c225f1d77f\",\"type\":\"ColumnDataSource\"},\"glyph\":{\"id\":\"dbd1bd3d-c393-4dee-97dc-dd9f6caf6bb9\",\"type\":\"Rect\"},\"hover_glyph\":null,\"nonselection_glyph\":null,\"selection_glyph\":null},\"id\":\"202f3255-bbd7-464f-ad4d-6735ba787784\",\"type\":\"GlyphRenderer\"},{\"attributes\":{\"callback\":null,\"column_names\":[\"line_alpha\",\"line_color\",\"label\",\"x\",\"width\",\"height\",\"fill_alpha\",\"color\",\"y\"],\"data\":{\"chart_index\":[\"(278.772912, 282.644757]\"],\"color\":[\"#f22c40\"],\"fill_alpha\":[0.8],\"height\":[0.0],\"label\":[\"(278.772912, 282.644757]\"],\"line_alpha\":[1.0],\"line_color\":[\"black\"],\"width\":[3.8718459931448024],\"x\":[\"280.7088345\"],\"y\":[0.0]}},\"id\":\"2872c462-c702-4e6c-a11a-1d20efbbde26\",\"type\":\"ColumnDataSource\"},{\"attributes\":{\"callback\":null,\"column_names\":[\"line_alpha\",\"line_color\",\"label\",\"x\",\"width\",\"height\",\"fill_alpha\",\"color\",\"y\"],\"data\":{\"chart_index\":[\"(228.438914, 232.310760]\"],\"color\":[\"#f22c40\"],\"fill_alpha\":[0.8],\"height\":[0.0],\"label\":[\"(228.438914, 232.310760]\"],\"line_alpha\":[1.0],\"line_color\":[\"black\"],\"width\":[3.871845993144774],\"x\":[\"230.374837\"],\"y\":[0.0]}},\"id\":\"b0c49ba9-91e1-40ba-b06c-ccfca63a6e52\",\"type\":\"ColumnDataSource\"},{\"attributes\":{\"fill_alpha\":{\"field\":\"fill_alpha\"},\"fill_color\":{\"field\":\"color\"},\"height\":{\"field\":\"height\",\"units\":\"data\"},\"line_color\":{\"field\":\"line_color\"},\"width\":{\"field\":\"width\",\"units\":\"data\"},\"x\":{\"field\":\"x\"},\"y\":{\"field\":\"y\"}},\"id\":\"23c19a77-9d8a-478e-aad8-7b9420152715\",\"type\":\"Rect\"},{\"attributes\":{\"callback\":null,\"column_names\":[\"line_alpha\",\"line_color\",\"label\",\"x\",\"width\",\"height\",\"fill_alpha\",\"color\",\"y\"],\"data\":{\"chart_index\":[\"(127.770918, 131.642764]\"],\"color\":[\"#f22c40\"],\"fill_alpha\":[0.8],\"height\":[0.0],\"label\":[\"(127.770918, 131.642764]\"],\"line_alpha\":[1.0],\"line_color\":[\"black\"],\"width\":[3.8718459931447597],\"x\":[\"129.706841\"],\"y\":[0.0]}},\"id\":\"dcdd6b9e-e9dd-484f-b30f-429c769e28cf\",\"type\":\"ColumnDataSource\"},{\"attributes\":{\"fill_alpha\":{\"field\":\"fill_alpha\"},\"fill_color\":{\"field\":\"color\"},\"height\":{\"field\":\"height\",\"units\":\"data\"},\"line_color\":{\"field\":\"line_color\"},\"width\":{\"field\":\"width\",\"units\":\"data\"},\"x\":{\"field\":\"x\"},\"y\":{\"field\":\"y\"}},\"id\":\"8fc31b67-9e6f-4f89-8a83-69a966ec5eb4\",\"type\":\"Rect\"},{\"attributes\":{\"fill_alpha\":{\"field\":\"fill_alpha\"},\"fill_color\":{\"field\":\"color\"},\"height\":{\"field\":\"height\",\"units\":\"data\"},\"line_color\":{\"field\":\"line_color\"},\"width\":{\"field\":\"width\",\"units\":\"data\"},\"x\":{\"field\":\"x\"},\"y\":{\"field\":\"y\"}},\"id\":\"5500ff68-f79d-410a-b553-6831ae475dea\",\"type\":\"Rect\"},{\"attributes\":{\"data_source\":{\"id\":\"85c96942-7de9-4d78-87e2-8cae2c993f42\",\"type\":\"ColumnDataSource\"},\"glyph\":{\"id\":\"94d2f28e-30c7-4794-a554-0e011556a04d\",\"type\":\"Rect\"},\"hover_glyph\":null,\"nonselection_glyph\":null,\"selection_glyph\":null},\"id\":\"cd6d4110-5467-4d4f-b9c6-2dccdeb2255a\",\"type\":\"GlyphRenderer\"},{\"attributes\":{\"fill_alpha\":{\"field\":\"fill_alpha\"},\"fill_color\":{\"field\":\"color\"},\"height\":{\"field\":\"height\",\"units\":\"data\"},\"line_color\":{\"field\":\"line_color\"},\"width\":{\"field\":\"width\",\"units\":\"data\"},\"x\":{\"field\":\"x\"},\"y\":{\"field\":\"y\"}},\"id\":\"72b48627-66b1-4829-981f-967b0a0efc87\",\"type\":\"Rect\"},{\"attributes\":{\"fill_alpha\":{\"field\":\"fill_alpha\"},\"fill_color\":{\"field\":\"color\"},\"height\":{\"field\":\"height\",\"units\":\"data\"},\"line_color\":{\"field\":\"line_color\"},\"width\":{\"field\":\"width\",\"units\":\"data\"},\"x\":{\"field\":\"x\"},\"y\":{\"field\":\"y\"}},\"id\":\"8056ec11-5736-44fe-b8eb-e447bfe95b31\",\"type\":\"Rect\"},{\"attributes\":{\"fill_alpha\":{\"field\":\"fill_alpha\"},\"fill_color\":{\"field\":\"color\"},\"height\":{\"field\":\"height\",\"units\":\"data\"},\"line_color\":{\"field\":\"line_color\"},\"width\":{\"field\":\"width\",\"units\":\"data\"},\"x\":{\"field\":\"x\"},\"y\":{\"field\":\"y\"}},\"id\":\"d1539b3f-97e6-4ad6-a10f-ee8ebe390d60\",\"type\":\"Rect\"},{\"attributes\":{\"callback\":null,\"column_names\":[\"line_alpha\",\"line_color\",\"label\",\"x\",\"width\",\"height\",\"fill_alpha\",\"color\",\"y\"],\"data\":{\"chart_index\":[\"(15.487384, 19.359230]\"],\"color\":[\"#f22c40\"],\"fill_alpha\":[0.8],\"height\":[12.0],\"label\":[\"(15.487384, 19.359230]\"],\"line_alpha\":[1.0],\"line_color\":[\"black\"],\"width\":[3.871845993144772],\"x\":[\"17.423307\"],\"y\":[6.0]}},\"id\":\"865aef7e-5fc8-49df-9f50-a1f5cafe3ed4\",\"type\":\"ColumnDataSource\"},{\"attributes\":{\"data_source\":{\"id\":\"2361febf-4567-41ac-a936-b57c073c75f7\",\"type\":\"ColumnDataSource\"},\"glyph\":{\"id\":\"7b37ab48-b632-45ae-8cca-f8020bfea4d5\",\"type\":\"Rect\"},\"hover_glyph\":null,\"nonselection_glyph\":null,\"selection_glyph\":null},\"id\":\"cc32788b-1c3a-4e5c-8fc9-4b91373c92c4\",\"type\":\"GlyphRenderer\"},{\"attributes\":{\"callback\":null,\"column_names\":[\"line_alpha\",\"line_color\",\"label\",\"x\",\"width\",\"height\",\"fill_alpha\",\"color\",\"y\"],\"data\":{\"chart_index\":[\"(336.850601, 340.722447]\"],\"color\":[\"#f22c40\"],\"fill_alpha\":[0.8],\"height\":[0.0],\"label\":[\"(336.850601, 340.722447]\"],\"line_alpha\":[1.0],\"line_color\":[\"black\"],\"width\":[3.8718459931448024],\"x\":[\"338.786524\"],\"y\":[0.0]}},\"id\":\"0beff37b-7c43-4df2-8939-d6990a3af89a\",\"type\":\"ColumnDataSource\"},{\"attributes\":{\"callback\":null,\"column_names\":[\"line_alpha\",\"line_color\",\"label\",\"x\",\"width\",\"height\",\"fill_alpha\",\"color\",\"y\"],\"data\":{\"chart_index\":[\"(375.569061, 379.440907]\"],\"color\":[\"#f22c40\"],\"fill_alpha\":[0.8],\"height\":[0.0],\"label\":[\"(375.569061, 379.440907]\"],\"line_alpha\":[1.0],\"line_color\":[\"black\"],\"width\":[3.8718459931447455],\"x\":[\"377.504984\"],\"y\":[0.0]}},\"id\":\"3e1a9321-1e95-4aa1-9cc6-fa063b5b712c\",\"type\":\"ColumnDataSource\"},{\"attributes\":{\"callback\":null,\"column_names\":[\"line_alpha\",\"line_color\",\"label\",\"x\",\"width\",\"height\",\"fill_alpha\",\"color\",\"y\"],\"data\":{\"chart_index\":[\"(329.106909, 332.978755]\"],\"color\":[\"#f22c40\"],\"fill_alpha\":[0.8],\"height\":[0.0],\"label\":[\"(329.106909, 332.978755]\"],\"line_alpha\":[1.0],\"line_color\":[\"black\"],\"width\":[3.8718459931448024],\"x\":[\"331.042832\"],\"y\":[0.0]}},\"id\":\"b605f12e-5e90-4003-b5fc-220a56c1936e\",\"type\":\"ColumnDataSource\"},{\"attributes\":{\"callback\":null,\"column_names\":[\"line_alpha\",\"line_color\",\"label\",\"x\",\"width\",\"height\",\"fill_alpha\",\"color\",\"y\"],\"data\":{\"chart_index\":[\"(89.052458, 92.924304]\"],\"color\":[\"#f22c40\"],\"fill_alpha\":[0.8],\"height\":[0.0],\"label\":[\"(89.052458, 92.924304]\"],\"line_alpha\":[1.0],\"line_color\":[\"black\"],\"width\":[3.871845993144774],\"x\":[\"90.988381\"],\"y\":[0.0]}},\"id\":\"a43d5d32-e4eb-475d-a1de-462c6bae1a63\",\"type\":\"ColumnDataSource\"},{\"attributes\":{\"callback\":null,\"column_names\":[\"line_alpha\",\"line_color\",\"label\",\"x\",\"width\",\"height\",\"fill_alpha\",\"color\",\"y\"],\"data\":{\"chart_index\":[\"(332.978755, 336.850601]\"],\"color\":[\"#f22c40\"],\"fill_alpha\":[0.8],\"height\":[0.0],\"label\":[\"(332.978755, 336.850601]\"],\"line_alpha\":[1.0],\"line_color\":[\"black\"],\"width\":[3.8718459931447455],\"x\":[\"334.914678\"],\"y\":[0.0]}},\"id\":\"4b0d7eff-3a25-4a02-a176-58c225f1d77f\",\"type\":\"ColumnDataSource\"},{\"attributes\":{\"callback\":null,\"column_names\":[\"line_alpha\",\"line_color\",\"label\",\"x\",\"width\",\"height\",\"fill_alpha\",\"color\",\"y\"],\"data\":{\"chart_index\":[\"(108.411688, 112.283534]\"],\"color\":[\"#f22c40\"],\"fill_alpha\":[0.8],\"height\":[0.0],\"label\":[\"(108.411688, 112.283534]\"],\"line_alpha\":[1.0],\"line_color\":[\"black\"],\"width\":[3.8718459931447597],\"x\":[\"110.347611\"],\"y\":[0.0]}},\"id\":\"e5f1aa2c-dbc7-4d39-a734-0c6dc4305d9d\",\"type\":\"ColumnDataSource\"},{\"attributes\":{\"callback\":null,\"column_names\":[\"line_alpha\",\"line_color\",\"label\",\"x\",\"width\",\"height\",\"fill_alpha\",\"color\",\"y\"],\"data\":{\"chart_index\":[\"(259.413682, 263.285528]\"],\"color\":[\"#f22c40\"],\"fill_alpha\":[0.8],\"height\":[0.0],\"label\":[\"(259.413682, 263.285528]\"],\"line_alpha\":[1.0],\"line_color\":[\"black\"],\"width\":[3.8718459931447455],\"x\":[\"261.349605\"],\"y\":[0.0]}},\"id\":\"36e6926c-4c3e-42da-a203-16fecd401b7c\",\"type\":\"ColumnDataSource\"},{\"attributes\":{\"data_source\":{\"id\":\"85f5bbee-3db3-410c-b64c-65ab82562025\",\"type\":\"ColumnDataSource\"},\"glyph\":{\"id\":\"6f636b64-b979-459d-80cb-9bbdeeb74481\",\"type\":\"Rect\"},\"hover_glyph\":null,\"nonselection_glyph\":null,\"selection_glyph\":null},\"id\":\"5302ac7b-422d-4a08-8bae-9538d92df5d5\",\"type\":\"GlyphRenderer\"},{\"attributes\":{\"callback\":null,\"column_names\":[\"line_alpha\",\"line_color\",\"label\",\"x\",\"width\",\"height\",\"fill_alpha\",\"color\",\"y\"],\"data\":{\"chart_index\":[\"(360.081677, 363.953523]\"],\"color\":[\"#f22c40\"],\"fill_alpha\":[0.8],\"height\":[0.0],\"label\":[\"(360.081677, 363.953523]\"],\"line_alpha\":[1.0],\"line_color\":[\"black\"],\"width\":[3.8718459931447455],\"x\":[\"362.0176\"],\"y\":[0.0]}},\"id\":\"78588ebf-6946-4c22-b7f4-80e12e78aa26\",\"type\":\"ColumnDataSource\"},{\"attributes\":{\"callback\":null,\"column_names\":[\"line_alpha\",\"line_color\",\"label\",\"x\",\"width\",\"height\",\"fill_alpha\",\"color\",\"y\"],\"data\":{\"chart_index\":[\"(216.823376, 220.695222]\"],\"color\":[\"#f22c40\"],\"fill_alpha\":[0.8],\"height\":[0.0],\"label\":[\"(216.823376, 220.695222]\"],\"line_alpha\":[1.0],\"line_color\":[\"black\"],\"width\":[3.871845993144774],\"x\":[\"218.759299\"],\"y\":[0.0]}},\"id\":\"b04b2678-bb53-4f9f-983e-d9a9f47b27db\",\"type\":\"ColumnDataSource\"},{\"attributes\":{\"fill_alpha\":{\"field\":\"fill_alpha\"},\"fill_color\":{\"field\":\"color\"},\"height\":{\"field\":\"height\",\"units\":\"data\"},\"line_color\":{\"field\":\"line_color\"},\"width\":{\"field\":\"width\",\"units\":\"data\"},\"x\":{\"field\":\"x\"},\"y\":{\"field\":\"y\"}},\"id\":\"7b95069b-437d-4627-bceb-a5390a539462\",\"type\":\"Rect\"},{\"attributes\":{\"fill_alpha\":{\"field\":\"fill_alpha\"},\"fill_color\":{\"field\":\"color\"},\"height\":{\"field\":\"height\",\"units\":\"data\"},\"line_color\":{\"field\":\"line_color\"},\"width\":{\"field\":\"width\",\"units\":\"data\"},\"x\":{\"field\":\"x\"},\"y\":{\"field\":\"y\"}},\"id\":\"60af3f90-709a-4d93-8876-457ae98bd02b\",\"type\":\"Rect\"},{\"attributes\":{\"data_source\":{\"id\":\"811d2d53-038b-4bb7-a0ff-11983e59717b\",\"type\":\"ColumnDataSource\"},\"glyph\":{\"id\":\"769975b7-2388-484d-832f-aa35690cb611\",\"type\":\"Rect\"},\"hover_glyph\":null,\"nonselection_glyph\":null,\"selection_glyph\":null},\"id\":\"f8bb9c7f-f30b-4be2-8e58-fddcaf9fdfa9\",\"type\":\"GlyphRenderer\"},{\"attributes\":{\"data_source\":{\"id\":\"9600e1b6-1ec7-4ad8-9623-b238b70ffd63\",\"type\":\"ColumnDataSource\"},\"glyph\":{\"id\":\"cfcfa7d6-05df-43a3-8e98-42d2aeb8e59b\",\"type\":\"Rect\"},\"hover_glyph\":null,\"nonselection_glyph\":null,\"selection_glyph\":null},\"id\":\"e4a504de-3e1d-46fa-aaae-2290e07d939e\",\"type\":\"GlyphRenderer\"},{\"attributes\":{\"callback\":null,\"column_names\":[\"line_alpha\",\"line_color\",\"label\",\"x\",\"width\",\"height\",\"fill_alpha\",\"color\",\"y\"],\"data\":{\"chart_index\":[\"(135.514610, 139.386456]\"],\"color\":[\"#f22c40\"],\"fill_alpha\":[0.8],\"height\":[0.0],\"label\":[\"(135.514610, 139.386456]\"],\"line_alpha\":[1.0],\"line_color\":[\"black\"],\"width\":[3.871845993144774],\"x\":[\"137.450533\"],\"y\":[0.0]}},\"id\":\"53592c82-b7bb-4421-addb-f7fc54febc13\",\"type\":\"ColumnDataSource\"},{\"attributes\":{\"data_source\":{\"id\":\"b73c0796-82b9-4d5c-a6bc-5952c3dfdf54\",\"type\":\"ColumnDataSource\"},\"glyph\":{\"id\":\"d1539b3f-97e6-4ad6-a10f-ee8ebe390d60\",\"type\":\"Rect\"},\"hover_glyph\":null,\"nonselection_glyph\":null,\"selection_glyph\":null},\"id\":\"39e14a88-47be-432d-85ba-c4d70b289ffc\",\"type\":\"GlyphRenderer\"},{\"attributes\":{\"data_source\":{\"id\":\"0beff37b-7c43-4df2-8939-d6990a3af89a\",\"type\":\"ColumnDataSource\"},\"glyph\":{\"id\":\"c631072f-0b03-486a-955d-523a0b6937c2\",\"type\":\"Rect\"},\"hover_glyph\":null,\"nonselection_glyph\":null,\"selection_glyph\":null},\"id\":\"f9f1b149-5fd4-409e-bd48-2dcfd81149b9\",\"type\":\"GlyphRenderer\"},{\"attributes\":{\"callback\":null,\"column_names\":[\"line_alpha\",\"line_color\",\"label\",\"x\",\"width\",\"height\",\"fill_alpha\",\"color\",\"y\"],\"data\":{\"chart_index\":[\"(321.363217, 325.235063]\"],\"color\":[\"#f22c40\"],\"fill_alpha\":[0.8],\"height\":[0.0],\"label\":[\"(321.363217, 325.235063]\"],\"line_alpha\":[1.0],\"line_color\":[\"black\"],\"width\":[3.8718459931448024],\"x\":[\"323.29914\"],\"y\":[0.0]}},\"id\":\"354e0fe5-a8c9-4069-ac90-482d1a90475a\",\"type\":\"ColumnDataSource\"},{\"attributes\":{\"data_source\":{\"id\":\"a43d5d32-e4eb-475d-a1de-462c6bae1a63\",\"type\":\"ColumnDataSource\"},\"glyph\":{\"id\":\"8fc31b67-9e6f-4f89-8a83-69a966ec5eb4\",\"type\":\"Rect\"},\"hover_glyph\":null,\"nonselection_glyph\":null,\"selection_glyph\":null},\"id\":\"5a9782fb-1d2f-4253-8406-ce8adc165f11\",\"type\":\"GlyphRenderer\"},{\"attributes\":{\"data_source\":{\"id\":\"f1975c83-00f3-433b-b143-62c808380c11\",\"type\":\"ColumnDataSource\"},\"glyph\":{\"id\":\"7f6b32f9-01ee-4321-9c06-05839333261f\",\"type\":\"Rect\"},\"hover_glyph\":null,\"nonselection_glyph\":null,\"selection_glyph\":null},\"id\":\"9cd223d6-64e6-47e2-a2bd-c586814c25fc\",\"type\":\"GlyphRenderer\"},{\"attributes\":{\"callback\":null,\"column_names\":[\"line_alpha\",\"line_color\",\"label\",\"x\",\"width\",\"height\",\"fill_alpha\",\"color\",\"y\"],\"data\":{\"chart_index\":[\"(19.359230, 23.231076]\"],\"color\":[\"#f22c40\"],\"fill_alpha\":[0.8],\"height\":[8.0],\"label\":[\"(19.359230, 23.231076]\"],\"line_alpha\":[1.0],\"line_color\":[\"black\"],\"width\":[3.8718459931447704],\"x\":[\"21.295153\"],\"y\":[4.0]}},\"id\":\"2d6ac97f-e077-40ba-a518-03a01066b564\",\"type\":\"ColumnDataSource\"},{\"attributes\":{\"fill_alpha\":{\"field\":\"fill_alpha\"},\"fill_color\":{\"field\":\"color\"},\"height\":{\"field\":\"height\",\"units\":\"data\"},\"line_color\":{\"field\":\"line_color\"},\"width\":{\"field\":\"width\",\"units\":\"data\"},\"x\":{\"field\":\"x\"},\"y\":{\"field\":\"y\"}},\"id\":\"4290f0d3-635e-4a21-aa72-afdcd045b76d\",\"type\":\"Rect\"},{\"attributes\":{\"fill_alpha\":{\"field\":\"fill_alpha\"},\"fill_color\":{\"field\":\"color\"},\"height\":{\"field\":\"height\",\"units\":\"data\"},\"line_color\":{\"field\":\"line_color\"},\"width\":{\"field\":\"width\",\"units\":\"data\"},\"x\":{\"field\":\"x\"},\"y\":{\"field\":\"y\"}},\"id\":\"6ff449d5-2090-4bf4-adfd-fa867705058d\",\"type\":\"Rect\"},{\"attributes\":{\"data_source\":{\"id\":\"72d6081d-7496-4eff-88c9-535b33e02096\",\"type\":\"ColumnDataSource\"},\"glyph\":{\"id\":\"ce223354-6536-4fdd-82d1-8e31d227c328\",\"type\":\"Rect\"},\"hover_glyph\":null,\"nonselection_glyph\":null,\"selection_glyph\":null},\"id\":\"c265bb9c-7e39-4dea-b0a9-39196b83f876\",\"type\":\"GlyphRenderer\"},{\"attributes\":{\"data_source\":{\"id\":\"9b0959ec-c768-4b47-ae9a-84cc986ee984\",\"type\":\"ColumnDataSource\"},\"glyph\":{\"id\":\"87b1d907-e1f1-4fed-ae18-d9fa86a56fef\",\"type\":\"Rect\"},\"hover_glyph\":null,\"nonselection_glyph\":null,\"selection_glyph\":null},\"id\":\"1fd88d60-aa7f-4eb5-b7fb-f418f75bfafb\",\"type\":\"GlyphRenderer\"},{\"attributes\":{\"data_source\":{\"id\":\"1a0ea3ef-4fbb-4fc0-91f9-f764a5753bcb\",\"type\":\"ColumnDataSource\"},\"glyph\":{\"id\":\"e748045e-3d42-486c-8eab-24ca147150b0\",\"type\":\"Rect\"},\"hover_glyph\":null,\"nonselection_glyph\":null,\"selection_glyph\":null},\"id\":\"7e59c75c-bbd8-493f-a248-b625410a333b\",\"type\":\"GlyphRenderer\"},{\"attributes\":{\"data_source\":{\"id\":\"1c3c788c-9ecf-45e1-9f4d-83072a1c5e83\",\"type\":\"ColumnDataSource\"},\"glyph\":{\"id\":\"ee8c3e48-a2c3-400b-8311-5b06e0dfc836\",\"type\":\"Rect\"},\"hover_glyph\":null,\"nonselection_glyph\":null,\"selection_glyph\":null},\"id\":\"e6db7cd8-0a01-47e0-9a84-133f35404ce6\",\"type\":\"GlyphRenderer\"},{\"attributes\":{\"data_source\":{\"id\":\"93b0b1a4-67c8-40c2-8bab-8993f2f5d745\",\"type\":\"ColumnDataSource\"},\"glyph\":{\"id\":\"0d6f1266-a2c2-4f2c-8090-6793197e6240\",\"type\":\"Rect\"},\"hover_glyph\":null,\"nonselection_glyph\":null,\"selection_glyph\":null},\"id\":\"f027d610-cbe4-402a-bb49-599c85772ba0\",\"type\":\"GlyphRenderer\"},{\"attributes\":{\"callback\":null,\"column_names\":[\"line_alpha\",\"line_color\",\"label\",\"x\",\"width\",\"height\",\"fill_alpha\",\"color\",\"y\"],\"data\":{\"chart_index\":[\"(298.132141, 302.003987]\"],\"color\":[\"#f22c40\"],\"fill_alpha\":[0.8],\"height\":[0.0],\"label\":[\"(298.132141, 302.003987]\"],\"line_alpha\":[1.0],\"line_color\":[\"black\"],\"width\":[3.8718459931448024],\"x\":[\"300.068064\"],\"y\":[0.0]}},\"id\":\"5935ad9e-b4a1-469f-bd44-8fb8d8cd3708\",\"type\":\"ColumnDataSource\"},{\"attributes\":{\"callback\":null,\"column_names\":[\"line_alpha\",\"line_color\",\"label\",\"x\",\"width\",\"height\",\"fill_alpha\",\"color\",\"y\"],\"data\":{\"chart_index\":[\"(139.386456, 143.258302]\"],\"color\":[\"#f22c40\"],\"fill_alpha\":[0.8],\"height\":[0.0],\"label\":[\"(139.386456, 143.258302]\"],\"line_alpha\":[1.0],\"line_color\":[\"black\"],\"width\":[3.871845993144774],\"x\":[\"141.322379\"],\"y\":[0.0]}},\"id\":\"bbac10e3-0fd4-41d4-b695-e5e77b400f81\",\"type\":\"ColumnDataSource\"},{\"attributes\":{\"fill_alpha\":{\"field\":\"fill_alpha\"},\"fill_color\":{\"field\":\"color\"},\"height\":{\"field\":\"height\",\"units\":\"data\"},\"line_color\":{\"field\":\"line_color\"},\"width\":{\"field\":\"width\",\"units\":\"data\"},\"x\":{\"field\":\"x\"},\"y\":{\"field\":\"y\"}},\"id\":\"03d22822-4c3d-43f4-a0f5-1f94ea54a6b9\",\"type\":\"Rect\"},{\"attributes\":{\"callback\":null,\"column_names\":[\"line_alpha\",\"line_color\",\"label\",\"x\",\"width\",\"height\",\"fill_alpha\",\"color\",\"y\"],\"data\":{\"chart_index\":[\"(247.798144, 251.669990]\"],\"color\":[\"#f22c40\"],\"fill_alpha\":[0.8],\"height\":[0.0],\"label\":[\"(247.798144, 251.669990]\"],\"line_alpha\":[1.0],\"line_color\":[\"black\"],\"width\":[3.871845993144774],\"x\":[\"249.734067\"],\"y\":[0.0]}},\"id\":\"bbac2940-887b-4463-95e3-3f3e4e10537f\",\"type\":\"ColumnDataSource\"},{\"attributes\":{\"data_source\":{\"id\":\"7b63febf-8e2a-4990-9680-c1a89deac684\",\"type\":\"ColumnDataSource\"},\"glyph\":{\"id\":\"7b95069b-437d-4627-bceb-a5390a539462\",\"type\":\"Rect\"},\"hover_glyph\":null,\"nonselection_glyph\":null,\"selection_glyph\":null},\"id\":\"86db3efb-bd8f-4184-a9af-89892add0595\",\"type\":\"GlyphRenderer\"},{\"attributes\":{\"callback\":null,\"column_names\":[\"line_alpha\",\"line_color\",\"label\",\"x\",\"width\",\"height\",\"fill_alpha\",\"color\",\"y\"],\"data\":{\"chart_index\":[\"(325.235063, 329.106909]\"],\"color\":[\"#f22c40\"],\"fill_alpha\":[0.8],\"height\":[0.0],\"label\":[\"(325.235063, 329.106909]\"],\"line_alpha\":[1.0],\"line_color\":[\"black\"],\"width\":[3.8718459931447455],\"x\":[\"327.17098599999997\"],\"y\":[0.0]}},\"id\":\"d9e31fd6-4420-4b8f-b0a3-d0814e6435a4\",\"type\":\"ColumnDataSource\"}],\"root_ids\":[\"6a7afe79-9efc-40fd-a956-f7e16d313871\"]},\"title\":\"Bokeh Application\",\"version\":\"0.12.4\"}};\n",
       "            var render_items = [{\"docid\":\"eb821b0b-a921-45bb-a6c8-d305187c86ff\",\"elementid\":\"dc04db62-b6e5-45cc-a96d-443553a0390a\",\"modelid\":\"6a7afe79-9efc-40fd-a956-f7e16d313871\",\"notebook_comms_target\":\"227aa889-b7dd-4d61-ad76-2e7429c51e0a\"}];\n",
       "            \n",
       "            Bokeh.embed.embed_items(docs_json, render_items);\n",
       "          };\n",
       "          if (document.readyState != \"loading\") fn();\n",
       "          else document.addEventListener(\"DOMContentLoaded\", fn);\n",
       "        })();\n",
       "      },\n",
       "      function(Bokeh) {\n",
       "      }\n",
       "    ];\n",
       "  \n",
       "    function run_inline_js() {\n",
       "      \n",
       "      if ((window.Bokeh !== undefined) || (force === true)) {\n",
       "        for (var i = 0; i < inline_js.length; i++) {\n",
       "          inline_js[i](window.Bokeh);\n",
       "        }if (force === true) {\n",
       "          display_loaded();\n",
       "        }} else if (Date.now() < window._bokeh_timeout) {\n",
       "        setTimeout(run_inline_js, 100);\n",
       "      } else if (!window._bokeh_failed_load) {\n",
       "        console.log(\"Bokeh: BokehJS failed to load within specified timeout.\");\n",
       "        window._bokeh_failed_load = true;\n",
       "      } else if (force !== true) {\n",
       "        var cell = $(document.getElementById(\"dc04db62-b6e5-45cc-a96d-443553a0390a\")).parents('.cell').data().cell;\n",
       "        cell.output_area.append_execute_result(NB_LOAD_WARNING)\n",
       "      }\n",
       "  \n",
       "    }\n",
       "  \n",
       "    if (window._bokeh_is_loading === 0) {\n",
       "      console.log(\"Bokeh: BokehJS loaded, going straight to plotting\");\n",
       "      run_inline_js();\n",
       "    } else {\n",
       "      load_libs(js_urls, function() {\n",
       "        console.log(\"Bokeh: BokehJS plotting callback run at\", now());\n",
       "        run_inline_js();\n",
       "      });\n",
       "    }\n",
       "  }(this));\n",
       "</script>"
      ]
     },
     "metadata": {},
     "output_type": "display_data"
    },
    {
     "data": {
      "text/html": [
       "<p><code>&lt;Bokeh Notebook handle for <strong>In[22]</strong>&gt;</code></p>"
      ],
      "text/plain": [
       "<bokeh.io._CommsHandle at 0x11a888c18>"
      ]
     },
     "execution_count": 22,
     "metadata": {},
     "output_type": "execute_result"
    }
   ],
   "source": [
    "p = Histogram(df_geo['EnteroCount'], bins=100, \n",
    "                  title=\"Distribution of Geometric Means\")\n",
    "\n",
    "show(p, notebook_handle=True)"
   ]
  },
  {
   "cell_type": "markdown",
   "metadata": {},
   "source": [
    "***\n",
    "## Time Span Between Measurements\n",
    "***\n"
   ]
  },
  {
   "cell_type": "markdown",
   "metadata": {},
   "source": [
    "### Indexing on Time\n",
    "We need to create a new index based on the Date field. This will make stuff easier."
   ]
  },
  {
   "cell_type": "code",
   "execution_count": 23,
   "metadata": {
    "collapsed": true
   },
   "outputs": [],
   "source": [
    "df2 = df"
   ]
  },
  {
   "cell_type": "code",
   "execution_count": 24,
   "metadata": {
    "collapsed": false
   },
   "outputs": [],
   "source": [
    "df2.index = df['Date']"
   ]
  },
  {
   "cell_type": "code",
   "execution_count": 25,
   "metadata": {
    "collapsed": false,
    "scrolled": false
   },
   "outputs": [
    {
     "data": {
      "text/html": [
       "<div>\n",
       "<table border=\"1\" class=\"dataframe\">\n",
       "  <thead>\n",
       "    <tr style=\"text-align: right;\">\n",
       "      <th></th>\n",
       "      <th>Date</th>\n",
       "      <th>EnteroCount</th>\n",
       "      <th>FourDayRainTotal</th>\n",
       "      <th>SampleCount</th>\n",
       "    </tr>\n",
       "    <tr>\n",
       "      <th>Site</th>\n",
       "      <th></th>\n",
       "      <th></th>\n",
       "      <th></th>\n",
       "      <th></th>\n",
       "    </tr>\n",
       "  </thead>\n",
       "  <tbody>\n",
       "    <tr>\n",
       "      <th>Piermont Pier</th>\n",
       "      <td>187</td>\n",
       "      <td>187</td>\n",
       "      <td>187</td>\n",
       "      <td>187</td>\n",
       "    </tr>\n",
       "    <tr>\n",
       "      <th>Upper Sparkill Creek</th>\n",
       "      <td>165</td>\n",
       "      <td>165</td>\n",
       "      <td>165</td>\n",
       "      <td>165</td>\n",
       "    </tr>\n",
       "    <tr>\n",
       "      <th>125th St. Pier</th>\n",
       "      <td>66</td>\n",
       "      <td>66</td>\n",
       "      <td>66</td>\n",
       "      <td>66</td>\n",
       "    </tr>\n",
       "    <tr>\n",
       "      <th>Nyack Launch Ramp</th>\n",
       "      <td>61</td>\n",
       "      <td>61</td>\n",
       "      <td>61</td>\n",
       "      <td>61</td>\n",
       "    </tr>\n",
       "    <tr>\n",
       "      <th>Newtown Creek- Dutch Kills</th>\n",
       "      <td>57</td>\n",
       "      <td>57</td>\n",
       "      <td>57</td>\n",
       "      <td>57</td>\n",
       "    </tr>\n",
       "  </tbody>\n",
       "</table>\n",
       "</div>"
      ],
      "text/plain": [
       "                            Date  EnteroCount  FourDayRainTotal  SampleCount\n",
       "Site                                                                        \n",
       "Piermont Pier                187          187               187          187\n",
       "Upper Sparkill Creek         165          165               165          165\n",
       "125th St. Pier                66           66                66           66\n",
       "Nyack Launch Ramp             61           61                61           61\n",
       "Newtown Creek- Dutch Kills    57           57                57           57"
      ]
     },
     "execution_count": 25,
     "metadata": {},
     "output_type": "execute_result"
    }
   ],
   "source": [
    "df2.groupby('Site').count().sort_values(by='SampleCount', ascending=0).head()"
   ]
  },
  {
   "cell_type": "markdown",
   "metadata": {},
   "source": [
    "### Find some sites with high, low rates of testing\n",
    "The range overall is quite wide, with Piermont Pier having 187 testing days and many sites with only one. Here we select four sites on either end and make quick exploratory plots in matplot."
   ]
  },
  {
   "cell_type": "code",
   "execution_count": 26,
   "metadata": {
    "collapsed": false
   },
   "outputs": [],
   "source": [
    "piermont = df2[df2['Site'] == 'Piermont Pier']"
   ]
  },
  {
   "cell_type": "code",
   "execution_count": 27,
   "metadata": {
    "collapsed": true
   },
   "outputs": [],
   "source": [
    "sparkill = df2[df2['Site'] == 'Upper Sparkill Creek']"
   ]
  },
  {
   "cell_type": "code",
   "execution_count": 28,
   "metadata": {
    "collapsed": true
   },
   "outputs": [],
   "source": [
    "marlboro = df2[df2['Site'] == 'Marlboro Landing']"
   ]
  },
  {
   "cell_type": "code",
   "execution_count": 29,
   "metadata": {
    "collapsed": true
   },
   "outputs": [],
   "source": [
    "tarrytown = df2[df2['Site'] == 'Tarrytown Marina']"
   ]
  },
  {
   "cell_type": "markdown",
   "metadata": {},
   "source": [
    "#### Peek at the Piedmont data\n"
   ]
  },
  {
   "cell_type": "code",
   "execution_count": 30,
   "metadata": {
    "collapsed": false
   },
   "outputs": [
    {
     "data": {
      "text/html": [
       "<div>\n",
       "<table border=\"1\" class=\"dataframe\">\n",
       "  <thead>\n",
       "    <tr style=\"text-align: right;\">\n",
       "      <th></th>\n",
       "      <th>Site</th>\n",
       "      <th>Date</th>\n",
       "      <th>EnteroCount</th>\n",
       "      <th>FourDayRainTotal</th>\n",
       "      <th>SampleCount</th>\n",
       "    </tr>\n",
       "    <tr>\n",
       "      <th>Date</th>\n",
       "      <th></th>\n",
       "      <th></th>\n",
       "      <th></th>\n",
       "      <th></th>\n",
       "      <th></th>\n",
       "    </tr>\n",
       "  </thead>\n",
       "  <tbody>\n",
       "    <tr>\n",
       "      <th>2006-10-17</th>\n",
       "      <td>Piermont Pier</td>\n",
       "      <td>2006-10-17</td>\n",
       "      <td>200</td>\n",
       "      <td>1.1</td>\n",
       "      <td>187</td>\n",
       "    </tr>\n",
       "    <tr>\n",
       "      <th>2006-10-18</th>\n",
       "      <td>Piermont Pier</td>\n",
       "      <td>2006-10-18</td>\n",
       "      <td>1120</td>\n",
       "      <td>1.1</td>\n",
       "      <td>187</td>\n",
       "    </tr>\n",
       "    <tr>\n",
       "      <th>2006-10-28</th>\n",
       "      <td>Piermont Pier</td>\n",
       "      <td>2006-10-28</td>\n",
       "      <td>1275</td>\n",
       "      <td>2.5</td>\n",
       "      <td>187</td>\n",
       "    </tr>\n",
       "    <tr>\n",
       "      <th>2006-12-06</th>\n",
       "      <td>Piermont Pier</td>\n",
       "      <td>2006-12-06</td>\n",
       "      <td>132</td>\n",
       "      <td>0.0</td>\n",
       "      <td>187</td>\n",
       "    </tr>\n",
       "    <tr>\n",
       "      <th>2007-04-18</th>\n",
       "      <td>Piermont Pier</td>\n",
       "      <td>2007-04-18</td>\n",
       "      <td>1104</td>\n",
       "      <td>8.5</td>\n",
       "      <td>187</td>\n",
       "    </tr>\n",
       "  </tbody>\n",
       "</table>\n",
       "</div>"
      ],
      "text/plain": [
       "                     Site       Date  EnteroCount  FourDayRainTotal  \\\n",
       "Date                                                                  \n",
       "2006-10-17  Piermont Pier 2006-10-17          200               1.1   \n",
       "2006-10-18  Piermont Pier 2006-10-18         1120               1.1   \n",
       "2006-10-28  Piermont Pier 2006-10-28         1275               2.5   \n",
       "2006-12-06  Piermont Pier 2006-12-06          132               0.0   \n",
       "2007-04-18  Piermont Pier 2007-04-18         1104               8.5   \n",
       "\n",
       "            SampleCount  \n",
       "Date                     \n",
       "2006-10-17          187  \n",
       "2006-10-18          187  \n",
       "2006-10-28          187  \n",
       "2006-12-06          187  \n",
       "2007-04-18          187  "
      ]
     },
     "execution_count": 30,
     "metadata": {},
     "output_type": "execute_result"
    }
   ],
   "source": [
    "piermont.sort_values(by='Date', ascending=1).head()"
   ]
  },
  {
   "cell_type": "markdown",
   "metadata": {},
   "source": [
    "### The plots"
   ]
  },
  {
   "cell_type": "code",
   "execution_count": 31,
   "metadata": {
    "collapsed": false
   },
   "outputs": [
    {
     "data": {
      "text/plain": [
       "<matplotlib.text.Text at 0x11a8adcc0>"
      ]
     },
     "execution_count": 31,
     "metadata": {},
     "output_type": "execute_result"
    },
    {
     "data": {
      "image/png": "[encoded data removed]",
      "text/plain": [
       "<matplotlib.figure.Figure at 0x11a2be668>"
      ]
     },
     "metadata": {},
     "output_type": "display_data"
    }
   ],
   "source": [
    "ax = piermont['EnteroCount'].plot()\n",
    "ax.set_ylabel('Enterococcus Count')\n",
    "ax.set_xlabel(\"\")\n",
    "ax.set_title(\"Piermont Pier\")"
   ]
  },
  {
   "cell_type": "code",
   "execution_count": 32,
   "metadata": {
    "collapsed": false
   },
   "outputs": [
    {
     "data": {
      "text/plain": [
       "<matplotlib.text.Text at 0x11a19d7f0>"
      ]
     },
     "execution_count": 32,
     "metadata": {},
     "output_type": "execute_result"
    },
    {
     "data": {
      "image/png": "[encoded data removed]",
      "text/plain": [
       "<matplotlib.figure.Figure at 0x11a155518>"
      ]
     },
     "metadata": {},
     "output_type": "display_data"
    }
   ],
   "source": [
    "ax = sparkill['EnteroCount'].plot()\n",
    "ax.set_ylabel('Enterococcus Count')\n",
    "ax.set_xlabel(\"\")\n",
    "ax.set_title(\"Upper Sparkill Creek\")"
   ]
  },
  {
   "cell_type": "code",
   "execution_count": 33,
   "metadata": {
    "collapsed": false
   },
   "outputs": [
    {
     "data": {
      "text/plain": [
       "<matplotlib.text.Text at 0x11d29c5f8>"
      ]
     },
     "execution_count": 33,
     "metadata": {},
     "output_type": "execute_result"
    },
    {
     "data": {
      "image/png": "[encoded data removed]",
      "text/plain": [
       "<matplotlib.figure.Figure at 0x11a1b1b70>"
      ]
     },
     "metadata": {},
     "output_type": "display_data"
    }
   ],
   "source": [
    "ax = marlboro['EnteroCount'].plot()\n",
    "ax.set_ylabel('Enterococcus Count')\n",
    "ax.set_xlabel(\"\")\n",
    "ax.set_title(\"Marlboro Landing\")"
   ]
  },
  {
   "cell_type": "code",
   "execution_count": 34,
   "metadata": {
    "collapsed": false
   },
   "outputs": [
    {
     "data": {
      "text/plain": [
       "<matplotlib.text.Text at 0x11d466978>"
      ]
     },
     "execution_count": 34,
     "metadata": {},
     "output_type": "execute_result"
    },
    {
     "data": {
      "image/png": "[encoded data removed]",
      "text/plain": [
       "<matplotlib.figure.Figure at 0x11d294cc0>"
      ]
     },
     "metadata": {},
     "output_type": "display_data"
    }
   ],
   "source": [
    "ax = tarrytown['EnteroCount'].plot()\n",
    "ax.set_ylabel('Enterococcus Count')\n",
    "ax.set_xlabel(\"\")\n",
    "ax.set_title(\"Tarreytown Marina\")"
   ]
  },
  {
   "cell_type": "markdown",
   "metadata": {},
   "source": [
    "***\n",
    "### Rainfall and Bacteria\n",
    "\n",
    "The chart shows overall enterococcus sampling by rainfall. Although the overall correlation is weak (.14), it's clear that low water it does appea that high contamination is reported when rainfall is low, which is intuitive. This needs more explortion.\n",
    "***\n"
   ]
  },
  {
   "cell_type": "code",
   "execution_count": 35,
   "metadata": {
    "collapsed": false
   },
   "outputs": [
    {
     "data": {
      "text/html": [
       "\n",
       "\n",
       "    <div class=\"bk-root\">\n",
       "        <div class=\"bk-plotdiv\" id=\"da4ba65b-0d07-4b54-a6fe-c0590f4508a2\"></div>\n",
       "    </div>\n",
       "<script type=\"text/javascript\">\n",
       "  \n",
       "  (function(global) {\n",
       "    function now() {\n",
       "      return new Date();\n",
       "    }\n",
       "  \n",
       "    var force = false;\n",
       "  \n",
       "    if (typeof (window._bokeh_onload_callbacks) === \"undefined\" || force === true) {\n",
       "      window._bokeh_onload_callbacks = [];\n",
       "      window._bokeh_is_loading = undefined;\n",
       "    }\n",
       "  \n",
       "  \n",
       "    \n",
       "    if (typeof (window._bokeh_timeout) === \"undefined\" || force === true) {\n",
       "      window._bokeh_timeout = Date.now() + 0;\n",
       "      window._bokeh_failed_load = false;\n",
       "    }\n",
       "  \n",
       "    var NB_LOAD_WARNING = {'data': {'text/html':\n",
       "       \"<div style='background-color: #fdd'>\\n\"+\n",
       "       \"<p>\\n\"+\n",
       "       \"BokehJS does not appear to have successfully loaded. If loading BokehJS from CDN, this \\n\"+\n",
       "       \"may be due to a slow or bad network connection. Possible fixes:\\n\"+\n",
       "       \"</p>\\n\"+\n",
       "       \"<ul>\\n\"+\n",
       "       \"<li>re-rerun `output_notebook()` to attempt to load from CDN again, or</li>\\n\"+\n",
       "       \"<li>use INLINE resources instead, as so:</li>\\n\"+\n",
       "       \"</ul>\\n\"+\n",
       "       \"<code>\\n\"+\n",
       "       \"from bokeh.resources import INLINE\\n\"+\n",
       "       \"output_notebook(resources=INLINE)\\n\"+\n",
       "       \"</code>\\n\"+\n",
       "       \"</div>\"}};\n",
       "  \n",
       "    function display_loaded() {\n",
       "      if (window.Bokeh !== undefined) {\n",
       "        document.getElementById(\"da4ba65b-0d07-4b54-a6fe-c0590f4508a2\").textContent = \"BokehJS successfully loaded.\";\n",
       "      } else if (Date.now() < window._bokeh_timeout) {\n",
       "        setTimeout(display_loaded, 100)\n",
       "      }\n",
       "    }if ((window.Jupyter !== undefined) && Jupyter.notebook.kernel) {\n",
       "      comm_manager = Jupyter.notebook.kernel.comm_manager\n",
       "      comm_manager.register_target(\"138aced0-f70e-454b-9ef2-d6582f46172d\", function () {});\n",
       "    }\n",
       "  \n",
       "    function run_callbacks() {\n",
       "      window._bokeh_onload_callbacks.forEach(function(callback) { callback() });\n",
       "      delete window._bokeh_onload_callbacks\n",
       "      console.info(\"Bokeh: all callbacks have finished\");\n",
       "    }\n",
       "  \n",
       "    function load_libs(js_urls, callback) {\n",
       "      window._bokeh_onload_callbacks.push(callback);\n",
       "      if (window._bokeh_is_loading > 0) {\n",
       "        console.log(\"Bokeh: BokehJS is being loaded, scheduling callback at\", now());\n",
       "        return null;\n",
       "      }\n",
       "      if (js_urls == null || js_urls.length === 0) {\n",
       "        run_callbacks();\n",
       "        return null;\n",
       "      }\n",
       "      console.log(\"Bokeh: BokehJS not loaded, scheduling load and callback at\", now());\n",
       "      window._bokeh_is_loading = js_urls.length;\n",
       "      for (var i = 0; i < js_urls.length; i++) {\n",
       "        var url = js_urls[i];\n",
       "        var s = document.createElement('script');\n",
       "        s.src = url;\n",
       "        s.async = false;\n",
       "        s.onreadystatechange = s.onload = function() {\n",
       "          window._bokeh_is_loading--;\n",
       "          if (window._bokeh_is_loading === 0) {\n",
       "            console.log(\"Bokeh: all BokehJS libraries loaded\");\n",
       "            run_callbacks()\n",
       "          }\n",
       "        };\n",
       "        s.onerror = function() {\n",
       "          console.warn(\"failed to load library \" + url);\n",
       "        };\n",
       "        console.log(\"Bokeh: injecting script tag for BokehJS library: \", url);\n",
       "        document.getElementsByTagName(\"head\")[0].appendChild(s);\n",
       "      }\n",
       "    };var element = document.getElementById(\"da4ba65b-0d07-4b54-a6fe-c0590f4508a2\");\n",
       "    if (element == null) {\n",
       "      console.log(\"Bokeh: ERROR: autoload.js configured with elementid 'da4ba65b-0d07-4b54-a6fe-c0590f4508a2' but no matching script tag was found. \")\n",
       "      return false;\n",
       "    }\n",
       "  \n",
       "    var js_urls = [];\n",
       "  \n",
       "    var inline_js = [\n",
       "      function(Bokeh) {\n",
       "        (function() {\n",
       "          var fn = function() {\n",
       "            var docs_json = {\"1069a86a-eed8-4649-8333-3b9d13e67603\":{\"roots\":{\"references\":[{\"attributes\":{\"callback\":null,\"column_names\":[\"y_values\",\"x_values\"],\"data\":{\"chart_index\":[null,null,null,null,null,null,null,null,null,null,null,null,null,null,null,null,null,null,null,null,null,null,null,null,null,null,null,null,null,null,null,null,null,null,null,null,null,null,null,null,null,null,null,null,null,null,null,null,null,null,null,null,null,null,null,null,null,null,null,null,null,null,null,null,null,null,null,null,null,null,null,null,null,null,null,null,null,null,null,null,null,null,null,null,null,null,null,null,null,null,null,null,null,null,null,null,null,null,null,null,null,null,null,null,null,null,null,null,null,null,null,null,null,null,null,null,null,null,null,null,null,null,null,null,null,null,null,null,null,null,null,null,null,null,null,null,null,null,null,null,null,null,null,null,null,null,null,null,null,null,null,null,null,null,null,null,null,null,null,null,null,null,null,null,null,null,null,null,null,null,null,null,null,null,null,null,null,null,null,null,null,null,null,null,null,null,null,null,null,null,null,null,null,null,null,null,null,null,null,null,null,null,null,null,null,null,null,null,null,null,null,null,null,null,null,null,null,null,null,null,null,null,null,null,null,null,null,null,null,null,null,null,null,null,null,null,null,null,null,null,null,null,null,null,null,null,null,null,null,null,null,null,null,null,null,null,null,null,null,null,null,null,null,null,null,null,null,null,null,null,null,null,null,null,null,null,null,null,null,null,null,null,null,null,null,null,null,null,null,null,null,null,null,null,null,null,null,null,null,null,null,null,null,null,null,null,null,null,null,null,null,null,null,null,null,null,null,null,null,null,null,null,null,null,null,null,null,null,null,null,null,null,null,null,null,null,null,null,null,null,null,null,null,null,null,null,null,null,null,null,null,null,null,null,null,null,null,null,null,null,null,null,null,null,null,null,null,null,null,null,null,null,null,null,null,null,null,null,null,null,null,null,null,null,null,null,null,null,null,null,null,null,null,null,null,null,null,null,null,null,null,null,null,null,null,null,null,null,null,null,null,null,null,null,null,null,null,null,null,null,null,null,null,null,null,null,null,null,null,null,null,null,null,null,null,null,null,null,null,null,null,null,null,null,null,null,null,null,null,null,null,null,null,null,null,null,null,null,null,null,null,null,null,null,null,null,null,null,null,null,null,null,null,null,null,null,null,null,null,null,null,null,null,null,null,null,null,null,null,null,null,null,null,null,null,null,null,null,null,null,null,null,null,null,null,null,null,null,null,null,null,null,null,null,null,null,null,null,null,null,null,null,null,null,null,null,null,null,null,null,null,null,null,null,null,null,null,null,null,null,null,null,null,null,null,null,null,null,null,null,null,null,null,null,null,null,null,null,null,null,null,null,null,null,null,null,null,null,null,null,null,null,null,null,null,null,null,null,null,null,null,null,null,null,null,null,null,null,null,null,null,null,null,null,null,null,null,null,null,null,null,null,null,null,null,null,null,null,null,null,null,null,null,null,null,null,null,null,null,null,null,null,null,null,null,null,null,null,null,null,null,null,null,null,null,null,null,null,null,null,null,null,null,null,null,null,null,null,null,null,null,null,null,null,null,null,null,null,null,null,null,null,null,null,null,null,null,null,null,null,null,null,null,null,null,null,null,null,null,null,null,null,null,null,null,null,null,null,null,null,null,null,null,null,null,null,null,null,null,null,null,null,null,null,null,null,null,null,null,null,null,null,null,null,null,null,null,null,null,null,null,null,null,null,null,null,null,null,null,null,null,null,null,null,null,null,null,null,null,null,null,null,null,null,null,null,null,null,null,null,null,null,null,null,null,null,null,null,null,null,null,null,null,null,null,null,null,null,null,null,null,null,null,null,null,null,null,null,null,null,null,null,null,null,null,null,null,null,null,null,null,null,null,null,null,null,null,null,null,null,null,null,null,null,null,null,null,null,null,null,null,null,null,null,null,null,null,null,null,null,null,null,null,null,null,null,null,null,null,null,null,null,null,null,null,null,null,null,null,null,null,null,null,null,null,null,null,null,null,null,null,null,null,null,null,null,null,null,null,null,null,null,null,null,null,null,null,null,null,null,null,null,null,null,null,null,null,null,null,null,null,null,null,null,null,null,null,null,null,null,null,null,null,null,null,null,null,null,null,null,null,null,null,null,null,null,null,null,null,null,null,null,null,null,null,null,null,null,null,null,null,null,null,null,null,null,null,null,null,null,null,null,null,null,null,null,null,null,null,null,null,null,null,null,null,null,null,null,null,null,null,null,null,null,null,null,null,null,null,null,null,null,null,null,null,null,null,null,null,null,null,null,null,null,null,null,null,null,null,null,null,null,null,null,null,null,null,null,null,null,null,null,null,null,null,null,null,null,null,null,null,null,null,null,null,null,null,null,null,null,null,null,null,null,null,null,null,null,null,null,null,null,null,null,null,null,null,null,null,null,null,null,null,null,null,null,null,null,null,null,null,null,null,null,null,null,null,null,null,null,null,null,null,null,null,null,null,null,null,null,null,null,null,null,null,null,null,null,null,null,null,null,null,null,null,null,null,null,null,null,null,null,null,null,null,null,null,null,null,null,null,null,null,null,null,null,null,null,null,null,null,null,null,null,null,null,null,null,null,null,null,null,null,null,null,null,null,null,null,null,null,null,null,null,null,null,null,null,null,null,null,null,null,null,null,null,null,null,null,null,null,null,null,null,null,null,null,null,null,null,null,null,null,null,null,null,null,null,null,null,null,null,null,null,null,null,null,null,null,null,null,null,null,null,null,null,null,null,null,null,null,null,null,null,null,null,null,null,null,null,null,null,null,null,null,null,null,null,null,null,null,null,null,null,null,null,null,null,null,null,null,null,null,null,null,null,null,null,null,null,null,null,null,null,null,null,null,null,null,null,null,null,null,null,null,null,null,null,null,null,null,null,null,null,null,null,null,null,null,null,null,null,null,null,null,null,null,null,null,null,null,null,null,null,null,null,null,null,null,null,null,null,null,null,null,null,null,null,null,null,null,null,null,null,null,null,null,null,null,null,null,null,null,null,null,null,null,null,null,null,null,null,null,null,null,null,null,null,null,null,null,null,null,null,null,null,null,null,null,null,null,null,null,null,null,null,null,null,null,null,null,null,null,null,null,null,null,null,null,null,null,null,null,null,null,null,null,null,null,null,null,null,null,null,null,null,null,null,null,null,null,null,null,null,null,null,null,null,null,null,null,null,null,null,null,null,null,null,null,null,null,null,null,null,null,null,null,null,null,null,null,null,null,null,null,null,null,null,null,null,null,null,null,null,null,null,null,null,null,null,null,null,null,null,null,null,null,null,null,null,null,null,null,null,null,null,null,null,null,null,null,null,null,null,null,null,null,null,null,null,null,null,null,null,null,null,null,null,null,null,null,null,null,null,null,null,null,null,null,null,null,null,null,null,null,null,null,null,null,null,null,null,null,null,null,null,null,null,null,null,null,null,null,null,null,null,null,null,null,null,null,null,null,null,null,null,null,null,null,null,null,null,null,null,null,null,null,null,null,null,null,null,null,null,null,null,null,null,null,null,null,null,null,null,null,null,null,null,null,null,null,null,null,null,null,null,null,null,null,null,null,null,null,null,null,null,null,null,null,null,null,null,null,null,null,null,null,null,null,null,null,null,null,null,null,null,null,null,null,null,null,null,null,null,null,null,null,null,null,null,null,null,null,null,null,null,null,null,null,null,null,null,null,null,null,null,null,null,null,null,null,null,null,null,null,null,null,null,null,null,null,null,null,null,null,null,null,null,null,null,null,null,null,null,null,null,null,null,null,null,null,null,null,null,null,null,null,null,null,null,null,null,null,null,null,null,null,null,null,null,null,null,null,null,null,null,null,null,null,null,null,null,null,null,null,null,null,null,null,null,null,null,null,null,null,null,null,null,null,null,null,null,null,null,null,null,null,null,null,null,null,null,null,null,null,null,null,null,null,null,null,null,null,null,null,null,null,null,null,null,null,null,null,null,null,null,null,null,null,null,null,null,null,null,null,null,null,null,null,null,null,null,null,null,null,null,null,null,null,null,null,null,null,null,null,null,null,null,null,null,null,null,null,null,null,null,null,null,null,null,null,null,null,null,null,null,null,null,null,null,null,null,null,null,null,null,null,null,null,null,null,null,null,null,null,null,null,null,null,null,null,null,null,null,null,null,null,null,null,null,null,null,null,null,null,null,null,null,null,null,null,null,null,null,null,null,null,null,null,null,null,null,null,null,null,null,null,null,null,null,null,null,null,null,null,null,null,null,null,null,null,null,null,null,null,null,null,null,null,null,null,null,null,null,null,null,null,null,null,null,null,null,null,null,null,null,null,null,null,null,null,null,null,null,null,null,null,null,null,null,null,null,null,null,null,null,null,null,null,null,null,null,null,null,null,null,null,null,null,null,null,null,null,null,null,null,null,null,null,null,null,null,null,null,null,null,null,null,null,null,null,null,null,null,null,null,null,null,null,null,null,null,null,null,null,null,null,null,null,null,null,null,null,null,null,null,null,null,null,null,null,null,null,null,null,null,null,null,null,null,null,null,null,null,null,null,null,null,null,null,null,null,null,null,null,null,null,null,null,null,null,null,null,null,null,null,null,null,null,null,null,null,null,null,null,null,null,null,null,null,null,null,null,null,null,null,null,null,null,null,null,null,null,null,null,null,null,null,null,null,null,null,null,null,null,null,null,null,null,null,null,null,null,null,null,null,null,null,null,null,null,null,null,null,null,null,null,null,null,null,null,null,null,null,null,null,null,null,null,null,null,null,null,null,null,null,null,null,null,null,null,null,null,null,null,null,null,null,null,null,null,null,null,null,null,null,null,null,null,null,null,null,null,null,null,null,null,null,null,null,null,null,null,null,null,null,null,null,null,null,null,null,null,null,null,null,null,null,null,null,null,null,null,null,null,null,null,null,null,null,null,null,null,null,null,null,null,null,null,null,null,null,null,null,null,null,null,null,null,null,null,null,null,null,null,null,null,null,null,null,null,null,null,null,null,null,null,null,null,null,null,null,null,null,null,null,null,null,null,null,null,null,null,null,null,null,null,null,null,null,null,null,null,null,null,null,null,null,null,null,null,null,null,null,null,null,null,null,null,null,null,null,null,null,null,null,null,null,null,null,null,null,null,null,null,null,null,null,null,null,null,null,null,null,null,null,null,null,null,null,null,null,null,null,null,null,null,null,null,null,null,null,null,null,null,null,null,null,null,null,null,null,null,null,null,null,null,null,null,null,null,null,null,null,null,null,null,null,null,null,null,null,null,null,null,null,null,null,null,null,null,null,null,null,null,null,null,null,null,null,null,null,null,null,null,null,null,null,null,null,null,null,null,null,null,null,null,null,null,null,null,null,null,null,null,null,null,null,null,null,null,null,null,null,null,null,null,null,null,null,null,null,null,null,null,null,null,null,null,null,null,null,null,null,null,null,null,null,null,null,null,null,null,null,null,null,null,null,null,null,null,null,null,null,null,null,null,null,null,null,null,null,null,null,null,null,null,null,null,null,null,null,null,null,null,null,null,null,null,null,null,null,null,null,null,null,null,null,null,null,null,null,null,null,null,null,null,null,null,null,null,null,null,null,null,null,null,null,null,null,null,null,null,null,null,null,null,null,null,null,null,null,null,null,null,null,null,null,null,null,null,null,null,null,null,null,null,null,null,null,null,null,null,null,null,null,null,null,null,null,null,null,null,null,null,null,null,null,null,null,null,null,null,null,null,null,null,null,null,null,null,null,null,null,null,null,null,null,null,null,null,null,null,null,null,null,null,null,null,null,null,null,null,null,null,null,null,null,null,null,null,null,null,null,null,null,null,null,null,null,null,null,null,null,null,null,null,null,null,null,null,null,null,null,null,null,null,null,null,null,null,null,null,null,null,null,null,null,null,null,null,null,null,null,null,null,null,null,null,null,null,null,null,null,null,null,null,null,null,null,null,null,null,null,null,null,null,null,null,null,null,null,null,null,null,null,null,null,null,null,null,null,null,null,null,null,null,null,null,null,null,null,null,null,null,null,null,null,null,null,null,null,null,null,null,null,null,null,null,null,null,null,null,null,null,null,null,null,null,null,null,null,null,null,null,null,null,null,null,null,null,null,null,null,null,null,null,null,null,null,null,null,null,null,null,null,null,null,null,null,null,null,null,null,null,null,null,null,null,null,null,null,null,null,null,null,null,null,null,null,null,null,null,null,null,null,null,null,null,null,null,null,null,null,null,null,null,null,null,null,null,null,null,null,null,null,null,null,null,null,null,null,null,null,null,null,null,null,null,null,null,null,null,null,null,null,null,null,null,null,null,null,null,null,null,null,null,null,null,null,null,null,null,null,null,null,null,null,null,null,null,null,null,null,null,null,null,null,null,null,null,null,null,null,null,null,null,null,null,null,null,null,null,null,null,null,null,null,null,null,null,null,null,null,null,null,null,null,null,null,null,null,null,null,null,null,null,null,null,null,null,null,null,null,null,null,null,null,null,null,null,null,null,null,null,null,null,null,null,null,null,null,null,null,null,null,null,null,null,null,null,null,null,null,null,null,null,null,null,null,null,null,null,null,null,null,null,null,null,null,null,null,null,null,null,null,null,null,null,null,null,null,null,null,null,null,null,null,null,null,null,null,null,null,null,null,null,null,null,null,null,null,null,null,null,null,null,null,null,null,null,null,null,null,null,null,null,null,null,null,null,null,null,null,null,null,null,null,null,null,null,null,null,null,null,null,null,null,null,null,null,null,null,null,null,null,null,null,null,null,null,null,null,null,null,null,null,null,null,null,null,null,null,null,null,null,null,null,null,null,null,null,null,null,null,null,null,null,null,null,null,null,null,null,null,null,null,null,null,null,null,null,null,null,null,null,null,null,null,null,null,null,null,null,null,null,null,null,null,null,null,null,null,null,null,null,null,null,null,null,null,null,null,null,null,null,null,null,null,null,null,null,null,null,null,null,null,null,null,null,null,null,null,null,null,null,null,null,null,null,null,null,null,null,null,null,null,null,null,null,null,null,null,null,null,null,null,null,null,null,null,null,null,null,null,null,null,null,null,null,null,null,null,null,null,null,null,null,null,null,null,null,null,null,null,null,null,null,null,null,null,null,null,null,null,null,null,null,null,null,null,null,null,null,null,null,null,null,null,null,null,null,null,null,null,null,null,null,null,null,null,null,null,null,null,null,null,null,null,null,null,null,null,null,null,null,null,null,null,null,null,null,null,null,null,null,null,null,null,null,null,null,null,null,null,null,null,null,null,null,null,null,null,null,null,null,null,null,null,null,null,null,null,null,null,null,null,null,null,null,null,null,null,null,null,null,null,null,null,null,null,null,null,null,null,null,null,null,null,null,null,null,null,null,null,null,null,null,null,null,null,null,null,null,null,null,null,null,null,null,null,null,null,null,null,null,null,null,null,null,null,null,null,null,null,null,null,null,null,null,null,null,null,null,null,null,null,null,null,null,null,null,null,null,null,null,null,null,null,null,null,null,null,null,null,null,null,null,null,null,null,null,null,null,null,null,null,null,null,null,null,null,null,null,null,null,null,null,null,null,null,null,null,null,null,null,null,null,null,null,null,null,null,null,null,null,null,null,null,null,null,null,null,null,null,null,null,null,null,null,null,null,null,null,null,null,null,null,null,null,null,null,null,null,null,null,null,null,null,null,null,null,null,null,null,null,null,null,null,null,null,null,null,null,null,null,null,null,null,null,null,null,null,null,null,null,null,null,null,null,null,null,null,null,null,null,null,null,null,null,null,null,null,null,null,null,null,null,null,null,null,null,null,null,null,null,null],\"x_values\":{\"__ndarray__\":\"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\",\"dtype\":\"float64\",\"shape\":[3397]},\"y_values\":[1733,4,20,6,31,238,23,11,15,6,10,11,30,11,231,11,11,91,2420,15,25,31,12,1,4,28,276,2420,6,1,6,41,15,12,23,479,2420,27,50,130,830,1733,64,1300,461,770,1300,461,21,1023,238,2420,68,142,33,4,96,128,12,26,117,42,32,416,1986,2420,48,12,8,2420,22,727,45,17,42,11,4,54,272,2420,260,99,41,30,117,199,387,579,67,345,32,1986,96,63,108,34,72,1553,96,49,28,33,64,65,67,980,1203,40,24,56,30,1300,56,61,7,6,20,18,24,1414,50,36,435,219,17,81,525,31,727,84,50,602,28,96,190,2420,46,35,7,47,26,38,33,108,411,139,143,45,201,3,88,42,2420,161,39,25,7,12,21,82,921,687,31,82,687,59,2420,40,53,18,12,21,81,1300,75,36,40,30,51,20,22,17,32,20,134,46,29,19,1553,1553,411,211,17,179,3,187,2420,687,34,76,84,770,488,88,488,59,25,6,135,980,49,43,76,2420,32,84,88,10,50,16,33,19,32,40,1046,146,13,22,11,29,2420,93,866,30,1733,2420,104,20,122,137,613,12,23,163,2420,727,179,2,1414,100,6,39,18,46,2420,32,26,43,8,68,85,1120,57,20,20,13,4,1,5,18,14,9,921,727,16,4,13,11,2420,21,91,17,6,7,20,24,52,4,7,17,1414,20,1,4,5,291,126,770,687,21,26,1,64,7,8,26,649,328,25,2,9,22,25,5,14,20,69,1733,31,8,5,6,38,45,5,1986,1,3,11,194,8,14,1,649,22,8,10,16,8,5,15,6,12,63,1986,11,6,6,34,19,21,7,12,770,20,261,12,7,22,488,2,11,12,6,6,27,67,89,14,7,11,435,8,1,11,5,10,10,9,15,9,16,49,2420,28,345,13,47,378,96,42,2,3,12,19,1733,14,9,4,4,14,5,10,8,17,260,1733,37,19,10,6,3,8,2420,1203,6,1,1,10,11,613,7,3,345,15,20,8,9,116,13,1,17,1733,36,16,20,19,13,70,10,30,7,87,2420,6,98,8,76,20,5,6,27,65,119,67,24,16,29,51,201,37,30,1553,66,24,38,19,21,11,13,14,23,91,75,20,4,16,8,7,26,1986,38,7,6,74,238,8,19,12,11,65,4,4,16,727,2420,249,26,7,10,9,65,12,125,18,6,2,13,5,11,21,10,7,4,8,42,4,159,12,14,24,7,0,4,727,1986,1,2420,727,2,36,4,5,16,2420,1986,2,238,5,517,31,132,22,10,34,39,33,15,5,5,11,16,15,816,10,6,3,19,147,192,31,435,8,2,6,2,10,16,488,2420,29,3,4,4,23,6,9,1,3,261,22,197,1,10,4,6,387,1986,2420,14,12,4,12,4,51,2420,21,1986,816,15,16,12,21,93,2,8,3,3,2,17,9,5,11,14,10,8,36,22,13,3,15,1,12,10,26,13,32,4,4,5,6,1,11,1414,16,1,4,2,411,31,11,16,2,17,9,12,23,2420,12,3,26,2,4,17,9,3,7,35,21,27,13,24,30,9,37,15,3,11,613,19,1,7,17,249,41,32,46,5,10,21,6,2,517,1986,12,9,4,2,9,12,4,2,21,67,2,8,13,17,38,4,89,2,24,1,5,1,93,4,2,9,60,36,10,21,59,1414,411,38,2420,12,1,23,23,5,34,2420,1986,9,11,2,3,19,5,26,5,31,20,20,16,4,11,3,24,2420,2,3,2,59,6,2,21,31,40,1,1,5,1046,126,56,44,2420,326,6,11,5,9,82,2420,1986,12,10,7,2,10,3,19,2,9,344,3,3,1,1,4,2,3,1,2420,248,18,7,3,5,1,6,24,31,17,161,4,1,1,32,4,25,1,9,11,1,2,5,10,16,2,3,84,2,5,2,13,12,22,326,1,10,14,28,8,3,1,42,3,3,6,1,4,27,1,29,190,3,1,9,1,22,1,26,2420,74,14,1,64,4,20,21,8,1,11,2,15,38,23,2,35,166,4,70,1,4,13,31,18,3,4,2,3,219,13,7,2,20,3,219,8,3,1,4,147,64,4,9,2,3,23,99,12,1203,1986,4,121,152,225,17,70,44,40,42,108,34,43,33,99,2420,49,35,1733,86,10,35,435,133,365,64,2420,55,1986,53,2420,2,50,16,95,31,2420,29,10,11,50,6,435,13,19,326,6,88,84,33,16,272,378,15,57,190,1553,42,7,40,222,25,117,2420,184,2420,184,133,50,288,31,20,13,17,2420,5,2420,2420,579,39,10,82,19,285,1986,24,31,9,43,19,20,59,119,19,5,50,8,21,70,3,58,1,22,52,56,31,11,4,32,12,1,2420,345,5,32,41,5,359,11,76,20,27,1,199,4,20,3,4,1,2,7,4,1,1,17,3,20,2,5,2,1,12,31,3,5,1,1733,7,1,1,1,1,1,3,20,8,19,128,3,35,11,132,28,23,33,13,11,69,7,119,1,25,3,6,6,51,9,26,29,5,36,2420,17,122,921,3,2,9,32,14,20,345,47,4,18,2,12,17,106,2,2,4,1,11,2,8,6,3,1,1,3,1,1,1,1,1,119,3,1,1203,10,2,1,1,2,1,3,5,4,17,1,6,1,8,3,11,6,3,5,4,13,1,5,2,1,4,4,1,16,23,16,6,2,1,6,1,3,76,24,11,1,12,21,7,3,1,5,3,18,4,11,29,11,21,19,11,5,4,12,4,78,54,10,3,19,32,68,62,3,32,13,5,7,15,11,34,5,3,4,9,3,4,3,22,6,7,116,2,2,2,38,1,24,17,5,5,2,11,16,26,5,33,13,1,77,7,2,2,26,10,2,12,32,2420,4,7,22,15,9,7,5,6,16,91,16,84,17,22,411,66,40,3,1,2,1,3,37,16,7,9,8,3,10,22,3,2,9,86,12,9,7,15,2,5,6,7,9,199,12,34,3,38,56,15,18,10,2,25,40,1,69,99,816,56,20,48,28,50,7,107,23,8,8,12,104,6,22,3,4,1,17,3,21,41,184,36,687,115,225,1046,2,19,1,27,10,8,19,1300,328,17,326,2420,921,727,12,921,125,411,37,225,93,365,33,58,194,49,1733,131,88,365,41,7,3,13,1,1,32,1,5,13,4,13,17,12,16,4,6,99,1,166,25,23,1,15,53,10,12,1,9,7,16,11,8,28,13,10,3,6,1,184,15,22,3,11,84,20,4,7,6,29,1,1,19,33,27,21,26,33,13,6,26,12,10,25,11,12,15,78,6,14,2,1,1,11,5,11,1,19,1,5,1,6,91,4,291,26,15,147,2,67,41,16,4,7,2420,1,8,10,12,3,9,10,7,5,21,5,3,1,4,4,12,16,17,22,36,13,13,4,9,15,24,2,13,24,219,47,1,18,8,61,19,1,34,13,33,4,2,20,13,3,2,6,15,2,2420,12,10,18,20,10,10,10,10,75,10,10,10,10,10,365,275,10,10,10,958,31,10,10,10,10,63,11,10,10,20,578,393,10,20,10,98,20,5,10,10,10,10,28,86,276,18,2,9,2,28,20,57,10,86,10,10,10,20,10,30,10,10,10,31,31,31,10,41,41,262,4352,10,20,31,2014,31,86,10,73,10,10,22,10,10,10,10,10,10,10,10,10,10,31,20,20,3,196,1,7,1,86,18,7,10,10,9,2,9,10,10,10,10,10,10,10,10,10,10,10,10,31,10,10,10,30,10,10,52,31,10,132,10,10,10,2481,10,10,10,4106,160,10,63,10,41,10,52,20,10,10,10,31,10,10,6,10,10,10,45,337,185,41,19,19,8,10,11,29,50,34,28,10,74,6,283,41,10,10,10,8,10,10,10,122,22,214,6,30,194,28,10,16,7,33,75,126,10,10,31,41,10,10,10,10,10,30,10,10,10,650,2723,31,10,10,3654,228,10,563,10,10,10,10,10,10,10,20,10,10,20,10,31,10,10,10,72,10,10,10,10,10,10,10,10,10,6,10,10,10,10,86,5,6,10,10,66,9,5,10,10,10,10,4,10,16,58,164,10,10,10,10,12,31,9,10,10,5,10,10,10,10,10,14,10,10,20,10,20,10,10462,20,10,10,41,20,10,10,10,10,10,10,10,10,10,10,148,275,10,20,2,10,16,17,4,10,3,10,2,35,11,20,10,10,10,10,10,10,10,10,10,10,10,10,10,10,41,10,10,10,169,10,10,10,31,31,10,10,10,10,10,10,10,10,10,10,10,41,48,10,2420,6,1483,10,10,10,41,10,10,20,10,10,10,6,10,10,441,10,10,10,10,4611,10,10,31,63,10,20,10,11,10,20,10,10,10,63,43,10,13,10,2,15,69,10,10,10,627,10,10,10,31,10,10,8664,10,10,10,10,939,52,10,20,24196,171,10,20,10,20,41,10,10,10,10,110,295,41,10,10,10,122,2481,10,20,20,30,10,10,341,30,20,10,10,10,301,364,41,31,10,10,10,98,10,10,63,216,613,214,10,121,41,10,10,10,30,663,20,31,767,238,218,122,63,73,30,10,41,10,73,30,10,75,74,20,85,384,31,10,383,85,10,10,10,120,10,10,27,10,10,10,20,10,10,10,52,10,10,10,10,10,30,10,10,10,10,10,10,10,10,10,10,30,10,10,142,6,16,10,10,1,10,10,10,10,20,10,10,10,10,1,10,10,10,10,3,2,1,2,4,86,252,182,1,10,1,86,20,10,73,85,41,20,389,10,10,10,75,3873,10,213,74,2310,3654,10,10,24196,31,24196,41,10,10,86,794,292,1234,1106,512,1723,959,14,266,598,573,605,473,591,1720,583,441,762,1333,3255,591,816,345,243,241,161,10,10,41,63,10,10,10,84,10,74,1479,30,84,41,860,481,62,10,61,20,171,10,379,1616,2755,4106,933,1234,4106,1106,984,546,1333,1607,1541,990,2481,327,557,189,10,161,10,10,52,20,262,465,1246,448,259,657,41,97,20,20,10,10,10,20,20,20,20,97,888,880,10,52,10,624,10,63,908,1904,364,41,31,20,31,10,10,10,144,10,10,10,10,10,1104,10,20,20,197,10,14,20,10,75,183,108,203,473,364,336,280,253,213,341,210,340,930,290,132,1275,1120,200,75,987,432,860,301,80,10,10,40,50,130,1620,10,20,99,30,12030,934,13,11,250,10,10,10,10,20,727,41,1248,5,11,4,15,31,30,333,35,21,7,10,83,43,11,20,10,10,41,31,30,20,30,10,24196,51,10,10,10,20,20,10,10,10,10,10,538,10,51,97,120,134,10,1553,81,10,216,31,7,1396,10112,63,74,80,158,1217,222,364,1,3,324,4,5,11,2,16,179,1500,584,142,335,1500,1500,1500,10,10,10,10,10,10,10,10,10,10,10,52,464,10,10,10,120,10,10,10,31,10,20,10,10,10,10,10,10,10,10,40,10,10,10,20,9,517,1046,282,187,320,231,1300,104,1300,457,1046,435,139,259,1300,387,63,60,8160,298,60,24196,15530,20,40,240,24196,1240,130,300,85,980,76,649,2420,1300,2420,1203,154,326,126,260,1300,435,1500,770,411,1986,1986,161,517,1120,48,111,88,261,138,44,88,144,1553,185,308,79,236,2420,2420,1300,320,411,488,1553,2420,134,1414,1733,2420,1553,1553,2420,1733,1500,1500,1500,1500,250,221,179,530,1500,149,1500,1500,1500,1058,320,1090,1500,2420,78,261,52,197,528,12030,2420,159,73,2420,77,219,48,649,12,11,12,7,50,12,2420,10,7,19,3,17,226,1095,2220,1935,197,2420,2420,770,2420,2420,2420,2420,41,9,19,1785,179,400,2420,2420,921,161,225,2420,146,763,1733,365,249,411,488,435,326,461,2420,194,162,548,68,10,73,6,112,10,3,2,59,10,10,10,410,20,10,10,10,1,10,41,10,10,10,10,10,10,20,10,20,10,10,10,10,10,10,10,10,10,10,10,10,109,10,10,41,10,10,10,10,20,4,10,10,24196,959,41,31,121,134,10,404,368,958,98,10,75,24196,10,959,41,816,10,85,1274,51,41,148,10,10,86,20,10,10,20,10,86,20,6488,1427,109,123,134,11,11,19,115,1496,1500,1500,246,31,31,4229,10,75,20,41,20,2400,10,30,10,10,10,23,10,85,20,10,10,41,20,31,10,10,10,10,41,10,10,10,10,10,10,10,10,31,6,20,10,10,15,15,13,20,18,10,10,3,103,40,22,12,10,10,10,15,79,10,10,10,52,20,41,10,10,10,10,10,10,10,10,20,10,41,30,41,75,10,10,144,52,97,10,41,10,10,20,10,86,75,20,2,29,72,46,246,11,31,1500,6,1,10,10,10,10,10,10,10,10,20,63,10,52,10,10,20,84,134,10,16,5,10,10,10,52,30,20,10,10,41,110,10,10,10,10,10,10,10,10,10,10,132,27,36,41,13,8,244,36,92,1467,11,20,1670,10,74,10,10,74,10,84,31,10,108,10,108,10,10,30,121,816,43,41,10,10,41,20,10,63,31,86,52,10,10,231,10,10,231,2098,52,10,20,10,10,10,63,52,51,262,10,201,31,794,108,52,521,20,2987,75,109,74,723,10,10,31,31,10,20,10,35,10,147,15,10,10,2,105,9,5,236,72,2,10,41,120,10,200,20,15,20,88,79,10,10,10,62,10,272,20,135,62,121,1500,218,110,20,10,86,136,10,18,10,10,52,1200,139,22,1500,99,40,46,18,72,41,84,30,10,395,10,41,10,31,41,201,12,10,8,21,83,147,305,269,824,10,773,10,20,121,1433,340,263,10,10,10,20,10,10,10,10,10,52,41,565,20,10,448,487,10,63,10,10,10,10,10,20,399,85,512,20,10,30,173,10,5635,10,160,10,4,19,11,16,3,356,310,25,10,10,41,26,10,20,86,51,41,20,10,10,74,161,10,10,10,20,10,31,20,10,10,10,10,10,20,10,10,10,10,10,10,10,10,2,6,1032,1,3,205,143,30,10,10,10,10,10,10,10,10,5,10,20,10,10,62,31,109,80,10,10,10,30,74,97,10,31,10,272,331,10,10,10,10,10,10,10,10,20,41,63,20,10,10,10,10,10,62,10,10,2,135,112,30,344,4,8,1,4,1,10,109,10,187,10,10,10,10,10,10,52,10,10,10,10,10,63,10,275,181,10,10,109,10,84,10,10,30,10,10,63,10,41,10,221,10,10,20,10,10,20,10,10,10,20,10,10,10,20,121,31,20,10,10,41,10,10,10,10,10,231,144,41,51,10,20,228,52,10,10,20,31,74,20,51,10,34,315,352,717,1,107,1,1500,10,10,10,10,30,20,226,2333,20,10,10,10,20,2682,10,2282,21,10,323,24196,10,3448,10,10,10,10,560,933,10,10,10,63,10,193,107,24196,10,10,1892,10,10,1110,10,81,500,41,5,10,141,4,10,10,10,52,31,10,10,10,10,140,90,10,52,10,1,10,1,6,5,109,376,10,10,199,10,10,10,121,31,10,10,20,10,10,41,20,98,10,10,10,10,160,399,10,31,10,10,10,10,10,223,8,1500,760,227,894,1500,123,24,296,5,341,268,159,24196,24196,10,10,24196,10,10,977,30,24196,880,10,10,98,20,20,10,24196,93,48,30,3873,10,24196,1063,10,10,613,10,2300,146,10,74,414,4352,30,41,10,1095,446,63,10,10,10,20,10,86,41,10,10,10,10,10,116,10,1,20,10,10,97,134,10,10,10,10,10,20,10,10,10,20,10,274,10,10,10,10,5,10,107,47,20,2,10,1,10,52,63,10,52,20,10,63,41,364,10,20,98,24196,259,10,10,241,10,24196,96,41,2603,1046,10,24196,24196,10,4884,63,274,30,10,160,17329,20,5790,24196,10,35,238,6,882]}},\"id\":\"07a13efe-e655-4f6f-a32e-80f84df5d65d\",\"type\":\"ColumnDataSource\"},{\"attributes\":{},\"id\":\"49d381ff-0a25-4107-b494-71581fc741d6\",\"type\":\"BasicTickFormatter\"},{\"attributes\":{\"location\":\"top_left\",\"plot\":{\"id\":\"19021bf8-a81e-4803-a362-dd91c5018a61\",\"subtype\":\"Chart\",\"type\":\"Plot\"}},\"id\":\"b8856b5a-6532-4337-b674-6e1154f33f55\",\"type\":\"Legend\"},{\"attributes\":{\"plot\":{\"id\":\"19021bf8-a81e-4803-a362-dd91c5018a61\",\"subtype\":\"Chart\",\"type\":\"Plot\"}},\"id\":\"d446dd7d-8a7a-4b24-99eb-aae95189c10e\",\"type\":\"HelpTool\"},{\"attributes\":{\"overlay\":{\"id\":\"a4a0d46d-746c-4503-b891-ebb0cfcd29f8\",\"type\":\"BoxAnnotation\"},\"plot\":{\"id\":\"19021bf8-a81e-4803-a362-dd91c5018a61\",\"subtype\":\"Chart\",\"type\":\"Plot\"}},\"id\":\"472400fa-0dcd-4747-a886-c6b732f1a213\",\"type\":\"BoxZoomTool\"},{\"attributes\":{\"plot\":{\"id\":\"19021bf8-a81e-4803-a362-dd91c5018a61\",\"subtype\":\"Chart\",\"type\":\"Plot\"}},\"id\":\"8ab6625a-d8b4-4b91-869f-509bb475bc17\",\"type\":\"WheelZoomTool\"},{\"attributes\":{},\"id\":\"0d744fa7-9493-4f85-abe6-b9fed95f63d7\",\"type\":\"BasicTicker\"},{\"attributes\":{\"data_source\":{\"id\":\"07a13efe-e655-4f6f-a32e-80f84df5d65d\",\"type\":\"ColumnDataSource\"},\"glyph\":{\"id\":\"6168b133-3672-4118-b796-7888d62ad21d\",\"type\":\"Circle\"},\"hover_glyph\":null,\"nonselection_glyph\":null,\"selection_glyph\":null},\"id\":\"70909563-0cf6-4c0a-8686-08eca2ec68e3\",\"type\":\"GlyphRenderer\"},{\"attributes\":{\"bottom_units\":\"screen\",\"fill_alpha\":{\"value\":0.5},\"fill_color\":{\"value\":\"lightgrey\"},\"left_units\":\"screen\",\"level\":\"overlay\",\"line_alpha\":{\"value\":1.0},\"line_color\":{\"value\":\"black\"},\"line_dash\":[4,4],\"line_width\":{\"value\":2},\"plot\":null,\"render_mode\":\"css\",\"right_units\":\"screen\",\"top_units\":\"screen\"},\"id\":\"a4a0d46d-746c-4503-b891-ebb0cfcd29f8\",\"type\":\"BoxAnnotation\"},{\"attributes\":{\"axis_label\":\"Enterococcus Count\",\"formatter\":{\"id\":\"49d381ff-0a25-4107-b494-71581fc741d6\",\"type\":\"BasicTickFormatter\"},\"plot\":{\"id\":\"19021bf8-a81e-4803-a362-dd91c5018a61\",\"subtype\":\"Chart\",\"type\":\"Plot\"},\"ticker\":{\"id\":\"0d744fa7-9493-4f85-abe6-b9fed95f63d7\",\"type\":\"BasicTicker\"}},\"id\":\"d5e7aff7-1222-4623-a90e-7b9a33e81ce8\",\"type\":\"LinearAxis\"},{\"attributes\":{\"axis_label\":\"Four Day Rain Total\",\"formatter\":{\"id\":\"afab9f60-a93e-45e1-a70c-9805dc1e4883\",\"type\":\"BasicTickFormatter\"},\"plot\":{\"id\":\"19021bf8-a81e-4803-a362-dd91c5018a61\",\"subtype\":\"Chart\",\"type\":\"Plot\"},\"ticker\":{\"id\":\"9c6b5a8c-bc0e-44d7-99ea-4e7f8d148b45\",\"type\":\"BasicTicker\"}},\"id\":\"41757d2c-2417-4440-92de-d342c4bf4c87\",\"type\":\"LinearAxis\"},{\"attributes\":{},\"id\":\"9c6b5a8c-bc0e-44d7-99ea-4e7f8d148b45\",\"type\":\"BasicTicker\"},{\"attributes\":{\"plot\":{\"id\":\"19021bf8-a81e-4803-a362-dd91c5018a61\",\"subtype\":\"Chart\",\"type\":\"Plot\"}},\"id\":\"0e9fc8ed-2d84-4198-8fed-b2c6ec0f8326\",\"type\":\"ResetTool\"},{\"attributes\":{\"plot\":null,\"text\":\"Bacteria counts by Site\"},\"id\":\"71a8a427-31d2-4229-ba07-26c4179fd331\",\"type\":\"Title\"},{\"attributes\":{\"active_drag\":\"auto\",\"active_scroll\":\"auto\",\"active_tap\":\"auto\",\"tools\":[{\"id\":\"712026c6-7ff7-4f3e-ae0f-e420238067fd\",\"type\":\"PanTool\"},{\"id\":\"8ab6625a-d8b4-4b91-869f-509bb475bc17\",\"type\":\"WheelZoomTool\"},{\"id\":\"472400fa-0dcd-4747-a886-c6b732f1a213\",\"type\":\"BoxZoomTool\"},{\"id\":\"d592f8a3-ddde-4164-9b8d-7159b167c3da\",\"type\":\"SaveTool\"},{\"id\":\"0e9fc8ed-2d84-4198-8fed-b2c6ec0f8326\",\"type\":\"ResetTool\"},{\"id\":\"d446dd7d-8a7a-4b24-99eb-aae95189c10e\",\"type\":\"HelpTool\"}]},\"id\":\"0a50e297-e0b1-4995-bfb9-1008a06607c4\",\"type\":\"Toolbar\"},{\"attributes\":{\"plot\":{\"id\":\"19021bf8-a81e-4803-a362-dd91c5018a61\",\"subtype\":\"Chart\",\"type\":\"Plot\"}},\"id\":\"d592f8a3-ddde-4164-9b8d-7159b167c3da\",\"type\":\"SaveTool\"},{\"attributes\":{\"callback\":null,\"end\":26615.6,\"start\":-2419.6},\"id\":\"b47158ef-fa20-4f0b-b3b9-6ca70fe37517\",\"type\":\"Range1d\"},{\"attributes\":{\"fill_alpha\":{\"value\":0.7},\"fill_color\":{\"value\":\"#f22c40\"},\"line_color\":{\"value\":\"#f22c40\"},\"size\":{\"units\":\"screen\",\"value\":8},\"x\":{\"field\":\"x_values\"},\"y\":{\"field\":\"y_values\"}},\"id\":\"6168b133-3672-4118-b796-7888d62ad21d\",\"type\":\"Circle\"},{\"attributes\":{\"callback\":null,\"end\":9.35,\"start\":-0.8500000000000001},\"id\":\"eb002456-2f4d-4239-9836-14eea7923824\",\"type\":\"Range1d\"},{\"attributes\":{},\"id\":\"8c8b545b-ca7b-4ee1-8310-f36b298eb6ed\",\"type\":\"ToolEvents\"},{\"attributes\":{\"below\":[{\"id\":\"41757d2c-2417-4440-92de-d342c4bf4c87\",\"type\":\"LinearAxis\"}],\"css_classes\":null,\"left\":[{\"id\":\"d5e7aff7-1222-4623-a90e-7b9a33e81ce8\",\"type\":\"LinearAxis\"}],\"renderers\":[{\"id\":\"a4a0d46d-746c-4503-b891-ebb0cfcd29f8\",\"type\":\"BoxAnnotation\"},{\"id\":\"70909563-0cf6-4c0a-8686-08eca2ec68e3\",\"type\":\"GlyphRenderer\"},{\"id\":\"b8856b5a-6532-4337-b674-6e1154f33f55\",\"type\":\"Legend\"},{\"id\":\"41757d2c-2417-4440-92de-d342c4bf4c87\",\"type\":\"LinearAxis\"},{\"id\":\"d5e7aff7-1222-4623-a90e-7b9a33e81ce8\",\"type\":\"LinearAxis\"},{\"id\":\"983d343c-b913-48c7-b965-0518a2843f5d\",\"type\":\"Grid\"},{\"id\":\"02103915-9b0f-4228-a897-b6db771f6113\",\"type\":\"Grid\"}],\"title\":{\"id\":\"71a8a427-31d2-4229-ba07-26c4179fd331\",\"type\":\"Title\"},\"tool_events\":{\"id\":\"8c8b545b-ca7b-4ee1-8310-f36b298eb6ed\",\"type\":\"ToolEvents\"},\"toolbar\":{\"id\":\"0a50e297-e0b1-4995-bfb9-1008a06607c4\",\"type\":\"Toolbar\"},\"x_mapper_type\":\"auto\",\"x_range\":{\"id\":\"eb002456-2f4d-4239-9836-14eea7923824\",\"type\":\"Range1d\"},\"y_mapper_type\":\"auto\",\"y_range\":{\"id\":\"b47158ef-fa20-4f0b-b3b9-6ca70fe37517\",\"type\":\"Range1d\"}},\"id\":\"19021bf8-a81e-4803-a362-dd91c5018a61\",\"subtype\":\"Chart\",\"type\":\"Plot\"},{\"attributes\":{\"plot\":{\"id\":\"19021bf8-a81e-4803-a362-dd91c5018a61\",\"subtype\":\"Chart\",\"type\":\"Plot\"},\"ticker\":{\"id\":\"9c6b5a8c-bc0e-44d7-99ea-4e7f8d148b45\",\"type\":\"BasicTicker\"}},\"id\":\"983d343c-b913-48c7-b965-0518a2843f5d\",\"type\":\"Grid\"},{\"attributes\":{},\"id\":\"afab9f60-a93e-45e1-a70c-9805dc1e4883\",\"type\":\"BasicTickFormatter\"},{\"attributes\":{\"dimension\":1,\"plot\":{\"id\":\"19021bf8-a81e-4803-a362-dd91c5018a61\",\"subtype\":\"Chart\",\"type\":\"Plot\"},\"ticker\":{\"id\":\"0d744fa7-9493-4f85-abe6-b9fed95f63d7\",\"type\":\"BasicTicker\"}},\"id\":\"02103915-9b0f-4228-a897-b6db771f6113\",\"type\":\"Grid\"},{\"attributes\":{\"plot\":{\"id\":\"19021bf8-a81e-4803-a362-dd91c5018a61\",\"subtype\":\"Chart\",\"type\":\"Plot\"}},\"id\":\"712026c6-7ff7-4f3e-ae0f-e420238067fd\",\"type\":\"PanTool\"}],\"root_ids\":[\"19021bf8-a81e-4803-a362-dd91c5018a61\"]},\"title\":\"Bokeh Application\",\"version\":\"0.12.4\"}};\n",
       "            var render_items = [{\"docid\":\"1069a86a-eed8-4649-8333-3b9d13e67603\",\"elementid\":\"da4ba65b-0d07-4b54-a6fe-c0590f4508a2\",\"modelid\":\"19021bf8-a81e-4803-a362-dd91c5018a61\",\"notebook_comms_target\":\"138aced0-f70e-454b-9ef2-d6582f46172d\"}];\n",
       "            \n",
       "            Bokeh.embed.embed_items(docs_json, render_items);\n",
       "          };\n",
       "          if (document.readyState != \"loading\") fn();\n",
       "          else document.addEventListener(\"DOMContentLoaded\", fn);\n",
       "        })();\n",
       "      },\n",
       "      function(Bokeh) {\n",
       "      }\n",
       "    ];\n",
       "  \n",
       "    function run_inline_js() {\n",
       "      \n",
       "      if ((window.Bokeh !== undefined) || (force === true)) {\n",
       "        for (var i = 0; i < inline_js.length; i++) {\n",
       "          inline_js[i](window.Bokeh);\n",
       "        }if (force === true) {\n",
       "          display_loaded();\n",
       "        }} else if (Date.now() < window._bokeh_timeout) {\n",
       "        setTimeout(run_inline_js, 100);\n",
       "      } else if (!window._bokeh_failed_load) {\n",
       "        console.log(\"Bokeh: BokehJS failed to load within specified timeout.\");\n",
       "        window._bokeh_failed_load = true;\n",
       "      } else if (force !== true) {\n",
       "        var cell = $(document.getElementById(\"da4ba65b-0d07-4b54-a6fe-c0590f4508a2\")).parents('.cell').data().cell;\n",
       "        cell.output_area.append_execute_result(NB_LOAD_WARNING)\n",
       "      }\n",
       "  \n",
       "    }\n",
       "  \n",
       "    if (window._bokeh_is_loading === 0) {\n",
       "      console.log(\"Bokeh: BokehJS loaded, going straight to plotting\");\n",
       "      run_inline_js();\n",
       "    } else {\n",
       "      load_libs(js_urls, function() {\n",
       "        console.log(\"Bokeh: BokehJS plotting callback run at\", now());\n",
       "        run_inline_js();\n",
       "      });\n",
       "    }\n",
       "  }(this));\n",
       "</script>"
      ]
     },
     "metadata": {},
     "output_type": "display_data"
    },
    {
     "data": {
      "text/html": [
       "<p><code>&lt;Bokeh Notebook handle for <strong>In[35]</strong>&gt;</code></p>"
      ],
      "text/plain": [
       "<bokeh.io._CommsHandle at 0x11d5c2d68>"
      ]
     },
     "execution_count": 35,
     "metadata": {},
     "output_type": "execute_result"
    }
   ],
   "source": [
    "p = Scatter(df2, x='FourDayRainTotal', y='EnteroCount', \n",
    "                  xlabel=\"Four Day Rain Total\", ylabel='Enterococcus Count',\n",
    "                  title=\"Bacteria counts by Site\")\n",
    "\n",
    "show(p, notebook_handle=True)"
   ]
  },
  {
   "cell_type": "code",
   "execution_count": 36,
   "metadata": {
    "collapsed": false
   },
   "outputs": [
    {
     "data": {
      "text/plain": [
       "0.14482598724767226"
      ]
     },
     "execution_count": 36,
     "metadata": {},
     "output_type": "execute_result"
    }
   ],
   "source": [
    "np.corrcoef(df['EnteroCount'], df['FourDayRainTotal'])[1][0]"
   ]
  }
 ],
 "metadata": {
  "kernelspec": {
   "display_name": "Python 3",
   "language": "python",
   "name": "python3"
  },
  "language_info": {
   "codemirror_mode": {
    "name": "ipython",
    "version": 3
   },
   "file_extension": ".py",
   "mimetype": "text/x-python",
   "name": "python",
   "nbconvert_exporter": "python",
   "pygments_lexer": "ipython3",
   "version": "3.5.2"
  }
 },
 "nbformat": 4,
 "nbformat_minor": 2
}
